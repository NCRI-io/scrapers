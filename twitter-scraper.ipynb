{
 "cells": [
  {
   "cell_type": "code",
   "execution_count": 1,
   "id": "5a88bfeb",
   "metadata": {},
   "outputs": [],
   "source": [
    "import snscrape.modules.twitter as sntwitter\n",
    "import snscrape.modules.facebook as snfacebook\n",
    "import pandas as pd\n",
    "import numpy as np\n",
    "import pickle\n",
    "from pandas import json_normalize"
   ]
  },
  {
   "cell_type": "code",
   "execution_count": 2,
   "id": "ad6ee378",
   "metadata": {},
   "outputs": [],
   "source": [
    "def getNamedTweets(keyword, start_date, end_date):\n",
    "    tweets_list1 = []\n",
    "    text_filter = keyword + ' since:' + start_date + ' until:' + end_date\n",
    "    print(text_filter)\n",
    "\n",
    "    # Using TwitterSearchScraper to scrape data and append tweets to list\n",
    "    for i,tweet in enumerate(sntwitter.TwitterSearchScraper(text_filter).get_items()\n",
    "\n",
    "):\n",
    "        \n",
    "        tweets_list1.append([tweet.date, tweet.username, tweet.id, tweet.content, tweet.url, tweet.replyCount, tweet.retweetCount, tweet.likeCount, tweet.quoteCount, tweet.quotedTweet, tweet.mentionedUsers, tweet.outlinks]) #declare the attributes to be returned\n",
    "\n",
    "    # Creating a dataframe from the tweets list above \n",
    "    tweets_df1 = pd.DataFrame(tweets_list1, columns=['Datetime', 'Username', 'Tweet Id', 'Text', 'URL', 'replyCount', 'retweetCount', 'likeCount', 'quoteCount', 'isQuoted', 'Mentioned Users', 'Links']\n",
    "\n",
    ")\n",
    "    \n",
    "    return tweets_df1"
   ]
  },
  {
   "cell_type": "code",
   "execution_count": 3,
   "id": "9f7edb2d",
   "metadata": {},
   "outputs": [],
   "source": [
    "keyword = 'New World Order'\n",
    "start_date = '2022-2-24'\n",
    "end_date = '2022-2-28'\n",
    "# scrapper collects posts in UTC 00:00 EST is -04:00"
   ]
  },
  {
   "cell_type": "code",
   "execution_count": 4,
   "id": "fab8bb65",
   "metadata": {},
   "outputs": [
    {
     "name": "stdout",
     "output_type": "stream",
     "text": [
      "New World Order since:2022-2-24 until:2022-2-28\n"
     ]
    },
    {
     "name": "stderr",
     "output_type": "stream",
     "text": [
      "C:\\Users\\crist\\AppData\\Local\\Temp/ipykernel_6428/3387378241.py:11: FutureWarning: username is deprecated, use user.username instead\n",
      "  tweets_list1.append([tweet.date, tweet.username, tweet.id, tweet.content, tweet.url, tweet.replyCount, tweet.retweetCount, tweet.likeCount, tweet.quoteCount, tweet.quotedTweet, tweet.mentionedUsers, tweet.outlinks]) #declare the attributes to be returned\n"
     ]
    }
   ],
   "source": [
    "df_key = getNamedTweets(keyword, start_date, end_date)"
   ]
  },
  {
   "cell_type": "code",
   "execution_count": 5,
   "id": "5f0aa4e0",
   "metadata": {},
   "outputs": [],
   "source": [
    "df_key.to_csv('nwo_after.csv')"
   ]
  },
  {
   "cell_type": "code",
   "execution_count": null,
   "id": "1c1ee330-fcc4-4e39-a4fd-ea395bd31234",
   "metadata": {},
   "outputs": [],
   "source": []
  }
 ],
 "metadata": {
  "kernelspec": {
   "display_name": "Python 3 (ipykernel)",
   "language": "python",
   "name": "python3"
  },
  "language_info": {
   "codemirror_mode": {
    "name": "ipython",
    "version": 3
   },
   "file_extension": ".py",
   "mimetype": "text/x-python",
   "name": "python",
   "nbconvert_exporter": "python",
   "pygments_lexer": "ipython3",
   "version": "3.9.7"
  }
 },
 "nbformat": 4,
 "nbformat_minor": 5
}
