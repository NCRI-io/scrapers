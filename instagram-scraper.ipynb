{
 "cells": [
  {
   "cell_type": "code",
   "execution_count": null,
   "id": "58677c6e-d974-493f-b9f5-36981d7da509",
   "metadata": {},
   "outputs": [],
   "source": [
    "import pandas as pd\n",
    "import instaloader\n",
    "import time"
   ]
  },
  {
   "cell_type": "code",
   "execution_count": null,
   "id": "a3175d54-5c36-48e6-99bf-c423917acb9e",
   "metadata": {},
   "outputs": [],
   "source": [
    "# Get instance\n",
    "L = instaloader.Instaloader()\n",
    "L.login('username', 'password') "
   ]
  },
  {
   "cell_type": "code",
   "execution_count": null,
   "id": "924ae9b8-1b0d-418f-8b30-f8828d4d7f2e",
   "metadata": {},
   "outputs": [],
   "source": [
    "# https://instaloader.github.io/index.html\n",
    "username = 'psa_carleton' # Put SJP Chapter name handle you want here \n",
    "profile = instaloader.Profile.from_username(L.context, username)\n",
    "posts = profile.get_posts()"
   ]
  },
  {
   "cell_type": "code",
   "execution_count": null,
   "id": "e6979448-971b-4509-855f-5d913a09fdf8",
   "metadata": {},
   "outputs": [],
   "source": [
    "insta_post_list = []\n",
    "comment_list = []\n",
    "i=0"
   ]
  },
  {
   "cell_type": "code",
   "execution_count": null,
   "id": "e8cdef21-e3c5-46d3-89a4-b44782012604",
   "metadata": {},
   "outputs": [],
   "source": [
    "for post in posts:\n",
    "    \n",
    "    insta_url = 'www.instagram.com/p/' + post.shortcode\n",
    "    \n",
    "    #print(dir(post))\n",
    "    \n",
    "    check_date = post.date.date()\n",
    "    \n",
    "    print(\"\\ni=\", i)\n",
    "    print(\"Posted Username:\", post.owner_username)\n",
    "    print(\"Posted Date:\", post.date_utc) # in UTC time\n",
    "    print(\"Location:\", post.location)\n",
    "    print(\"Tagged Users:\", post.tagged_users)\n",
    "    print(\"Caption:\", post.caption)\n",
    "    print(\"Caption Hashtags:\", post.caption_hashtags)\n",
    "    print(\"Caption Mentions:\", post.caption_mentions)\n",
    "    print(\"Likes:\", post.likes)\n",
    "    print(\"Number of Comments:\", post.comments)\n",
    "    print(\"URL:\", insta_url)\n",
    "    print(\"isVideo:\", post.is_video)\n",
    "    \n",
    "    for comment in post.get_comments():\n",
    "        comment_list.append(comment.text)\n",
    "        \n",
    "    print(\"Comments:\", comment_list)\n",
    "    \n",
    "    insta_post_list.append([post.owner_username, post.date, post.location, post.tagged_users, post.caption, post.caption_hashtags, post.caption_mentions, post.likes, post.comments, insta_url, comment_list, post.is_video])\n",
    "       \n",
    "    comment_list = []\n",
    "    i+=1\n",
    "        \n",
    "    #break"
   ]
  },
  {
   "cell_type": "code",
   "execution_count": null,
   "id": "0a834424-46e7-45cc-8815-625b71f09aca",
   "metadata": {},
   "outputs": [],
   "source": [
    "df_user = pd.DataFrame(insta_post_list, columns=['Username', 'Date', 'Location', 'Tagged-Users', 'Caption', 'Caption-Hashtags', 'Caption-Mentions', 'Likes', 'Comments', 'Post-URL', 'All-Comments', 'isVideo'])"
   ]
  },
  {
   "cell_type": "code",
   "execution_count": null,
   "id": "4d6bdbf1-f649-4fd0-8342-f16ed8b51c6f",
   "metadata": {},
   "outputs": [],
   "source": [
    "df_user.to_csv('./data/users/' + username + '.csv')"
   ]
  }
 ],
 "metadata": {
  "kernelspec": {
   "display_name": "Python 3 (ipykernel)",
   "language": "python",
   "name": "python3"
  },
  "language_info": {
   "codemirror_mode": {
    "name": "ipython",
    "version": 3
   },
   "file_extension": ".py",
   "mimetype": "text/x-python",
   "name": "python",
   "nbconvert_exporter": "python",
   "pygments_lexer": "ipython3",
   "version": "3.9.7"
  }
 },
 "nbformat": 4,
 "nbformat_minor": 5
}
