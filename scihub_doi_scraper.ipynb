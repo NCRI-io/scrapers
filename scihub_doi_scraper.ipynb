{
 "cells": [
  {
   "cell_type": "code",
   "execution_count": null,
   "id": "2304d1c3-daaa-40ed-a62b-e1c7d407704c",
   "metadata": {},
   "outputs": [],
   "source": [
    "import time\n",
    "from io import StringIO\n",
    "import sys\n",
    "from scidownl import scihub_download\n",
    "# https://github.com/Tishacy/SciDownl"
   ]
  },
  {
   "cell_type": "code",
   "execution_count": null,
   "id": "bce6f807-6b50-42fa-82b3-4e8a36a0a0e1",
   "metadata": {},
   "outputs": [],
   "source": [
    "doi = open('journals/post_colonial/doi_files/PMLA.txt', 'r')\n",
    "lines = doi.read()\n",
    "doi_list = lines.splitlines()\n",
    "doi.close()"
   ]
  },
  {
   "cell_type": "code",
   "execution_count": null,
   "id": "21929d6c-4a72-4ded-9cd4-25bc57fc1817",
   "metadata": {},
   "outputs": [],
   "source": [
    "len(doi_list)"
   ]
  },
  {
   "cell_type": "code",
   "execution_count": null,
   "id": "aa5dc79f-3905-424f-a236-dfe7a56c87fc",
   "metadata": {
    "tags": []
   },
   "outputs": [],
   "source": [
    "i = 0\n",
    "for doi in doi_list:\n",
    "    paper = (\"https://doi.org/\" + doi)\n",
    "    paper_type = \"doi\"\n",
    "    out = (\"./journals/post_colonial/PMLA/article\" + str(i))\n",
    "    scihub_download(paper, paper_type=paper_type, out=out)\n",
    "    i+=1\n",
    "    time.sleep(10)\n",
    "    if i == 101:\n",
    "        break"
   ]
  }
 ],
 "metadata": {
  "kernelspec": {
   "display_name": "Python 3 (ipykernel)",
   "language": "python",
   "name": "python3"
  },
  "language_info": {
   "codemirror_mode": {
    "name": "ipython",
    "version": 3
   },
   "file_extension": ".py",
   "mimetype": "text/x-python",
   "name": "python",
   "nbconvert_exporter": "python",
   "pygments_lexer": "ipython3",
   "version": "3.9.7"
  }
 },
 "nbformat": 4,
 "nbformat_minor": 5
}
