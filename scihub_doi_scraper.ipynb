{
 "cells": [
  {
   "cell_type": "code",
   "execution_count": 16,
   "id": "2304d1c3-daaa-40ed-a62b-e1c7d407704c",
   "metadata": {},
   "outputs": [],
   "source": [
    "import time\n",
    "from io import StringIO\n",
    "import sys\n",
    "from scidownl import scihub_download\n",
    "# https://github.com/Tishacy/SciDownl"
   ]
  },
  {
   "cell_type": "code",
   "execution_count": 17,
   "id": "bce6f807-6b50-42fa-82b3-4e8a36a0a0e1",
   "metadata": {},
   "outputs": [],
   "source": [
    "doi = open('journals/post_colonial/doi_files/critical_inquiry.txt', 'r')\n",
    "lines = doi.read()\n",
    "doi_list = lines.splitlines()\n",
    "doi.close()"
   ]
  },
  {
   "cell_type": "code",
   "execution_count": 18,
   "id": "21929d6c-4a72-4ded-9cd4-25bc57fc1817",
   "metadata": {},
   "outputs": [
    {
     "data": {
      "text/plain": [
       "3469"
      ]
     },
     "execution_count": 18,
     "metadata": {},
     "output_type": "execute_result"
    }
   ],
   "source": [
    "len(doi_list)"
   ]
  },
  {
   "cell_type": "code",
   "execution_count": 19,
   "id": "aa5dc79f-3905-424f-a236-dfe7a56c87fc",
   "metadata": {
    "tags": []
   },
   "outputs": [
    {
     "name": "stderr",
     "output_type": "stream",
     "text": [
      "[INFO] | 2022/04/18 17:49:25 | Choose scihub url [0]: https://sci-hub.ru\n",
      "[INFO] | 2022/04/18 17:49:25 | <- Request: scihub_url=https://sci-hub.ru, source=DoiSource[type=doi, id=doi.org/10.1086/421163]\n",
      "[INFO] | 2022/04/18 17:49:25 | -> Response: status_code=200, content_length=6889\n",
      "[INFO] | 2022/04/18 17:49:25 | * Extracted information: {'url': 'https://moscow.sci-hub.ru/2239/a67a3d425d2056d1b8adf2afcfb7e95e/hansen2004.pdf', 'title': 'The Time of Affect, or Bearing Witness to Life. Critical Inquiry, 30(3), 584–626'}\n",
      "[INFO] | 2022/04/18 17:49:26 | ↓ Successfully download the url to: ./journals/post_colonial/critical_inquiry/The Time of Affect, or Bearing Witness to Life. Critical Inquiry, 30(3), 584–626 (1).pdf\n"
     ]
    },
    {
     "name": "stdout",
     "output_type": "stream",
     "text": [
      "100% [..........................................................................] 3104333 / 3104333\n"
     ]
    },
    {
     "name": "stderr",
     "output_type": "stream",
     "text": [
      "[INFO] | 2022/04/18 17:49:36 | Choose scihub url [0]: https://sci-hub.ru\n",
      "[INFO] | 2022/04/18 17:49:36 | <- Request: scihub_url=https://sci-hub.ru, source=DoiSource[type=doi, id=doi.org/10.1086/421164]\n",
      "[INFO] | 2022/04/18 17:49:36 | -> Response: status_code=200, content_length=6933\n",
      "[INFO] | 2022/04/18 17:49:36 | * Extracted information: {'url': 'https://twin.sci-hub.ru/5831/7fc87a5de501e733e53c3bab2eaaeb64/lunberry2004.pdf', 'title': 'So Much Depends  Printed Matter, Dying Words, and the Entropic Poem. Critical Inquiry, 30(3), 627–653'}\n"
     ]
    },
    {
     "name": "stdout",
     "output_type": "stream",
     "text": [
      " 25% [...................                                                       ]  737280 / 2860694"
     ]
    },
    {
     "name": "stderr",
     "output_type": "stream",
     "text": [
      "[INFO] | 2022/04/18 17:49:38 | ↓ Successfully download the url to: ./journals/post_colonial/critical_inquiry/So Much Depends  Printed Matter, Dying Words, and the Entropic Poem. Critical Inquiry, 30(3), 627–653.pdf\n"
     ]
    },
    {
     "name": "stdout",
     "output_type": "stream",
     "text": [
      "100% [..........................................................................] 2860694 / 2860694\n"
     ]
    },
    {
     "name": "stderr",
     "output_type": "stream",
     "text": [
      "[INFO] | 2022/04/18 17:49:48 | Choose scihub url [0]: https://sci-hub.ru\n",
      "[INFO] | 2022/04/18 17:49:48 | <- Request: scihub_url=https://sci-hub.ru, source=DoiSource[type=doi, id=doi.org/10.1086/421165]\n",
      "[INFO] | 2022/04/18 17:49:48 | -> Response: status_code=200, content_length=6948\n",
      "[INFO] | 2022/04/18 17:49:48 | * Extracted information: {'url': 'https://moscow.sci-hub.ru/4489/021d9f35a8cf5a210a17e9122c04b178/chakrabarty2004.pdf', 'title': 'Romantic Archives  Literature and the Politics of Identity in Bengal. Critical Inquiry, 30(3), 654–682'}\n"
     ]
    },
    {
     "name": "stdout",
     "output_type": "stream",
     "text": [
      " 76% [..........................................................                  ] 155648 / 202646"
     ]
    },
    {
     "name": "stderr",
     "output_type": "stream",
     "text": [
      "[INFO] | 2022/04/18 17:49:49 | ↓ Successfully download the url to: ./journals/post_colonial/critical_inquiry/Romantic Archives  Literature and the Politics of Identity in Bengal. Critical Inquiry, 30(3), 654–682.pdf\n"
     ]
    },
    {
     "name": "stdout",
     "output_type": "stream",
     "text": [
      "100% [............................................................................] 202646 / 202646\n"
     ]
    },
    {
     "name": "stderr",
     "output_type": "stream",
     "text": [
      "[INFO] | 2022/04/18 17:49:59 | Choose scihub url [0]: https://sci-hub.ru\n",
      "[INFO] | 2022/04/18 17:49:59 | <- Request: scihub_url=https://sci-hub.ru, source=DoiSource[type=doi, id=doi.org/10.1086/421166]\n",
      "[INFO] | 2022/04/18 17:49:59 | -> Response: status_code=200, content_length=6848\n",
      "[INFO] | 2022/04/18 17:49:59 | * Extracted information: {'url': 'https://twin.sci-hub.ru/5832/ce3a6a49a2a8bcab449b174cb80e381d/books-of-critical-interest-2004.pdf', 'title': 'Critical Inquiry, 30(3), 683–690'}\n",
      "[INFO] | 2022/04/18 17:50:00 | ↓ Successfully download the url to: ./journals/post_colonial/critical_inquiry/Critical Inquiry, 30(3), 683–690.pdf\n"
     ]
    },
    {
     "name": "stdout",
     "output_type": "stream",
     "text": [
      "100% [..............................................................................] 50737 / 50737\n"
     ]
    },
    {
     "name": "stderr",
     "output_type": "stream",
     "text": [
      "[INFO] | 2022/04/18 17:50:10 | Choose scihub url [0]: https://sci-hub.ru\n",
      "[INFO] | 2022/04/18 17:50:10 | <- Request: scihub_url=https://sci-hub.ru, source=DoiSource[type=doi, id=doi.org/10.1086/423768]\n",
      "[INFO] | 2022/04/18 17:50:10 | -> Response: status_code=200, content_length=6863\n",
      "[INFO] | 2022/04/18 17:50:10 | * Extracted information: {'url': 'https://moscow.sci-hub.ru/1121/f5f7575d52c2908419d18633c6329eb0/panofsky2004.pdf', 'title': 'Reflections on Historical Time. Critical Inquiry, 30(4), 691–701'}\n",
      "[INFO] | 2022/04/18 17:50:11 | ↓ Successfully download the url to: ./journals/post_colonial/critical_inquiry/Reflections on Historical Time. Critical Inquiry, 30(4), 691–701.pdf\n"
     ]
    },
    {
     "name": "stdout",
     "output_type": "stream",
     "text": [
      "100% [............................................................................] 121208 / 121208\n"
     ]
    },
    {
     "name": "stderr",
     "output_type": "stream",
     "text": [
      "[INFO] | 2022/04/18 17:50:21 | Choose scihub url [0]: https://sci-hub.ru\n",
      "[INFO] | 2022/04/18 17:50:21 | <- Request: scihub_url=https://sci-hub.ru, source=DoiSource[type=doi, id=doi.org/10.1086/423769]\n",
      "[INFO] | 2022/04/18 17:50:21 | -> Response: status_code=200, content_length=6930\n",
      "[INFO] | 2022/04/18 17:50:21 | * Extracted information: {'url': 'https://twin.sci-hub.ru/5830/7aa373cca4402a8ccac6ae47f7e80c83/alder2004.pdf', 'title': 'History’s Greatest Forger  Science, Fiction, and Fraud along the Seine. Critical Inquiry, 30(4), 702–716'}\n",
      "[INFO] | 2022/04/18 17:50:22 | ↓ Successfully download the url to: ./journals/post_colonial/critical_inquiry/History’s Greatest Forger  Science, Fiction, and Fraud along the Seine. Critical Inquiry, 30(4), 702–716.pdf\n"
     ]
    },
    {
     "name": "stdout",
     "output_type": "stream",
     "text": [
      "100% [..............................................................................] 92053 / 92053\n"
     ]
    },
    {
     "name": "stderr",
     "output_type": "stream",
     "text": [
      "[INFO] | 2022/04/18 17:50:32 | Choose scihub url [0]: https://sci-hub.ru\n",
      "[INFO] | 2022/04/18 17:50:32 | <- Request: scihub_url=https://sci-hub.ru, source=DoiSource[type=doi, id=doi.org/10.1086/423770]\n",
      "[INFO] | 2022/04/18 17:50:32 | -> Response: status_code=200, content_length=6911\n",
      "[INFO] | 2022/04/18 17:50:32 | * Extracted information: {'url': 'https://twin.sci-hub.ru/5830/0406d24edf8b81fc7df6e64885cdd341/mcgann2004.pdf', 'title': 'Beauty, the Irreal, and the Willing Assumption of Disbelief. Critical Inquiry, 30(4), 717–738'}\n",
      "[INFO] | 2022/04/18 17:50:33 | ↓ Successfully download the url to: ./journals/post_colonial/critical_inquiry/Beauty, the Irreal, and the Willing Assumption of Disbelief. Critical Inquiry, 30(4), 717–738.pdf\n"
     ]
    },
    {
     "name": "stdout",
     "output_type": "stream",
     "text": [
      "100% [............................................................................] 120759 / 120759\n"
     ]
    },
    {
     "name": "stderr",
     "output_type": "stream",
     "text": [
      "[INFO] | 2022/04/18 17:50:43 | Choose scihub url [0]: https://sci-hub.ru\n",
      "[INFO] | 2022/04/18 17:50:43 | <- Request: scihub_url=https://sci-hub.ru, source=DoiSource[type=doi, id=doi.org/10.1086/423771]\n",
      "[INFO] | 2022/04/18 17:50:43 | -> Response: status_code=200, content_length=6812\n",
      "[INFO] | 2022/04/18 17:50:43 | * Extracted information: {'url': 'https://twin.sci-hub.ru/5831/d737109cd1aa94859b28aee699536ccf/sofri2004.pdf', 'title': 'On Optimism. Critical Inquiry, 30(4), 739–770'}\n"
     ]
    },
    {
     "name": "stdout",
     "output_type": "stream",
     "text": [
      " 74% [........................................................                    ] 122880 / 164597"
     ]
    },
    {
     "name": "stderr",
     "output_type": "stream",
     "text": [
      "[INFO] | 2022/04/18 17:50:44 | ↓ Successfully download the url to: ./journals/post_colonial/critical_inquiry/On Optimism. Critical Inquiry, 30(4), 739–770.pdf\n"
     ]
    },
    {
     "name": "stdout",
     "output_type": "stream",
     "text": [
      "100% [............................................................................] 164597 / 164597\n"
     ]
    },
    {
     "name": "stderr",
     "output_type": "stream",
     "text": [
      "[INFO] | 2022/04/18 17:50:54 | Choose scihub url [0]: https://sci-hub.ru\n",
      "[INFO] | 2022/04/18 17:50:55 | <- Request: scihub_url=https://sci-hub.ru, source=DoiSource[type=doi, id=doi.org/10.1086/423772]\n",
      "[INFO] | 2022/04/18 17:50:55 | -> Response: status_code=200, content_length=6970\n",
      "[INFO] | 2022/04/18 17:50:55 | * Extracted information: {'url': 'https://twin.sci-hub.ru/5830/52daf085c3c9cbf75b7fd226456d715d/wee2004.pdf', 'title': 'Staging the Asian Modern  Cultural Fragments, the Singaporean Eunuch, and the Asian Lear. Critical Inquiry, 30(4), 771–799'}\n"
     ]
    },
    {
     "name": "stdout",
     "output_type": "stream",
     "text": [
      " 21% [................                                                            ] 139264 / 642069"
     ]
    },
    {
     "name": "stderr",
     "output_type": "stream",
     "text": [
      "[INFO] | 2022/04/18 17:50:56 | ↓ Successfully download the url to: ./journals/post_colonial/critical_inquiry/Staging the Asian Modern  Cultural Fragments, the Singaporean Eunuch, and the Asian Lear. Critical Inquiry, 30(4), 771–799.pdf\n"
     ]
    },
    {
     "name": "stdout",
     "output_type": "stream",
     "text": [
      "100% [............................................................................] 642069 / 642069\n"
     ]
    },
    {
     "name": "stderr",
     "output_type": "stream",
     "text": [
      "[INFO] | 2022/04/18 17:51:06 | Choose scihub url [0]: https://sci-hub.ru\n",
      "[INFO] | 2022/04/18 17:51:06 | <- Request: scihub_url=https://sci-hub.ru, source=DoiSource[type=doi, id=doi.org/10.1086/423773]\n",
      "[INFO] | 2022/04/18 17:51:06 | -> Response: status_code=200, content_length=6996\n",
      "[INFO] | 2022/04/18 17:51:06 | * Extracted information: {'url': 'https://zero.sci-hub.ru/4693/c5592ca0adb7d994c34775205376f96e/comaroff2004.pdf', 'title': 'Criminal Obsessions, after Foucault  Postcoloniality, Policing, and the Metaphysics of Disorder. Critical Inquiry, 30(4), 800–824'}\n"
     ]
    },
    {
     "name": "stdout",
     "output_type": "stream",
     "text": [
      " 91% [.....................................................................       ] 172032 / 188324"
     ]
    },
    {
     "name": "stderr",
     "output_type": "stream",
     "text": [
      "[INFO] | 2022/04/18 17:51:07 | ↓ Successfully download the url to: ./journals/post_colonial/critical_inquiry/Criminal Obsessions, after Foucault  Postcoloniality, Policing, and the Metaphysics of Disorder. Critical Inquiry, 30(4), 800–824.pdf\n"
     ]
    },
    {
     "name": "stdout",
     "output_type": "stream",
     "text": [
      "100% [............................................................................] 188324 / 188324\n"
     ]
    },
    {
     "name": "stderr",
     "output_type": "stream",
     "text": [
      "[INFO] | 2022/04/18 17:51:17 | Choose scihub url [0]: https://sci-hub.ru\n",
      "[INFO] | 2022/04/18 17:51:18 | <- Request: scihub_url=https://sci-hub.ru, source=DoiSource[type=doi, id=doi.org/10.1086/423774]\n",
      "[INFO] | 2022/04/18 17:51:18 | -> Response: status_code=200, content_length=6848\n",
      "[INFO] | 2022/04/18 17:51:18 | * Extracted information: {'url': 'https://twin.sci-hub.ru/5833/c48c17b5f7db338bf7513f562726b3e9/books-of-critical-interest-2004.pdf', 'title': 'Critical Inquiry, 30(4), 825–835'}\n",
      "[INFO] | 2022/04/18 17:51:18 | ↓ Successfully download the url to: ./journals/post_colonial/critical_inquiry/Critical Inquiry, 30(4), 825–835.pdf\n"
     ]
    },
    {
     "name": "stdout",
     "output_type": "stream",
     "text": [
      "100% [..............................................................................] 62815 / 62815\n"
     ]
    },
    {
     "name": "stderr",
     "output_type": "stream",
     "text": [
      "[INFO] | 2022/04/18 17:51:28 | Choose scihub url [0]: https://sci-hub.ru\n",
      "[INFO] | 2022/04/18 17:51:29 | <- Request: scihub_url=https://sci-hub.ru, source=DoiSource[type=doi, id=doi.org/10.1086/427299]\n",
      "[INFO] | 2022/04/18 17:51:29 | -> Response: status_code=200, content_length=6895\n",
      "[INFO] | 2022/04/18 17:51:29 | * Extracted information: {'url': 'https://twin.sci-hub.ru/5830/53c027936356e872eb66fa9113a206cf/chandler2004.pdf', 'title': 'Arts of Transmission  An Introduction. Critical Inquiry, 31(1), 1–6'}\n",
      "[INFO] | 2022/04/18 17:51:29 | ↓ Successfully download the url to: ./journals/post_colonial/critical_inquiry/Arts of Transmission  An Introduction. Critical Inquiry, 31(1), 1–6.pdf\n"
     ]
    },
    {
     "name": "stdout",
     "output_type": "stream",
     "text": [
      "100% [..............................................................................] 45529 / 45529\n"
     ]
    },
    {
     "name": "stderr",
     "output_type": "stream",
     "text": [
      "[INFO] | 2022/04/18 17:51:39 | Choose scihub url [0]: https://sci-hub.ru\n",
      "[INFO] | 2022/04/18 17:51:40 | <- Request: scihub_url=https://sci-hub.ru, source=DoiSource[type=doi, id=doi.org/10.1086/427300]\n",
      "[INFO] | 2022/04/18 17:51:40 | -> Response: status_code=200, content_length=6839\n",
      "[INFO] | 2022/04/18 17:51:40 | * Extracted information: {'url': 'https://twin.sci-hub.ru/6029/f42004c91e6b31e61dcd1c41e27b5092/esposito2004.pdf', 'title': 'The Arts of Contingency. Critical Inquiry, 31(1), 7–25'}\n",
      "[INFO] | 2022/04/18 17:51:40 | ↓ Successfully download the url to: ./journals/post_colonial/critical_inquiry/The Arts of Contingency. Critical Inquiry, 31(1), 7–25.pdf\n"
     ]
    },
    {
     "name": "stdout",
     "output_type": "stream",
     "text": [
      "100% [............................................................................] 180125 / 180125\n"
     ]
    },
    {
     "name": "stderr",
     "output_type": "stream",
     "text": [
      "[INFO] | 2022/04/18 17:51:50 | Choose scihub url [0]: https://sci-hub.ru\n",
      "[INFO] | 2022/04/18 17:51:51 | <- Request: scihub_url=https://sci-hub.ru, source=DoiSource[type=doi, id=doi.org/10.1086/427301]\n",
      "[INFO] | 2022/04/18 17:51:51 | -> Response: status_code=200, content_length=6925\n",
      "[INFO] | 2022/04/18 17:51:51 | * Extracted information: {'url': 'https://zero.sci-hub.ru/4696/0276c27923993b9c0bf1f3902bf8d84f/nagy2004.pdf', 'title': 'Transmission of Archaic Greek Sympotic Songs  From Lesbos to Alexandria. Critical Inquiry, 31(1), 26–48'}\n"
     ]
    },
    {
     "name": "stdout",
     "output_type": "stream",
     "text": [
      " 63% [................................................                            ] 122880 / 193530"
     ]
    },
    {
     "name": "stderr",
     "output_type": "stream",
     "text": [
      "[INFO] | 2022/04/18 17:51:52 | ↓ Successfully download the url to: ./journals/post_colonial/critical_inquiry/Transmission of Archaic Greek Sympotic Songs  From Lesbos to Alexandria. Critical Inquiry, 31(1), 26–48.pdf\n"
     ]
    },
    {
     "name": "stdout",
     "output_type": "stream",
     "text": [
      "100% [............................................................................] 193530 / 193530\n"
     ]
    },
    {
     "name": "stderr",
     "output_type": "stream",
     "text": [
      "[INFO] | 2022/04/18 17:52:02 | Choose scihub url [0]: https://sci-hub.ru\n",
      "[INFO] | 2022/04/18 17:52:02 | <- Request: scihub_url=https://sci-hub.ru, source=DoiSource[type=doi, id=doi.org/10.1086/427302]\n",
      "[INFO] | 2022/04/18 17:52:02 | -> Response: status_code=200, content_length=6964\n",
      "[INFO] | 2022/04/18 17:52:02 | * Extracted information: {'url': 'https://moscow.sci-hub.ru/3747/8c68e0b08f782dd9dd094b287df032c0/liu2004.pdf', 'title': 'Transcendental Data  Toward a Cultural History and Aesthetics of the New Encoded Discourse. Critical Inquiry, 31(1), 49–84'}\n"
     ]
    },
    {
     "name": "stdout",
     "output_type": "stream",
     "text": [
      " 70% [....................................................                      ] 1327104 / 1880081"
     ]
    },
    {
     "name": "stderr",
     "output_type": "stream",
     "text": [
      "[INFO] | 2022/04/18 17:52:03 | ↓ Successfully download the url to: ./journals/post_colonial/critical_inquiry/Transcendental Data  Toward a Cultural History and Aesthetics of the New Encoded Discourse. Critical Inquiry, 31(1), 49–84.pdf\n"
     ]
    },
    {
     "name": "stdout",
     "output_type": "stream",
     "text": [
      "100% [..........................................................................] 1880081 / 1880081\n"
     ]
    },
    {
     "name": "stderr",
     "output_type": "stream",
     "text": [
      "[INFO] | 2022/04/18 17:52:13 | Choose scihub url [0]: https://sci-hub.ru\n",
      "[INFO] | 2022/04/18 17:52:14 | <- Request: scihub_url=https://sci-hub.ru, source=DoiSource[type=doi, id=doi.org/10.1086/427303]\n",
      "[INFO] | 2022/04/18 17:52:14 | -> Response: status_code=200, content_length=6862\n",
      "[INFO] | 2022/04/18 17:52:14 | * Extracted information: {'url': 'https://zero.sci-hub.ru/5407/b2b0d4764fc512f248a58d997827cd68/blair2004.pdf', 'title': 'Note Taking as an Art of Transmission. Critical Inquiry, 31(1), 85–107'}\n"
     ]
    },
    {
     "name": "stdout",
     "output_type": "stream",
     "text": [
      " 57% [..........................................                                ]  958464 / 1680035"
     ]
    },
    {
     "name": "stderr",
     "output_type": "stream",
     "text": [
      "[INFO] | 2022/04/18 17:52:15 | ↓ Successfully download the url to: ./journals/post_colonial/critical_inquiry/Note Taking as an Art of Transmission. Critical Inquiry, 31(1), 85–107.pdf\n"
     ]
    },
    {
     "name": "stdout",
     "output_type": "stream",
     "text": [
      "100% [..........................................................................] 1680035 / 1680035\n"
     ]
    },
    {
     "name": "stderr",
     "output_type": "stream",
     "text": [
      "[INFO] | 2022/04/18 17:52:25 | Choose scihub url [0]: https://sci-hub.ru\n",
      "[INFO] | 2022/04/18 17:52:25 | <- Request: scihub_url=https://sci-hub.ru, source=DoiSource[type=doi, id=doi.org/10.1086/427304]\n",
      "[INFO] | 2022/04/18 17:52:25 | -> Response: status_code=200, content_length=6847\n",
      "[INFO] | 2022/04/18 17:52:25 | * Extracted information: {'url': 'https://moscow.sci-hub.ru/4907/1d7f1d3b4f455ca9307440a6908ca862/guillory2004.pdf', 'title': 'The Memo and Modernity. Critical Inquiry, 31(1), 108–132'}\n"
     ]
    },
    {
     "name": "stdout",
     "output_type": "stream",
     "text": [
      " 73% [........................................................                    ] 172032 / 233388"
     ]
    },
    {
     "name": "stderr",
     "output_type": "stream",
     "text": [
      "[INFO] | 2022/04/18 17:52:26 | ↓ Successfully download the url to: ./journals/post_colonial/critical_inquiry/The Memo and Modernity. Critical Inquiry, 31(1), 108–132.pdf\n"
     ]
    },
    {
     "name": "stdout",
     "output_type": "stream",
     "text": [
      "100% [............................................................................] 233388 / 233388\n"
     ]
    },
    {
     "name": "stderr",
     "output_type": "stream",
     "text": [
      "[INFO] | 2022/04/18 17:52:36 | Choose scihub url [0]: https://sci-hub.ru\n",
      "[INFO] | 2022/04/18 17:52:37 | <- Request: scihub_url=https://sci-hub.ru, source=DoiSource[type=doi, id=doi.org/10.1086/427305]\n",
      "[INFO] | 2022/04/18 17:52:37 | -> Response: status_code=200, content_length=6941\n",
      "[INFO] | 2022/04/18 17:52:37 | * Extracted information: {'url': 'https://zero.sci-hub.ru/1836/7e4ad72a533408df52e49e31396f1987/chartier2004.pdf', 'title': 'Languages, Books, and Reading from the Printed Word to the Digital Text. Critical Inquiry, 31(1), 133–152'}\n",
      "[INFO] | 2022/04/18 17:52:37 | ↓ Successfully download the url to: ./journals/post_colonial/critical_inquiry/Languages, Books, and Reading from the Printed Word to the Digital Text. Critical Inquiry, 31(1), 133–152.pdf\n"
     ]
    },
    {
     "name": "stdout",
     "output_type": "stream",
     "text": [
      "100% [............................................................................] 160771 / 160771\n"
     ]
    },
    {
     "name": "stderr",
     "output_type": "stream",
     "text": [
      "[INFO] | 2022/04/18 17:52:47 | Choose scihub url [0]: https://sci-hub.ru\n",
      "[INFO] | 2022/04/18 17:52:48 | <- Request: scihub_url=https://sci-hub.ru, source=DoiSource[type=doi, id=doi.org/10.1086/427306]\n",
      "[INFO] | 2022/04/18 17:52:48 | -> Response: status_code=200, content_length=6865\n",
      "[INFO] | 2022/04/18 17:52:48 | * Extracted information: {'url': 'https://twin.sci-hub.ru/5832/caa05728e77be7035b33103ce01f3676/daston2004.pdf', 'title': 'Type Specimens and Scientific Memory. Critical Inquiry, 31(1), 153–182'}\n"
     ]
    },
    {
     "name": "stdout",
     "output_type": "stream",
     "text": [
      " 91% [...................................................................       ] 1654784 / 1811291"
     ]
    },
    {
     "name": "stderr",
     "output_type": "stream",
     "text": [
      "[INFO] | 2022/04/18 17:52:49 | ↓ Successfully download the url to: ./journals/post_colonial/critical_inquiry/Type Specimens and Scientific Memory. Critical Inquiry, 31(1), 153–182.pdf\n"
     ]
    },
    {
     "name": "stdout",
     "output_type": "stream",
     "text": [
      "100% [..........................................................................] 1811291 / 1811291\n"
     ]
    },
    {
     "name": "stderr",
     "output_type": "stream",
     "text": [
      "[INFO] | 2022/04/18 17:52:59 | Choose scihub url [0]: https://sci-hub.ru\n",
      "[INFO] | 2022/04/18 17:52:59 | <- Request: scihub_url=https://sci-hub.ru, source=DoiSource[type=doi, id=doi.org/10.1086/427307]\n",
      "[INFO] | 2022/04/18 17:52:59 | -> Response: status_code=200, content_length=6961\n",
      "[INFO] | 2022/04/18 17:52:59 | * Extracted information: {'url': 'https://moscow.sci-hub.ru/3877/43197381572915a156f0f9ed716e9043/poovey2004.pdf', 'title': 'The Limits of the Universal Knowledge Project  British India and the East Indiamen. Critical Inquiry, 31(1), 183–202'}\n",
      "[INFO] | 2022/04/18 17:53:00 | ↓ Successfully download the url to: ./journals/post_colonial/critical_inquiry/The Limits of the Universal Knowledge Project  British India and the East Indiamen. Critical Inquiry, 31(1), 183–202.pdf\n"
     ]
    },
    {
     "name": "stdout",
     "output_type": "stream",
     "text": [
      "100% [............................................................................] 157949 / 157949\n"
     ]
    },
    {
     "name": "stderr",
     "output_type": "stream",
     "text": [
      "[INFO] | 2022/04/18 17:53:10 | Choose scihub url [0]: https://sci-hub.ru\n",
      "[INFO] | 2022/04/18 17:53:10 | <- Request: scihub_url=https://sci-hub.ru, source=DoiSource[type=doi, id=doi.org/10.1086/427308]\n",
      "[INFO] | 2022/04/18 17:53:10 | -> Response: status_code=200, content_length=7067\n",
      "[INFO] | 2022/04/18 17:53:10 | * Extracted information: {'url': 'https://twin.sci-hub.ru/5825/158b111c69e16d8cf6997426503cfd85/radway2004.pdf', 'title': 'Research Universities, Periodical Publication, and the Circulation of Professional Expertise  On the Significance of Middlebrow Authority. Critical Inquiry, 31(1), 203–228'}\n",
      "[INFO] | 2022/04/18 17:53:11 | ↓ Successfully download the url to: ./journals/post_colonial/critical_inquiry/Research Universities, Periodical Publication, and the Circulation of Professional Expertise  On the Significance of Middlebrow Authority. Critical Inquiry, 31(1), 203–228.pdf\n"
     ]
    },
    {
     "name": "stdout",
     "output_type": "stream",
     "text": [
      "100% [............................................................................] 143787 / 143787\n"
     ]
    },
    {
     "name": "stderr",
     "output_type": "stream",
     "text": [
      "[INFO] | 2022/04/18 17:53:21 | Choose scihub url [0]: https://sci-hub.ru\n",
      "[INFO] | 2022/04/18 17:53:21 | <- Request: scihub_url=https://sci-hub.ru, source=DoiSource[type=doi, id=doi.org/10.1086/427309]\n",
      "[INFO] | 2022/04/18 17:53:21 | -> Response: status_code=200, content_length=6832\n",
      "[INFO] | 2022/04/18 17:53:21 | * Extracted information: {'url': 'https://twin.sci-hub.ru/5826/dbaed0e34bc8da01249a051a05002920/galison2004.pdf', 'title': 'Removing Knowledge. Critical Inquiry, 31(1), 229–243'}\n",
      "[INFO] | 2022/04/18 17:53:22 | ↓ Successfully download the url to: ./journals/post_colonial/critical_inquiry/Removing Knowledge. Critical Inquiry, 31(1), 229–243.pdf\n"
     ]
    },
    {
     "name": "stdout",
     "output_type": "stream",
     "text": [
      "100% [..............................................................................] 93302 / 93302\n"
     ]
    },
    {
     "name": "stderr",
     "output_type": "stream",
     "text": [
      "[INFO] | 2022/04/18 17:53:32 | Choose scihub url [0]: https://sci-hub.ru\n",
      "[INFO] | 2022/04/18 17:53:32 | <- Request: scihub_url=https://sci-hub.ru, source=DoiSource[type=doi, id=doi.org/10.1086/427310]\n",
      "[INFO] | 2022/04/18 17:53:32 | -> Response: status_code=200, content_length=6882\n",
      "[INFO] | 2022/04/18 17:53:32 | * Extracted information: {'url': 'https://moscow.sci-hub.ru/4937/eca148d1795ae93287f8640770b2ca0d/kittler2004.pdf', 'title': 'Universities  Wet, Hard, Soft, and Harder. Critical Inquiry, 31(1), 244–255'}\n",
      "[INFO] | 2022/04/18 17:53:33 | ↓ Successfully download the url to: ./journals/post_colonial/critical_inquiry/Universities  Wet, Hard, Soft, and Harder. Critical Inquiry, 31(1), 244–255.pdf\n"
     ]
    },
    {
     "name": "stdout",
     "output_type": "stream",
     "text": [
      "100% [............................................................................] 163607 / 163607\n"
     ]
    },
    {
     "name": "stderr",
     "output_type": "stream",
     "text": [
      "[INFO] | 2022/04/18 17:53:43 | Choose scihub url [0]: https://sci-hub.ru\n",
      "[INFO] | 2022/04/18 17:53:43 | <- Request: scihub_url=https://sci-hub.ru, source=DoiSource[type=doi, id=doi.org/10.1086/427311]\n",
      "[INFO] | 2022/04/18 17:53:43 | -> Response: status_code=200, content_length=6812\n",
      "[INFO] | 2022/04/18 17:53:43 | * Extracted information: {'url': 'https://twin.sci-hub.ru/5832/9ef7169decdd8a77fb8b395d68884a67/editorial-note-2004.pdf', 'title': 'Critical Inquiry, 31(1), 256–256'}\n",
      "[INFO] | 2022/04/18 17:53:44 | ↓ Successfully download the url to: ./journals/post_colonial/critical_inquiry/Critical Inquiry, 31(1), 256–256.pdf\n"
     ]
    },
    {
     "name": "stdout",
     "output_type": "stream",
     "text": [
      "100% [..............................................................................] 15023 / 15023\n"
     ]
    },
    {
     "name": "stderr",
     "output_type": "stream",
     "text": [
      "[INFO] | 2022/04/18 17:53:54 | Choose scihub url [0]: https://sci-hub.ru\n",
      "[INFO] | 2022/04/18 17:53:54 | <- Request: scihub_url=https://sci-hub.ru, source=DoiSource[type=doi, id=doi.org/10.1086/427312]\n",
      "[INFO] | 2022/04/18 17:53:54 | -> Response: status_code=200, content_length=6848\n",
      "[INFO] | 2022/04/18 17:53:54 | * Extracted information: {'url': 'https://twin.sci-hub.ru/5826/45a60cb4219f3e1683c45757ab211621/books-of-critical-interest-2004.pdf', 'title': 'Critical Inquiry, 31(1), 257–263'}\n",
      "[INFO] | 2022/04/18 17:53:55 | ↓ Successfully download the url to: ./journals/post_colonial/critical_inquiry/Critical Inquiry, 31(1), 257–263.pdf\n"
     ]
    },
    {
     "name": "stdout",
     "output_type": "stream",
     "text": [
      "100% [..............................................................................] 47168 / 47168\n"
     ]
    },
    {
     "name": "stderr",
     "output_type": "stream",
     "text": [
      "[INFO] | 2022/04/18 17:54:05 | Choose scihub url [0]: https://sci-hub.ru\n",
      "[INFO] | 2022/04/18 17:54:05 | <- Request: scihub_url=https://sci-hub.ru, source=DoiSource[type=doi, id=doi.org/10.1086/427839]\n",
      "[INFO] | 2022/04/18 17:54:05 | -> Response: status_code=200, content_length=6939\n",
      "[INFO] | 2022/04/18 17:54:05 | * Extracted information: {'url': 'https://twin.sci-hub.ru/5832/629f1ce8272fc42fe7192554b830ecf9/mitchell2005.pdf', 'title': 'The Ends of Theory  The Beijing Symposium on Critical Inquiry. Critical Inquiry, 31(2), 265–270'}\n",
      "[INFO] | 2022/04/18 17:54:06 | ↓ Successfully download the url to: ./journals/post_colonial/critical_inquiry/The Ends of Theory  The Beijing Symposium on Critical Inquiry. Critical Inquiry, 31(2), 265–270.pdf\n"
     ]
    },
    {
     "name": "stdout",
     "output_type": "stream",
     "text": [
      "100% [..............................................................................] 47513 / 47513\n"
     ]
    },
    {
     "name": "stderr",
     "output_type": "stream",
     "text": [
      "[INFO] | 2022/04/18 17:54:16 | Choose scihub url [0]: https://sci-hub.ru\n",
      "[INFO] | 2022/04/18 17:54:16 | <- Request: scihub_url=https://sci-hub.ru, source=DoiSource[type=doi, id=doi.org/10.1086/430959]\n",
      "[INFO] | 2022/04/18 17:54:16 | -> Response: status_code=200, content_length=6812\n",
      "[INFO] | 2022/04/18 17:54:16 | * Extracted information: {'url': 'https://twin.sci-hub.ru/5833/4144dfac62cab7bc2bd4dc0f8710f7d6/editorial-note-2005.pdf', 'title': 'Critical Inquiry, 31(2), 530–530'}\n",
      "[INFO] | 2022/04/18 17:54:17 | ↓ Successfully download the url to: ./journals/post_colonial/critical_inquiry/Critical Inquiry, 31(2), 530–530.pdf\n"
     ]
    },
    {
     "name": "stdout",
     "output_type": "stream",
     "text": [
      "100% [..............................................................................] 13005 / 13005\n"
     ]
    },
    {
     "name": "stderr",
     "output_type": "stream",
     "text": [
      "[INFO] | 2022/04/18 17:54:27 | Choose scihub url [0]: https://sci-hub.ru\n",
      "[INFO] | 2022/04/18 17:54:27 | <- Request: scihub_url=https://sci-hub.ru, source=DoiSource[type=doi, id=doi.org/10.1086/430960]\n",
      "[INFO] | 2022/04/18 17:54:27 | -> Response: status_code=200, content_length=6925\n",
      "[INFO] | 2022/04/18 17:54:27 | * Extracted information: {'url': 'https://twin.sci-hub.ru/5826/92ba06258669553481568761d1278cb5/fish2005.pdf', 'title': 'Take This Job and Do It  Administering the University without an Idea. Critical Inquiry, 31(2), 271–285'}\n",
      "[INFO] | 2022/04/18 17:54:28 | ↓ Successfully download the url to: ./journals/post_colonial/critical_inquiry/Take This Job and Do It  Administering the University without an Idea. Critical Inquiry, 31(2), 271–285.pdf\n"
     ]
    },
    {
     "name": "stdout",
     "output_type": "stream",
     "text": [
      "100% [..............................................................................] 86298 / 86298\n"
     ]
    },
    {
     "name": "stderr",
     "output_type": "stream",
     "text": [
      "[INFO] | 2022/04/18 17:54:38 | Choose scihub url [0]: https://sci-hub.ru\n",
      "[INFO] | 2022/04/18 17:54:38 | <- Request: scihub_url=https://sci-hub.ru, source=DoiSource[type=doi, id=doi.org/10.1086/430961]\n",
      "[INFO] | 2022/04/18 17:54:38 | -> Response: status_code=200, content_length=6818\n",
      "[INFO] | 2022/04/18 17:54:38 | * Extracted information: {'url': 'https://twin.sci-hub.ru/5826/670256d5ed4ad7978f1b57172d76bb6f/leitch2005.pdf', 'title': 'Work Theory. Critical Inquiry, 31(2), 286–301'}\n",
      "[INFO] | 2022/04/18 17:54:39 | ↓ Successfully download the url to: ./journals/post_colonial/critical_inquiry/Work Theory. Critical Inquiry, 31(2), 286–301.pdf\n"
     ]
    },
    {
     "name": "stdout",
     "output_type": "stream",
     "text": [
      "100% [............................................................................] 109237 / 109237\n"
     ]
    },
    {
     "name": "stderr",
     "output_type": "stream",
     "text": [
      "[INFO] | 2022/04/18 17:54:49 | Choose scihub url [0]: https://sci-hub.ru\n",
      "[INFO] | 2022/04/18 17:54:50 | <- Request: scihub_url=https://sci-hub.ru, source=DoiSource[type=doi, id=doi.org/10.1086/430962]\n",
      "[INFO] | 2022/04/18 17:54:50 | -> Response: status_code=200, content_length=6892\n",
      "[INFO] | 2022/04/18 17:54:50 | * Extracted information: {'url': 'https://zero.sci-hub.ru/2112/90232092f626d109be9efc4202dae6d8/belting2005.pdf', 'title': 'Image, Medium, Body  A New Approach to Iconology. Critical Inquiry, 31(2), 302–319'}\n"
     ]
    },
    {
     "name": "stdout",
     "output_type": "stream",
     "text": [
      " 78% [...........................................................                 ] 122880 / 156890"
     ]
    },
    {
     "name": "stderr",
     "output_type": "stream",
     "text": [
      "[INFO] | 2022/04/18 17:54:50 | ↓ Successfully download the url to: ./journals/post_colonial/critical_inquiry/Image, Medium, Body  A New Approach to Iconology. Critical Inquiry, 31(2), 302–319.pdf\n"
     ]
    },
    {
     "name": "stdout",
     "output_type": "stream",
     "text": [
      "100% [............................................................................] 156890 / 156890\n"
     ]
    },
    {
     "name": "stderr",
     "output_type": "stream",
     "text": [
      "[INFO] | 2022/04/18 17:55:00 | Choose scihub url [0]: https://sci-hub.ru\n",
      "[INFO] | 2022/04/18 17:55:01 | <- Request: scihub_url=https://sci-hub.ru, source=DoiSource[type=doi, id=doi.org/10.1086/430963]\n",
      "[INFO] | 2022/04/18 17:55:01 | -> Response: status_code=200, content_length=6880\n",
      "[INFO] | 2022/04/18 17:55:01 | * Extracted information: {'url': 'https://twin.sci-hub.ru/5834/ea87129323334dd44d89c674a58d4307/flusser2005.pdf', 'title': 'The City as Wave‐Trough in the Image‐Flood. Critical Inquiry, 31(2), 320–328'}\n",
      "[INFO] | 2022/04/18 17:55:01 | ↓ Successfully download the url to: ./journals/post_colonial/critical_inquiry/The City as Wave‐Trough in the Image‐Flood. Critical Inquiry, 31(2), 320–328.pdf\n"
     ]
    },
    {
     "name": "stdout",
     "output_type": "stream",
     "text": [
      "100% [..............................................................................] 66796 / 66796\n"
     ]
    },
    {
     "name": "stderr",
     "output_type": "stream",
     "text": [
      "[INFO] | 2022/04/18 17:55:11 | Choose scihub url [0]: https://sci-hub.ru\n",
      "[INFO] | 2022/04/18 17:55:12 | <- Request: scihub_url=https://sci-hub.ru, source=DoiSource[type=doi, id=doi.org/10.1086/430964]\n",
      "[INFO] | 2022/04/18 17:55:12 | -> Response: status_code=200, content_length=6861\n",
      "[INFO] | 2022/04/18 17:55:12 | * Extracted information: {'url': 'https://moscow.sci-hub.ru/2084/0791e6cca69969c5aa63898d44a84e21/jauss2005.pdf', 'title': 'Modernity and Literary Tradition. Critical Inquiry, 31(2), 329–364'}\n"
     ]
    },
    {
     "name": "stdout",
     "output_type": "stream",
     "text": [
      " 77% [..........................................................                  ] 188416 / 243329"
     ]
    },
    {
     "name": "stderr",
     "output_type": "stream",
     "text": [
      "[INFO] | 2022/04/18 17:55:13 | ↓ Successfully download the url to: ./journals/post_colonial/critical_inquiry/Modernity and Literary Tradition. Critical Inquiry, 31(2), 329–364.pdf\n"
     ]
    },
    {
     "name": "stdout",
     "output_type": "stream",
     "text": [
      "100% [............................................................................] 243329 / 243329\n"
     ]
    },
    {
     "name": "stderr",
     "output_type": "stream",
     "text": [
      "[INFO] | 2022/04/18 17:55:23 | Choose scihub url [0]: https://sci-hub.ru\n",
      "[INFO] | 2022/04/18 17:55:23 | <- Request: scihub_url=https://sci-hub.ru, source=DoiSource[type=doi, id=doi.org/10.1086/430965]\n",
      "[INFO] | 2022/04/18 17:55:23 | -> Response: status_code=200, content_length=6885\n",
      "[INFO] | 2022/04/18 17:55:23 | * Extracted information: {'url': 'https://twin.sci-hub.ru/5833/ff3423e0989058209c9229008e0db5d6/mitchell2005.pdf', 'title': 'Edward Said  Continuing the Conversation. Critical Inquiry, 31(2), 365–370'}\n",
      "[INFO] | 2022/04/18 17:55:24 | ↓ Successfully download the url to: ./journals/post_colonial/critical_inquiry/Edward Said  Continuing the Conversation. Critical Inquiry, 31(2), 365–370.pdf\n"
     ]
    },
    {
     "name": "stdout",
     "output_type": "stream",
     "text": [
      "100% [..............................................................................] 45000 / 45000\n"
     ]
    },
    {
     "name": "stderr",
     "output_type": "stream",
     "text": [
      "[INFO] | 2022/04/18 17:55:34 | Choose scihub url [0]: https://sci-hub.ru\n",
      "[INFO] | 2022/04/18 17:55:34 | <- Request: scihub_url=https://sci-hub.ru, source=DoiSource[type=doi, id=doi.org/10.1086/430966]\n",
      "[INFO] | 2022/04/18 17:55:34 | -> Response: status_code=200, content_length=6805\n",
      "[INFO] | 2022/04/18 17:55:34 | * Extracted information: {'url': 'https://zero.sci-hub.ru/3716/a3b2f98c39807e01c18ee10d09586fc7/bhabha2005.pdf', 'title': 'Adagio. Critical Inquiry, 31(2), 371–380'}\n",
      "[INFO] | 2022/04/18 17:55:35 | ↓ Successfully download the url to: ./journals/post_colonial/critical_inquiry/Adagio. Critical Inquiry, 31(2), 371–380.pdf\n"
     ]
    },
    {
     "name": "stdout",
     "output_type": "stream",
     "text": [
      "100% [............................................................................] 117834 / 117834\n"
     ]
    },
    {
     "name": "stderr",
     "output_type": "stream",
     "text": [
      "[INFO] | 2022/04/18 17:55:45 | Choose scihub url [0]: https://sci-hub.ru\n",
      "[INFO] | 2022/04/18 17:55:46 | <- Request: scihub_url=https://sci-hub.ru, source=DoiSource[type=doi, id=doi.org/10.1086/430967]\n",
      "[INFO] | 2022/04/18 17:55:46 | -> Response: status_code=200, content_length=6949\n",
      "[INFO] | 2022/04/18 17:55:46 | * Extracted information: {'url': 'https://twin.sci-hub.ru/5828/011577575f685e04493b1bb9e51dc337/10.1086@430967.pdf', 'title': 'About Politics, Palestine, and Friendship  A Letter to Edward from Egypt. Critical Inquiry, 31(2), 381–388'}\n",
      "[INFO] | 2022/04/18 17:55:46 | ↓ Successfully download the url to: ./journals/post_colonial/critical_inquiry/About Politics, Palestine, and Friendship  A Letter to Edward from Egypt. Critical Inquiry, 31(2), 381–388.pdf\n"
     ]
    },
    {
     "name": "stdout",
     "output_type": "stream",
     "text": [
      "100% [..............................................................................] 58039 / 58039\n"
     ]
    },
    {
     "name": "stderr",
     "output_type": "stream",
     "text": [
      "[INFO] | 2022/04/18 17:55:56 | Choose scihub url [0]: https://sci-hub.ru\n",
      "[INFO] | 2022/04/18 17:55:57 | <- Request: scihub_url=https://sci-hub.ru, source=DoiSource[type=doi, id=doi.org/10.1086/430968]\n",
      "[INFO] | 2022/04/18 17:55:57 | -> Response: status_code=200, content_length=6851\n",
      "[INFO] | 2022/04/18 17:55:57 | * Extracted information: {'url': 'https://twin.sci-hub.ru/5833/93f82ca311bdf2ccc707d58e90ca047b/bilgrami2005.pdf', 'title': 'Interpreting a Distinction. Critical Inquiry, 31(2), 389–398'}\n",
      "[INFO] | 2022/04/18 17:55:57 | ↓ Successfully download the url to: ./journals/post_colonial/critical_inquiry/Interpreting a Distinction. Critical Inquiry, 31(2), 389–398.pdf\n"
     ]
    },
    {
     "name": "stdout",
     "output_type": "stream",
     "text": [
      "100% [..............................................................................] 69732 / 69732\n"
     ]
    },
    {
     "name": "stderr",
     "output_type": "stream",
     "text": [
      "[INFO] | 2022/04/18 17:56:07 | Choose scihub url [0]: https://sci-hub.ru\n",
      "[INFO] | 2022/04/18 17:56:08 | <- Request: scihub_url=https://sci-hub.ru, source=DoiSource[type=doi, id=doi.org/10.1086/430969]\n",
      "[INFO] | 2022/04/18 17:56:08 | -> Response: status_code=200, content_length=6853\n",
      "[INFO] | 2022/04/18 17:56:08 | * Extracted information: {'url': 'https://twin.sci-hub.ru/5833/8afbebf13b1dd12b4ce24362d03023a4/10.1086@430969.pdf', 'title': 'Continuing the Conversation. Critical Inquiry, 31(2), 399–405'}\n",
      "[INFO] | 2022/04/18 17:56:09 | ↓ Successfully download the url to: ./journals/post_colonial/critical_inquiry/Continuing the Conversation. Critical Inquiry, 31(2), 399–405.pdf\n"
     ]
    },
    {
     "name": "stdout",
     "output_type": "stream",
     "text": [
      "100% [..............................................................................] 55333 / 55333\n"
     ]
    },
    {
     "name": "stderr",
     "output_type": "stream",
     "text": [
      "[INFO] | 2022/04/18 17:56:19 | Choose scihub url [0]: https://sci-hub.ru\n",
      "[INFO] | 2022/04/18 17:56:19 | <- Request: scihub_url=https://sci-hub.ru, source=DoiSource[type=doi, id=doi.org/10.1086/430970]\n",
      "[INFO] | 2022/04/18 17:56:19 | -> Response: status_code=200, content_length=6816\n",
      "[INFO] | 2022/04/18 17:56:19 | * Extracted information: {'url': 'https://twin.sci-hub.ru/5832/655b131e7e791a753897313ec072e82d/brennan2005.pdf', 'title': 'Resolution. Critical Inquiry, 31(2), 406–418'}\n",
      "[INFO] | 2022/04/18 17:56:19 | ↓ Successfully download the url to: ./journals/post_colonial/critical_inquiry/Resolution. Critical Inquiry, 31(2), 406–418.pdf\n"
     ]
    },
    {
     "name": "stdout",
     "output_type": "stream",
     "text": [
      "100% [..............................................................................] 83501 / 83501\n"
     ]
    },
    {
     "name": "stderr",
     "output_type": "stream",
     "text": [
      "[INFO] | 2022/04/18 17:56:29 | Choose scihub url [0]: https://sci-hub.ru\n",
      "[INFO] | 2022/04/18 17:56:30 | <- Request: scihub_url=https://sci-hub.ru, source=DoiSource[type=doi, id=doi.org/10.1086/430971]\n",
      "[INFO] | 2022/04/18 17:56:30 | -> Response: status_code=200, content_length=6870\n",
      "[INFO] | 2022/04/18 17:56:30 | * Extracted information: {'url': 'https://moscow.sci-hub.ru/3115/1de6fb164e7da092e9e99071254d1a3d/chomsky2005.pdf', 'title': 'Homi Bhabha Talks with Noam Chomsky. Critical Inquiry, 31(2), 419–424'}\n",
      "[INFO] | 2022/04/18 17:56:31 | ↓ Successfully download the url to: ./journals/post_colonial/critical_inquiry/Homi Bhabha Talks with Noam Chomsky. Critical Inquiry, 31(2), 419–424.pdf\n"
     ]
    },
    {
     "name": "stdout",
     "output_type": "stream",
     "text": [
      "100% [............................................................................] 101887 / 101887\n"
     ]
    },
    {
     "name": "stderr",
     "output_type": "stream",
     "text": [
      "[INFO] | 2022/04/18 17:56:41 | Choose scihub url [0]: https://sci-hub.ru\n",
      "[INFO] | 2022/04/18 17:56:41 | <- Request: scihub_url=https://sci-hub.ru, source=DoiSource[type=doi, id=doi.org/10.1086/430972]\n",
      "[INFO] | 2022/04/18 17:56:41 | -> Response: status_code=200, content_length=6803\n",
      "[INFO] | 2022/04/18 17:56:41 | * Extracted information: {'url': 'https://twin.sci-hub.ru/5834/51558b1bdc1b655be5414ffefec8a6f0/guha2005.pdf', 'title': 'The Turn. Critical Inquiry, 31(2), 425–430'}\n",
      "[INFO] | 2022/04/18 17:56:42 | ↓ Successfully download the url to: ./journals/post_colonial/critical_inquiry/The Turn. Critical Inquiry, 31(2), 425–430.pdf\n"
     ]
    },
    {
     "name": "stdout",
     "output_type": "stream",
     "text": [
      "100% [..............................................................................] 44525 / 44525\n"
     ]
    },
    {
     "name": "stderr",
     "output_type": "stream",
     "text": [
      "[INFO] | 2022/04/18 17:56:52 | Choose scihub url [0]: https://sci-hub.ru\n",
      "[INFO] | 2022/04/18 17:56:52 | <- Request: scihub_url=https://sci-hub.ru, source=DoiSource[type=doi, id=doi.org/10.1086/430973]\n",
      "[INFO] | 2022/04/18 17:56:52 | -> Response: status_code=200, content_length=6886\n",
      "[INFO] | 2022/04/18 17:56:52 | * Extracted information: {'url': 'https://twin.sci-hub.ru/5834/7af3d3f269d9584bc93e27f4cf6dda26/harootunian2005.pdf', 'title': 'Conjunctural Traces  Said’s “Inventory.” Critical Inquiry, 31(2), 431–442'}\n",
      "[INFO] | 2022/04/18 17:56:53 | ↓ Successfully download the url to: ./journals/post_colonial/critical_inquiry/Conjunctural Traces  Said’s “Inventory.” Critical Inquiry, 31(2), 431–442.pdf\n"
     ]
    },
    {
     "name": "stdout",
     "output_type": "stream",
     "text": [
      "100% [..............................................................................] 78075 / 78075\n"
     ]
    },
    {
     "name": "stderr",
     "output_type": "stream",
     "text": [
      "[INFO] | 2022/04/18 17:57:03 | Choose scihub url [0]: https://sci-hub.ru\n",
      "[INFO] | 2022/04/18 17:57:03 | <- Request: scihub_url=https://sci-hub.ru, source=DoiSource[type=doi, id=doi.org/10.1086/430974]\n",
      "[INFO] | 2022/04/18 17:57:03 | -> Response: status_code=200, content_length=6890\n",
      "[INFO] | 2022/04/18 17:57:03 | * Extracted information: {'url': 'https://twin.sci-hub.ru/5834/d3956aa5fc0e8c9b202b97bc7e589f53/makdisi2005.pdf', 'title': 'Said, Palestine, and the Humanism of Liberation. Critical Inquiry, 31(2), 443–461'}\n",
      "[INFO] | 2022/04/18 17:57:04 | ↓ Successfully download the url to: ./journals/post_colonial/critical_inquiry/Said, Palestine, and the Humanism of Liberation. Critical Inquiry, 31(2), 443–461.pdf\n"
     ]
    },
    {
     "name": "stdout",
     "output_type": "stream",
     "text": [
      "100% [............................................................................] 106716 / 106716\n"
     ]
    },
    {
     "name": "stderr",
     "output_type": "stream",
     "text": [
      "[INFO] | 2022/04/18 17:57:14 | Choose scihub url [0]: https://sci-hub.ru\n",
      "[INFO] | 2022/04/18 17:57:15 | <- Request: scihub_url=https://sci-hub.ru, source=DoiSource[type=doi, id=doi.org/10.1086/430975]\n",
      "[INFO] | 2022/04/18 17:57:15 | -> Response: status_code=200, content_length=6889\n",
      "[INFO] | 2022/04/18 17:57:15 | * Extracted information: {'url': 'https://zero.sci-hub.ru/4544/56910bb6da7e937202901259c42c3e1a/mitchell2005.pdf', 'title': 'Secular Divination  Edward Said’s Humanism. Critical Inquiry, 31(2), 462–471'}\n",
      "[INFO] | 2022/04/18 17:57:15 | ↓ Successfully download the url to: ./journals/post_colonial/critical_inquiry/Secular Divination  Edward Said’s Humanism. Critical Inquiry, 31(2), 462–471.pdf\n"
     ]
    },
    {
     "name": "stdout",
     "output_type": "stream",
     "text": [
      "100% [............................................................................] 121697 / 121697\n"
     ]
    },
    {
     "name": "stderr",
     "output_type": "stream",
     "text": [
      "[INFO] | 2022/04/18 17:57:25 | Choose scihub url [0]: https://sci-hub.ru\n",
      "[INFO] | 2022/04/18 17:57:26 | <- Request: scihub_url=https://sci-hub.ru, source=DoiSource[type=doi, id=doi.org/10.1086/430976]\n",
      "[INFO] | 2022/04/18 17:57:26 | -> Response: status_code=200, content_length=6837\n",
      "[INFO] | 2022/04/18 17:57:26 | * Extracted information: {'url': 'https://moscow.sci-hub.ru/4972/abdbc2e31f8abc86a4c93fc9b7d44d6a/mufti2005.pdf', 'title': 'Global Comparativism. Critical Inquiry, 31(2), 472–489'}\n"
     ]
    },
    {
     "name": "stdout",
     "output_type": "stream",
     "text": [
      " 95% [........................................................................    ] 180224 / 188605"
     ]
    },
    {
     "name": "stderr",
     "output_type": "stream",
     "text": [
      "[INFO] | 2022/04/18 17:57:27 | ↓ Successfully download the url to: ./journals/post_colonial/critical_inquiry/Global Comparativism. Critical Inquiry, 31(2), 472–489.pdf\n"
     ]
    },
    {
     "name": "stdout",
     "output_type": "stream",
     "text": [
      "100% [............................................................................] 188605 / 188605\n"
     ]
    },
    {
     "name": "stderr",
     "output_type": "stream",
     "text": [
      "[INFO] | 2022/04/18 17:57:37 | Choose scihub url [0]: https://sci-hub.ru\n",
      "[INFO] | 2022/04/18 17:57:37 | <- Request: scihub_url=https://sci-hub.ru, source=DoiSource[type=doi, id=doi.org/10.1086/430977]\n",
      "[INFO] | 2022/04/18 17:57:37 | -> Response: status_code=200, content_length=6845\n",
      "[INFO] | 2022/04/18 17:57:37 | * Extracted information: {'url': 'https://twin.sci-hub.ru/5831/5dd131ffd83856063a37d3005255818a/owen2005.pdf', 'title': 'Conversation with Edward Said. Critical Inquiry, 31(2), 490–497'}\n",
      "[INFO] | 2022/04/18 17:57:38 | ↓ Successfully download the url to: ./journals/post_colonial/critical_inquiry/Conversation with Edward Said. Critical Inquiry, 31(2), 490–497.pdf\n"
     ]
    },
    {
     "name": "stdout",
     "output_type": "stream",
     "text": [
      "100% [..............................................................................] 51791 / 51791\n"
     ]
    },
    {
     "name": "stderr",
     "output_type": "stream",
     "text": [
      "[INFO] | 2022/04/18 17:57:48 | Choose scihub url [0]: https://sci-hub.ru\n",
      "[INFO] | 2022/04/18 17:57:48 | <- Request: scihub_url=https://sci-hub.ru, source=DoiSource[type=doi, id=doi.org/10.1086/430978]\n",
      "[INFO] | 2022/04/18 17:57:48 | -> Response: status_code=200, content_length=6838\n",
      "[INFO] | 2022/04/18 17:57:48 | * Extracted information: {'url': 'https://twin.sci-hub.ru/5653/7d64a09d2b6c8499dc946b58f37b595a/prakash2005.pdf', 'title': 'Edward Said in Bombay. Critical Inquiry, 31(2), 498–504'}\n",
      "[INFO] | 2022/04/18 17:57:49 | ↓ Successfully download the url to: ./journals/post_colonial/critical_inquiry/Edward Said in Bombay. Critical Inquiry, 31(2), 498–504.pdf\n"
     ]
    },
    {
     "name": "stdout",
     "output_type": "stream",
     "text": [
      "100% [............................................................................] 120070 / 120070\n"
     ]
    },
    {
     "name": "stderr",
     "output_type": "stream",
     "text": [
      "[INFO] | 2022/04/18 17:57:59 | Choose scihub url [0]: https://sci-hub.ru\n",
      "[INFO] | 2022/04/18 17:57:59 | <- Request: scihub_url=https://sci-hub.ru, source=DoiSource[type=doi, id=doi.org/10.1086/430979]\n",
      "[INFO] | 2022/04/18 17:57:59 | -> Response: status_code=200, content_length=6999\n",
      "[INFO] | 2022/04/18 17:57:59 | * Extracted information: {'url': 'https://twin.sci-hub.ru/5833/8f95fcd403c87a8e447d2fbaf93e9139/rabinowitz2005.pdf', 'title': 'Belated Occupation, Advanced Militarization  Edward Said’s Critique of the Oslo Process Revisited. Critical Inquiry, 31(2), 505–511'}\n",
      "[INFO] | 2022/04/18 17:58:00 | ↓ Successfully download the url to: ./journals/post_colonial/critical_inquiry/Belated Occupation, Advanced Militarization  Edward Said’s Critique of the Oslo Process Revisited. Critical Inquiry, 31(2), 505–511.pdf\n"
     ]
    },
    {
     "name": "stdout",
     "output_type": "stream",
     "text": [
      "100% [..............................................................................] 52503 / 52503\n"
     ]
    },
    {
     "name": "stderr",
     "output_type": "stream",
     "text": [
      "[INFO] | 2022/04/18 17:58:10 | Choose scihub url [0]: https://sci-hub.ru\n",
      "[INFO] | 2022/04/18 17:58:10 | <- Request: scihub_url=https://sci-hub.ru, source=DoiSource[type=doi, id=doi.org/10.1086/430980]\n",
      "[INFO] | 2022/04/18 17:58:10 | -> Response: status_code=200, content_length=6883\n",
      "[INFO] | 2022/04/18 17:58:10 | * Extracted information: {'url': 'https://zero.sci-hub.ru/2075/f97fb6df2ef85703826a175f645a8b5e/rose2005.pdf', 'title': 'The Question of Zionism  Continuing the Dialogue. Critical Inquiry, 31(2), 512–518'}\n",
      "[INFO] | 2022/04/18 17:58:11 | ↓ Successfully download the url to: ./journals/post_colonial/critical_inquiry/The Question of Zionism  Continuing the Dialogue. Critical Inquiry, 31(2), 512–518.pdf\n"
     ]
    },
    {
     "name": "stdout",
     "output_type": "stream",
     "text": [
      "100% [............................................................................] 107246 / 107246\n"
     ]
    },
    {
     "name": "stderr",
     "output_type": "stream",
     "text": [
      "[INFO] | 2022/04/18 17:58:21 | Choose scihub url [0]: https://sci-hub.ru\n",
      "[INFO] | 2022/04/18 17:58:21 | <- Request: scihub_url=https://sci-hub.ru, source=DoiSource[type=doi, id=doi.org/10.1086/430981]\n",
      "[INFO] | 2022/04/18 17:58:21 | -> Response: status_code=200, content_length=6891\n",
      "[INFO] | 2022/04/18 17:58:21 | * Extracted information: {'url': 'https://moscow.sci-hub.ru/4607/f0760a226475edcb63af04d21c954360/spivak2005.pdf', 'title': 'Thinking about Edward Said  Pages from a Memoir. Critical Inquiry, 31(2), 519–525'}\n",
      "[INFO] | 2022/04/18 17:58:22 | ↓ Successfully download the url to: ./journals/post_colonial/critical_inquiry/Thinking about Edward Said  Pages from a Memoir. Critical Inquiry, 31(2), 519–525.pdf\n"
     ]
    },
    {
     "name": "stdout",
     "output_type": "stream",
     "text": [
      "100% [............................................................................] 103722 / 103722\n"
     ]
    },
    {
     "name": "stderr",
     "output_type": "stream",
     "text": [
      "[INFO] | 2022/04/18 17:58:32 | Choose scihub url [0]: https://sci-hub.ru\n",
      "[INFO] | 2022/04/18 17:58:33 | <- Request: scihub_url=https://sci-hub.ru, source=DoiSource[type=doi, id=doi.org/10.1086/430982]\n",
      "[INFO] | 2022/04/18 17:58:33 | -> Response: status_code=200, content_length=6816\n",
      "[INFO] | 2022/04/18 17:58:33 | * Extracted information: {'url': 'https://twin.sci-hub.ru/5830/da93595c2a929c3396fd3348b1f27e10/barenboim2005.pdf', 'title': 'Maestro. Critical Inquiry, 31(2), 526–529'}\n",
      "[INFO] | 2022/04/18 17:58:33 | ↓ Successfully download the url to: ./journals/post_colonial/critical_inquiry/Maestro. Critical Inquiry, 31(2), 526–529.pdf\n"
     ]
    },
    {
     "name": "stdout",
     "output_type": "stream",
     "text": [
      "100% [..............................................................................] 36623 / 36623\n"
     ]
    },
    {
     "name": "stderr",
     "output_type": "stream",
     "text": [
      "[INFO] | 2022/04/18 17:58:43 | Choose scihub url [0]: https://sci-hub.ru\n",
      "[INFO] | 2022/04/18 17:58:44 | <- Request: scihub_url=https://sci-hub.ru, source=DoiSource[type=doi, id=doi.org/10.1086/430983]\n",
      "[INFO] | 2022/04/18 17:58:44 | -> Response: status_code=200, content_length=6848\n",
      "[INFO] | 2022/04/18 17:58:44 | * Extracted information: {'url': 'https://twin.sci-hub.ru/5832/dafb2085e98db8c3136321e7d9889992/books-of-critical-interest-2005.pdf', 'title': 'Critical Inquiry, 31(2), 531–538'}\n",
      "[INFO] | 2022/04/18 17:58:44 | ↓ Successfully download the url to: ./journals/post_colonial/critical_inquiry/Critical Inquiry, 31(2), 531–538.pdf\n"
     ]
    },
    {
     "name": "stdout",
     "output_type": "stream",
     "text": [
      "100% [..............................................................................] 53640 / 53640\n"
     ]
    },
    {
     "name": "stderr",
     "output_type": "stream",
     "text": [
      "[INFO] | 2022/04/18 17:58:54 | Choose scihub url [0]: https://sci-hub.ru\n",
      "[INFO] | 2022/04/18 17:58:55 | <- Request: scihub_url=https://sci-hub.ru, source=DoiSource[type=doi, id=doi.org/10.1086/430984]\n",
      "[INFO] | 2022/04/18 17:58:55 | -> Response: status_code=200, content_length=6828\n",
      "[INFO] | 2022/04/18 17:58:55 | * Extracted information: {'url': 'https://moscow.sci-hub.ru/4650/ac0b246890c02b49015c26e83d800c5a/fried2005.pdf', 'title': 'Barthes’s Punctum. Critical Inquiry, 31(3), 539–574'}\n"
     ]
    },
    {
     "name": "stdout",
     "output_type": "stream",
     "text": [
      " 46% [..................................                                        ] 1138688 / 2439303"
     ]
    },
    {
     "name": "stderr",
     "output_type": "stream",
     "text": [
      "[INFO] | 2022/04/18 17:58:56 | ↓ Successfully download the url to: ./journals/post_colonial/critical_inquiry/Barthes’s Punctum. Critical Inquiry, 31(3), 539–574.pdf\n"
     ]
    },
    {
     "name": "stdout",
     "output_type": "stream",
     "text": [
      "100% [..........................................................................] 2439303 / 2439303\n"
     ]
    },
    {
     "name": "stderr",
     "output_type": "stream",
     "text": [
      "[INFO] | 2022/04/18 17:59:06 | Choose scihub url [0]: https://sci-hub.ru\n",
      "[INFO] | 2022/04/18 17:59:06 | <- Request: scihub_url=https://sci-hub.ru, source=DoiSource[type=doi, id=doi.org/10.1086/430985]\n",
      "[INFO] | 2022/04/18 17:59:06 | -> Response: status_code=200, content_length=6921\n",
      "[INFO] | 2022/04/18 17:59:06 | * Extracted information: {'url': 'https://twin.sci-hub.ru/5834/5e4a357e36ff28b9fb02e6ae02b3d5ad/pippin2005.pdf', 'title': 'Authenticity in Painting  Remarks on Michael Fried’s Art History. Critical Inquiry, 31(3), 575–598'}\n",
      "[INFO] | 2022/04/18 17:59:07 | ↓ Successfully download the url to: ./journals/post_colonial/critical_inquiry/Authenticity in Painting  Remarks on Michael Fried’s Art History. Critical Inquiry, 31(3), 575–598.pdf\n"
     ]
    },
    {
     "name": "stdout",
     "output_type": "stream",
     "text": [
      "100% [............................................................................] 139690 / 139690\n"
     ]
    },
    {
     "name": "stderr",
     "output_type": "stream",
     "text": [
      "[INFO] | 2022/04/18 17:59:17 | Choose scihub url [0]: https://sci-hub.ru\n",
      "[INFO] | 2022/04/18 17:59:18 | <- Request: scihub_url=https://sci-hub.ru, source=DoiSource[type=doi, id=doi.org/10.1086/430986]\n",
      "[INFO] | 2022/04/18 17:59:18 | -> Response: status_code=200, content_length=6856\n",
      "[INFO] | 2022/04/18 17:59:18 | * Extracted information: {'url': 'https://zero.sci-hub.ru/4562/cc8a16d636251905a6ece9c589ac4eca/chaouli2005.pdf', 'title': 'How Interactive Can Fiction Be  Critical Inquiry, 31(3), 599–617'}\n",
      "[INFO] | 2022/04/18 17:59:19 | ↓ Successfully download the url to: ./journals/post_colonial/critical_inquiry/How Interactive Can Fiction Be  Critical Inquiry, 31(3), 599–617.pdf\n"
     ]
    },
    {
     "name": "stdout",
     "output_type": "stream",
     "text": [
      "100% [............................................................................] 155578 / 155578\n"
     ]
    },
    {
     "name": "stderr",
     "output_type": "stream",
     "text": [
      "[INFO] | 2022/04/18 17:59:29 | Choose scihub url [0]: https://sci-hub.ru\n",
      "[INFO] | 2022/04/18 17:59:29 | <- Request: scihub_url=https://sci-hub.ru, source=DoiSource[type=doi, id=doi.org/10.1086/430987]\n",
      "[INFO] | 2022/04/18 17:59:29 | -> Response: status_code=200, content_length=6851\n",
      "[INFO] | 2022/04/18 17:59:30 | * Extracted information: {'url': 'https://moscow.sci-hub.ru/3747/a6431608af8a9c725266dfb242238591/andriopoulos2005.pdf', 'title': 'Psychic Television. Critical Inquiry, 31(3), 618–637'}\n"
     ]
    },
    {
     "name": "stdout",
     "output_type": "stream",
     "text": [
      " 19% [..............                                                              ] 122880 / 642362"
     ]
    },
    {
     "name": "stderr",
     "output_type": "stream",
     "text": [
      "[INFO] | 2022/04/18 17:59:31 | ↓ Successfully download the url to: ./journals/post_colonial/critical_inquiry/Psychic Television. Critical Inquiry, 31(3), 618–637.pdf\n"
     ]
    },
    {
     "name": "stdout",
     "output_type": "stream",
     "text": [
      "100% [............................................................................] 642362 / 642362\n"
     ]
    },
    {
     "name": "stderr",
     "output_type": "stream",
     "text": [
      "[INFO] | 2022/04/18 17:59:41 | Choose scihub url [0]: https://sci-hub.ru\n",
      "[INFO] | 2022/04/18 17:59:41 | <- Request: scihub_url=https://sci-hub.ru, source=DoiSource[type=doi, id=doi.org/10.1086/430988]\n",
      "[INFO] | 2022/04/18 17:59:41 | -> Response: status_code=200, content_length=6902\n",
      "[INFO] | 2022/04/18 17:59:41 | * Extracted information: {'url': 'https://twin.sci-hub.ru/5831/0013ed027fd032523e8f011bad970d7c/menke2005.pdf', 'title': 'Media in America, 1881  Garfield, Guiteau, Bell, Whitman. Critical Inquiry, 31(3), 638–664'}\n"
     ]
    },
    {
     "name": "stdout",
     "output_type": "stream",
     "text": [
      " 70% [....................................................                      ] 1720320 / 2434414"
     ]
    },
    {
     "name": "stderr",
     "output_type": "stream",
     "text": [
      "[INFO] | 2022/04/18 17:59:43 | ↓ Successfully download the url to: ./journals/post_colonial/critical_inquiry/Media in America, 1881  Garfield, Guiteau, Bell, Whitman. Critical Inquiry, 31(3), 638–664.pdf\n"
     ]
    },
    {
     "name": "stdout",
     "output_type": "stream",
     "text": [
      "100% [..........................................................................] 2434414 / 2434414\n"
     ]
    },
    {
     "name": "stderr",
     "output_type": "stream",
     "text": [
      "[INFO] | 2022/04/18 17:59:53 | Choose scihub url [0]: https://sci-hub.ru\n",
      "[INFO] | 2022/04/18 17:59:53 | <- Request: scihub_url=https://sci-hub.ru, source=DoiSource[type=doi, id=doi.org/10.1086/430989]\n",
      "[INFO] | 2022/04/18 17:59:53 | -> Response: status_code=200, content_length=6923\n",
      "[INFO] | 2022/04/18 17:59:53 | * Extracted information: {'url': 'https://zero.sci-hub.ru/2247/93e8e788577feca86d33d789090de98b/ginzburg2005.pdf', 'title': 'Latitude, Slaves, and the Bible  An Experiment in Microhistory. Critical Inquiry, 31(3), 665–683'}\n",
      "[INFO] | 2022/04/18 17:59:54 | ↓ Successfully download the url to: ./journals/post_colonial/critical_inquiry/Latitude, Slaves, and the Bible  An Experiment in Microhistory. Critical Inquiry, 31(3), 665–683.pdf\n"
     ]
    },
    {
     "name": "stdout",
     "output_type": "stream",
     "text": [
      "100% [............................................................................] 171829 / 171829\n"
     ]
    },
    {
     "name": "stderr",
     "output_type": "stream",
     "text": [
      "[INFO] | 2022/04/18 18:00:04 | Choose scihub url [0]: https://sci-hub.ru\n",
      "[INFO] | 2022/04/18 18:00:04 | <- Request: scihub_url=https://sci-hub.ru, source=DoiSource[type=doi, id=doi.org/10.1086/430990]\n",
      "[INFO] | 2022/04/18 18:00:04 | -> Response: status_code=200, content_length=6858\n",
      "[INFO] | 2022/04/18 18:00:04 | * Extracted information: {'url': 'https://twin.sci-hub.ru/5832/539d3d50d247fdaa61ccbfb4d00ec00b/kujundzic2005.pdf', 'title': 'Journey with J on the Jour J. Critical Inquiry, 31(3), 684–688'}\n",
      "[INFO] | 2022/04/18 18:00:05 | ↓ Successfully download the url to: ./journals/post_colonial/critical_inquiry/Journey with J on the Jour J. Critical Inquiry, 31(3), 684–688.pdf\n"
     ]
    },
    {
     "name": "stdout",
     "output_type": "stream",
     "text": [
      "100% [..............................................................................] 45428 / 45428\n"
     ]
    },
    {
     "name": "stderr",
     "output_type": "stream",
     "text": [
      "[INFO] | 2022/04/18 18:00:15 | Choose scihub url [0]: https://sci-hub.ru\n",
      "[INFO] | 2022/04/18 18:00:16 | <- Request: scihub_url=https://sci-hub.ru, source=DoiSource[type=doi, id=doi.org/10.1086/430991]\n",
      "[INFO] | 2022/04/18 18:00:16 | -> Response: status_code=200, content_length=6820\n",
      "[INFO] | 2022/04/18 18:00:16 | * Extracted information: {'url': 'https://moscow.sci-hub.ru/2401/3a6882d0df63311e22ac1764916daa56/derrida2005.pdf', 'title': '“Justices.” Critical Inquiry, 31(3), 689–721'}\n"
     ]
    },
    {
     "name": "stdout",
     "output_type": "stream",
     "text": [
      " 90% [....................................................................        ] 188416 / 208000"
     ]
    },
    {
     "name": "stderr",
     "output_type": "stream",
     "text": [
      "[INFO] | 2022/04/18 18:00:17 | ↓ Successfully download the url to: ./journals/post_colonial/critical_inquiry/“Justices.” Critical Inquiry, 31(3), 689–721.pdf\n"
     ]
    },
    {
     "name": "stdout",
     "output_type": "stream",
     "text": [
      "100% [............................................................................] 208000 / 208000\n"
     ]
    },
    {
     "name": "stderr",
     "output_type": "stream",
     "text": [
      "[INFO] | 2022/04/18 18:00:27 | Choose scihub url [0]: https://sci-hub.ru\n",
      "[INFO] | 2022/04/18 18:00:27 | <- Request: scihub_url=https://sci-hub.ru, source=DoiSource[type=doi, id=doi.org/10.1086/430992]\n",
      "[INFO] | 2022/04/18 18:00:27 | -> Response: status_code=200, content_length=6884\n",
      "[INFO] | 2022/04/18 18:00:27 | * Extracted information: {'url': 'https://zero.sci-hub.ru/4650/152dd9b4e4499ef7a9e4ccc220ab7a77/miller2005.pdf', 'title': 'What Is a Kiss  Isabel’s Moments of Decision. Critical Inquiry, 31(3), 722–746'}\n",
      "[INFO] | 2022/04/18 18:00:28 | ↓ Successfully download the url to: ./journals/post_colonial/critical_inquiry/What Is a Kiss  Isabel’s Moments of Decision. Critical Inquiry, 31(3), 722–746.pdf\n"
     ]
    },
    {
     "name": "stdout",
     "output_type": "stream",
     "text": [
      "100% [............................................................................] 177839 / 177839\n"
     ]
    },
    {
     "name": "stderr",
     "output_type": "stream",
     "text": [
      "[INFO] | 2022/04/18 18:00:38 | Choose scihub url [0]: https://sci-hub.ru\n",
      "[INFO] | 2022/04/18 18:00:38 | <- Request: scihub_url=https://sci-hub.ru, source=DoiSource[type=doi, id=doi.org/10.1086/430993]\n",
      "[INFO] | 2022/04/18 18:00:38 | -> Response: status_code=200, content_length=6818\n",
      "[INFO] | 2022/04/18 18:00:38 | * Extracted information: {'url': 'https://twin.sci-hub.ru/5830/d75a272d7a7b9d38e81bdd27848e6138/fried2005.pdf', 'title': 'Editorial Note. Critical Inquiry, 31(3), 747–748'}\n",
      "[INFO] | 2022/04/18 18:00:39 | ↓ Successfully download the url to: ./journals/post_colonial/critical_inquiry/Editorial Note. Critical Inquiry, 31(3), 747–748.pdf\n"
     ]
    },
    {
     "name": "stdout",
     "output_type": "stream",
     "text": [
      "100% [..............................................................................] 20687 / 20687\n"
     ]
    },
    {
     "name": "stderr",
     "output_type": "stream",
     "text": [
      "[INFO] | 2022/04/18 18:00:49 | Choose scihub url [0]: https://sci-hub.ru\n",
      "[INFO] | 2022/04/18 18:00:49 | <- Request: scihub_url=https://sci-hub.ru, source=DoiSource[type=doi, id=doi.org/10.1086/430994]\n",
      "[INFO] | 2022/04/18 18:00:49 | -> Response: status_code=200, content_length=6848\n",
      "[INFO] | 2022/04/18 18:00:49 | * Extracted information: {'url': 'https://twin.sci-hub.ru/5826/45d3a36332aa53efe4ffa04b489f5a56/books-of-critical-interest-2005.pdf', 'title': 'Critical Inquiry, 31(3), 749–754'}\n",
      "[INFO] | 2022/04/18 18:00:50 | ↓ Successfully download the url to: ./journals/post_colonial/critical_inquiry/Critical Inquiry, 31(3), 749–754.pdf\n"
     ]
    },
    {
     "name": "stdout",
     "output_type": "stream",
     "text": [
      "100% [..............................................................................] 45320 / 45320\n"
     ]
    },
    {
     "name": "stderr",
     "output_type": "stream",
     "text": [
      "[INFO] | 2022/04/18 18:01:00 | Choose scihub url [0]: https://sci-hub.ru\n",
      "[INFO] | 2022/04/18 18:01:00 | <- Request: scihub_url=https://sci-hub.ru, source=DoiSource[type=doi, id=doi.org/10.1086/444514]\n",
      "[INFO] | 2022/04/18 18:01:00 | -> Response: status_code=200, content_length=6837\n",
      "[INFO] | 2022/04/18 18:01:00 | * Extracted information: {'url': 'https://twin.sci-hub.ru/5830/9306605b21812f6eb963ad2eb8e717f1/streeter2005.pdf', 'title': 'The Moment of Wired. Critical Inquiry, 31(4), 755–779'}\n",
      "[INFO] | 2022/04/18 18:01:01 | ↓ Successfully download the url to: ./journals/post_colonial/critical_inquiry/The Moment of Wired. Critical Inquiry, 31(4), 755–779.pdf\n"
     ]
    },
    {
     "name": "stdout",
     "output_type": "stream",
     "text": [
      "100% [............................................................................] 145165 / 145165\n"
     ]
    },
    {
     "name": "stderr",
     "output_type": "stream",
     "text": [
      "[INFO] | 2022/04/18 18:01:11 | Choose scihub url [0]: https://sci-hub.ru\n",
      "[INFO] | 2022/04/18 18:01:11 | <- Request: scihub_url=https://sci-hub.ru, source=DoiSource[type=doi, id=doi.org/10.1086/444515]\n",
      "[INFO] | 2022/04/18 18:01:11 | -> Response: status_code=200, content_length=6952\n",
      "[INFO] | 2022/04/18 18:01:11 | * Extracted information: {'url': 'https://moscow.sci-hub.ru/5032/aff11d200414428007aef911641a9943/nemerov2005.pdf', 'title': 'The Flight of Form  Auden, Bruegel, and the Turn to Abstraction in the 1940s. Critical Inquiry, 31(4), 780–810'}\n"
     ]
    },
    {
     "name": "stdout",
     "output_type": "stream",
     "text": [
      " 61% [.............................................                             ] 4464640 / 7246506"
     ]
    },
    {
     "name": "stderr",
     "output_type": "stream",
     "text": [
      "[INFO] | 2022/04/18 18:01:13 | ↓ Successfully download the url to: ./journals/post_colonial/critical_inquiry/The Flight of Form  Auden, Bruegel, and the Turn to Abstraction in the 1940s. Critical Inquiry, 31(4), 780–810.pdf\n"
     ]
    },
    {
     "name": "stdout",
     "output_type": "stream",
     "text": [
      "100% [..........................................................................] 7246506 / 7246506\n"
     ]
    },
    {
     "name": "stderr",
     "output_type": "stream",
     "text": [
      "[INFO] | 2022/04/18 18:01:23 | Choose scihub url [0]: https://sci-hub.ru\n",
      "[INFO] | 2022/04/18 18:01:23 | <- Request: scihub_url=https://sci-hub.ru, source=DoiSource[type=doi, id=doi.org/10.1086/444516]\n",
      "[INFO] | 2022/04/18 18:01:23 | -> Response: status_code=200, content_length=6849\n",
      "[INFO] | 2022/04/18 18:01:23 | * Extracted information: {'url': 'https://zero.sci-hub.ru/1539/766a380b432c5049a781f4b078e7678b/ngai2005.pdf', 'title': 'The Cuteness of the Avant‐Garde. Critical Inquiry, 31(4), 811–847'}\n"
     ]
    },
    {
     "name": "stdout",
     "output_type": "stream",
     "text": [
      " 51% [.....................................                                     ] 1228800 / 2406497"
     ]
    },
    {
     "name": "stderr",
     "output_type": "stream",
     "text": [
      "[INFO] | 2022/04/18 18:01:24 | ↓ Successfully download the url to: ./journals/post_colonial/critical_inquiry/The Cuteness of the Avant‐Garde. Critical Inquiry, 31(4), 811–847.pdf\n"
     ]
    },
    {
     "name": "stdout",
     "output_type": "stream",
     "text": [
      "100% [..........................................................................] 2406497 / 2406497\n"
     ]
    },
    {
     "name": "stderr",
     "output_type": "stream",
     "text": [
      "[INFO] | 2022/04/18 18:01:34 | Choose scihub url [0]: https://sci-hub.ru\n",
      "[INFO] | 2022/04/18 18:01:34 | <- Request: scihub_url=https://sci-hub.ru, source=DoiSource[type=doi, id=doi.org/10.1086/444517]\n",
      "[INFO] | 2022/04/18 18:01:34 | -> Response: status_code=200, content_length=6883\n",
      "[INFO] | 2022/04/18 18:01:34 | * Extracted information: {'url': 'https://twin.sci-hub.ru/5831/595a09de7be2bb879c8229947a4d1dc3/lakoff2005.pdf', 'title': 'The Simulation of Madness  Buenos Aires, 1903. Critical Inquiry, 31(4), 848–873'}\n",
      "[INFO] | 2022/04/18 18:01:35 | ↓ Successfully download the url to: ./journals/post_colonial/critical_inquiry/The Simulation of Madness  Buenos Aires, 1903. Critical Inquiry, 31(4), 848–873.pdf\n"
     ]
    },
    {
     "name": "stdout",
     "output_type": "stream",
     "text": [
      "100% [............................................................................] 150702 / 150702\n"
     ]
    },
    {
     "name": "stderr",
     "output_type": "stream",
     "text": [
      "[INFO] | 2022/04/18 18:01:45 | Choose scihub url [0]: https://sci-hub.ru\n",
      "[INFO] | 2022/04/18 18:01:45 | <- Request: scihub_url=https://sci-hub.ru, source=DoiSource[type=doi, id=doi.org/10.1086/444518]\n",
      "[INFO] | 2022/04/18 18:01:45 | -> Response: status_code=200, content_length=6914\n",
      "[INFO] | 2022/04/18 18:01:45 | * Extracted information: {'url': 'https://zero.sci-hub.ru/2198/5c37c1bdc1b29e73cf27154e7785e721/bajorek2005.pdf', 'title': 'The Offices of Homeland Security, or, Hölderlin’s Terrorism. Critical Inquiry, 31(4), 874–902'}\n",
      "[INFO] | 2022/04/18 18:01:46 | ↓ Successfully download the url to: ./journals/post_colonial/critical_inquiry/The Offices of Homeland Security, or, Hölderlin’s Terrorism. Critical Inquiry, 31(4), 874–902.pdf\n"
     ]
    },
    {
     "name": "stdout",
     "output_type": "stream",
     "text": [
      "100% [............................................................................] 201368 / 201368\n"
     ]
    },
    {
     "name": "stderr",
     "output_type": "stream",
     "text": [
      "[INFO] | 2022/04/18 18:01:56 | Choose scihub url [0]: https://sci-hub.ru\n",
      "[INFO] | 2022/04/18 18:01:57 | <- Request: scihub_url=https://sci-hub.ru, source=DoiSource[type=doi, id=doi.org/10.1086/444519]\n",
      "[INFO] | 2022/04/18 18:01:57 | -> Response: status_code=200, content_length=6910\n",
      "[INFO] | 2022/04/18 18:01:57 | * Extracted information: {'url': 'https://twin.sci-hub.ru/5827/ad77bec2c96780ce9cdcdba271980b17/landecker2005.pdf', 'title': 'Cellular Features  Microcinematography and Film Theory. Critical Inquiry, 31(4), 903–937'}\n"
     ]
    },
    {
     "name": "stdout",
     "output_type": "stream",
     "text": [
      " 17% [.............                                                             ]  188416 / 1055088"
     ]
    },
    {
     "name": "stderr",
     "output_type": "stream",
     "text": [
      "[INFO] | 2022/04/18 18:01:57 | ↓ Successfully download the url to: ./journals/post_colonial/critical_inquiry/Cellular Features  Microcinematography and Film Theory. Critical Inquiry, 31(4), 903–937.pdf\n"
     ]
    },
    {
     "name": "stdout",
     "output_type": "stream",
     "text": [
      "100% [..........................................................................] 1055088 / 1055088\n"
     ]
    },
    {
     "name": "stderr",
     "output_type": "stream",
     "text": [
      "[INFO] | 2022/04/18 18:02:07 | Choose scihub url [0]: https://sci-hub.ru\n",
      "[INFO] | 2022/04/18 18:02:08 | <- Request: scihub_url=https://sci-hub.ru, source=DoiSource[type=doi, id=doi.org/10.1086/444520]\n",
      "[INFO] | 2022/04/18 18:02:08 | -> Response: status_code=200, content_length=6952\n",
      "[INFO] | 2022/04/18 18:02:08 | * Extracted information: {'url': 'https://zero.sci-hub.ru/4923/897201f3cb0f544ae9e39ba458d3b793/ekins2005.pdf', 'title': 'Critical Response  What Do We Want Photography to Be  A Response to Michael Fried. Critical Inquiry, 31(4), 938–956'}\n"
     ]
    },
    {
     "name": "stdout",
     "output_type": "stream",
     "text": [
      " 15% [...........                                                               ]  188416 / 1237267"
     ]
    },
    {
     "name": "stderr",
     "output_type": "stream",
     "text": [
      "[INFO] | 2022/04/18 18:02:09 | ↓ Successfully download the url to: ./journals/post_colonial/critical_inquiry/Critical Response  What Do We Want Photography to Be  A Response to Michael Fried. Critical Inquiry, 31(4), 938–956.pdf\n"
     ]
    },
    {
     "name": "stdout",
     "output_type": "stream",
     "text": [
      "100% [..........................................................................] 1237267 / 1237267\n"
     ]
    },
    {
     "name": "stderr",
     "output_type": "stream",
     "text": [
      "[INFO] | 2022/04/18 18:02:19 | Choose scihub url [0]: https://sci-hub.ru\n",
      "[INFO] | 2022/04/18 18:02:19 | <- Request: scihub_url=https://sci-hub.ru, source=DoiSource[type=doi, id=doi.org/10.1086/444521]\n",
      "[INFO] | 2022/04/18 18:02:19 | -> Response: status_code=200, content_length=6848\n",
      "[INFO] | 2022/04/18 18:02:19 | * Extracted information: {'url': 'https://twin.sci-hub.ru/5831/2c436af9d00ca611c0dd8e5e17f5bcbe/books-of-critical-interest-2005.pdf', 'title': 'Critical Inquiry, 31(4), 957–958'}\n",
      "[INFO] | 2022/04/18 18:02:20 | ↓ Successfully download the url to: ./journals/post_colonial/critical_inquiry/Critical Inquiry, 31(4), 957–958.pdf\n"
     ]
    },
    {
     "name": "stdout",
     "output_type": "stream",
     "text": [
      "100% [..............................................................................] 24525 / 24525\n"
     ]
    },
    {
     "name": "stderr",
     "output_type": "stream",
     "text": [
      "[INFO] | 2022/04/18 18:02:30 | Choose scihub url [0]: https://sci-hub.ru\n",
      "[INFO] | 2022/04/18 18:02:30 | <- Request: scihub_url=https://sci-hub.ru, source=DoiSource[type=doi, id=doi.org/10.1086/447774]\n",
      "[INFO] | 2022/04/18 18:02:30 | -> Response: status_code=200, content_length=6845\n",
      "[INFO] | 2022/04/18 18:02:30 | * Extracted information: {'url': 'https://twin.sci-hub.ru/6036/820ce2dfeeaff3c7aaff1e433517c142/booth1974.pdf', 'title': 'Kenneth Burke’s Way of Knowing. Critical Inquiry, 1(1), 1–22'}\n"
     ]
    },
    {
     "name": "stdout",
     "output_type": "stream",
     "text": [
      " 32% [........................                                                  ]  778240 / 2360098"
     ]
    },
    {
     "name": "stderr",
     "output_type": "stream",
     "text": [
      "[INFO] | 2022/04/18 18:02:32 | ↓ Successfully download the url to: ./journals/post_colonial/critical_inquiry/Kenneth Burke’s Way of Knowing. Critical Inquiry, 1(1), 1–22.pdf\n"
     ]
    },
    {
     "name": "stdout",
     "output_type": "stream",
     "text": [
      "100% [..........................................................................] 2360098 / 2360098\n"
     ]
    },
    {
     "name": "stderr",
     "output_type": "stream",
     "text": [
      "[INFO] | 2022/04/18 18:02:42 | Choose scihub url [0]: https://sci-hub.ru\n",
      "[INFO] | 2022/04/18 18:02:42 | <- Request: scihub_url=https://sci-hub.ru, source=DoiSource[type=doi, id=doi.org/10.1086/447776]\n",
      "[INFO] | 2022/04/18 18:02:42 | -> Response: status_code=200, content_length=6815\n",
      "[INFO] | 2022/04/18 18:02:42 | * Extracted information: {'url': 'https://twin.sci-hub.ru/6000/b1980e96dbbf357391d089760f5b2313/bell1974.pdf', 'title': 'Art and the Elite. Critical Inquiry, 1(1), 33–46'}\n"
     ]
    },
    {
     "name": "stdout",
     "output_type": "stream",
     "text": [
      " 63% [...............................................                           ] 1138688 / 1790565"
     ]
    },
    {
     "name": "stderr",
     "output_type": "stream",
     "text": [
      "[INFO] | 2022/04/18 18:02:43 | ↓ Successfully download the url to: ./journals/post_colonial/critical_inquiry/Art and the Elite. Critical Inquiry, 1(1), 33–46.pdf\n"
     ]
    },
    {
     "name": "stdout",
     "output_type": "stream",
     "text": [
      "100% [..........................................................................] 1790565 / 1790565\n"
     ]
    },
    {
     "name": "stderr",
     "output_type": "stream",
     "text": [
      "[INFO] | 2022/04/18 18:02:53 | Choose scihub url [0]: https://sci-hub.ru\n",
      "[INFO] | 2022/04/18 18:02:53 | <- Request: scihub_url=https://sci-hub.ru, source=DoiSource[type=doi, id=doi.org/10.1086/447779]\n",
      "[INFO] | 2022/04/18 18:02:53 | -> Response: status_code=200, content_length=6834\n",
      "[INFO] | 2022/04/18 18:02:53 | * Extracted information: {'url': 'https://twin.sci-hub.ru/6035/32c5e5cd9bd1db46d18305d558d7ff04/taylor1974.pdf', 'title': 'Two Visual Excursions. Critical Inquiry, 1(1), 91–102'}\n"
     ]
    },
    {
     "name": "stdout",
     "output_type": "stream",
     "text": [
      " 12% [........                                                                  ]  188416 / 1559318"
     ]
    },
    {
     "name": "stderr",
     "output_type": "stream",
     "text": [
      "[INFO] | 2022/04/18 18:02:54 | ↓ Successfully download the url to: ./journals/post_colonial/critical_inquiry/Two Visual Excursions. Critical Inquiry, 1(1), 91–102.pdf\n"
     ]
    },
    {
     "name": "stdout",
     "output_type": "stream",
     "text": [
      "100% [..........................................................................] 1559318 / 1559318\n"
     ]
    },
    {
     "name": "stderr",
     "output_type": "stream",
     "text": [
      "[INFO] | 2022/04/18 18:03:04 | Choose scihub url [0]: https://sci-hub.ru\n",
      "[INFO] | 2022/04/18 18:03:05 | <- Request: scihub_url=https://sci-hub.ru, source=DoiSource[type=doi, id=doi.org/10.1086/447780]\n",
      "[INFO] | 2022/04/18 18:03:05 | -> Response: status_code=200, content_length=6860\n",
      "[INFO] | 2022/04/18 18:03:05 | * Extracted information: {'url': 'https://twin.sci-hub.ru/5851/3e6d4d0fae9304a762d658647fadc3d9/kermode1974.pdf', 'title': 'Novels  Recognition and Deception. Critical Inquiry, 1(1), 103–121'}\n"
     ]
    },
    {
     "name": "stdout",
     "output_type": "stream",
     "text": [
      " 55% [.........................................                                 ] 1146880 / 2054738"
     ]
    },
    {
     "name": "stderr",
     "output_type": "stream",
     "text": [
      "[INFO] | 2022/04/18 18:03:06 | ↓ Successfully download the url to: ./journals/post_colonial/critical_inquiry/Novels  Recognition and Deception. Critical Inquiry, 1(1), 103–121.pdf\n"
     ]
    },
    {
     "name": "stdout",
     "output_type": "stream",
     "text": [
      "100% [..........................................................................] 2054738 / 2054738\n"
     ]
    },
    {
     "name": "stderr",
     "output_type": "stream",
     "text": [
      "[INFO] | 2022/04/18 18:03:16 | Choose scihub url [0]: https://sci-hub.ru\n",
      "[INFO] | 2022/04/18 18:03:16 | <- Request: scihub_url=https://sci-hub.ru, source=DoiSource[type=doi, id=doi.org/10.1086/447781]\n",
      "[INFO] | 2022/04/18 18:03:16 | -> Response: status_code=200, content_length=6902\n",
      "[INFO] | 2022/04/18 18:03:16 | * Extracted information: {'url': 'https://twin.sci-hub.ru/5856/293e381884225e86290b8e2f47a95a11/philipson1974.pdf', 'title': '“Mrs. Dalloway,” “What’s the Sense of Your Parties ” Critical Inquiry, 1(1), 123–148'}\n"
     ]
    },
    {
     "name": "stdout",
     "output_type": "stream",
     "text": [
      " 93% [.....................................................................     ] 2572288 / 2739184"
     ]
    },
    {
     "name": "stderr",
     "output_type": "stream",
     "text": [
      "[INFO] | 2022/04/18 18:03:18 | ↓ Successfully download the url to: ./journals/post_colonial/critical_inquiry/“Mrs. Dalloway,” “What’s the Sense of Your Parties ” Critical Inquiry, 1(1), 123–148.pdf\n"
     ]
    },
    {
     "name": "stdout",
     "output_type": "stream",
     "text": [
      "100% [..........................................................................] 2739184 / 2739184\n"
     ]
    },
    {
     "name": "stderr",
     "output_type": "stream",
     "text": [
      "[INFO] | 2022/04/18 18:03:28 | Choose scihub url [0]: https://sci-hub.ru\n",
      "[INFO] | 2022/04/18 18:03:28 | <- Request: scihub_url=https://sci-hub.ru, source=DoiSource[type=doi, id=doi.org/10.1086/447782]\n",
      "[INFO] | 2022/04/18 18:03:28 | -> Response: status_code=200, content_length=6850\n",
      "[INFO] | 2022/04/18 18:03:28 | * Extracted information: {'url': 'https://twin.sci-hub.ru/5861/0da7fe362084cbd437205daae32da297/arnheim1974.pdf', 'title': 'On the Nature of Photography. Critical Inquiry, 1(1), 149–161'}\n"
     ]
    },
    {
     "name": "stdout",
     "output_type": "stream",
     "text": [
      " 83% [..............................................................            ] 1212416 / 1445267"
     ]
    },
    {
     "name": "stderr",
     "output_type": "stream",
     "text": [
      "[INFO] | 2022/04/18 18:03:29 | ↓ Successfully download the url to: ./journals/post_colonial/critical_inquiry/On the Nature of Photography. Critical Inquiry, 1(1), 149–161.pdf\n"
     ]
    },
    {
     "name": "stdout",
     "output_type": "stream",
     "text": [
      "100% [..........................................................................] 1445267 / 1445267\n"
     ]
    },
    {
     "name": "stderr",
     "output_type": "stream",
     "text": [
      "[INFO] | 2022/04/18 18:03:39 | Choose scihub url [0]: https://sci-hub.ru\n",
      "[INFO] | 2022/04/18 18:03:40 | <- Request: scihub_url=https://sci-hub.ru, source=DoiSource[type=doi, id=doi.org/10.1086/447783]\n",
      "[INFO] | 2022/04/18 18:03:40 | -> Response: status_code=200, content_length=6897\n",
      "[INFO] | 2022/04/18 18:03:40 | * Extracted information: {'url': 'https://twin.sci-hub.ru/6464/31abf8edeece22bfa43bf5e4ef82d041/meyer1974.pdf', 'title': 'Concerning the Sciences, the Arts  And the Humanities. Critical Inquiry, 1(1), 163–217'}\n"
     ]
    },
    {
     "name": "stdout",
     "output_type": "stream",
     "text": [
      " 71% [....................................................                      ] 4251648 / 5968411"
     ]
    },
    {
     "name": "stderr",
     "output_type": "stream",
     "text": [
      "[INFO] | 2022/04/18 18:03:41 | ↓ Successfully download the url to: ./journals/post_colonial/critical_inquiry/Concerning the Sciences, the Arts  And the Humanities. Critical Inquiry, 1(1), 163–217.pdf\n"
     ]
    },
    {
     "name": "stdout",
     "output_type": "stream",
     "text": [
      "100% [..........................................................................] 5968411 / 5968411\n"
     ]
    },
    {
     "name": "stderr",
     "output_type": "stream",
     "text": [
      "[INFO] | 2022/04/18 18:03:51 | Choose scihub url [0]: https://sci-hub.ru\n",
      "[INFO] | 2022/04/18 18:03:52 | <- Request: scihub_url=https://sci-hub.ru, source=DoiSource[type=doi, id=doi.org/10.1086/447784]\n",
      "[INFO] | 2022/04/18 18:03:52 | -> Response: status_code=200, content_length=6839\n",
      "[INFO] | 2022/04/18 18:03:52 | * Extracted information: {'url': 'https://sci-hub.ru/downloads/2019-03-21/db/welty1974.pdf', 'title': 'Is Phoenix Jackson’s Grandson Really Dead  Critical Inquiry, 1(1), 219–221'}\n"
     ]
    },
    {
     "name": "stdout",
     "output_type": "stream",
     "text": [
      " 60% [..............................................                              ] 172032 / 282738"
     ]
    },
    {
     "name": "stderr",
     "output_type": "stream",
     "text": [
      "[INFO] | 2022/04/18 18:03:52 | ↓ Successfully download the url to: ./journals/post_colonial/critical_inquiry/Is Phoenix Jackson’s Grandson Really Dead  Critical Inquiry, 1(1), 219–221.pdf\n"
     ]
    },
    {
     "name": "stdout",
     "output_type": "stream",
     "text": [
      "100% [............................................................................] 282738 / 282738\n"
     ]
    },
    {
     "name": "stderr",
     "output_type": "stream",
     "text": [
      "[INFO] | 2022/04/18 18:04:02 | Choose scihub url [0]: https://sci-hub.ru\n",
      "[INFO] | 2022/04/18 18:04:03 | <- Request: scihub_url=https://sci-hub.ru, source=DoiSource[type=doi, id=doi.org/10.1086/447785]\n",
      "[INFO] | 2022/04/18 18:04:03 | -> Response: status_code=200, content_length=6810\n",
      "[INFO] | 2022/04/18 18:04:03 | * Extracted information: {'url': 'https://twin.sci-hub.ru/6025/ba009a0c6d7f3c61252bec1311bc9ea5/welty1974.pdf', 'title': 'A Worn Path. Critical Inquiry, 1(1), 222–228'}\n"
     ]
    },
    {
     "name": "stdout",
     "output_type": "stream",
     "text": [
      " 51% [......................................                                      ] 352256 / 688395"
     ]
    },
    {
     "name": "stderr",
     "output_type": "stream",
     "text": [
      "[INFO] | 2022/04/18 18:04:03 | ↓ Successfully download the url to: ./journals/post_colonial/critical_inquiry/A Worn Path. Critical Inquiry, 1(1), 222–228.pdf\n"
     ]
    },
    {
     "name": "stdout",
     "output_type": "stream",
     "text": [
      "100% [............................................................................] 688395 / 688395\n"
     ]
    },
    {
     "name": "stderr",
     "output_type": "stream",
     "text": [
      "[INFO] | 2022/04/18 18:04:13 | Choose scihub url [0]: https://sci-hub.ru\n",
      "[INFO] | 2022/04/18 18:04:14 | <- Request: scihub_url=https://sci-hub.ru, source=DoiSource[type=doi, id=doi.org/10.1086/447787]\n",
      "[INFO] | 2022/04/18 18:04:14 | -> Response: status_code=200, content_length=6867\n",
      "[INFO] | 2022/04/18 18:04:14 | * Extracted information: {'url': 'https://twin.sci-hub.ru/5835/586563463e1b1c3cec8d24e300e1d9a0/rader1974.pdf', 'title': 'Fact, Theory, and Literary Explanation. Critical Inquiry, 1(2), 245–272'}\n"
     ]
    },
    {
     "name": "stdout",
     "output_type": "stream",
     "text": [
      " 35% [..........................                                                ] 1163264 / 3250746"
     ]
    },
    {
     "name": "stderr",
     "output_type": "stream",
     "text": [
      "[INFO] | 2022/04/18 18:04:15 | ↓ Successfully download the url to: ./journals/post_colonial/critical_inquiry/Fact, Theory, and Literary Explanation. Critical Inquiry, 1(2), 245–272.pdf\n"
     ]
    },
    {
     "name": "stdout",
     "output_type": "stream",
     "text": [
      "100% [..........................................................................] 3250746 / 3250746\n"
     ]
    },
    {
     "name": "stderr",
     "output_type": "stream",
     "text": [
      "[INFO] | 2022/04/18 18:04:25 | Choose scihub url [0]: https://sci-hub.ru\n",
      "[INFO] | 2022/04/18 18:04:25 | <- Request: scihub_url=https://sci-hub.ru, source=DoiSource[type=doi, id=doi.org/10.1086/447798]\n",
      "[INFO] | 2022/04/18 18:04:25 | -> Response: status_code=200, content_length=6828\n",
      "[INFO] | 2022/04/18 18:04:25 | * Extracted information: {'url': 'https://sci-hub.ru/downloads/2020-06-29//07/bell1975.pdf', 'title': 'The Art Critic and the Art Historian. Critical Inquiry, 1(3), 497–519'}\n"
     ]
    },
    {
     "name": "stdout",
     "output_type": "stream",
     "text": [
      " 58% [...........................................                               ] 1695744 / 2882543"
     ]
    },
    {
     "name": "stderr",
     "output_type": "stream",
     "text": [
      "[INFO] | 2022/04/18 18:04:26 | ↓ Successfully download the url to: ./journals/post_colonial/critical_inquiry/The Art Critic and the Art Historian. Critical Inquiry, 1(3), 497–519.pdf\n"
     ]
    },
    {
     "name": "stdout",
     "output_type": "stream",
     "text": [
      "100% [..........................................................................] 2882543 / 2882543\n"
     ]
    },
    {
     "name": "stderr",
     "output_type": "stream",
     "text": [
      "[INFO] | 2022/04/18 18:04:36 | Choose scihub url [0]: https://sci-hub.ru\n",
      "[INFO] | 2022/04/18 18:04:37 | <- Request: scihub_url=https://sci-hub.ru, source=DoiSource[type=doi, id=doi.org/10.1086/447799]\n",
      "[INFO] | 2022/04/18 18:04:37 | -> Response: status_code=200, content_length=6887\n",
      "[INFO] | 2022/04/18 18:04:37 | * Extracted information: {'url': 'https://twin.sci-hub.ru/5868/1c3a5ddc4cce969c6b9a4ac25e1e7065/cawelti1975.pdf', 'title': 'Myths of Violence in American Popular Culture. Critical Inquiry, 1(3), 521–541'}\n"
     ]
    },
    {
     "name": "stdout",
     "output_type": "stream",
     "text": [
      " 95% [......................................................................    ] 2301952 / 2406602"
     ]
    },
    {
     "name": "stderr",
     "output_type": "stream",
     "text": [
      "[INFO] | 2022/04/18 18:04:39 | ↓ Successfully download the url to: ./journals/post_colonial/critical_inquiry/Myths of Violence in American Popular Culture. Critical Inquiry, 1(3), 521–541.pdf\n"
     ]
    },
    {
     "name": "stdout",
     "output_type": "stream",
     "text": [
      "100% [..........................................................................] 2406602 / 2406602\n"
     ]
    },
    {
     "name": "stderr",
     "output_type": "stream",
     "text": [
      "[INFO] | 2022/04/18 18:04:49 | Choose scihub url [0]: https://sci-hub.ru\n",
      "[INFO] | 2022/04/18 18:04:49 | <- Request: scihub_url=https://sci-hub.ru, source=DoiSource[type=doi, id=doi.org/10.1086/447800]\n",
      "[INFO] | 2022/04/18 18:04:49 | -> Response: status_code=200, content_length=6821\n",
      "[INFO] | 2022/04/18 18:04:49 | * Extracted information: {'url': 'https://sci-hub.ru/downloads/2020-05-14/a3/crews1975.pdf', 'title': 'Reductionism and Its Discontents. Critical Inquiry, 1(3), 543–558'}\n"
     ]
    },
    {
     "name": "stdout",
     "output_type": "stream",
     "text": [
      " 58% [............................................                                ] 188416 / 321880"
     ]
    },
    {
     "name": "stderr",
     "output_type": "stream",
     "text": [
      "[INFO] | 2022/04/18 18:04:50 | ↓ Successfully download the url to: ./journals/post_colonial/critical_inquiry/Reductionism and Its Discontents. Critical Inquiry, 1(3), 543–558.pdf\n"
     ]
    },
    {
     "name": "stdout",
     "output_type": "stream",
     "text": [
      "100% [............................................................................] 321880 / 321880\n"
     ]
    },
    {
     "name": "stderr",
     "output_type": "stream",
     "text": [
      "[INFO] | 2022/04/18 18:05:00 | Choose scihub url [0]: https://sci-hub.ru\n",
      "[INFO] | 2022/04/18 18:05:00 | <- Request: scihub_url=https://sci-hub.ru, source=DoiSource[type=doi, id=doi.org/10.1086/447801]\n",
      "[INFO] | 2022/04/18 18:05:00 | -> Response: status_code=200, content_length=6853\n",
      "[INFO] | 2022/04/18 18:05:00 | * Extracted information: {'url': 'https://twin.sci-hub.ru/6757/974e375f360801f61f5ee3e1c2e68f57/10.1086@447801.pdf', 'title': 'Stylistics and Synonymity. Critical Inquiry, 1(3), 559–579'}\n"
     ]
    },
    {
     "name": "stdout",
     "output_type": "stream",
     "text": [
      " 97% [.......................................................................   ] 2383872 / 2454758"
     ]
    },
    {
     "name": "stderr",
     "output_type": "stream",
     "text": [
      "[INFO] | 2022/04/18 18:05:02 | ↓ Successfully download the url to: ./journals/post_colonial/critical_inquiry/Stylistics and Synonymity. Critical Inquiry, 1(3), 559–579.pdf\n"
     ]
    },
    {
     "name": "stdout",
     "output_type": "stream",
     "text": [
      "100% [..........................................................................] 2454758 / 2454758\n"
     ]
    },
    {
     "name": "stderr",
     "output_type": "stream",
     "text": [
      "[INFO] | 2022/04/18 18:05:12 | Choose scihub url [0]: https://sci-hub.ru\n",
      "[INFO] | 2022/04/18 18:05:12 | <- Request: scihub_url=https://sci-hub.ru, source=DoiSource[type=doi, id=doi.org/10.1086/447803]\n",
      "[INFO] | 2022/04/18 18:05:12 | -> Response: status_code=200, content_length=6914\n",
      "[INFO] | 2022/04/18 18:05:12 | * Extracted information: {'url': 'https://twin.sci-hub.ru/5849/6df403285af21b09fb493f326dcf7592/price1975.pdf', 'title': 'People of the Book  Character in Forster’s “A Passage to India.” Critical Inquiry, 1(3), 605–622'}\n"
     ]
    },
    {
     "name": "stdout",
     "output_type": "stream",
     "text": [
      " 93% [.....................................................................     ] 1826816 / 1956004"
     ]
    },
    {
     "name": "stderr",
     "output_type": "stream",
     "text": [
      "[INFO] | 2022/04/18 18:05:14 | ↓ Successfully download the url to: ./journals/post_colonial/critical_inquiry/People of the Book  Character in Forster’s “A Passage to India.” Critical Inquiry, 1(3), 605–622.pdf\n"
     ]
    },
    {
     "name": "stdout",
     "output_type": "stream",
     "text": [
      "100% [..........................................................................] 1956004 / 1956004\n"
     ]
    },
    {
     "name": "stderr",
     "output_type": "stream",
     "text": [
      "[INFO] | 2022/04/18 18:05:24 | Choose scihub url [0]: https://sci-hub.ru\n",
      "[INFO] | 2022/04/18 18:05:24 | <- Request: scihub_url=https://sci-hub.ru, source=DoiSource[type=doi, id=doi.org/10.1086/447805]\n",
      "[INFO] | 2022/04/18 18:05:24 | -> Response: status_code=200, content_length=6946\n",
      "[INFO] | 2022/04/18 18:05:24 | * Extracted information: {'url': 'https://twin.sci-hub.ru/6031/63bd565c032a72f867eea5ff6454998e/ionesco1975.pdf', 'title': 'Ionesco and the Critics  Eugène Ionesco Interviewed by Gabriel Jacobs. Critical Inquiry, 1(3), 641–667'}\n"
     ]
    },
    {
     "name": "stdout",
     "output_type": "stream",
     "text": [
      " 63% [..............................................                            ] 1744896 / 2750255"
     ]
    },
    {
     "name": "stderr",
     "output_type": "stream",
     "text": [
      "[INFO] | 2022/04/18 18:05:25 | ↓ Successfully download the url to: ./journals/post_colonial/critical_inquiry/Ionesco and the Critics  Eugène Ionesco Interviewed by Gabriel Jacobs. Critical Inquiry, 1(3), 641–667.pdf\n"
     ]
    },
    {
     "name": "stdout",
     "output_type": "stream",
     "text": [
      "100% [..........................................................................] 2750255 / 2750255\n"
     ]
    },
    {
     "name": "stderr",
     "output_type": "stream",
     "text": [
      "[INFO] | 2022/04/18 18:05:35 | Choose scihub url [0]: https://sci-hub.ru\n",
      "[INFO] | 2022/04/18 18:05:36 | <- Request: scihub_url=https://sci-hub.ru, source=DoiSource[type=doi, id=doi.org/10.1086/447806]\n",
      "[INFO] | 2022/04/18 18:05:36 | -> Response: status_code=200, content_length=6836\n",
      "[INFO] | 2022/04/18 18:05:36 | * Extracted information: {'url': 'https://twin.sci-hub.ru/5851/b044ab2b51841946fc8880a0eed4377e/litz1975.pdf', 'title': 'Recollecting Jane Austen. Critical Inquiry, 1(3), 669–682'}\n"
     ]
    },
    {
     "name": "stdout",
     "output_type": "stream",
     "text": [
      " 54% [........................................                                  ]  892928 / 1649736"
     ]
    },
    {
     "name": "stderr",
     "output_type": "stream",
     "text": [
      "[INFO] | 2022/04/18 18:05:37 | ↓ Successfully download the url to: ./journals/post_colonial/critical_inquiry/Recollecting Jane Austen. Critical Inquiry, 1(3), 669–682.pdf\n"
     ]
    },
    {
     "name": "stdout",
     "output_type": "stream",
     "text": [
      "100% [..........................................................................] 1649736 / 1649736\n"
     ]
    },
    {
     "name": "stderr",
     "output_type": "stream",
     "text": [
      "[INFO] | 2022/04/18 18:05:47 | Choose scihub url [0]: https://sci-hub.ru\n",
      "[INFO] | 2022/04/18 18:05:47 | <- Request: scihub_url=https://sci-hub.ru, source=DoiSource[type=doi, id=doi.org/10.1086/447807]\n",
      "[INFO] | 2022/04/18 18:05:47 | -> Response: status_code=200, content_length=6901\n",
      "[INFO] | 2022/04/18 18:05:47 | * Extracted information: {'url': 'https://twin.sci-hub.ru/5855/2d3779dcf5661c850e7badaebea7bb0d/stent1975.pdf', 'title': 'On Art and Science  A Reply to Leonard B. Meyer. Critical Inquiry, 1(3), 683–698'}\n"
     ]
    },
    {
     "name": "stdout",
     "output_type": "stream",
     "text": [
      " 61% [.............................................                             ] 1204224 / 1952562"
     ]
    },
    {
     "name": "stderr",
     "output_type": "stream",
     "text": [
      "[INFO] | 2022/04/18 18:05:48 | ↓ Successfully download the url to: ./journals/post_colonial/critical_inquiry/On Art and Science  A Reply to Leonard B. Meyer. Critical Inquiry, 1(3), 683–698.pdf\n"
     ]
    },
    {
     "name": "stdout",
     "output_type": "stream",
     "text": [
      "100% [..........................................................................] 1952562 / 1952562\n"
     ]
    },
    {
     "name": "stderr",
     "output_type": "stream",
     "text": [
      "[INFO] | 2022/04/18 18:05:58 | Choose scihub url [0]: https://sci-hub.ru\n",
      "[INFO] | 2022/04/18 18:05:59 | <- Request: scihub_url=https://sci-hub.ru, source=DoiSource[type=doi, id=doi.org/10.1086/447808]\n",
      "[INFO] | 2022/04/18 18:05:59 | -> Response: status_code=200, content_length=6844\n",
      "[INFO] | 2022/04/18 18:05:59 | * Extracted information: {'url': 'https://twin.sci-hub.ru/5955/2ac92e4c988789f986dd28f6534326bb/kermode1975.pdf', 'title': 'A Reply to Denis Donoghue. Critical Inquiry, 1(3), 699–704'}\n"
     ]
    },
    {
     "name": "stdout",
     "output_type": "stream",
     "text": [
      " 80% [.............................................................               ] 499712 / 617498"
     ]
    },
    {
     "name": "stderr",
     "output_type": "stream",
     "text": [
      "[INFO] | 2022/04/18 18:06:00 | ↓ Successfully download the url to: ./journals/post_colonial/critical_inquiry/A Reply to Denis Donoghue. Critical Inquiry, 1(3), 699–704.pdf\n"
     ]
    },
    {
     "name": "stdout",
     "output_type": "stream",
     "text": [
      "100% [............................................................................] 617498 / 617498\n"
     ]
    },
    {
     "name": "stderr",
     "output_type": "stream",
     "text": [
      "[INFO] | 2022/04/18 18:06:10 | Choose scihub url [0]: https://sci-hub.ru\n",
      "[INFO] | 2022/04/18 18:06:10 | <- Request: scihub_url=https://sci-hub.ru, source=DoiSource[type=doi, id=doi.org/10.1086/447814]\n",
      "[INFO] | 2022/04/18 18:06:10 | -> Response: status_code=200, content_length=6855\n",
      "[INFO] | 2022/04/18 18:06:10 | * Extracted information: {'url': 'https://twin.sci-hub.ru/6244/b327a32d7dd5deb6a73baf007a3cc78a/kubler1975.pdf', 'title': 'History  Or Anthropology  Of Art  Critical Inquiry, 1(4), 757–767'}\n"
     ]
    },
    {
     "name": "stdout",
     "output_type": "stream",
     "text": [
      " 99% [......................................................................... ] 1212416 / 1215985"
     ]
    },
    {
     "name": "stderr",
     "output_type": "stream",
     "text": [
      "[INFO] | 2022/04/18 18:06:11 | ↓ Successfully download the url to: ./journals/post_colonial/critical_inquiry/History  Or Anthropology  Of Art  Critical Inquiry, 1(4), 757–767.pdf\n"
     ]
    },
    {
     "name": "stdout",
     "output_type": "stream",
     "text": [
      "100% [..........................................................................] 1215985 / 1215985\n"
     ]
    },
    {
     "name": "stderr",
     "output_type": "stream",
     "text": [
      "[INFO] | 2022/04/18 18:06:21 | Choose scihub url [0]: https://sci-hub.ru\n",
      "[INFO] | 2022/04/18 18:06:22 | <- Request: scihub_url=https://sci-hub.ru, source=DoiSource[type=doi, id=doi.org/10.1086/447816]\n",
      "[INFO] | 2022/04/18 18:06:22 | -> Response: status_code=200, content_length=6786\n",
      "[INFO] | 2022/04/18 18:06:22 | * Extracted information: {'url': 'https://sci-hub.ru/tree/7a/2b/7a2b8d2a7a165a536c2657721fb6f99b.pdf', 'title': 'The Status of Style. Critical Inquiry, 1(4), 799–811'}\n"
     ]
    },
    {
     "name": "stdout",
     "output_type": "stream",
     "text": [
      " 97% [........................................................................  ] 1417216 / 1455946"
     ]
    },
    {
     "name": "stderr",
     "output_type": "stream",
     "text": [
      "[INFO] | 2022/04/18 18:06:23 | ↓ Successfully download the url to: ./journals/post_colonial/critical_inquiry/The Status of Style. Critical Inquiry, 1(4), 799–811.pdf\n"
     ]
    },
    {
     "name": "stdout",
     "output_type": "stream",
     "text": [
      "100% [..........................................................................] 1455946 / 1455946\n"
     ]
    },
    {
     "name": "stderr",
     "output_type": "stream",
     "text": [
      "[INFO] | 2022/04/18 18:06:33 | Choose scihub url [0]: https://sci-hub.ru\n",
      "[INFO] | 2022/04/18 18:06:33 | <- Request: scihub_url=https://sci-hub.ru, source=DoiSource[type=doi, id=doi.org/10.1086/447818]\n",
      "[INFO] | 2022/04/18 18:06:33 | -> Response: status_code=200, content_length=6635\n",
      "[INFO] | 2022/04/18 18:06:33 | * Extracted information: {'url': 'https://sci-hub.ru/tree/21/9c/219c5acb7fbb5e0f83a238694528163f.pdf', 'title': ''}\n"
     ]
    },
    {
     "name": "stdout",
     "output_type": "stream",
     "text": [
      " 45% [.................................                                         ] 1540096 / 3385870"
     ]
    },
    {
     "name": "stderr",
     "output_type": "stream",
     "text": [
      "[INFO] | 2022/04/18 18:06:34 | ↓ Successfully download the url to: ./journals/post_colonial/critical_inquiry/.pdf\n"
     ]
    },
    {
     "name": "stdout",
     "output_type": "stream",
     "text": [
      "100% [..........................................................................] 3385870 / 3385870\n"
     ]
    },
    {
     "name": "stderr",
     "output_type": "stream",
     "text": [
      "[INFO] | 2022/04/18 18:06:44 | Choose scihub url [0]: https://sci-hub.ru\n",
      "[INFO] | 2022/04/18 18:06:44 | <- Request: scihub_url=https://sci-hub.ru, source=DoiSource[type=doi, id=doi.org/10.1086/447819]\n",
      "[INFO] | 2022/04/18 18:06:44 | -> Response: status_code=200, content_length=6905\n",
      "[INFO] | 2022/04/18 18:06:44 | * Extracted information: {'url': 'https://twin.sci-hub.ru/5862/ed372e3375656c6156e5a5a3eb2bb4dd/alkon1975.pdf', 'title': 'Visual Rhetoric in “The Autobiography of Alice B. Toklas.” Critical Inquiry, 1(4), 849–881'}\n"
     ]
    },
    {
     "name": "stdout",
     "output_type": "stream",
     "text": [
      " 91% [...................................................................       ] 3833856 / 4210480"
     ]
    },
    {
     "name": "stderr",
     "output_type": "stream",
     "text": [
      "[INFO] | 2022/04/18 18:06:46 | ↓ Successfully download the url to: ./journals/post_colonial/critical_inquiry/Visual Rhetoric in “The Autobiography of Alice B. Toklas.” Critical Inquiry, 1(4), 849–881.pdf\n"
     ]
    },
    {
     "name": "stdout",
     "output_type": "stream",
     "text": [
      "100% [..........................................................................] 4210480 / 4210480\n"
     ]
    },
    {
     "name": "stderr",
     "output_type": "stream",
     "text": [
      "[INFO] | 2022/04/18 18:06:56 | Choose scihub url [0]: https://sci-hub.ru\n",
      "[INFO] | 2022/04/18 18:06:56 | <- Request: scihub_url=https://sci-hub.ru, source=DoiSource[type=doi, id=doi.org/10.1086/447820]\n",
      "[INFO] | 2022/04/18 18:06:56 | -> Response: status_code=200, content_length=6872\n",
      "[INFO] | 2022/04/18 18:06:56 | * Extracted information: {'url': 'https://twin.sci-hub.ru/6002/bdf2e0ea71f05209046450e4bd711a4d/fish1975.pdf', 'title': 'Facts and Fictions  A Reply to Ralph Rader. Critical Inquiry, 1(4), 883–891'}\n"
     ]
    },
    {
     "name": "stdout",
     "output_type": "stream",
     "text": [
      " 18% [.............                                                             ]  188416 / 1025806"
     ]
    },
    {
     "name": "stderr",
     "output_type": "stream",
     "text": [
      "[INFO] | 2022/04/18 18:06:58 | ↓ Successfully download the url to: ./journals/post_colonial/critical_inquiry/Facts and Fictions  A Reply to Ralph Rader. Critical Inquiry, 1(4), 883–891.pdf\n"
     ]
    },
    {
     "name": "stdout",
     "output_type": "stream",
     "text": [
      "100% [..........................................................................] 1025806 / 1025806\n"
     ]
    },
    {
     "name": "stderr",
     "output_type": "stream",
     "text": [
      "[INFO] | 2022/04/18 18:07:08 | Choose scihub url [0]: https://sci-hub.ru\n",
      "[INFO] | 2022/04/18 18:07:08 | <- Request: scihub_url=https://sci-hub.ru, source=DoiSource[type=doi, id=doi.org/10.1086/447823]\n",
      "[INFO] | 2022/04/18 18:07:08 | -> Response: status_code=200, content_length=6831\n",
      "[INFO] | 2022/04/18 18:07:08 | * Extracted information: {'url': 'https://twin.sci-hub.ru/5954/f814be57a11ca88f5836596e57b73b5d/bellow1975.pdf', 'title': 'A World Too Much with Us. Critical Inquiry, 2(1), 1–9'}\n"
     ]
    },
    {
     "name": "stdout",
     "output_type": "stream",
     "text": [
      " 92% [....................................................................      ]  974848 / 1055455"
     ]
    },
    {
     "name": "stderr",
     "output_type": "stream",
     "text": [
      "[INFO] | 2022/04/18 18:07:09 | ↓ Successfully download the url to: ./journals/post_colonial/critical_inquiry/A World Too Much with Us. Critical Inquiry, 2(1), 1–9.pdf\n"
     ]
    },
    {
     "name": "stdout",
     "output_type": "stream",
     "text": [
      "100% [..........................................................................] 1055455 / 1055455\n"
     ]
    },
    {
     "name": "stderr",
     "output_type": "stream",
     "text": [
      "[INFO] | 2022/04/18 18:07:19 | Choose scihub url [0]: https://sci-hub.ru\n",
      "[INFO] | 2022/04/18 18:07:19 | <- Request: scihub_url=https://sci-hub.ru, source=DoiSource[type=doi, id=doi.org/10.1086/447824]\n",
      "[INFO] | 2022/04/18 18:07:19 | -> Response: status_code=200, content_length=6806\n",
      "[INFO] | 2022/04/18 18:07:19 | * Extracted information: {'url': 'https://sci-hub.ru/downloads/2019-02-27/02/10.1086@447824.pdf', 'title': 'On Space in the Novel. Critical Inquiry, 2(1), 11–28'}\n"
     ]
    },
    {
     "name": "stdout",
     "output_type": "stream",
     "text": [
      " 50% [......................................                                      ] 188416 / 369583"
     ]
    },
    {
     "name": "stderr",
     "output_type": "stream",
     "text": [
      "[INFO] | 2022/04/18 18:07:20 | ↓ Successfully download the url to: ./journals/post_colonial/critical_inquiry/On Space in the Novel. Critical Inquiry, 2(1), 11–28.pdf\n"
     ]
    },
    {
     "name": "stdout",
     "output_type": "stream",
     "text": [
      "100% [............................................................................] 369583 / 369583\n"
     ]
    },
    {
     "name": "stderr",
     "output_type": "stream",
     "text": [
      "[INFO] | 2022/04/18 18:07:30 | Choose scihub url [0]: https://sci-hub.ru\n",
      "[INFO] | 2022/04/18 18:07:30 | <- Request: scihub_url=https://sci-hub.ru, source=DoiSource[type=doi, id=doi.org/10.1086/447825]\n",
      "[INFO] | 2022/04/18 18:07:30 | -> Response: status_code=200, content_length=6873\n",
      "[INFO] | 2022/04/18 18:07:30 | * Extracted information: {'url': 'https://twin.sci-hub.ru/5987/aaa533d4a90cb9a3f1de97065ad00f6c/bronson1975.pdf', 'title': 'Traditional Ballads Musically Considered. Critical Inquiry, 2(1), 29–42'}\n"
     ]
    },
    {
     "name": "stdout",
     "output_type": "stream",
     "text": [
      " 87% [................................................................          ] 1236992 / 1409357"
     ]
    },
    {
     "name": "stderr",
     "output_type": "stream",
     "text": [
      "[INFO] | 2022/04/18 18:07:31 | ↓ Successfully download the url to: ./journals/post_colonial/critical_inquiry/Traditional Ballads Musically Considered. Critical Inquiry, 2(1), 29–42.pdf\n"
     ]
    },
    {
     "name": "stdout",
     "output_type": "stream",
     "text": [
      "100% [..........................................................................] 1409357 / 1409357\n"
     ]
    },
    {
     "name": "stderr",
     "output_type": "stream",
     "text": [
      "[INFO] | 2022/04/18 18:07:41 | Choose scihub url [0]: https://sci-hub.ru\n",
      "[INFO] | 2022/04/18 18:07:42 | <- Request: scihub_url=https://sci-hub.ru, source=DoiSource[type=doi, id=doi.org/10.1086/447826]\n",
      "[INFO] | 2022/04/18 18:07:42 | -> Response: status_code=200, content_length=6840\n",
      "[INFO] | 2022/04/18 18:07:42 | * Extracted information: {'url': 'https://sci-hub.ru/downloads/2019-04-17/6e/flanagan1975.pdf', 'title': 'Yeats, Joyce, and the Matter of Ireland. Critical Inquiry, 2(1), 43–67'}\n"
     ]
    },
    {
     "name": "stdout",
     "output_type": "stream",
     "text": [
      " 43% [................................                                          ] 1220608 / 2777747"
     ]
    },
    {
     "name": "stderr",
     "output_type": "stream",
     "text": [
      "[INFO] | 2022/04/18 18:07:43 | ↓ Successfully download the url to: ./journals/post_colonial/critical_inquiry/Yeats, Joyce, and the Matter of Ireland. Critical Inquiry, 2(1), 43–67.pdf\n"
     ]
    },
    {
     "name": "stdout",
     "output_type": "stream",
     "text": [
      "100% [..........................................................................] 2777747 / 2777747\n"
     ]
    },
    {
     "name": "stderr",
     "output_type": "stream",
     "text": [
      "[INFO] | 2022/04/18 18:07:53 | Choose scihub url [0]: https://sci-hub.ru\n",
      "[INFO] | 2022/04/18 18:07:53 | <- Request: scihub_url=https://sci-hub.ru, source=DoiSource[type=doi, id=doi.org/10.1086/447827]\n",
      "[INFO] | 2022/04/18 18:07:53 | -> Response: status_code=200, content_length=6820\n",
      "[INFO] | 2022/04/18 18:07:53 | * Extracted information: {'url': 'https://twin.sci-hub.ru/5852/2edb61bbc10a8dc20e30354b8cffede7/olson1975.pdf', 'title': 'The Poetic Process. Critical Inquiry, 2(1), 69–74'}\n"
     ]
    },
    {
     "name": "stdout",
     "output_type": "stream",
     "text": [
      " 29% [......................                                                      ] 188416 / 647198"
     ]
    },
    {
     "name": "stderr",
     "output_type": "stream",
     "text": [
      "[INFO] | 2022/04/18 18:07:54 | ↓ Successfully download the url to: ./journals/post_colonial/critical_inquiry/The Poetic Process. Critical Inquiry, 2(1), 69–74.pdf\n"
     ]
    },
    {
     "name": "stdout",
     "output_type": "stream",
     "text": [
      "100% [............................................................................] 647198 / 647198\n"
     ]
    },
    {
     "name": "stderr",
     "output_type": "stream",
     "text": [
      "[INFO] | 2022/04/18 18:08:04 | Choose scihub url [0]: https://sci-hub.ru\n",
      "[INFO] | 2022/04/18 18:08:04 | <- Request: scihub_url=https://sci-hub.ru, source=DoiSource[type=doi, id=doi.org/10.1086/447829]\n",
      "[INFO] | 2022/04/18 18:08:04 | -> Response: status_code=200, content_length=6894\n",
      "[INFO] | 2022/04/18 18:08:04 | * Extracted information: {'url': 'https://twin.sci-hub.ru/6018/14da5891d57f1c1325ec1083264d30c1/cone1975.pdf', 'title': 'In Defense of Song  The Contribution of Roger Sessions. Critical Inquiry, 2(1), 93–112'}\n"
     ]
    },
    {
     "name": "stdout",
     "output_type": "stream",
     "text": [
      " 60% [.............................................                             ] 1212416 / 1989452"
     ]
    },
    {
     "name": "stderr",
     "output_type": "stream",
     "text": [
      "[INFO] | 2022/04/18 18:08:05 | ↓ Successfully download the url to: ./journals/post_colonial/critical_inquiry/In Defense of Song  The Contribution of Roger Sessions. Critical Inquiry, 2(1), 93–112.pdf\n"
     ]
    },
    {
     "name": "stdout",
     "output_type": "stream",
     "text": [
      "100% [..........................................................................] 1989452 / 1989452\n"
     ]
    },
    {
     "name": "stderr",
     "output_type": "stream",
     "text": [
      "[INFO] | 2022/04/18 18:08:15 | Choose scihub url [0]: https://sci-hub.ru\n",
      "[INFO] | 2022/04/18 18:08:15 | <- Request: scihub_url=https://sci-hub.ru, source=DoiSource[type=doi, id=doi.org/10.1086/447833]\n",
      "[INFO] | 2022/04/18 18:08:15 | -> Response: status_code=200, content_length=6943\n",
      "[INFO] | 2022/04/18 18:08:15 | * Extracted information: {'url': 'https://twin.sci-hub.ru/5854/e72b85bff3177666567f6c707ecf6fe8/strier1975.pdf', 'title': 'The Poetics of Surrender  An Exposition and Critique of New Critical Poetics. Critical Inquiry, 2(1), 171–189'}\n"
     ]
    },
    {
     "name": "stdout",
     "output_type": "stream",
     "text": [
      " 54% [........................................                                  ] 1155072 / 2135013"
     ]
    },
    {
     "name": "stderr",
     "output_type": "stream",
     "text": [
      "[INFO] | 2022/04/18 18:08:16 | ↓ Successfully download the url to: ./journals/post_colonial/critical_inquiry/The Poetics of Surrender  An Exposition and Critique of New Critical Poetics. Critical Inquiry, 2(1), 171–189.pdf\n"
     ]
    },
    {
     "name": "stdout",
     "output_type": "stream",
     "text": [
      "100% [..........................................................................] 2135013 / 2135013\n"
     ]
    },
    {
     "name": "stderr",
     "output_type": "stream",
     "text": [
      "[INFO] | 2022/04/18 18:08:26 | Choose scihub url [0]: https://sci-hub.ru\n",
      "[INFO] | 2022/04/18 18:08:27 | <- Request: scihub_url=https://sci-hub.ru, source=DoiSource[type=doi, id=doi.org/10.1086/447834]\n",
      "[INFO] | 2022/04/18 18:08:27 | -> Response: status_code=200, content_length=6865\n",
      "[INFO] | 2022/04/18 18:08:27 | * Extracted information: {'url': 'https://twin.sci-hub.ru/5999/e5d71b63b1365062a3474b7fdc99d528/wilson1975.pdf', 'title': 'On Character  A Reply to Martin Price. Critical Inquiry, 2(1), 191–198'}\n"
     ]
    },
    {
     "name": "stdout",
     "output_type": "stream",
     "text": [
      " 15% [...........                                                                 ] 122880 / 796211"
     ]
    },
    {
     "name": "stderr",
     "output_type": "stream",
     "text": [
      "[INFO] | 2022/04/18 18:08:28 | ↓ Successfully download the url to: ./journals/post_colonial/critical_inquiry/On Character  A Reply to Martin Price. Critical Inquiry, 2(1), 191–198.pdf\n"
     ]
    },
    {
     "name": "stdout",
     "output_type": "stream",
     "text": [
      "100% [............................................................................] 796211 / 796211\n"
     ]
    },
    {
     "name": "stderr",
     "output_type": "stream",
     "text": [
      "[INFO] | 2022/04/18 18:08:38 | Choose scihub url [0]: https://sci-hub.ru\n",
      "[INFO] | 2022/04/18 18:08:39 | <- Request: scihub_url=https://sci-hub.ru, source=DoiSource[type=doi, id=doi.org/10.1086/447836]\n",
      "[INFO] | 2022/04/18 18:08:39 | -> Response: status_code=200, content_length=6839\n",
      "[INFO] | 2022/04/18 18:08:39 | * Extracted information: {'url': 'https://sci-hub.ru/downloads/2019-01-10/b0/rosenberg1975.pdf', 'title': 'Metaphysical Feelings in Modern Art. Critical Inquiry, 2(2), 217–232'}\n"
     ]
    },
    {
     "name": "stdout",
     "output_type": "stream",
     "text": [
      " 56% [.........................................                                 ] 1097728 / 1959684"
     ]
    },
    {
     "name": "stderr",
     "output_type": "stream",
     "text": [
      "[INFO] | 2022/04/18 18:08:39 | ↓ Successfully download the url to: ./journals/post_colonial/critical_inquiry/Metaphysical Feelings in Modern Art. Critical Inquiry, 2(2), 217–232.pdf\n"
     ]
    },
    {
     "name": "stdout",
     "output_type": "stream",
     "text": [
      "100% [..........................................................................] 1959684 / 1959684\n"
     ]
    },
    {
     "name": "stderr",
     "output_type": "stream",
     "text": [
      "[INFO] | 2022/04/18 18:08:49 | Choose scihub url [0]: https://sci-hub.ru\n",
      "[INFO] | 2022/04/18 18:08:50 | <- Request: scihub_url=https://sci-hub.ru, source=DoiSource[type=doi, id=doi.org/10.1086/447837]\n",
      "[INFO] | 2022/04/18 18:08:50 | -> Response: status_code=200, content_length=6850\n",
      "[INFO] | 2022/04/18 18:08:50 | * Extracted information: {'url': 'https://twin.sci-hub.ru/5851/f12772484640afd2851e5436d43d32f1/bloom1975.pdf', 'title': 'Poetry, Revisionism, Repression. Critical Inquiry, 2(2), 233–251'}\n"
     ]
    },
    {
     "name": "stdout",
     "output_type": "stream",
     "text": [
      " 57% [..........................................                                ] 1236992 / 2154391"
     ]
    },
    {
     "name": "stderr",
     "output_type": "stream",
     "text": [
      "[INFO] | 2022/04/18 18:08:51 | ↓ Successfully download the url to: ./journals/post_colonial/critical_inquiry/Poetry, Revisionism, Repression. Critical Inquiry, 2(2), 233–251.pdf\n"
     ]
    },
    {
     "name": "stdout",
     "output_type": "stream",
     "text": [
      "100% [..........................................................................] 2154391 / 2154391\n"
     ]
    },
    {
     "name": "stderr",
     "output_type": "stream",
     "text": [
      "[INFO] | 2022/04/18 18:09:01 | Choose scihub url [0]: https://sci-hub.ru\n",
      "[INFO] | 2022/04/18 18:09:01 | <- Request: scihub_url=https://sci-hub.ru, source=DoiSource[type=doi, id=doi.org/10.1086/447838]\n",
      "[INFO] | 2022/04/18 18:09:01 | -> Response: status_code=200, content_length=6898\n",
      "[INFO] | 2022/04/18 18:09:01 | * Extracted information: {'url': 'https://twin.sci-hub.ru/6369/885733d9f37bf80ed22b2ee5f4b50b35/morrissette1975.pdf', 'title': 'Post-Modern Generative Fiction  Novel and Film. Critical Inquiry, 2(2), 253–262'}\n"
     ]
    },
    {
     "name": "stdout",
     "output_type": "stream",
     "text": [
      " 81% [............................................................              ] 1155072 / 1410631"
     ]
    },
    {
     "name": "stderr",
     "output_type": "stream",
     "text": [
      "[INFO] | 2022/04/18 18:09:02 | ↓ Successfully download the url to: ./journals/post_colonial/critical_inquiry/Post-Modern Generative Fiction  Novel and Film. Critical Inquiry, 2(2), 253–262.pdf\n"
     ]
    },
    {
     "name": "stdout",
     "output_type": "stream",
     "text": [
      "100% [..........................................................................] 1410631 / 1410631\n"
     ]
    },
    {
     "name": "stderr",
     "output_type": "stream",
     "text": [
      "[INFO] | 2022/04/18 18:09:12 | Choose scihub url [0]: https://sci-hub.ru\n",
      "[INFO] | 2022/04/18 18:09:12 | <- Request: scihub_url=https://sci-hub.ru, source=DoiSource[type=doi, id=doi.org/10.1086/447839]\n",
      "[INFO] | 2022/04/18 18:09:12 | -> Response: status_code=200, content_length=6857\n",
      "[INFO] | 2022/04/18 18:09:12 | * Extracted information: {'url': 'https://twin.sci-hub.ru/5972/ac93b39ce85b1f154079195967907a93/lang1975.pdf', 'title': 'Space, Time, and Philosophical Style. Critical Inquiry, 2(2), 263–280'}\n"
     ]
    },
    {
     "name": "stdout",
     "output_type": "stream",
     "text": [
      " 91% [...................................................................       ] 1892352 / 2070673"
     ]
    },
    {
     "name": "stderr",
     "output_type": "stream",
     "text": [
      "[INFO] | 2022/04/18 18:09:14 | ↓ Successfully download the url to: ./journals/post_colonial/critical_inquiry/Space, Time, and Philosophical Style. Critical Inquiry, 2(2), 263–280.pdf\n"
     ]
    },
    {
     "name": "stdout",
     "output_type": "stream",
     "text": [
      "100% [..........................................................................] 2070673 / 2070673\n"
     ]
    },
    {
     "name": "stderr",
     "output_type": "stream",
     "text": [
      "[INFO] | 2022/04/18 18:09:24 | Choose scihub url [0]: https://sci-hub.ru\n",
      "[INFO] | 2022/04/18 18:09:24 | <- Request: scihub_url=https://sci-hub.ru, source=DoiSource[type=doi, id=doi.org/10.1086/447841]\n",
      "[INFO] | 2022/04/18 18:09:24 | -> Response: status_code=200, content_length=6816\n",
      "[INFO] | 2022/04/18 18:09:24 | * Extracted information: {'url': 'https://sci-hub.ru/downloads/2020-05-03/95/argan1975.pdf', 'title': 'Ideology and Iconology. Critical Inquiry, 2(2), 297–305'}\n"
     ]
    },
    {
     "name": "stdout",
     "output_type": "stream",
     "text": [
      " 17% [.............                                                               ] 172032 / 967302"
     ]
    },
    {
     "name": "stderr",
     "output_type": "stream",
     "text": [
      "[INFO] | 2022/04/18 18:09:25 | ↓ Successfully download the url to: ./journals/post_colonial/critical_inquiry/Ideology and Iconology. Critical Inquiry, 2(2), 297–305.pdf\n"
     ]
    },
    {
     "name": "stdout",
     "output_type": "stream",
     "text": [
      "100% [............................................................................] 967302 / 967302\n"
     ]
    },
    {
     "name": "stderr",
     "output_type": "stream",
     "text": [
      "[INFO] | 2022/04/18 18:09:35 | Choose scihub url [0]: https://sci-hub.ru\n",
      "[INFO] | 2022/04/18 18:09:36 | <- Request: scihub_url=https://sci-hub.ru, source=DoiSource[type=doi, id=doi.org/10.1086/447842]\n",
      "[INFO] | 2022/04/18 18:09:36 | -> Response: status_code=200, content_length=6959\n",
      "[INFO] | 2022/04/18 18:09:36 | * Extracted information: {'url': 'https://twin.sci-hub.ru/5877/03233f29fcaa421f893a74b21aa5329a/carringer1975.pdf', 'title': '“Citizen Kane”, “The Great Gatsby”, and Some Conventions of American Narrative. Critical Inquiry, 2(2), 307–325'}\n"
     ]
    },
    {
     "name": "stdout",
     "output_type": "stream",
     "text": [
      " 44% [................................                                          ] 1015808 / 2291309"
     ]
    },
    {
     "name": "stderr",
     "output_type": "stream",
     "text": [
      "[INFO] | 2022/04/18 18:09:37 | ↓ Successfully download the url to: ./journals/post_colonial/critical_inquiry/“Citizen Kane”, “The Great Gatsby”, and Some Conventions of American Narrative. Critical Inquiry, 2(2), 307–325.pdf\n"
     ]
    },
    {
     "name": "stdout",
     "output_type": "stream",
     "text": [
      "100% [..........................................................................] 2291309 / 2291309\n"
     ]
    },
    {
     "name": "stderr",
     "output_type": "stream",
     "text": [
      "[INFO] | 2022/04/18 18:09:47 | Choose scihub url [0]: https://sci-hub.ru\n",
      "[INFO] | 2022/04/18 18:09:47 | <- Request: scihub_url=https://sci-hub.ru, source=DoiSource[type=doi, id=doi.org/10.1086/447843]\n",
      "[INFO] | 2022/04/18 18:09:47 | -> Response: status_code=200, content_length=6879\n",
      "[INFO] | 2022/04/18 18:09:47 | * Extracted information: {'url': 'https://twin.sci-hub.ru/5957/4496724543e4ce7b9f950861eb8f6ed6/booth1975.pdf', 'title': 'Irony and Pity Once Again  “Thaïs” Revisited. Critical Inquiry, 2(2), 327–344'}\n"
     ]
    },
    {
     "name": "stdout",
     "output_type": "stream",
     "text": [
      " 43% [................................                                          ]  843776 / 1944205"
     ]
    },
    {
     "name": "stderr",
     "output_type": "stream",
     "text": [
      "[INFO] | 2022/04/18 18:09:49 | ↓ Successfully download the url to: ./journals/post_colonial/critical_inquiry/Irony and Pity Once Again  “Thaïs” Revisited. Critical Inquiry, 2(2), 327–344.pdf\n"
     ]
    },
    {
     "name": "stdout",
     "output_type": "stream",
     "text": [
      "100% [..........................................................................] 1944205 / 1944205\n"
     ]
    },
    {
     "name": "stderr",
     "output_type": "stream",
     "text": [
      "[INFO] | 2022/04/18 18:09:59 | Choose scihub url [0]: https://sci-hub.ru\n",
      "[INFO] | 2022/04/18 18:09:59 | <- Request: scihub_url=https://sci-hub.ru, source=DoiSource[type=doi, id=doi.org/10.1086/447848]\n",
      "[INFO] | 2022/04/18 18:09:59 | -> Response: status_code=200, content_length=6813\n",
      "[INFO] | 2022/04/18 18:09:59 | * Extracted information: {'url': 'https://twin.sci-hub.ru/5828/77111db03e5c4be7131555ef9c9d083d/editorial-notes-1975.pdf', 'title': 'Critical Inquiry, 2(2), 392–394'}\n"
     ]
    },
    {
     "name": "stdout",
     "output_type": "stream",
     "text": [
      " 77% [..........................................................                  ] 188416 / 244512"
     ]
    },
    {
     "name": "stderr",
     "output_type": "stream",
     "text": [
      "[INFO] | 2022/04/18 18:10:00 | ↓ Successfully download the url to: ./journals/post_colonial/critical_inquiry/Critical Inquiry, 2(2), 392–394.pdf\n"
     ]
    },
    {
     "name": "stdout",
     "output_type": "stream",
     "text": [
      "100% [............................................................................] 244512 / 244512\n"
     ]
    },
    {
     "name": "stderr",
     "output_type": "stream",
     "text": [
      "[INFO] | 2022/04/18 18:10:10 | Choose scihub url [0]: https://sci-hub.ru\n",
      "[INFO] | 2022/04/18 18:10:10 | <- Request: scihub_url=https://sci-hub.ru, source=DoiSource[type=doi, id=doi.org/10.1086/447850]\n",
      "[INFO] | 2022/04/18 18:10:10 | -> Response: status_code=200, content_length=6899\n",
      "[INFO] | 2022/04/18 18:10:10 | * Extracted information: {'url': 'https://twin.sci-hub.ru/6782/a3217e317ef27b0cc7f1b356a6806f1b/booth1976.pdf', 'title': 'M. H. Abrams  Historian as Critic, Critic as Pluralist. Critical Inquiry, 2(3), 411–445'}\n"
     ]
    },
    {
     "name": "stdout",
     "output_type": "stream",
     "text": [
      " 30% [......................                                                    ] 1196032 / 3903045"
     ]
    },
    {
     "name": "stderr",
     "output_type": "stream",
     "text": [
      "[INFO] | 2022/04/18 18:10:11 | ↓ Successfully download the url to: ./journals/post_colonial/critical_inquiry/M. H. Abrams  Historian as Critic, Critic as Pluralist. Critical Inquiry, 2(3), 411–445.pdf\n"
     ]
    },
    {
     "name": "stdout",
     "output_type": "stream",
     "text": [
      "100% [..........................................................................] 3903045 / 3903045\n"
     ]
    },
    {
     "name": "stderr",
     "output_type": "stream",
     "text": [
      "[INFO] | 2022/04/18 18:10:21 | Choose scihub url [0]: https://sci-hub.ru\n",
      "[INFO] | 2022/04/18 18:10:21 | <- Request: scihub_url=https://sci-hub.ru, source=DoiSource[type=doi, id=doi.org/10.1086/447851]\n",
      "[INFO] | 2022/04/18 18:10:21 | -> Response: status_code=200, content_length=6936\n",
      "[INFO] | 2022/04/18 18:10:21 | * Extracted information: {'url': 'https://twin.sci-hub.ru/6032/e51fc755c6b24c74d8d7f32752fe964f/abrams1976.pdf', 'title': 'Rationality and Imagination in Cultural History  A Reply to Wayne Booth. Critical Inquiry, 2(3), 447–464'}\n"
     ]
    },
    {
     "name": "stdout",
     "output_type": "stream",
     "text": [
      " 49% [....................................                                      ] 1007616 / 2035644"
     ]
    },
    {
     "name": "stderr",
     "output_type": "stream",
     "text": [
      "[INFO] | 2022/04/18 18:10:23 | ↓ Successfully download the url to: ./journals/post_colonial/critical_inquiry/Rationality and Imagination in Cultural History  A Reply to Wayne Booth. Critical Inquiry, 2(3), 447–464.pdf\n"
     ]
    },
    {
     "name": "stdout",
     "output_type": "stream",
     "text": [
      "100% [..........................................................................] 2035644 / 2035644\n"
     ]
    },
    {
     "name": "stderr",
     "output_type": "stream",
     "text": [
      "[INFO] | 2022/04/18 18:10:33 | Choose scihub url [0]: https://sci-hub.ru\n",
      "[INFO] | 2022/04/18 18:10:33 | <- Request: scihub_url=https://sci-hub.ru, source=DoiSource[type=doi, id=doi.org/10.1086/447852]\n",
      "[INFO] | 2022/04/18 18:10:33 | -> Response: status_code=200, content_length=6811\n",
      "[INFO] | 2022/04/18 18:10:33 | * Extracted information: {'url': 'https://sci-hub.ru/downloads/2019-04-29/e6/fish1976.pdf', 'title': 'Interpreting the “Variorum.” Critical Inquiry, 2(3), 465–485'}\n"
     ]
    },
    {
     "name": "stdout",
     "output_type": "stream",
     "text": [
      " 49% [....................................                                      ] 1212416 / 2452311"
     ]
    },
    {
     "name": "stderr",
     "output_type": "stream",
     "text": [
      "[INFO] | 2022/04/18 18:10:34 | ↓ Successfully download the url to: ./journals/post_colonial/critical_inquiry/Interpreting the “Variorum.” Critical Inquiry, 2(3), 465–485.pdf\n"
     ]
    },
    {
     "name": "stdout",
     "output_type": "stream",
     "text": [
      "100% [..........................................................................] 2452311 / 2452311\n"
     ]
    },
    {
     "name": "stderr",
     "output_type": "stream",
     "text": [
      "[INFO] | 2022/04/18 18:10:44 | Choose scihub url [0]: https://sci-hub.ru\n",
      "[INFO] | 2022/04/18 18:10:44 | <- Request: scihub_url=https://sci-hub.ru, source=DoiSource[type=doi, id=doi.org/10.1086/447853]\n",
      "[INFO] | 2022/04/18 18:10:44 | -> Response: status_code=200, content_length=6833\n",
      "[INFO] | 2022/04/18 18:10:44 | * Extracted information: {'url': 'https://sci-hub.ru/downloads/2020-05-05/55/miner1976.pdf', 'title': 'That Literature Is a Kind of Knowledge. Critical Inquiry, 2(3), 487–518'}\n"
     ]
    },
    {
     "name": "stdout",
     "output_type": "stream",
     "text": [
      " 43% [................................                                          ] 1630208 / 3750242"
     ]
    },
    {
     "name": "stderr",
     "output_type": "stream",
     "text": [
      "[INFO] | 2022/04/18 18:10:45 | ↓ Successfully download the url to: ./journals/post_colonial/critical_inquiry/That Literature Is a Kind of Knowledge. Critical Inquiry, 2(3), 487–518.pdf\n"
     ]
    },
    {
     "name": "stdout",
     "output_type": "stream",
     "text": [
      "100% [..........................................................................] 3750242 / 3750242\n"
     ]
    },
    {
     "name": "stderr",
     "output_type": "stream",
     "text": [
      "[INFO] | 2022/04/18 18:10:55 | Choose scihub url [0]: https://sci-hub.ru\n",
      "[INFO] | 2022/04/18 18:10:56 | <- Request: scihub_url=https://sci-hub.ru, source=DoiSource[type=doi, id=doi.org/10.1086/447854]\n",
      "[INFO] | 2022/04/18 18:10:56 | -> Response: status_code=200, content_length=6962\n",
      "[INFO] | 2022/04/18 18:10:56 | * Extracted information: {'url': 'https://sci-hub.ru/tree/86/c6/86c623e9d952fc58619f5a02a47eeb0e.pdf', 'title': 'The U.S. in the U.S.S.R.  American Literature through the Filter of Recent Soviet Publishing and Criticism. Critical Inquiry, 2(3), 519–583'}\n"
     ]
    },
    {
     "name": "stdout",
     "output_type": "stream",
     "text": [
      " 93% [.....................................................................     ] 1179648 / 1255064"
     ]
    },
    {
     "name": "stderr",
     "output_type": "stream",
     "text": [
      "[INFO] | 2022/04/18 18:10:56 | ↓ Successfully download the url to: ./journals/post_colonial/critical_inquiry/The U.S. in the U.S.S.R.  American Literature through the Filter of Recent Soviet Publishing and Criticism. Critical Inquiry, 2(3), 519–583.pdf\n"
     ]
    },
    {
     "name": "stdout",
     "output_type": "stream",
     "text": [
      "100% [..........................................................................] 1255064 / 1255064\n"
     ]
    },
    {
     "name": "stderr",
     "output_type": "stream",
     "text": [
      "[INFO] | 2022/04/18 18:11:06 | Choose scihub url [0]: https://sci-hub.ru\n",
      "[INFO] | 2022/04/18 18:11:07 | <- Request: scihub_url=https://sci-hub.ru, source=DoiSource[type=doi, id=doi.org/10.1086/447858]\n",
      "[INFO] | 2022/04/18 18:11:07 | -> Response: status_code=200, content_length=6896\n",
      "[INFO] | 2022/04/18 18:11:07 | * Extracted information: {'url': 'https://twin.sci-hub.ru/6014/d31b136ddaf3a6bbddb8faa42bac3a60/truesdell1976.pdf', 'title': 'The Scholar  A Species Threatened by Professions. Critical Inquiry, 2(4), 631–648'}\n"
     ]
    },
    {
     "name": "stdout",
     "output_type": "stream",
     "text": [
      " 85% [...............................................................           ] 1744896 / 2044466"
     ]
    },
    {
     "name": "stderr",
     "output_type": "stream",
     "text": [
      "[INFO] | 2022/04/18 18:11:08 | ↓ Successfully download the url to: ./journals/post_colonial/critical_inquiry/The Scholar  A Species Threatened by Professions. Critical Inquiry, 2(4), 631–648.pdf\n"
     ]
    },
    {
     "name": "stdout",
     "output_type": "stream",
     "text": [
      "100% [..........................................................................] 2044466 / 2044466\n"
     ]
    },
    {
     "name": "stderr",
     "output_type": "stream",
     "text": [
      "[INFO] | 2022/04/18 18:11:18 | Choose scihub url [0]: https://sci-hub.ru\n",
      "[INFO] | 2022/04/18 18:11:18 | <- Request: scihub_url=https://sci-hub.ru, source=DoiSource[type=doi, id=doi.org/10.1086/447861]\n",
      "[INFO] | 2022/04/18 18:11:18 | -> Response: status_code=200, content_length=6838\n",
      "[INFO] | 2022/04/18 18:11:18 | * Extracted information: {'url': 'https://twin.sci-hub.ru/5862/a607f1619be4a208655b55d24516bca7/elliot1976.pdf', 'title': 'A Poetic Exchange. Critical Inquiry, 2(4), 689–691'}\n",
      "[INFO] | 2022/04/18 18:11:19 | ↓ Successfully download the url to: ./journals/post_colonial/critical_inquiry/A Poetic Exchange. Critical Inquiry, 2(4), 689–691.pdf\n"
     ]
    },
    {
     "name": "stdout",
     "output_type": "stream",
     "text": [
      "100% [............................................................................] 152478 / 152478\n"
     ]
    },
    {
     "name": "stderr",
     "output_type": "stream",
     "text": [
      "[INFO] | 2022/04/18 18:11:29 | Choose scihub url [0]: https://sci-hub.ru\n",
      "[INFO] | 2022/04/18 18:11:30 | <- Request: scihub_url=https://sci-hub.ru, source=DoiSource[type=doi, id=doi.org/10.1086/447863]\n",
      "[INFO] | 2022/04/18 18:11:30 | -> Response: status_code=200, content_length=6957\n",
      "[INFO] | 2022/04/18 18:11:30 | * Extracted information: {'url': 'https://twin.sci-hub.ru/5963/7e41c0f818d0377f5a913751881b5668/dembowski1976.pdf', 'title': 'Vocabulary of Old French Courtly Lyrics  Difficulties and Hidden Difficulties. Critical Inquiry, 2(4), 763–779'}\n"
     ]
    },
    {
     "name": "stdout",
     "output_type": "stream",
     "text": [
      " 51% [......................................                                    ]  999424 / 1945765"
     ]
    },
    {
     "name": "stderr",
     "output_type": "stream",
     "text": [
      "[INFO] | 2022/04/18 18:11:31 | ↓ Successfully download the url to: ./journals/post_colonial/critical_inquiry/Vocabulary of Old French Courtly Lyrics  Difficulties and Hidden Difficulties. Critical Inquiry, 2(4), 763–779.pdf\n"
     ]
    },
    {
     "name": "stdout",
     "output_type": "stream",
     "text": [
      "100% [..........................................................................] 1945765 / 1945765\n"
     ]
    },
    {
     "name": "stderr",
     "output_type": "stream",
     "text": [
      "[INFO] | 2022/04/18 18:11:41 | Choose scihub url [0]: https://sci-hub.ru\n",
      "[INFO] | 2022/04/18 18:11:42 | <- Request: scihub_url=https://sci-hub.ru, source=DoiSource[type=doi, id=doi.org/10.1086/447864]\n",
      "[INFO] | 2022/04/18 18:11:42 | -> Response: status_code=200, content_length=6951\n",
      "[INFO] | 2022/04/18 18:11:42 | * Extracted information: {'url': 'https://twin.sci-hub.ru/6000/47f21bf0c1cce0e94e26c61913595876/mckeon1976.pdf', 'title': 'Canonic Books and Prohibited Books  Orthodoxy and Heresy in Religion and Culture. Critical Inquiry, 2(4), 781–806'}\n"
     ]
    },
    {
     "name": "stdout",
     "output_type": "stream",
     "text": [
      " 91% [...................................................................       ] 2809856 / 3058443"
     ]
    },
    {
     "name": "stderr",
     "output_type": "stream",
     "text": [
      "[INFO] | 2022/04/18 18:11:43 | ↓ Successfully download the url to: ./journals/post_colonial/critical_inquiry/Canonic Books and Prohibited Books  Orthodoxy and Heresy in Religion and Culture. Critical Inquiry, 2(4), 781–806.pdf\n"
     ]
    },
    {
     "name": "stdout",
     "output_type": "stream",
     "text": [
      "100% [..........................................................................] 3058443 / 3058443\n"
     ]
    },
    {
     "name": "stderr",
     "output_type": "stream",
     "text": [
      "[INFO] | 2022/04/18 18:11:53 | Choose scihub url [0]: https://sci-hub.ru\n",
      "[INFO] | 2022/04/18 18:11:54 | <- Request: scihub_url=https://sci-hub.ru, source=DoiSource[type=doi, id=doi.org/10.1086/447869]\n",
      "[INFO] | 2022/04/18 18:11:54 | -> Response: status_code=200, content_length=6895\n",
      "[INFO] | 2022/04/18 18:11:54 | * Extracted information: {'url': 'https://twin.sci-hub.ru/6044/ce80ea4c0a7613e8afb77b8f04dce7f8/martin1976.pdf', 'title': 'Correction  Traditional Ballads Musically Considered. Critical Inquiry, 2(4), 833–834'}\n",
      "[INFO] | 2022/04/18 18:11:54 | ↓ Successfully download the url to: ./journals/post_colonial/critical_inquiry/Correction  Traditional Ballads Musically Considered. Critical Inquiry, 2(4), 833–834.pdf\n"
     ]
    },
    {
     "name": "stdout",
     "output_type": "stream",
     "text": [
      "100% [............................................................................] 169136 / 169136\n"
     ]
    },
    {
     "name": "stderr",
     "output_type": "stream",
     "text": [
      "[INFO] | 2022/04/18 18:12:05 | Choose scihub url [0]: https://sci-hub.ru\n",
      "[INFO] | 2022/04/18 18:12:05 | <- Request: scihub_url=https://sci-hub.ru, source=DoiSource[type=doi, id=doi.org/10.1086/447870]\n",
      "[INFO] | 2022/04/18 18:12:05 | -> Response: status_code=200, content_length=6924\n",
      "[INFO] | 2022/04/18 18:12:05 | * Extracted information: {'url': 'https://twin.sci-hub.ru/6034/bbb24c8a8bdd3fe4c0b3bf6ecea2f810/miles1976.pdf', 'title': 'Values in Language; Or, Where Have “Goodness, Truth,” and “Beauty” Gone  Critical Inquiry, 3(1), 1–13'}\n"
     ]
    },
    {
     "name": "stdout",
     "output_type": "stream",
     "text": [
      " 60% [............................................                              ]  802816 / 1330023"
     ]
    },
    {
     "name": "stderr",
     "output_type": "stream",
     "text": [
      "[INFO] | 2022/04/18 18:12:06 | ↓ Successfully download the url to: ./journals/post_colonial/critical_inquiry/Values in Language; Or, Where Have “Goodness, Truth,” and “Beauty” Gone  Critical Inquiry, 3(1), 1–13.pdf\n"
     ]
    },
    {
     "name": "stdout",
     "output_type": "stream",
     "text": [
      "100% [..........................................................................] 1330023 / 1330023\n"
     ]
    },
    {
     "name": "stderr",
     "output_type": "stream",
     "text": [
      "[INFO] | 2022/04/18 18:12:16 | Choose scihub url [0]: https://sci-hub.ru\n",
      "[INFO] | 2022/04/18 18:12:16 | <- Request: scihub_url=https://sci-hub.ru, source=DoiSource[type=doi, id=doi.org/10.1086/447871]\n",
      "[INFO] | 2022/04/18 18:12:16 | -> Response: status_code=200, content_length=5456\n",
      "[WARNING] | 2022/04/18 18:12:16 | Error occurs, task status: extracting_failed, error: No pdf tag was found in the given content with the selector: #pdf\n",
      "[INFO] | 2022/04/18 18:12:16 | Choose scihub url [1]: http://sci-hub.se\n",
      "[INFO] | 2022/04/18 18:12:17 | <- Request: scihub_url=http://sci-hub.se, source=DoiSource[type=doi, id=doi.org/10.1086/447871]\n",
      "[INFO] | 2022/04/18 18:12:17 | -> Response: status_code=200, content_length=5456\n",
      "[WARNING] | 2022/04/18 18:12:17 | Error occurs, task status: extracting_failed, error: No pdf tag was found in the given content with the selector: #pdf\n",
      "[INFO] | 2022/04/18 18:12:17 | Choose scihub url [2]: http://sci-hub.st\n",
      "[INFO] | 2022/04/18 18:12:21 | <- Request: scihub_url=http://sci-hub.st, source=DoiSource[type=doi, id=doi.org/10.1086/447871]\n",
      "[INFO] | 2022/04/18 18:12:21 | -> Response: status_code=200, content_length=24\n",
      "[WARNING] | 2022/04/18 18:12:21 | Error occurs, task status: extracting_failed, error: No pdf tag was found in the given content with the selector: #pdf\n",
      "[INFO] | 2022/04/18 18:12:21 | Choose scihub url [3]: https://sci-hub.st\n",
      "[INFO] | 2022/04/18 18:12:24 | <- Request: scihub_url=https://sci-hub.st, source=DoiSource[type=doi, id=doi.org/10.1086/447871]\n",
      "[INFO] | 2022/04/18 18:12:24 | -> Response: status_code=200, content_length=24\n",
      "[WARNING] | 2022/04/18 18:12:24 | Error occurs, task status: extracting_failed, error: No pdf tag was found in the given content with the selector: #pdf\n",
      "[INFO] | 2022/04/18 18:12:24 | Choose scihub url [4]: http://sci-hub.ru\n",
      "[INFO] | 2022/04/18 18:12:25 | <- Request: scihub_url=http://sci-hub.ru, source=DoiSource[type=doi, id=doi.org/10.1086/447871]\n",
      "[INFO] | 2022/04/18 18:12:25 | -> Response: status_code=200, content_length=5456\n",
      "[WARNING] | 2022/04/18 18:12:25 | Error occurs, task status: extracting_failed, error: No pdf tag was found in the given content with the selector: #pdf\n",
      "[INFO] | 2022/04/18 18:12:25 | Choose scihub url [5]: https://sci-hub.se\n",
      "[INFO] | 2022/04/18 18:12:25 | <- Request: scihub_url=https://sci-hub.se, source=DoiSource[type=doi, id=doi.org/10.1086/447871]\n",
      "[INFO] | 2022/04/18 18:12:25 | -> Response: status_code=200, content_length=5456\n",
      "[WARNING] | 2022/04/18 18:12:25 | Error occurs, task status: extracting_failed, error: No pdf tag was found in the given content with the selector: #pdf\n",
      "[ERROR] | 2022/04/18 18:12:25 | Failed to download the paper: https://doi.org/10.1086/447871. Please try again.\n",
      "[INFO] | 2022/04/18 18:12:35 | Choose scihub url [0]: https://sci-hub.ru\n",
      "[INFO] | 2022/04/18 18:12:35 | <- Request: scihub_url=https://sci-hub.ru, source=DoiSource[type=doi, id=doi.org/10.1086/447874]\n",
      "[INFO] | 2022/04/18 18:12:35 | -> Response: status_code=200, content_length=6892\n",
      "[INFO] | 2022/04/18 18:12:35 | * Extracted information: {'url': 'https://twin.sci-hub.ru/5866/34288a55a2defbde5b12652a3c2043f6/miller1976.pdf', 'title': 'Ariadne’s Thread  Repetition and the Narrative Line. Critical Inquiry, 3(1), 57–77'}\n"
     ]
    },
    {
     "name": "stdout",
     "output_type": "stream",
     "text": [
      " 41% [..............................                                            ] 1032192 / 2490225"
     ]
    },
    {
     "name": "stderr",
     "output_type": "stream",
     "text": [
      "[INFO] | 2022/04/18 18:12:37 | ↓ Successfully download the url to: ./journals/post_colonial/critical_inquiry/Ariadne’s Thread  Repetition and the Narrative Line. Critical Inquiry, 3(1), 57–77.pdf\n"
     ]
    },
    {
     "name": "stdout",
     "output_type": "stream",
     "text": [
      "100% [..........................................................................] 2490225 / 2490225\n"
     ]
    },
    {
     "name": "stderr",
     "output_type": "stream",
     "text": [
      "[INFO] | 2022/04/18 18:12:47 | Choose scihub url [0]: https://sci-hub.ru\n",
      "[INFO] | 2022/04/18 18:12:47 | <- Request: scihub_url=https://sci-hub.ru, source=DoiSource[type=doi, id=doi.org/10.1086/447876]\n",
      "[INFO] | 2022/04/18 18:12:47 | -> Response: status_code=200, content_length=6931\n",
      "[INFO] | 2022/04/18 18:12:47 | * Extracted information: {'url': 'https://twin.sci-hub.ru/5828/8ed9ca19b45800f01e65e367d9ef3af7/fehl1976.pdf', 'title': 'Turner’s Classicism and the Problem of Periodization in the History of Art. Critical Inquiry, 3(1), 93–129'}\n"
     ]
    },
    {
     "name": "stdout",
     "output_type": "stream",
     "text": [
      " 81% [............................................................              ] 4300800 / 5246370"
     ]
    },
    {
     "name": "stderr",
     "output_type": "stream",
     "text": [
      "[INFO] | 2022/04/18 18:12:48 | ↓ Successfully download the url to: ./journals/post_colonial/critical_inquiry/Turner’s Classicism and the Problem of Periodization in the History of Art. Critical Inquiry, 3(1), 93–129.pdf\n"
     ]
    },
    {
     "name": "stdout",
     "output_type": "stream",
     "text": [
      "100% [..........................................................................] 5246370 / 5246370\n"
     ]
    },
    {
     "name": "stderr",
     "output_type": "stream",
     "text": [
      "[INFO] | 2022/04/18 18:12:58 | Choose scihub url [0]: https://sci-hub.ru\n",
      "[INFO] | 2022/04/18 18:12:59 | <- Request: scihub_url=https://sci-hub.ru, source=DoiSource[type=doi, id=doi.org/10.1086/447877]\n",
      "[INFO] | 2022/04/18 18:12:59 | -> Response: status_code=200, content_length=5456\n",
      "[WARNING] | 2022/04/18 18:12:59 | Error occurs, task status: extracting_failed, error: No pdf tag was found in the given content with the selector: #pdf\n",
      "[INFO] | 2022/04/18 18:12:59 | Choose scihub url [1]: http://sci-hub.se\n",
      "[INFO] | 2022/04/18 18:12:59 | <- Request: scihub_url=http://sci-hub.se, source=DoiSource[type=doi, id=doi.org/10.1086/447877]\n",
      "[INFO] | 2022/04/18 18:12:59 | -> Response: status_code=200, content_length=5456\n",
      "[WARNING] | 2022/04/18 18:12:59 | Error occurs, task status: extracting_failed, error: No pdf tag was found in the given content with the selector: #pdf\n",
      "[INFO] | 2022/04/18 18:12:59 | Choose scihub url [2]: http://sci-hub.st\n",
      "[INFO] | 2022/04/18 18:13:02 | <- Request: scihub_url=http://sci-hub.st, source=DoiSource[type=doi, id=doi.org/10.1086/447877]\n",
      "[INFO] | 2022/04/18 18:13:02 | -> Response: status_code=200, content_length=24\n",
      "[WARNING] | 2022/04/18 18:13:02 | Error occurs, task status: extracting_failed, error: No pdf tag was found in the given content with the selector: #pdf\n",
      "[INFO] | 2022/04/18 18:13:02 | Choose scihub url [3]: https://sci-hub.st\n",
      "[INFO] | 2022/04/18 18:13:05 | <- Request: scihub_url=https://sci-hub.st, source=DoiSource[type=doi, id=doi.org/10.1086/447877]\n",
      "[INFO] | 2022/04/18 18:13:05 | -> Response: status_code=200, content_length=24\n",
      "[WARNING] | 2022/04/18 18:13:05 | Error occurs, task status: extracting_failed, error: No pdf tag was found in the given content with the selector: #pdf\n",
      "[INFO] | 2022/04/18 18:13:05 | Choose scihub url [4]: http://sci-hub.ru\n",
      "[INFO] | 2022/04/18 18:13:05 | <- Request: scihub_url=http://sci-hub.ru, source=DoiSource[type=doi, id=doi.org/10.1086/447877]\n",
      "[INFO] | 2022/04/18 18:13:05 | -> Response: status_code=200, content_length=5456\n",
      "[WARNING] | 2022/04/18 18:13:06 | Error occurs, task status: extracting_failed, error: No pdf tag was found in the given content with the selector: #pdf\n",
      "[INFO] | 2022/04/18 18:13:06 | Choose scihub url [5]: https://sci-hub.se\n",
      "[INFO] | 2022/04/18 18:13:06 | <- Request: scihub_url=https://sci-hub.se, source=DoiSource[type=doi, id=doi.org/10.1086/447877]\n",
      "[INFO] | 2022/04/18 18:13:06 | -> Response: status_code=200, content_length=5456\n",
      "[WARNING] | 2022/04/18 18:13:06 | Error occurs, task status: extracting_failed, error: No pdf tag was found in the given content with the selector: #pdf\n",
      "[ERROR] | 2022/04/18 18:13:06 | Failed to download the paper: https://doi.org/10.1086/447877. Please try again.\n",
      "[INFO] | 2022/04/18 18:13:16 | Choose scihub url [0]: https://sci-hub.ru\n",
      "[INFO] | 2022/04/18 18:13:16 | <- Request: scihub_url=https://sci-hub.ru, source=DoiSource[type=doi, id=doi.org/10.1086/447879]\n",
      "[INFO] | 2022/04/18 18:13:16 | -> Response: status_code=200, content_length=6863\n",
      "[INFO] | 2022/04/18 18:13:16 | * Extracted information: {'url': 'https://twin.sci-hub.ru/5984/43728d57b6306f1316a8cfcf9e0becf2/bush1976.pdf', 'title': 'Professor Fish on the Milton “Variorum.” Critical Inquiry, 3(1), 179–182'}\n"
     ]
    },
    {
     "name": "stdout",
     "output_type": "stream",
     "text": [
      " 56% [..........................................                                  ] 188416 / 334960"
     ]
    },
    {
     "name": "stderr",
     "output_type": "stream",
     "text": [
      "[INFO] | 2022/04/18 18:13:17 | ↓ Successfully download the url to: ./journals/post_colonial/critical_inquiry/Professor Fish on the Milton “Variorum.” Critical Inquiry, 3(1), 179–182.pdf\n"
     ]
    },
    {
     "name": "stdout",
     "output_type": "stream",
     "text": [
      "100% [............................................................................] 334960 / 334960\n"
     ]
    },
    {
     "name": "stderr",
     "output_type": "stream",
     "text": [
      "[INFO] | 2022/04/18 18:13:27 | Choose scihub url [0]: https://sci-hub.ru\n",
      "[INFO] | 2022/04/18 18:13:27 | <- Request: scihub_url=https://sci-hub.ru, source=DoiSource[type=doi, id=doi.org/10.1086/447880]\n",
      "[INFO] | 2022/04/18 18:13:27 | -> Response: status_code=200, content_length=6921\n",
      "[INFO] | 2022/04/18 18:13:27 | * Extracted information: {'url': 'https://twin.sci-hub.ru/5848/a81430fc5709064d9ddf2e66193f7d38/mailloux1976.pdf', 'title': 'Stanley Fish’s “Interpreting the Variorum”  Advance or Retreat  Critical Inquiry, 3(1), 183–190'}\n"
     ]
    },
    {
     "name": "stdout",
     "output_type": "stream",
     "text": [
      " 21% [................                                                            ] 188416 / 860510"
     ]
    },
    {
     "name": "stderr",
     "output_type": "stream",
     "text": [
      "[INFO] | 2022/04/18 18:13:28 | ↓ Successfully download the url to: ./journals/post_colonial/critical_inquiry/Stanley Fish’s “Interpreting the Variorum”  Advance or Retreat  Critical Inquiry, 3(1), 183–190.pdf\n"
     ]
    },
    {
     "name": "stdout",
     "output_type": "stream",
     "text": [
      "100% [............................................................................] 860510 / 860510\n"
     ]
    },
    {
     "name": "stderr",
     "output_type": "stream",
     "text": [
      "[INFO] | 2022/04/18 18:13:38 | Choose scihub url [0]: https://sci-hub.ru\n",
      "[INFO] | 2022/04/18 18:13:39 | <- Request: scihub_url=https://sci-hub.ru, source=DoiSource[type=doi, id=doi.org/10.1086/447881]\n",
      "[INFO] | 2022/04/18 18:13:39 | -> Response: status_code=200, content_length=6868\n",
      "[INFO] | 2022/04/18 18:13:39 | * Extracted information: {'url': 'https://twin.sci-hub.ru/6028/3d9b5a46fe541854a01104df9bfc4873/fish1976.pdf', 'title': 'Interpreting “Interpreting the Variorum.” Critical Inquiry, 3(1), 191–196'}\n"
     ]
    },
    {
     "name": "stdout",
     "output_type": "stream",
     "text": [
      " 32% [........................                                                    ] 188416 / 588254"
     ]
    },
    {
     "name": "stderr",
     "output_type": "stream",
     "text": [
      "[INFO] | 2022/04/18 18:13:40 | ↓ Successfully download the url to: ./journals/post_colonial/critical_inquiry/Interpreting “Interpreting the Variorum.” Critical Inquiry, 3(1), 191–196.pdf\n"
     ]
    },
    {
     "name": "stdout",
     "output_type": "stream",
     "text": [
      "100% [............................................................................] 588254 / 588254\n"
     ]
    },
    {
     "name": "stderr",
     "output_type": "stream",
     "text": [
      "[INFO] | 2022/04/18 18:13:50 | Choose scihub url [0]: https://sci-hub.ru\n",
      "[INFO] | 2022/04/18 18:13:50 | <- Request: scihub_url=https://sci-hub.ru, source=DoiSource[type=doi, id=doi.org/10.1086/447884]\n",
      "[INFO] | 2022/04/18 18:13:50 | -> Response: status_code=200, content_length=6870\n",
      "[INFO] | 2022/04/18 18:13:50 | * Extracted information: {'url': 'https://twin.sci-hub.ru/6026/9fa6030390d23cd50677ca184464a7ef/hartman1976.pdf', 'title': 'Literary Criticism and Its Discontents. Critical Inquiry, 3(2), 203–220'}\n"
     ]
    },
    {
     "name": "stdout",
     "output_type": "stream",
     "text": [
      " 53% [.......................................                                   ] 1032192 / 1941373"
     ]
    },
    {
     "name": "stderr",
     "output_type": "stream",
     "text": [
      "[INFO] | 2022/04/18 18:13:51 | ↓ Successfully download the url to: ./journals/post_colonial/critical_inquiry/Literary Criticism and Its Discontents. Critical Inquiry, 3(2), 203–220.pdf\n"
     ]
    },
    {
     "name": "stdout",
     "output_type": "stream",
     "text": [
      "100% [..........................................................................] 1941373 / 1941373\n"
     ]
    },
    {
     "name": "stderr",
     "output_type": "stream",
     "text": [
      "[INFO] | 2022/04/18 18:14:01 | Choose scihub url [0]: https://sci-hub.ru\n",
      "[INFO] | 2022/04/18 18:14:01 | <- Request: scihub_url=https://sci-hub.ru, source=DoiSource[type=doi, id=doi.org/10.1086/447885]\n",
      "[INFO] | 2022/04/18 18:14:01 | -> Response: status_code=200, content_length=6882\n",
      "[INFO] | 2022/04/18 18:14:01 | * Extracted information: {'url': 'https://sci-hub.ru/downloads/2019-11-17/95/holland1976.pdf', 'title': 'Literary Interpretation and Three Phases of Psychoanalysis. Critical Inquiry, 3(2), 221–233'}\n"
     ]
    },
    {
     "name": "stdout",
     "output_type": "stream",
     "text": [
      " 81% [............................................................              ] 1204224 / 1472087"
     ]
    },
    {
     "name": "stderr",
     "output_type": "stream",
     "text": [
      "[INFO] | 2022/04/18 18:14:02 | ↓ Successfully download the url to: ./journals/post_colonial/critical_inquiry/Literary Interpretation and Three Phases of Psychoanalysis. Critical Inquiry, 3(2), 221–233.pdf\n"
     ]
    },
    {
     "name": "stdout",
     "output_type": "stream",
     "text": [
      "100% [..........................................................................] 1472087 / 1472087\n"
     ]
    },
    {
     "name": "stderr",
     "output_type": "stream",
     "text": [
      "[INFO] | 2022/04/18 18:14:12 | Choose scihub url [0]: https://sci-hub.ru\n",
      "[INFO] | 2022/04/18 18:14:13 | <- Request: scihub_url=https://sci-hub.ru, source=DoiSource[type=doi, id=doi.org/10.1086/447887]\n",
      "[INFO] | 2022/04/18 18:14:13 | -> Response: status_code=200, content_length=6890\n",
      "[INFO] | 2022/04/18 18:14:13 | * Extracted information: {'url': 'https://sci-hub.ru/downloads/2020-05-18/44/treitler1976.pdf', 'title': '“Wozzeck” and the Apocalypse  An Essay in Historical Criticism. Critical Inquiry, 3(2), 251–270'}\n"
     ]
    },
    {
     "name": "stdout",
     "output_type": "stream",
     "text": [
      " 62% [..............................................                            ] 1212416 / 1927921"
     ]
    },
    {
     "name": "stderr",
     "output_type": "stream",
     "text": [
      "[INFO] | 2022/04/18 18:14:14 | ↓ Successfully download the url to: ./journals/post_colonial/critical_inquiry/“Wozzeck” and the Apocalypse  An Essay in Historical Criticism. Critical Inquiry, 3(2), 251–270.pdf\n"
     ]
    },
    {
     "name": "stdout",
     "output_type": "stream",
     "text": [
      "100% [..........................................................................] 1927921 / 1927921\n"
     ]
    },
    {
     "name": "stderr",
     "output_type": "stream",
     "text": [
      "[INFO] | 2022/04/18 18:14:24 | Choose scihub url [0]: https://sci-hub.ru\n",
      "[INFO] | 2022/04/18 18:14:25 | <- Request: scihub_url=https://sci-hub.ru, source=DoiSource[type=doi, id=doi.org/10.1086/447889]\n",
      "[INFO] | 2022/04/18 18:14:25 | -> Response: status_code=200, content_length=6881\n",
      "[INFO] | 2022/04/18 18:14:25 | * Extracted information: {'url': 'https://twin.sci-hub.ru/6033/7af42e15b21e20ee9989f415b1e6689b/cherchi1976.pdf', 'title': 'Tradition and Topoi in Medieval Literature. Critical Inquiry, 3(2), 281–294'}\n"
     ]
    },
    {
     "name": "stdout",
     "output_type": "stream",
     "text": [
      " 71% [.....................................................                     ] 1163264 / 1618864"
     ]
    },
    {
     "name": "stderr",
     "output_type": "stream",
     "text": [
      "[INFO] | 2022/04/18 18:14:26 | ↓ Successfully download the url to: ./journals/post_colonial/critical_inquiry/Tradition and Topoi in Medieval Literature. Critical Inquiry, 3(2), 281–294.pdf\n"
     ]
    },
    {
     "name": "stdout",
     "output_type": "stream",
     "text": [
      "100% [..........................................................................] 1618864 / 1618864\n"
     ]
    },
    {
     "name": "stderr",
     "output_type": "stream",
     "text": [
      "[INFO] | 2022/04/18 18:14:36 | Choose scihub url [0]: https://sci-hub.ru\n",
      "[INFO] | 2022/04/18 18:14:36 | <- Request: scihub_url=https://sci-hub.ru, source=DoiSource[type=doi, id=doi.org/10.1086/447890]\n",
      "[INFO] | 2022/04/18 18:14:36 | -> Response: status_code=200, content_length=6914\n",
      "[INFO] | 2022/04/18 18:14:36 | * Extracted information: {'url': 'https://twin.sci-hub.ru/6918/f4300a12145448cea3b4410f51962e78/stewart1976.pdf', 'title': 'Modern Hard Times  Chaplin and the Cinema of Self-Reflection. Critical Inquiry, 3(2), 295–314'}\n"
     ]
    },
    {
     "name": "stdout",
     "output_type": "stream",
     "text": [
      " 53% [.......................................                                   ] 1302528 / 2442551"
     ]
    },
    {
     "name": "stderr",
     "output_type": "stream",
     "text": [
      "[INFO] | 2022/04/18 18:14:37 | ↓ Successfully download the url to: ./journals/post_colonial/critical_inquiry/Modern Hard Times  Chaplin and the Cinema of Self-Reflection. Critical Inquiry, 3(2), 295–314.pdf\n"
     ]
    },
    {
     "name": "stdout",
     "output_type": "stream",
     "text": [
      "100% [..........................................................................] 2442551 / 2442551\n"
     ]
    },
    {
     "name": "stderr",
     "output_type": "stream",
     "text": [
      "[INFO] | 2022/04/18 18:14:47 | Choose scihub url [0]: https://sci-hub.ru\n",
      "[INFO] | 2022/04/18 18:14:48 | <- Request: scihub_url=https://sci-hub.ru, source=DoiSource[type=doi, id=doi.org/10.1086/447892]\n",
      "[INFO] | 2022/04/18 18:14:48 | -> Response: status_code=200, content_length=6861\n",
      "[INFO] | 2022/04/18 18:14:48 | * Extracted information: {'url': 'https://twin.sci-hub.ru/6382/6104631f63d9056ef76b157ff714f144/hill1976.pdf', 'title': 'Flaubert and the Rhetoric of Stupidity. Critical Inquiry, 3(2), 333–344'}\n"
     ]
    },
    {
     "name": "stdout",
     "output_type": "stream",
     "text": [
      " 12% [.........                                                                 ]  172032 / 1332416"
     ]
    },
    {
     "name": "stderr",
     "output_type": "stream",
     "text": [
      "[INFO] | 2022/04/18 18:14:49 | ↓ Successfully download the url to: ./journals/post_colonial/critical_inquiry/Flaubert and the Rhetoric of Stupidity. Critical Inquiry, 3(2), 333–344.pdf\n"
     ]
    },
    {
     "name": "stdout",
     "output_type": "stream",
     "text": [
      "100% [..........................................................................] 1332416 / 1332416\n"
     ]
    },
    {
     "name": "stderr",
     "output_type": "stream",
     "text": [
      "[INFO] | 2022/04/18 18:14:59 | Choose scihub url [0]: https://sci-hub.ru\n",
      "[INFO] | 2022/04/18 18:14:59 | <- Request: scihub_url=https://sci-hub.ru, source=DoiSource[type=doi, id=doi.org/10.1086/447898]\n",
      "[INFO] | 2022/04/18 18:14:59 | -> Response: status_code=200, content_length=6842\n",
      "[INFO] | 2022/04/18 18:14:59 | * Extracted information: {'url': 'https://twin.sci-hub.ru/6516/6c0ccbf46cbb32a45a459dc31553565a/abrams1977.pdf', 'title': 'The Deconstructive Angel. Critical Inquiry, 3(3), 425–438'}\n"
     ]
    },
    {
     "name": "stdout",
     "output_type": "stream",
     "text": [
      " 80% [...........................................................               ] 1179648 / 1468935"
     ]
    },
    {
     "name": "stderr",
     "output_type": "stream",
     "text": [
      "[INFO] | 2022/04/18 18:15:00 | ↓ Successfully download the url to: ./journals/post_colonial/critical_inquiry/The Deconstructive Angel. Critical Inquiry, 3(3), 425–438.pdf\n"
     ]
    },
    {
     "name": "stdout",
     "output_type": "stream",
     "text": [
      "100% [..........................................................................] 1468935 / 1468935\n"
     ]
    },
    {
     "name": "stderr",
     "output_type": "stream",
     "text": [
      "[INFO] | 2022/04/18 18:15:10 | Choose scihub url [0]: https://sci-hub.ru\n",
      "[INFO] | 2022/04/18 18:15:10 | <- Request: scihub_url=https://sci-hub.ru, source=DoiSource[type=doi, id=doi.org/10.1086/447899]\n",
      "[INFO] | 2022/04/18 18:15:10 | -> Response: status_code=200, content_length=6830\n",
      "[INFO] | 2022/04/18 18:15:10 | * Extracted information: {'url': 'https://twin.sci-hub.ru/6586/e3f7ca715eb3519760a5952d054a8f48/miller1977.pdf', 'title': 'The Critic as Host. Critical Inquiry, 3(3), 439–447'}\n"
     ]
    },
    {
     "name": "stdout",
     "output_type": "stream",
     "text": [
      " 98% [........................................................................... ] 974848 / 986356"
     ]
    },
    {
     "name": "stderr",
     "output_type": "stream",
     "text": [
      "[INFO] | 2022/04/18 18:15:11 | ↓ Successfully download the url to: ./journals/post_colonial/critical_inquiry/The Critic as Host. Critical Inquiry, 3(3), 439–447.pdf\n"
     ]
    },
    {
     "name": "stdout",
     "output_type": "stream",
     "text": [
      "100% [............................................................................] 986356 / 986356\n"
     ]
    },
    {
     "name": "stderr",
     "output_type": "stream",
     "text": [
      "[INFO] | 2022/04/18 18:15:21 | Choose scihub url [0]: https://sci-hub.ru\n",
      "[INFO] | 2022/04/18 18:15:22 | <- Request: scihub_url=https://sci-hub.ru, source=DoiSource[type=doi, id=doi.org/10.1086/447900]\n",
      "[INFO] | 2022/04/18 18:15:22 | -> Response: status_code=200, content_length=6872\n",
      "[INFO] | 2022/04/18 18:15:22 | * Extracted information: {'url': 'https://twin.sci-hub.ru/6035/e8e795c0df0e64c9d6a6224eba463713/gombrich1977.pdf', 'title': 'The Museum  Past, Present and Future. Critical Inquiry, 3(3), 449–470'}\n"
     ]
    },
    {
     "name": "stdout",
     "output_type": "stream",
     "text": [
      " 94% [.....................................................................     ] 2564096 / 2718572"
     ]
    },
    {
     "name": "stderr",
     "output_type": "stream",
     "text": [
      "[INFO] | 2022/04/18 18:15:23 | ↓ Successfully download the url to: ./journals/post_colonial/critical_inquiry/The Museum  Past, Present and Future. Critical Inquiry, 3(3), 449–470.pdf\n"
     ]
    },
    {
     "name": "stdout",
     "output_type": "stream",
     "text": [
      "100% [..........................................................................] 2718572 / 2718572\n"
     ]
    },
    {
     "name": "stderr",
     "output_type": "stream",
     "text": [
      "[INFO] | 2022/04/18 18:15:33 | Choose scihub url [0]: https://sci-hub.ru\n",
      "[INFO] | 2022/04/18 18:15:34 | <- Request: scihub_url=https://sci-hub.ru, source=DoiSource[type=doi, id=doi.org/10.1086/447902]\n",
      "[INFO] | 2022/04/18 18:15:34 | -> Response: status_code=200, content_length=6876\n",
      "[INFO] | 2022/04/18 18:15:34 | * Extracted information: {'url': 'https://twin.sci-hub.ru/5869/fdd90c6f5b178163dbd6b8aaa1cf5d5d/stimpson1977.pdf', 'title': 'The Mind, the Body, and Gertrude Stein. Critical Inquiry, 3(3), 489–506'}\n"
     ]
    },
    {
     "name": "stdout",
     "output_type": "stream",
     "text": [
      " 79% [...........................................................               ] 1474560 / 1848993"
     ]
    },
    {
     "name": "stderr",
     "output_type": "stream",
     "text": [
      "[INFO] | 2022/04/18 18:15:35 | ↓ Successfully download the url to: ./journals/post_colonial/critical_inquiry/The Mind, the Body, and Gertrude Stein. Critical Inquiry, 3(3), 489–506.pdf\n"
     ]
    },
    {
     "name": "stdout",
     "output_type": "stream",
     "text": [
      "100% [..........................................................................] 1848993 / 1848993\n"
     ]
    },
    {
     "name": "stderr",
     "output_type": "stream",
     "text": [
      "[INFO] | 2022/04/18 18:15:45 | Choose scihub url [0]: https://sci-hub.ru\n",
      "[INFO] | 2022/04/18 18:15:45 | <- Request: scihub_url=https://sci-hub.ru, source=DoiSource[type=doi, id=doi.org/10.1086/447903]\n",
      "[INFO] | 2022/04/18 18:15:45 | -> Response: status_code=200, content_length=6878\n",
      "[INFO] | 2022/04/18 18:15:45 | * Extracted information: {'url': 'https://twin.sci-hub.ru/6586/1b6edbaaa8584d65582bfc990dcd6a34/fox1977.pdf', 'title': 'The Female as Metaphor in William Blake’s Poetry. Critical Inquiry, 3(3), 507–519'}\n"
     ]
    },
    {
     "name": "stdout",
     "output_type": "stream",
     "text": [
      " 13% [.........                                                                 ]  188416 / 1430478"
     ]
    },
    {
     "name": "stderr",
     "output_type": "stream",
     "text": [
      "[INFO] | 2022/04/18 18:15:46 | ↓ Successfully download the url to: ./journals/post_colonial/critical_inquiry/The Female as Metaphor in William Blake’s Poetry. Critical Inquiry, 3(3), 507–519.pdf\n"
     ]
    },
    {
     "name": "stdout",
     "output_type": "stream",
     "text": [
      "100% [..........................................................................] 1430478 / 1430478\n"
     ]
    },
    {
     "name": "stderr",
     "output_type": "stream",
     "text": [
      "[INFO] | 2022/04/18 18:15:56 | Choose scihub url [0]: https://sci-hub.ru\n",
      "[INFO] | 2022/04/18 18:15:56 | <- Request: scihub_url=https://sci-hub.ru, source=DoiSource[type=doi, id=doi.org/10.1086/447904]\n",
      "[INFO] | 2022/04/18 18:15:56 | -> Response: status_code=200, content_length=6920\n",
      "[INFO] | 2022/04/18 18:15:56 | * Extracted information: {'url': 'https://twin.sci-hub.ru/6784/9941fbf775065163806d739bbe795883/hagstrum1977.pdf', 'title': 'Eros and Psyche  Some Versions of Romantic Love and Delicacy. Critical Inquiry, 3(3), 521–542'}\n"
     ]
    },
    {
     "name": "stdout",
     "output_type": "stream",
     "text": [
      " 21% [................                                                          ]  581632 / 2669085"
     ]
    },
    {
     "name": "stderr",
     "output_type": "stream",
     "text": [
      "[INFO] | 2022/04/18 18:15:58 | ↓ Successfully download the url to: ./journals/post_colonial/critical_inquiry/Eros and Psyche  Some Versions of Romantic Love and Delicacy. Critical Inquiry, 3(3), 521–542.pdf\n"
     ]
    },
    {
     "name": "stdout",
     "output_type": "stream",
     "text": [
      "100% [..........................................................................] 2669085 / 2669085\n"
     ]
    },
    {
     "name": "stderr",
     "output_type": "stream",
     "text": [
      "[INFO] | 2022/04/18 18:16:08 | Choose scihub url [0]: https://sci-hub.ru\n",
      "[INFO] | 2022/04/18 18:16:08 | <- Request: scihub_url=https://sci-hub.ru, source=DoiSource[type=doi, id=doi.org/10.1086/447905]\n",
      "[INFO] | 2022/04/18 18:16:08 | -> Response: status_code=200, content_length=6877\n",
      "[INFO] | 2022/04/18 18:16:08 | * Extracted information: {'url': 'https://twin.sci-hub.ru/6028/071d2db3271690a9f8093dcd59f69aae/rosenstein1977.pdf', 'title': 'On Aristotle and Thought in the Drama. Critical Inquiry, 3(3), 543–565'}\n"
     ]
    },
    {
     "name": "stdout",
     "output_type": "stream",
     "text": [
      " 74% [.......................................................                   ] 1908736 / 2562550"
     ]
    },
    {
     "name": "stderr",
     "output_type": "stream",
     "text": [
      "[INFO] | 2022/04/18 18:16:10 | ↓ Successfully download the url to: ./journals/post_colonial/critical_inquiry/On Aristotle and Thought in the Drama. Critical Inquiry, 3(3), 543–565.pdf\n"
     ]
    },
    {
     "name": "stdout",
     "output_type": "stream",
     "text": [
      "100% [..........................................................................] 2562550 / 2562550\n"
     ]
    },
    {
     "name": "stderr",
     "output_type": "stream",
     "text": [
      "[INFO] | 2022/04/18 18:16:20 | Choose scihub url [0]: https://sci-hub.ru\n",
      "[INFO] | 2022/04/18 18:16:20 | <- Request: scihub_url=https://sci-hub.ru, source=DoiSource[type=doi, id=doi.org/10.1086/447906]\n",
      "[INFO] | 2022/04/18 18:16:20 | -> Response: status_code=200, content_length=6824\n",
      "[INFO] | 2022/04/18 18:16:20 | * Extracted information: {'url': 'https://twin.sci-hub.ru/6025/3913ce5798234c641c3c50ea7f98705c/ellmann1977.pdf', 'title': 'Joyce and Homer. Critical Inquiry, 3(3), 567–582'}\n"
     ]
    },
    {
     "name": "stdout",
     "output_type": "stream",
     "text": [
      " 52% [......................................                                    ]  909312 / 1734240"
     ]
    },
    {
     "name": "stderr",
     "output_type": "stream",
     "text": [
      "[INFO] | 2022/04/18 18:16:21 | ↓ Successfully download the url to: ./journals/post_colonial/critical_inquiry/Joyce and Homer. Critical Inquiry, 3(3), 567–582.pdf\n"
     ]
    },
    {
     "name": "stdout",
     "output_type": "stream",
     "text": [
      "100% [..........................................................................] 1734240 / 1734240\n"
     ]
    },
    {
     "name": "stderr",
     "output_type": "stream",
     "text": [
      "[INFO] | 2022/04/18 18:16:31 | Choose scihub url [0]: https://sci-hub.ru\n",
      "[INFO] | 2022/04/18 18:16:32 | <- Request: scihub_url=https://sci-hub.ru, source=DoiSource[type=doi, id=doi.org/10.1086/447908]\n",
      "[INFO] | 2022/04/18 18:16:32 | -> Response: status_code=200, content_length=6834\n",
      "[INFO] | 2022/04/18 18:16:32 | * Extracted information: {'url': 'https://sci-hub.ru/downloads/2020-09-04/69/10.1086@447908.pdf', 'title': '“Catcher” in and out of History. Critical Inquiry, 3(3), 599–603'}\n"
     ]
    },
    {
     "name": "stdout",
     "output_type": "stream",
     "text": [
      " 37% [............................                                                ] 188416 / 506640"
     ]
    },
    {
     "name": "stderr",
     "output_type": "stream",
     "text": [
      "[INFO] | 2022/04/18 18:16:32 | ↓ Successfully download the url to: ./journals/post_colonial/critical_inquiry/“Catcher” in and out of History. Critical Inquiry, 3(3), 599–603.pdf\n"
     ]
    },
    {
     "name": "stdout",
     "output_type": "stream",
     "text": [
      "100% [............................................................................] 506640 / 506640\n"
     ]
    },
    {
     "name": "stderr",
     "output_type": "stream",
     "text": [
      "[INFO] | 2022/04/18 18:16:42 | Choose scihub url [0]: https://sci-hub.ru\n",
      "[INFO] | 2022/04/18 18:16:43 | <- Request: scihub_url=https://sci-hub.ru, source=DoiSource[type=doi, id=doi.org/10.1086/447910]\n",
      "[INFO] | 2022/04/18 18:16:43 | -> Response: status_code=200, content_length=6799\n",
      "[INFO] | 2022/04/18 18:16:43 | * Extracted information: {'url': 'https://sci-hub.ru/downloads/2020-05-29/30/lipking1977.pdf', 'title': 'The Marginal Gloss. Critical Inquiry, 3(4), 609–655'}\n"
     ]
    },
    {
     "name": "stdout",
     "output_type": "stream",
     "text": [
      " 17% [............                                                              ]  188416 / 1082719"
     ]
    },
    {
     "name": "stderr",
     "output_type": "stream",
     "text": [
      "[INFO] | 2022/04/18 18:16:44 | ↓ Successfully download the url to: ./journals/post_colonial/critical_inquiry/The Marginal Gloss. Critical Inquiry, 3(4), 609–655.pdf\n"
     ]
    },
    {
     "name": "stdout",
     "output_type": "stream",
     "text": [
      "100% [..........................................................................] 1082719 / 1082719\n"
     ]
    },
    {
     "name": "stderr",
     "output_type": "stream",
     "text": [
      "[INFO] | 2022/04/18 18:16:54 | Choose scihub url [0]: https://sci-hub.ru\n",
      "[INFO] | 2022/04/18 18:16:54 | <- Request: scihub_url=https://sci-hub.ru, source=DoiSource[type=doi, id=doi.org/10.1086/447911]\n",
      "[INFO] | 2022/04/18 18:16:54 | -> Response: status_code=200, content_length=6844\n",
      "[INFO] | 2022/04/18 18:16:54 | * Extracted information: {'url': 'https://twin.sci-hub.ru/6443/0b2241fb27e00d5d41696a8cec49a3a4/metz1977.pdf', 'title': '“Trucage” and the Film. Critical Inquiry, 3(4), 657–675'}\n"
     ]
    },
    {
     "name": "stdout",
     "output_type": "stream",
     "text": [
      " 47% [..................................                                        ]  991232 / 2099623"
     ]
    },
    {
     "name": "stderr",
     "output_type": "stream",
     "text": [
      "[INFO] | 2022/04/18 18:16:55 | ↓ Successfully download the url to: ./journals/post_colonial/critical_inquiry/“Trucage” and the Film. Critical Inquiry, 3(4), 657–675.pdf\n"
     ]
    },
    {
     "name": "stdout",
     "output_type": "stream",
     "text": [
      "100% [..........................................................................] 2099623 / 2099623\n"
     ]
    },
    {
     "name": "stderr",
     "output_type": "stream",
     "text": [
      "[INFO] | 2022/04/18 18:17:05 | Choose scihub url [0]: https://sci-hub.ru\n",
      "[INFO] | 2022/04/18 18:17:06 | <- Request: scihub_url=https://sci-hub.ru, source=DoiSource[type=doi, id=doi.org/10.1086/447913]\n",
      "[INFO] | 2022/04/18 18:17:06 | -> Response: status_code=200, content_length=6886\n",
      "[INFO] | 2022/04/18 18:17:06 | * Extracted information: {'url': 'https://sci-hub.ru/downloads/2020-05-21/59/wollheim1977.pdf', 'title': 'Representation  The Philosophical Contribution to Psychology. Critical Inquiry, 3(4), 709–723'}\n"
     ]
    },
    {
     "name": "stdout",
     "output_type": "stream",
     "text": [
      " 72% [......................................................                      ] 188416 / 260669"
     ]
    },
    {
     "name": "stderr",
     "output_type": "stream",
     "text": [
      "[INFO] | 2022/04/18 18:17:06 | ↓ Successfully download the url to: ./journals/post_colonial/critical_inquiry/Representation  The Philosophical Contribution to Psychology. Critical Inquiry, 3(4), 709–723.pdf\n"
     ]
    },
    {
     "name": "stdout",
     "output_type": "stream",
     "text": [
      "100% [............................................................................] 260669 / 260669\n"
     ]
    },
    {
     "name": "stderr",
     "output_type": "stream",
     "text": [
      "[INFO] | 2022/04/18 18:17:16 | Choose scihub url [0]: https://sci-hub.ru\n",
      "[INFO] | 2022/04/18 18:17:17 | <- Request: scihub_url=https://sci-hub.ru, source=DoiSource[type=doi, id=doi.org/10.1086/447914]\n",
      "[INFO] | 2022/04/18 18:17:17 | -> Response: status_code=200, content_length=6868\n",
      "[INFO] | 2022/04/18 18:17:17 | * Extracted information: {'url': 'https://twin.sci-hub.ru/6663/a459acd91a0c41c1da03d116b2c4d4b8/streeter1977.pdf', 'title': 'WASPs and Other Endangered Species. Critical Inquiry, 3(4), 725–739'}\n"
     ]
    },
    {
     "name": "stdout",
     "output_type": "stream",
     "text": [
      " 60% [............................................                              ] 1064960 / 1771267"
     ]
    },
    {
     "name": "stderr",
     "output_type": "stream",
     "text": [
      "[INFO] | 2022/04/18 18:17:18 | ↓ Successfully download the url to: ./journals/post_colonial/critical_inquiry/WASPs and Other Endangered Species. Critical Inquiry, 3(4), 725–739.pdf\n"
     ]
    },
    {
     "name": "stdout",
     "output_type": "stream",
     "text": [
      "100% [..........................................................................] 1771267 / 1771267\n"
     ]
    },
    {
     "name": "stderr",
     "output_type": "stream",
     "text": [
      "[INFO] | 2022/04/18 18:17:28 | Choose scihub url [0]: https://sci-hub.ru\n",
      "[INFO] | 2022/04/18 18:17:28 | <- Request: scihub_url=https://sci-hub.ru, source=DoiSource[type=doi, id=doi.org/10.1086/447916]\n",
      "[INFO] | 2022/04/18 18:17:28 | -> Response: status_code=200, content_length=6889\n",
      "[INFO] | 2022/04/18 18:17:28 | * Extracted information: {'url': 'https://twin.sci-hub.ru/5862/777468c8f4cf3268731d35ab7c8fefc7/ohmann1977.pdf', 'title': 'Universals and the Historically Particular. Critical Inquiry, 3(4), 773–777'}\n"
     ]
    },
    {
     "name": "stdout",
     "output_type": "stream",
     "text": [
      " 20% [...............                                                             ] 106496 / 522248"
     ]
    },
    {
     "name": "stderr",
     "output_type": "stream",
     "text": [
      "[INFO] | 2022/04/18 18:17:29 | ↓ Successfully download the url to: ./journals/post_colonial/critical_inquiry/Universals and the Historically Particular. Critical Inquiry, 3(4), 773–777.pdf\n"
     ]
    },
    {
     "name": "stdout",
     "output_type": "stream",
     "text": [
      "100% [............................................................................] 522248 / 522248\n"
     ]
    },
    {
     "name": "stderr",
     "output_type": "stream",
     "text": [
      "[INFO] | 2022/04/18 18:17:39 | Choose scihub url [0]: https://sci-hub.ru\n",
      "[INFO] | 2022/04/18 18:17:40 | <- Request: scihub_url=https://sci-hub.ru, source=DoiSource[type=doi, id=doi.org/10.1086/447921]\n",
      "[INFO] | 2022/04/18 18:17:40 | -> Response: status_code=200, content_length=6901\n",
      "[INFO] | 2022/04/18 18:17:40 | * Extracted information: {'url': 'https://twin.sci-hub.ru/6029/c386d7dae7242e951e241a2c27545148/robbe-grillet1977.pdf', 'title': 'Order and Disorder in Film and Fiction. Critical Inquiry, 4(1), 1–20'}\n"
     ]
    },
    {
     "name": "stdout",
     "output_type": "stream",
     "text": [
      " 51% [......................................                                    ] 1171456 / 2262194"
     ]
    },
    {
     "name": "stderr",
     "output_type": "stream",
     "text": [
      "[INFO] | 2022/04/18 18:17:40 | ↓ Successfully download the url to: ./journals/post_colonial/critical_inquiry/Order and Disorder in Film and Fiction. Critical Inquiry, 4(1), 1–20.pdf\n"
     ]
    },
    {
     "name": "stdout",
     "output_type": "stream",
     "text": [
      "100% [..........................................................................] 2262194 / 2262194\n"
     ]
    },
    {
     "name": "stderr",
     "output_type": "stream",
     "text": [
      "[INFO] | 2022/04/18 18:17:50 | Choose scihub url [0]: https://sci-hub.ru\n",
      "[INFO] | 2022/04/18 18:17:51 | <- Request: scihub_url=https://sci-hub.ru, source=DoiSource[type=doi, id=doi.org/10.1086/447923]\n",
      "[INFO] | 2022/04/18 18:17:51 | -> Response: status_code=200, content_length=6852\n",
      "[INFO] | 2022/04/18 18:17:51 | * Extracted information: {'url': 'https://twin.sci-hub.ru/6781/b9fc4dd970b65f3938176881a31b36a7/morgan1977.pdf', 'title': 'On the Analysis of Recent Music. Critical Inquiry, 4(1), 33–53'}\n"
     ]
    },
    {
     "name": "stdout",
     "output_type": "stream",
     "text": [
      " 35% [..........................                                                ]  860160 / 2410914"
     ]
    },
    {
     "name": "stderr",
     "output_type": "stream",
     "text": [
      "[INFO] | 2022/04/18 18:17:52 | ↓ Successfully download the url to: ./journals/post_colonial/critical_inquiry/On the Analysis of Recent Music. Critical Inquiry, 4(1), 33–53.pdf\n"
     ]
    },
    {
     "name": "stdout",
     "output_type": "stream",
     "text": [
      "100% [..........................................................................] 2410914 / 2410914\n"
     ]
    },
    {
     "name": "stderr",
     "output_type": "stream",
     "text": [
      "[INFO] | 2022/04/18 18:18:02 | Choose scihub url [0]: https://sci-hub.ru\n",
      "[INFO] | 2022/04/18 18:18:02 | <- Request: scihub_url=https://sci-hub.ru, source=DoiSource[type=doi, id=doi.org/10.1086/447924]\n",
      "[INFO] | 2022/04/18 18:18:02 | -> Response: status_code=200, content_length=6986\n",
      "[INFO] | 2022/04/18 18:18:02 | * Extracted information: {'url': 'https://twin.sci-hub.ru/6665/9157acfdeef51b6c6d4bdae657f79c5c/morawski1977.pdf', 'title': 'Contemporary Approaches to Aesthetic Inquiry  Absolute Demands and Limited Possibilities. Critical Inquiry, 4(1), 55–83'}\n"
     ]
    },
    {
     "name": "stdout",
     "output_type": "stream",
     "text": [
      " 77% [.........................................................                 ] 2621440 / 3361923"
     ]
    },
    {
     "name": "stderr",
     "output_type": "stream",
     "text": [
      "[INFO] | 2022/04/18 18:18:04 | ↓ Successfully download the url to: ./journals/post_colonial/critical_inquiry/Contemporary Approaches to Aesthetic Inquiry  Absolute Demands and Limited Possibilities. Critical Inquiry, 4(1), 55–83.pdf\n"
     ]
    },
    {
     "name": "stdout",
     "output_type": "stream",
     "text": [
      "100% [..........................................................................] 3361923 / 3361923\n"
     ]
    },
    {
     "name": "stderr",
     "output_type": "stream",
     "text": [
      "[INFO] | 2022/04/18 18:18:14 | Choose scihub url [0]: https://sci-hub.ru\n",
      "[INFO] | 2022/04/18 18:18:14 | <- Request: scihub_url=https://sci-hub.ru, source=DoiSource[type=doi, id=doi.org/10.1086/447926]\n",
      "[INFO] | 2022/04/18 18:18:14 | -> Response: status_code=200, content_length=6858\n",
      "[INFO] | 2022/04/18 18:18:14 | * Extracted information: {'url': 'https://twin.sci-hub.ru/6244/f398ad4102fcbaa7b48ab3b25b5566eb/scholes1977.pdf', 'title': 'Toward a Semiotics of Literature. Critical Inquiry, 4(1), 105–120'}\n"
     ]
    },
    {
     "name": "stdout",
     "output_type": "stream",
     "text": [
      " 77% [.........................................................                 ] 1384448 / 1776027"
     ]
    },
    {
     "name": "stderr",
     "output_type": "stream",
     "text": [
      "[INFO] | 2022/04/18 18:18:15 | ↓ Successfully download the url to: ./journals/post_colonial/critical_inquiry/Toward a Semiotics of Literature. Critical Inquiry, 4(1), 105–120.pdf\n"
     ]
    },
    {
     "name": "stdout",
     "output_type": "stream",
     "text": [
      "100% [..........................................................................] 1776027 / 1776027\n"
     ]
    },
    {
     "name": "stderr",
     "output_type": "stream",
     "text": [
      "[INFO] | 2022/04/18 18:18:25 | Choose scihub url [0]: https://sci-hub.ru\n",
      "[INFO] | 2022/04/18 18:18:25 | <- Request: scihub_url=https://sci-hub.ru, source=DoiSource[type=doi, id=doi.org/10.1086/447927]\n",
      "[INFO] | 2022/04/18 18:18:25 | -> Response: status_code=200, content_length=6898\n",
      "[INFO] | 2022/04/18 18:18:25 | * Extracted information: {'url': 'https://twin.sci-hub.ru/6452/9d6d0625334c0b52f86160a1edaad681/rabinowitz1977.pdf', 'title': 'Truth in Fiction  A Reexamination of Audiences. Critical Inquiry, 4(1), 121–141'}\n"
     ]
    },
    {
     "name": "stdout",
     "output_type": "stream",
     "text": [
      " 45% [.................................                                         ] 1064960 / 2338254"
     ]
    },
    {
     "name": "stderr",
     "output_type": "stream",
     "text": [
      "[INFO] | 2022/04/18 18:18:27 | ↓ Successfully download the url to: ./journals/post_colonial/critical_inquiry/Truth in Fiction  A Reexamination of Audiences. Critical Inquiry, 4(1), 121–141.pdf\n"
     ]
    },
    {
     "name": "stdout",
     "output_type": "stream",
     "text": [
      "100% [..........................................................................] 2338254 / 2338254\n"
     ]
    },
    {
     "name": "stderr",
     "output_type": "stream",
     "text": [
      "[INFO] | 2022/04/18 18:18:37 | Choose scihub url [0]: https://sci-hub.ru\n",
      "[INFO] | 2022/04/18 18:18:37 | <- Request: scihub_url=https://sci-hub.ru, source=DoiSource[type=doi, id=doi.org/10.1086/447932]\n",
      "[INFO] | 2022/04/18 18:18:37 | -> Response: status_code=200, content_length=6872\n",
      "[INFO] | 2022/04/18 18:18:37 | * Extracted information: {'url': 'https://twin.sci-hub.ru/6044/1e35f0275179b41b877a200b2393f554/wellek1977.pdf', 'title': 'Notes and Exchanges. Critical Inquiry, 4(1), 203–212'}\n"
     ]
    },
    {
     "name": "stdout",
     "output_type": "stream",
     "text": [
      " 16% [............                                                              ]  172032 / 1024943"
     ]
    },
    {
     "name": "stderr",
     "output_type": "stream",
     "text": [
      "[INFO] | 2022/04/18 18:18:38 | ↓ Successfully download the url to: ./journals/post_colonial/critical_inquiry/Notes and Exchanges. Critical Inquiry, 4(1), 203–212.pdf\n"
     ]
    },
    {
     "name": "stdout",
     "output_type": "stream",
     "text": [
      "100% [..........................................................................] 1024943 / 1024943\n"
     ]
    },
    {
     "name": "stderr",
     "output_type": "stream",
     "text": [
      "[INFO] | 2022/04/18 18:18:48 | Choose scihub url [0]: https://sci-hub.ru\n",
      "[INFO] | 2022/04/18 18:18:48 | <- Request: scihub_url=https://sci-hub.ru, source=DoiSource[type=doi, id=doi.org/10.1086/447933]\n",
      "[INFO] | 2022/04/18 18:18:48 | -> Response: status_code=200, content_length=6884\n",
      "[INFO] | 2022/04/18 18:18:48 | * Extracted information: {'url': 'https://twin.sci-hub.ru/5829/cfbf4fdec5bb38bb642f3a0a888e6bf5/burke1977.pdf', 'title': 'Post-Poesque Derivation of a Terministic Cluster. Critical Inquiry, 4(2), 214–220'}\n"
     ]
    },
    {
     "name": "stdout",
     "output_type": "stream",
     "text": [
      " 28% [.....................                                                       ] 188416 / 670020"
     ]
    },
    {
     "name": "stderr",
     "output_type": "stream",
     "text": [
      "[INFO] | 2022/04/18 18:18:49 | ↓ Successfully download the url to: ./journals/post_colonial/critical_inquiry/Post-Poesque Derivation of a Terministic Cluster. Critical Inquiry, 4(2), 214–220.pdf\n"
     ]
    },
    {
     "name": "stdout",
     "output_type": "stream",
     "text": [
      "100% [............................................................................] 670020 / 670020\n"
     ]
    },
    {
     "name": "stderr",
     "output_type": "stream",
     "text": [
      "[INFO] | 2022/04/18 18:18:59 | Choose scihub url [0]: https://sci-hub.ru\n",
      "[INFO] | 2022/04/18 18:19:00 | <- Request: scihub_url=https://sci-hub.ru, source=DoiSource[type=doi, id=doi.org/10.1086/447935]\n",
      "[INFO] | 2022/04/18 18:19:00 | -> Response: status_code=200, content_length=6856\n",
      "[INFO] | 2022/04/18 18:19:00 | * Extracted information: {'url': 'https://twin.sci-hub.ru/6328/f1ee65859239b42539a823cd99ca24a7/frank1977.pdf', 'title': 'Spatial Form  An Answer to Critics. Critical Inquiry, 4(2), 231–252'}\n"
     ]
    },
    {
     "name": "stdout",
     "output_type": "stream",
     "text": [
      " 51% [.....................................                                     ] 1245184 / 2426710"
     ]
    },
    {
     "name": "stderr",
     "output_type": "stream",
     "text": [
      "[INFO] | 2022/04/18 18:19:01 | ↓ Successfully download the url to: ./journals/post_colonial/critical_inquiry/Spatial Form  An Answer to Critics. Critical Inquiry, 4(2), 231–252.pdf\n"
     ]
    },
    {
     "name": "stdout",
     "output_type": "stream",
     "text": [
      "100% [..........................................................................] 2426710 / 2426710\n"
     ]
    },
    {
     "name": "stderr",
     "output_type": "stream",
     "text": [
      "[INFO] | 2022/04/18 18:19:11 | Choose scihub url [0]: https://sci-hub.ru\n",
      "[INFO] | 2022/04/18 18:19:11 | <- Request: scihub_url=https://sci-hub.ru, source=DoiSource[type=doi, id=doi.org/10.1086/447936]\n",
      "[INFO] | 2022/04/18 18:19:11 | -> Response: status_code=200, content_length=6836\n",
      "[INFO] | 2022/04/18 18:19:11 | * Extracted information: {'url': 'https://twin.sci-hub.ru/5826/bf8d2618bfaf0bb72f9331536996458b/rabkin1977.pdf', 'title': 'Spatial Form and Plot. Critical Inquiry, 4(2), 253–270'}\n"
     ]
    },
    {
     "name": "stdout",
     "output_type": "stream",
     "text": [
      " 40% [.............................                                             ]  778240 / 1945225"
     ]
    },
    {
     "name": "stderr",
     "output_type": "stream",
     "text": [
      "[INFO] | 2022/04/18 18:19:12 | ↓ Successfully download the url to: ./journals/post_colonial/critical_inquiry/Spatial Form and Plot. Critical Inquiry, 4(2), 253–270.pdf\n"
     ]
    },
    {
     "name": "stdout",
     "output_type": "stream",
     "text": [
      "100% [..........................................................................] 1945225 / 1945225\n"
     ]
    },
    {
     "name": "stderr",
     "output_type": "stream",
     "text": [
      "[INFO] | 2022/04/18 18:19:22 | Choose scihub url [0]: https://sci-hub.ru\n",
      "[INFO] | 2022/04/18 18:19:23 | <- Request: scihub_url=https://sci-hub.ru, source=DoiSource[type=doi, id=doi.org/10.1086/447942]\n",
      "[INFO] | 2022/04/18 18:19:23 | -> Response: status_code=200, content_length=6850\n",
      "[INFO] | 2022/04/18 18:19:23 | * Extracted information: {'url': 'https://twin.sci-hub.ru/6663/c9a21215731d9f83f3692ae66f11e25f/olson1977.pdf', 'title': 'A Conspectus of Poetry  Part II. Critical Inquiry, 4(2), 373–396'}\n"
     ]
    },
    {
     "name": "stdout",
     "output_type": "stream",
     "text": [
      " 47% [..................................                                        ] 1187840 / 2517578"
     ]
    },
    {
     "name": "stderr",
     "output_type": "stream",
     "text": [
      "[INFO] | 2022/04/18 18:19:24 | ↓ Successfully download the url to: ./journals/post_colonial/critical_inquiry/A Conspectus of Poetry  Part II. Critical Inquiry, 4(2), 373–396.pdf\n"
     ]
    },
    {
     "name": "stdout",
     "output_type": "stream",
     "text": [
      "100% [..........................................................................] 2517578 / 2517578\n"
     ]
    },
    {
     "name": "stderr",
     "output_type": "stream",
     "text": [
      "[INFO] | 2022/04/18 18:19:34 | Choose scihub url [0]: https://sci-hub.ru\n",
      "[INFO] | 2022/04/18 18:19:34 | <- Request: scihub_url=https://sci-hub.ru, source=DoiSource[type=doi, id=doi.org/10.1086/447944]\n",
      "[INFO] | 2022/04/18 18:19:34 | -> Response: status_code=200, content_length=6862\n",
      "[INFO] | 2022/04/18 18:19:34 | * Extracted information: {'url': 'https://twin.sci-hub.ru/6029/3ae648485360ed5c81c6437fef956541/hartman1977.pdf', 'title': 'The Recognition Scene of Criticism. Critical Inquiry, 4(2), 407–416'}\n"
     ]
    },
    {
     "name": "stdout",
     "output_type": "stream",
     "text": [
      " 17% [............                                                              ]  188416 / 1096786"
     ]
    },
    {
     "name": "stderr",
     "output_type": "stream",
     "text": [
      "[INFO] | 2022/04/18 18:19:35 | ↓ Successfully download the url to: ./journals/post_colonial/critical_inquiry/The Recognition Scene of Criticism. Critical Inquiry, 4(2), 407–416.pdf\n"
     ]
    },
    {
     "name": "stdout",
     "output_type": "stream",
     "text": [
      "100% [..........................................................................] 1096786 / 1096786\n"
     ]
    },
    {
     "name": "stderr",
     "output_type": "stream",
     "text": [
      "[INFO] | 2022/04/18 18:19:45 | Choose scihub url [0]: https://sci-hub.ru\n",
      "[INFO] | 2022/04/18 18:19:46 | <- Request: scihub_url=https://sci-hub.ru, source=DoiSource[type=doi, id=doi.org/10.1086/447947]\n",
      "[INFO] | 2022/04/18 18:19:46 | -> Response: status_code=200, content_length=6825\n",
      "[INFO] | 2022/04/18 18:19:46 | * Extracted information: {'url': 'https://twin.sci-hub.ru/5835/fa50f5803dc00014220cc4954076c8a0/holland1978.pdf', 'title': 'Human Identity. Critical Inquiry, 4(3), 451–469'}\n"
     ]
    },
    {
     "name": "stdout",
     "output_type": "stream",
     "text": [
      " 44% [.................................                                         ]  950272 / 2112294"
     ]
    },
    {
     "name": "stderr",
     "output_type": "stream",
     "text": [
      "[INFO] | 2022/04/18 18:19:47 | ↓ Successfully download the url to: ./journals/post_colonial/critical_inquiry/Human Identity. Critical Inquiry, 4(3), 451–469.pdf\n"
     ]
    },
    {
     "name": "stdout",
     "output_type": "stream",
     "text": [
      "100% [..........................................................................] 2112294 / 2112294\n"
     ]
    },
    {
     "name": "stderr",
     "output_type": "stream",
     "text": [
      "[INFO] | 2022/04/18 18:19:57 | Choose scihub url [0]: https://sci-hub.ru\n",
      "[INFO] | 2022/04/18 18:19:57 | <- Request: scihub_url=https://sci-hub.ru, source=DoiSource[type=doi, id=doi.org/10.1086/447949]\n",
      "[INFO] | 2022/04/18 18:19:57 | -> Response: status_code=200, content_length=6881\n",
      "[INFO] | 2022/04/18 18:19:57 | * Extracted information: {'url': 'https://zero.sci-hub.ru/6528/d3640519b796b72eb3f68cd8dc1f7a0c/szondi1978.pdf', 'title': 'Hope in the Past  On Walter Benjamin. Critical Inquiry, 4(3), 491–506'}\n"
     ]
    },
    {
     "name": "stdout",
     "output_type": "stream",
     "text": [
      " 61% [.............................................                             ] 1024000 / 1672477"
     ]
    },
    {
     "name": "stderr",
     "output_type": "stream",
     "text": [
      "[INFO] | 2022/04/18 18:19:59 | ↓ Successfully download the url to: ./journals/post_colonial/critical_inquiry/Hope in the Past  On Walter Benjamin. Critical Inquiry, 4(3), 491–506.pdf\n"
     ]
    },
    {
     "name": "stdout",
     "output_type": "stream",
     "text": [
      "100% [..........................................................................] 1672477 / 1672477\n"
     ]
    },
    {
     "name": "stderr",
     "output_type": "stream",
     "text": [
      "[INFO] | 2022/04/18 18:20:09 | Choose scihub url [0]: https://sci-hub.ru\n",
      "[INFO] | 2022/04/18 18:20:09 | <- Request: scihub_url=https://sci-hub.ru, source=DoiSource[type=doi, id=doi.org/10.1086/447950]\n",
      "[INFO] | 2022/04/18 18:20:09 | -> Response: status_code=200, content_length=6929\n",
      "[INFO] | 2022/04/18 18:20:09 | * Extracted information: {'url': 'https://twin.sci-hub.ru/6918/098ba8e77ce89ed4ffd901c8423fc1f1/jameson1978.pdf', 'title': 'The Symbolic Inference; Or, Kenneth Burke and Ideological Analysis. Critical Inquiry, 4(3), 507–523'}\n"
     ]
    },
    {
     "name": "stdout",
     "output_type": "stream",
     "text": [
      " 73% [......................................................                    ] 1417216 / 1935985"
     ]
    },
    {
     "name": "stderr",
     "output_type": "stream",
     "text": [
      "[INFO] | 2022/04/18 18:20:10 | ↓ Successfully download the url to: ./journals/post_colonial/critical_inquiry/The Symbolic Inference; Or, Kenneth Burke and Ideological Analysis. Critical Inquiry, 4(3), 507–523.pdf\n"
     ]
    },
    {
     "name": "stdout",
     "output_type": "stream",
     "text": [
      "100% [..........................................................................] 1935985 / 1935985\n"
     ]
    },
    {
     "name": "stderr",
     "output_type": "stream",
     "text": [
      "[INFO] | 2022/04/18 18:20:20 | Choose scihub url [0]: https://sci-hub.ru\n",
      "[INFO] | 2022/04/18 18:20:21 | <- Request: scihub_url=https://sci-hub.ru, source=DoiSource[type=doi, id=doi.org/10.1086/447951]\n",
      "[INFO] | 2022/04/18 18:20:21 | -> Response: status_code=200, content_length=6861\n",
      "[INFO] | 2022/04/18 18:20:21 | * Extracted information: {'url': 'https://twin.sci-hub.ru/5861/e3e40764ff85ed7bf1680950c10f0c80/segre1978.pdf', 'title': 'Culture and Modeling Systems. Critical Inquiry, 4(3), 525–537'}\n"
     ]
    },
    {
     "name": "stdout",
     "output_type": "stream",
     "text": [
      " 14% [...........                                                               ]  188416 / 1261693"
     ]
    },
    {
     "name": "stderr",
     "output_type": "stream",
     "text": [
      "[INFO] | 2022/04/18 18:20:22 | ↓ Successfully download the url to: ./journals/post_colonial/critical_inquiry/Culture and Modeling Systems. Critical Inquiry, 4(3), 525–537.pdf\n"
     ]
    },
    {
     "name": "stdout",
     "output_type": "stream",
     "text": [
      "100% [..........................................................................] 1261693 / 1261693\n"
     ]
    },
    {
     "name": "stderr",
     "output_type": "stream",
     "text": [
      "[INFO] | 2022/04/18 18:20:32 | Choose scihub url [0]: https://sci-hub.ru\n",
      "[INFO] | 2022/04/18 18:20:32 | <- Request: scihub_url=https://sci-hub.ru, source=DoiSource[type=doi, id=doi.org/10.1086/447953]\n",
      "[INFO] | 2022/04/18 18:20:32 | -> Response: status_code=200, content_length=6892\n",
      "[INFO] | 2022/04/18 18:20:32 | * Extracted information: {'url': 'https://sci-hub.ru/downloads/2019-12-08/7b/oates1978.pdf', 'title': 'Lawrence’s “Götterdämmerung”  The Tragic Vision of “Women in Love.” Critical Inquiry, 4(3), 559–578'}\n"
     ]
    },
    {
     "name": "stdout",
     "output_type": "stream",
     "text": [
      " 50% [.....................................                                     ] 1130496 / 2233580"
     ]
    },
    {
     "name": "stderr",
     "output_type": "stream",
     "text": [
      "[INFO] | 2022/04/18 18:20:33 | ↓ Successfully download the url to: ./journals/post_colonial/critical_inquiry/Lawrence’s “Götterdämmerung”  The Tragic Vision of “Women in Love.” Critical Inquiry, 4(3), 559–578.pdf\n"
     ]
    },
    {
     "name": "stdout",
     "output_type": "stream",
     "text": [
      "100% [..........................................................................] 2233580 / 2233580\n"
     ]
    },
    {
     "name": "stderr",
     "output_type": "stream",
     "text": [
      "[INFO] | 2022/04/18 18:20:43 | Choose scihub url [0]: https://sci-hub.ru\n",
      "[INFO] | 2022/04/18 18:20:43 | <- Request: scihub_url=https://sci-hub.ru, source=DoiSource[type=doi, id=doi.org/10.1086/447954]\n",
      "[INFO] | 2022/04/18 18:20:43 | -> Response: status_code=200, content_length=6840\n",
      "[INFO] | 2022/04/18 18:20:43 | * Extracted information: {'url': 'https://twin.sci-hub.ru/6456/0ee63d1a90284c59463dfbc1c00c473a/kermode1978.pdf', 'title': 'A Reply to Joseph Frank. Critical Inquiry, 4(3), 579–588'}\n"
     ]
    },
    {
     "name": "stdout",
     "output_type": "stream",
     "text": [
      " 90% [..................................................................        ]  999424 / 1104984"
     ]
    },
    {
     "name": "stderr",
     "output_type": "stream",
     "text": [
      "[INFO] | 2022/04/18 18:20:45 | ↓ Successfully download the url to: ./journals/post_colonial/critical_inquiry/A Reply to Joseph Frank. Critical Inquiry, 4(3), 579–588.pdf\n"
     ]
    },
    {
     "name": "stdout",
     "output_type": "stream",
     "text": [
      "100% [..........................................................................] 1104984 / 1104984\n"
     ]
    },
    {
     "name": "stderr",
     "output_type": "stream",
     "text": [
      "[INFO] | 2022/04/18 18:20:55 | Choose scihub url [0]: https://sci-hub.ru\n",
      "[INFO] | 2022/04/18 18:20:55 | <- Request: scihub_url=https://sci-hub.ru, source=DoiSource[type=doi, id=doi.org/10.1086/447956]\n",
      "[INFO] | 2022/04/18 18:20:55 | -> Response: status_code=200, content_length=6925\n",
      "[INFO] | 2022/04/18 18:20:55 | * Extracted information: {'url': 'https://twin.sci-hub.ru/5879/a0b8ddc1c3257b6a9390592342598c65/rosenstein1978.pdf', 'title': 'Rethinking Aristotle’s “Thought”  A Response to James E. Ford. Critical Inquiry, 4(3), 597–606'}\n"
     ]
    },
    {
     "name": "stdout",
     "output_type": "stream",
     "text": [
      " 17% [.............                                                             ]  188416 / 1065666"
     ]
    },
    {
     "name": "stderr",
     "output_type": "stream",
     "text": [
      "[INFO] | 2022/04/18 18:20:56 | ↓ Successfully download the url to: ./journals/post_colonial/critical_inquiry/Rethinking Aristotle’s “Thought”  A Response to James E. Ford. Critical Inquiry, 4(3), 597–606.pdf\n"
     ]
    },
    {
     "name": "stdout",
     "output_type": "stream",
     "text": [
      "100% [..........................................................................] 1065666 / 1065666\n"
     ]
    },
    {
     "name": "stderr",
     "output_type": "stream",
     "text": [
      "[INFO] | 2022/04/18 18:21:06 | Choose scihub url [0]: https://sci-hub.ru\n",
      "[INFO] | 2022/04/18 18:21:06 | <- Request: scihub_url=https://sci-hub.ru, source=DoiSource[type=doi, id=doi.org/10.1086/447958]\n",
      "[INFO] | 2022/04/18 18:21:06 | -> Response: status_code=200, content_length=6857\n",
      "[INFO] | 2022/04/18 18:21:06 | * Extracted information: {'url': 'https://twin.sci-hub.ru/6236/48302f18787e2fbd59669a48a6957e17/wellek1978.pdf', 'title': 'The New Criticism  Pro and Contra. Critical Inquiry, 4(4), 611–624'}\n"
     ]
    },
    {
     "name": "stdout",
     "output_type": "stream",
     "text": [
      " 52% [.......................................                                   ]  860160 / 1623963"
     ]
    },
    {
     "name": "stderr",
     "output_type": "stream",
     "text": [
      "[INFO] | 2022/04/18 18:21:07 | ↓ Successfully download the url to: ./journals/post_colonial/critical_inquiry/The New Criticism  Pro and Contra. Critical Inquiry, 4(4), 611–624.pdf\n"
     ]
    },
    {
     "name": "stdout",
     "output_type": "stream",
     "text": [
      "100% [..........................................................................] 1623963 / 1623963\n"
     ]
    },
    {
     "name": "stderr",
     "output_type": "stream",
     "text": [
      "[INFO] | 2022/04/18 18:21:17 | Choose scihub url [0]: https://sci-hub.ru\n",
      "[INFO] | 2022/04/18 18:21:18 | <- Request: scihub_url=https://sci-hub.ru, source=DoiSource[type=doi, id=doi.org/10.1086/447960]\n",
      "[INFO] | 2022/04/18 18:21:18 | -> Response: status_code=200, content_length=6852\n",
      "[INFO] | 2022/04/18 18:21:18 | * Extracted information: {'url': 'https://twin.sci-hub.ru/5984/573108e5f74dc2b8d8ae3c2ecea6efca/arnheim1978.pdf', 'title': 'A Stricture on Space and Time. Critical Inquiry, 4(4), 645–655'}\n"
     ]
    },
    {
     "name": "stdout",
     "output_type": "stream",
     "text": [
      " 99% [......................................................................... ] 1187840 / 1190616"
     ]
    },
    {
     "name": "stderr",
     "output_type": "stream",
     "text": [
      "[INFO] | 2022/04/18 18:21:19 | ↓ Successfully download the url to: ./journals/post_colonial/critical_inquiry/A Stricture on Space and Time. Critical Inquiry, 4(4), 645–655.pdf\n"
     ]
    },
    {
     "name": "stdout",
     "output_type": "stream",
     "text": [
      "100% [..........................................................................] 1190616 / 1190616\n"
     ]
    },
    {
     "name": "stderr",
     "output_type": "stream",
     "text": [
      "[INFO] | 2022/04/18 18:21:29 | Choose scihub url [0]: https://sci-hub.ru\n",
      "[INFO] | 2022/04/18 18:21:29 | <- Request: scihub_url=https://sci-hub.ru, source=DoiSource[type=doi, id=doi.org/10.1086/447961]\n",
      "[INFO] | 2022/04/18 18:21:29 | -> Response: status_code=200, content_length=6954\n",
      "[INFO] | 2022/04/18 18:21:29 | * Extracted information: {'url': 'https://twin.sci-hub.ru/6019/d146033103d7677bff6377fd5c54a749/franklin1978.pdf', 'title': 'George Washington Williams and the Beginnings of Afro-American Historiography. Critical Inquiry, 4(4), 657–672'}\n"
     ]
    },
    {
     "name": "stdout",
     "output_type": "stream",
     "text": [
      " 50% [.....................................                                     ]  942080 / 1864936"
     ]
    },
    {
     "name": "stderr",
     "output_type": "stream",
     "text": [
      "[INFO] | 2022/04/18 18:21:30 | ↓ Successfully download the url to: ./journals/post_colonial/critical_inquiry/George Washington Williams and the Beginnings of Afro-American Historiography. Critical Inquiry, 4(4), 657–672.pdf\n"
     ]
    },
    {
     "name": "stdout",
     "output_type": "stream",
     "text": [
      "100% [..........................................................................] 1864936 / 1864936\n"
     ]
    },
    {
     "name": "stderr",
     "output_type": "stream",
     "text": [
      "[INFO] | 2022/04/18 18:21:40 | Choose scihub url [0]: https://sci-hub.ru\n",
      "[INFO] | 2022/04/18 18:21:41 | <- Request: scihub_url=https://sci-hub.ru, source=DoiSource[type=doi, id=doi.org/10.1086/447962]\n",
      "[INFO] | 2022/04/18 18:21:41 | -> Response: status_code=200, content_length=6888\n",
      "[INFO] | 2022/04/18 18:21:41 | * Extracted information: {'url': 'https://twin.sci-hub.ru/6334/60fad7d379f4c4cd2a42e96f2da3295b/said1978.pdf', 'title': 'The Problem of Textuality  Two Exemplary Positions. Critical Inquiry, 4(4), 673–714'}\n"
     ]
    },
    {
     "name": "stdout",
     "output_type": "stream",
     "text": [
      " 63% [...............................................                           ] 3162112 / 4950956"
     ]
    },
    {
     "name": "stderr",
     "output_type": "stream",
     "text": [
      "[INFO] | 2022/04/18 18:21:42 | ↓ Successfully download the url to: ./journals/post_colonial/critical_inquiry/The Problem of Textuality  Two Exemplary Positions. Critical Inquiry, 4(4), 673–714.pdf\n"
     ]
    },
    {
     "name": "stdout",
     "output_type": "stream",
     "text": [
      "100% [..........................................................................] 4950956 / 4950956\n"
     ]
    },
    {
     "name": "stderr",
     "output_type": "stream",
     "text": [
      "[INFO] | 2022/04/18 18:21:52 | Choose scihub url [0]: https://sci-hub.ru\n",
      "[INFO] | 2022/04/18 18:21:52 | <- Request: scihub_url=https://sci-hub.ru, source=DoiSource[type=doi, id=doi.org/10.1086/447964]\n",
      "[INFO] | 2022/04/18 18:21:52 | -> Response: status_code=200, content_length=7028\n",
      "[INFO] | 2022/04/18 18:21:52 | * Extracted information: {'url': 'https://twin.sci-hub.ru/6590/7edff2d0ffe8ed19f81e432b7de90162/subotnik1978.pdf', 'title': 'The Cultural Message of Musical Semiology  Some Thoughts on Music, Language, and Criticism since the Enlightenment. Critical Inquiry, 4(4), 741–768'}\n"
     ]
    },
    {
     "name": "stdout",
     "output_type": "stream",
     "text": [
      " 36% [...........................                                               ] 1220608 / 3315973"
     ]
    },
    {
     "name": "stderr",
     "output_type": "stream",
     "text": [
      "[INFO] | 2022/04/18 18:21:53 | ↓ Successfully download the url to: ./journals/post_colonial/critical_inquiry/The Cultural Message of Musical Semiology  Some Thoughts on Music, Language, and Criticism since the Enlightenment. Critical Inquiry, 4(4), 741–768.pdf\n"
     ]
    },
    {
     "name": "stdout",
     "output_type": "stream",
     "text": [
      "100% [..........................................................................] 3315973 / 3315973\n"
     ]
    },
    {
     "name": "stderr",
     "output_type": "stream",
     "text": [
      "[INFO] | 2022/04/18 18:22:03 | Choose scihub url [0]: https://sci-hub.ru\n",
      "[INFO] | 2022/04/18 18:22:04 | <- Request: scihub_url=https://sci-hub.ru, source=DoiSource[type=doi, id=doi.org/10.1086/447966]\n",
      "[INFO] | 2022/04/18 18:22:04 | -> Response: status_code=200, content_length=6864\n",
      "[INFO] | 2022/04/18 18:22:04 | * Extracted information: {'url': 'https://twin.sci-hub.ru/6449/b4a952c5363656fa587705eff7e6bfe2/burke1978.pdf', 'title': '(Nonsymbolic) Motion (Symbolic) Action. Critical Inquiry, 4(4), 809–838'}\n"
     ]
    },
    {
     "name": "stdout",
     "output_type": "stream",
     "text": [
      " 34% [.........................                                                 ] 1073152 / 3098522"
     ]
    },
    {
     "name": "stderr",
     "output_type": "stream",
     "text": [
      "[INFO] | 2022/04/18 18:22:05 | ↓ Successfully download the url to: ./journals/post_colonial/critical_inquiry/(Nonsymbolic) Motion (Symbolic) Action. Critical Inquiry, 4(4), 809–838.pdf\n"
     ]
    },
    {
     "name": "stdout",
     "output_type": "stream",
     "text": [
      "100% [..........................................................................] 3098522 / 3098522\n"
     ]
    },
    {
     "name": "stderr",
     "output_type": "stream",
     "text": [
      "[INFO] | 2022/04/18 18:22:15 | Choose scihub url [0]: https://sci-hub.ru\n",
      "[INFO] | 2022/04/18 18:22:15 | <- Request: scihub_url=https://sci-hub.ru, source=DoiSource[type=doi, id=doi.org/10.1086/447968]\n",
      "[INFO] | 2022/04/18 18:22:15 | -> Response: status_code=200, content_length=6886\n",
      "[INFO] | 2022/04/18 18:22:15 | * Extracted information: {'url': 'https://twin.sci-hub.ru/5857/2d411eaa5cf8844eb1cf814978890464/editors-note-metaphor-the-conceptual-leap-1978.pdf', 'title': 'Critical Inquiry, 5(1), 1–1'}\n",
      "[INFO] | 2022/04/18 18:22:16 | ↓ Successfully download the url to: ./journals/post_colonial/critical_inquiry/Critical Inquiry, 5(1), 1–1.pdf\n"
     ]
    },
    {
     "name": "stdout",
     "output_type": "stream",
     "text": [
      "100% [..............................................................................] 35601 / 35601\n"
     ]
    },
    {
     "name": "stderr",
     "output_type": "stream",
     "text": [
      "[INFO] | 2022/04/18 18:22:26 | Choose scihub url [0]: https://sci-hub.ru\n",
      "[INFO] | 2022/04/18 18:22:26 | <- Request: scihub_url=https://sci-hub.ru, source=DoiSource[type=doi, id=doi.org/10.1086/447969]\n",
      "[INFO] | 2022/04/18 18:22:26 | -> Response: status_code=200, content_length=6862\n",
      "[INFO] | 2022/04/18 18:22:26 | * Extracted information: {'url': 'https://twin.sci-hub.ru/5865/0ef770c13095393f745e4b092f47585a/cohen1978.pdf', 'title': 'Metaphor and the Cultivation of Intimacy. Critical Inquiry, 5(1), 3–12'}\n"
     ]
    },
    {
     "name": "stdout",
     "output_type": "stream",
     "text": [
      " 16% [............                                                              ]  172032 / 1034291"
     ]
    },
    {
     "name": "stderr",
     "output_type": "stream",
     "text": [
      "[INFO] | 2022/04/18 18:22:27 | ↓ Successfully download the url to: ./journals/post_colonial/critical_inquiry/Metaphor and the Cultivation of Intimacy. Critical Inquiry, 5(1), 3–12.pdf\n"
     ]
    },
    {
     "name": "stdout",
     "output_type": "stream",
     "text": [
      "100% [..........................................................................] 1034291 / 1034291\n"
     ]
    },
    {
     "name": "stderr",
     "output_type": "stream",
     "text": [
      "[INFO] | 2022/04/18 18:22:37 | Choose scihub url [0]: https://sci-hub.ru\n",
      "[INFO] | 2022/04/18 18:22:38 | <- Request: scihub_url=https://sci-hub.ru, source=DoiSource[type=doi, id=doi.org/10.1086/447970]\n",
      "[INFO] | 2022/04/18 18:22:38 | -> Response: status_code=200, content_length=6841\n",
      "[INFO] | 2022/04/18 18:22:38 | * Extracted information: {'url': 'https://twin.sci-hub.ru/6239/9010a093fffb8e4c7c9965a4ed040389/deman1978.pdf', 'title': 'The Epistemology of Metaphor. Critical Inquiry, 5(1), 13–30'}\n"
     ]
    },
    {
     "name": "stdout",
     "output_type": "stream",
     "text": [
      " 61% [.............................................                             ] 1277952 / 2066021"
     ]
    },
    {
     "name": "stderr",
     "output_type": "stream",
     "text": [
      "[INFO] | 2022/04/18 18:22:39 | ↓ Successfully download the url to: ./journals/post_colonial/critical_inquiry/The Epistemology of Metaphor. Critical Inquiry, 5(1), 13–30.pdf\n"
     ]
    },
    {
     "name": "stdout",
     "output_type": "stream",
     "text": [
      "100% [..........................................................................] 2066021 / 2066021\n"
     ]
    },
    {
     "name": "stderr",
     "output_type": "stream",
     "text": [
      "[INFO] | 2022/04/18 18:22:49 | Choose scihub url [0]: https://sci-hub.ru\n",
      "[INFO] | 2022/04/18 18:22:49 | <- Request: scihub_url=https://sci-hub.ru, source=DoiSource[type=doi, id=doi.org/10.1086/447971]\n",
      "[INFO] | 2022/04/18 18:22:49 | -> Response: status_code=200, content_length=6831\n",
      "[INFO] | 2022/04/18 18:22:49 | * Extracted information: {'url': 'https://twin.sci-hub.ru/6191/1aac2053df8e92eb90f5d7f77856157b/davidson1978.pdf', 'title': 'What Metaphors Mean. Critical Inquiry, 5(1), 31–47'}\n"
     ]
    },
    {
     "name": "stdout",
     "output_type": "stream",
     "text": [
      " 51% [......................................                                    ]  983040 / 1907351"
     ]
    },
    {
     "name": "stderr",
     "output_type": "stream",
     "text": [
      "[INFO] | 2022/04/18 18:22:50 | ↓ Successfully download the url to: ./journals/post_colonial/critical_inquiry/What Metaphors Mean. Critical Inquiry, 5(1), 31–47.pdf\n"
     ]
    },
    {
     "name": "stdout",
     "output_type": "stream",
     "text": [
      "100% [..........................................................................] 1907351 / 1907351\n"
     ]
    },
    {
     "name": "stderr",
     "output_type": "stream",
     "text": [
      "[INFO] | 2022/04/18 18:23:00 | Choose scihub url [0]: https://sci-hub.ru\n",
      "[INFO] | 2022/04/18 18:23:00 | <- Request: scihub_url=https://sci-hub.ru, source=DoiSource[type=doi, id=doi.org/10.1086/447972]\n",
      "[INFO] | 2022/04/18 18:23:00 | -> Response: status_code=200, content_length=6881\n",
      "[INFO] | 2022/04/18 18:23:00 | * Extracted information: {'url': 'https://twin.sci-hub.ru/6528/17498d3905eedd2bcabc1b4ad15211ae/booth1978.pdf', 'title': 'Metaphor as Rhetoric  The Problem of Evaluation. Critical Inquiry, 5(1), 49–72'}\n"
     ]
    },
    {
     "name": "stdout",
     "output_type": "stream",
     "text": [
      " 32% [........................                                                  ]  876544 / 2660339"
     ]
    },
    {
     "name": "stderr",
     "output_type": "stream",
     "text": [
      "[INFO] | 2022/04/18 18:23:02 | ↓ Successfully download the url to: ./journals/post_colonial/critical_inquiry/Metaphor as Rhetoric  The Problem of Evaluation. Critical Inquiry, 5(1), 49–72.pdf\n"
     ]
    },
    {
     "name": "stdout",
     "output_type": "stream",
     "text": [
      "100% [..........................................................................] 2660339 / 2660339\n"
     ]
    },
    {
     "name": "stderr",
     "output_type": "stream",
     "text": [
      "[INFO] | 2022/04/18 18:23:12 | Choose scihub url [0]: https://sci-hub.ru\n",
      "[INFO] | 2022/04/18 18:23:12 | <- Request: scihub_url=https://sci-hub.ru, source=DoiSource[type=doi, id=doi.org/10.1086/447973]\n",
      "[INFO] | 2022/04/18 18:23:12 | -> Response: status_code=200, content_length=6842\n",
      "[INFO] | 2022/04/18 18:23:12 | * Extracted information: {'url': 'https://twin.sci-hub.ru/5985/b37a6a6b3ce1d8b7d0f6f810a61b8cf1/harries1978.pdf', 'title': 'Metaphor and Transcendence. Critical Inquiry, 5(1), 73–90'}\n"
     ]
    },
    {
     "name": "stdout",
     "output_type": "stream",
     "text": [
      " 43% [................................                                          ]  860160 / 1974962"
     ]
    },
    {
     "name": "stderr",
     "output_type": "stream",
     "text": [
      "[INFO] | 2022/04/18 18:23:13 | ↓ Successfully download the url to: ./journals/post_colonial/critical_inquiry/Metaphor and Transcendence. Critical Inquiry, 5(1), 73–90.pdf\n"
     ]
    },
    {
     "name": "stdout",
     "output_type": "stream",
     "text": [
      "100% [..........................................................................] 1974962 / 1974962\n"
     ]
    },
    {
     "name": "stderr",
     "output_type": "stream",
     "text": [
      "[INFO] | 2022/04/18 18:23:23 | Choose scihub url [0]: https://sci-hub.ru\n",
      "[INFO] | 2022/04/18 18:23:23 | <- Request: scihub_url=https://sci-hub.ru, source=DoiSource[type=doi, id=doi.org/10.1086/447974]\n",
      "[INFO] | 2022/04/18 18:23:23 | -> Response: status_code=200, content_length=6896\n",
      "[INFO] | 2022/04/18 18:23:23 | * Extracted information: {'url': 'https://twin.sci-hub.ru/6527/8c657db25c21b6e4c5966da3e528c9a0/tracy1978.pdf', 'title': 'Metaphor and Religion  The Test Case of Christian Texts. Critical Inquiry, 5(1), 91–106'}\n"
     ]
    },
    {
     "name": "stdout",
     "output_type": "stream",
     "text": [
      " 73% [......................................................                    ] 1327104 / 1800700"
     ]
    },
    {
     "name": "stderr",
     "output_type": "stream",
     "text": [
      "[INFO] | 2022/04/18 18:23:25 | ↓ Successfully download the url to: ./journals/post_colonial/critical_inquiry/Metaphor and Religion  The Test Case of Christian Texts. Critical Inquiry, 5(1), 91–106.pdf\n"
     ]
    },
    {
     "name": "stdout",
     "output_type": "stream",
     "text": [
      "100% [..........................................................................] 1800700 / 1800700\n"
     ]
    },
    {
     "name": "stderr",
     "output_type": "stream",
     "text": [
      "[INFO] | 2022/04/18 18:23:35 | Choose scihub url [0]: https://sci-hub.ru\n",
      "[INFO] | 2022/04/18 18:23:35 | <- Request: scihub_url=https://sci-hub.ru, source=DoiSource[type=doi, id=doi.org/10.1086/447975]\n",
      "[INFO] | 2022/04/18 18:23:35 | -> Response: status_code=200, content_length=6677\n",
      "[INFO] | 2022/04/18 18:23:35 | * Extracted information: {'url': 'https://twin.sci-hub.ru/6589/a4e956e60f00258711abfc296e7bac63/shiff1978.pdf', 'title': ''}\n"
     ]
    },
    {
     "name": "stdout",
     "output_type": "stream",
     "text": [
      " 49% [....................................                                      ]  860160 / 1722832"
     ]
    },
    {
     "name": "stderr",
     "output_type": "stream",
     "text": [
      "[INFO] | 2022/04/18 18:23:36 | ↓ Successfully download the url to: ./journals/post_colonial/critical_inquiry/ (1).pdf\n"
     ]
    },
    {
     "name": "stdout",
     "output_type": "stream",
     "text": [
      "100% [..........................................................................] 1722832 / 1722832\n"
     ]
    },
    {
     "name": "stderr",
     "output_type": "stream",
     "text": [
      "[INFO] | 2022/04/18 18:23:46 | Choose scihub url [0]: https://sci-hub.ru\n",
      "[INFO] | 2022/04/18 18:23:46 | <- Request: scihub_url=https://sci-hub.ru, source=DoiSource[type=doi, id=doi.org/10.1086/447976]\n",
      "[INFO] | 2022/04/18 18:23:46 | -> Response: status_code=200, content_length=6970\n",
      "[INFO] | 2022/04/18 18:23:46 | * Extracted information: {'url': 'https://twin.sci-hub.ru/5832/69716bd3b4b47a1baa0e85c7a4c0159b/gardner1978.pdf', 'title': 'The Development of Metaphoric Competence  Implications for Humanistic Disciplines. Critical Inquiry, 5(1), 123–141'}\n"
     ]
    },
    {
     "name": "stdout",
     "output_type": "stream",
     "text": [
      " 60% [............................................                              ] 1286144 / 2123780"
     ]
    },
    {
     "name": "stderr",
     "output_type": "stream",
     "text": [
      "[INFO] | 2022/04/18 18:23:47 | ↓ Successfully download the url to: ./journals/post_colonial/critical_inquiry/The Development of Metaphoric Competence  Implications for Humanistic Disciplines. Critical Inquiry, 5(1), 123–141.pdf\n"
     ]
    },
    {
     "name": "stdout",
     "output_type": "stream",
     "text": [
      "100% [..........................................................................] 2123780 / 2123780\n"
     ]
    },
    {
     "name": "stderr",
     "output_type": "stream",
     "text": [
      "[INFO] | 2022/04/18 18:23:57 | Choose scihub url [0]: https://sci-hub.ru\n",
      "[INFO] | 2022/04/18 18:23:58 | <- Request: scihub_url=https://sci-hub.ru, source=DoiSource[type=doi, id=doi.org/10.1086/447977]\n",
      "[INFO] | 2022/04/18 18:23:58 | -> Response: status_code=200, content_length=6920\n",
      "[INFO] | 2022/04/18 18:23:58 | * Extracted information: {'url': 'https://twin.sci-hub.ru/5870/fc4d8266f6363c391e408c6d85d36b60/ricoeur1978.pdf', 'title': 'The Metaphorical Process as Cognition, Imagination, and Feeling. Critical Inquiry, 5(1), 143–159'}\n"
     ]
    },
    {
     "name": "stdout",
     "output_type": "stream",
     "text": [
      " 73% [......................................................                    ] 1400832 / 1913362"
     ]
    },
    {
     "name": "stderr",
     "output_type": "stream",
     "text": [
      "[INFO] | 2022/04/18 18:23:59 | ↓ Successfully download the url to: ./journals/post_colonial/critical_inquiry/The Metaphorical Process as Cognition, Imagination, and Feeling. Critical Inquiry, 5(1), 143–159.pdf\n"
     ]
    },
    {
     "name": "stdout",
     "output_type": "stream",
     "text": [
      "100% [..........................................................................] 1913362 / 1913362\n"
     ]
    },
    {
     "name": "stderr",
     "output_type": "stream",
     "text": [
      "[INFO] | 2022/04/18 18:24:09 | Choose scihub url [0]: https://sci-hub.ru\n",
      "[INFO] | 2022/04/18 18:24:09 | <- Request: scihub_url=https://sci-hub.ru, source=DoiSource[type=doi, id=doi.org/10.1086/447978]\n",
      "[INFO] | 2022/04/18 18:24:09 | -> Response: status_code=200, content_length=6839\n",
      "[INFO] | 2022/04/18 18:24:09 | * Extracted information: {'url': 'https://twin.sci-hub.ru/6842/6c39f7c8db8e16d498be1a960c24f453/quine1978.pdf', 'title': 'A Postscript on Metaphor. Critical Inquiry, 5(1), 161–162'}\n",
      "[INFO] | 2022/04/18 18:24:10 | ↓ Successfully download the url to: ./journals/post_colonial/critical_inquiry/A Postscript on Metaphor. Critical Inquiry, 5(1), 161–162.pdf\n"
     ]
    },
    {
     "name": "stdout",
     "output_type": "stream",
     "text": [
      "100% [............................................................................] 171759 / 171759\n"
     ]
    },
    {
     "name": "stderr",
     "output_type": "stream",
     "text": [
      "[INFO] | 2022/04/18 18:24:20 | Choose scihub url [0]: https://sci-hub.ru\n",
      "[INFO] | 2022/04/18 18:24:20 | <- Request: scihub_url=https://sci-hub.ru, source=DoiSource[type=doi, id=doi.org/10.1086/447980]\n",
      "[INFO] | 2022/04/18 18:24:20 | -> Response: status_code=200, content_length=6844\n",
      "[INFO] | 2022/04/18 18:24:20 | * Extracted information: {'url': 'https://twin.sci-hub.ru/6035/79065a93dcea9d616c36ebca1fd55a66/harries1978.pdf', 'title': 'The Many Uses of Metaphor. Critical Inquiry, 5(1), 167–174'}\n"
     ]
    },
    {
     "name": "stdout",
     "output_type": "stream",
     "text": [
      " 22% [.................                                                           ] 188416 / 837075"
     ]
    },
    {
     "name": "stderr",
     "output_type": "stream",
     "text": [
      "[INFO] | 2022/04/18 18:24:21 | ↓ Successfully download the url to: ./journals/post_colonial/critical_inquiry/The Many Uses of Metaphor. Critical Inquiry, 5(1), 167–174.pdf\n"
     ]
    },
    {
     "name": "stdout",
     "output_type": "stream",
     "text": [
      "100% [............................................................................] 837075 / 837075\n"
     ]
    },
    {
     "name": "stderr",
     "output_type": "stream",
     "text": [
      "[INFO] | 2022/04/18 18:24:31 | Choose scihub url [0]: https://sci-hub.ru\n",
      "[INFO] | 2022/04/18 18:24:31 | <- Request: scihub_url=https://sci-hub.ru, source=DoiSource[type=doi, id=doi.org/10.1086/447981]\n",
      "[INFO] | 2022/04/18 18:24:31 | -> Response: status_code=200, content_length=6831\n",
      "[INFO] | 2022/04/18 18:24:31 | * Extracted information: {'url': 'https://twin.sci-hub.ru/6458/f79d386d877eab93ecf19f40ee305c6c/booth1978.pdf', 'title': 'Ten Literal “Theses.” Critical Inquiry, 5(1), 175–176'}\n",
      "[INFO] | 2022/04/18 18:24:32 | ↓ Successfully download the url to: ./journals/post_colonial/critical_inquiry/Ten Literal “Theses.” Critical Inquiry, 5(1), 175–176.pdf\n"
     ]
    },
    {
     "name": "stdout",
     "output_type": "stream",
     "text": [
      "100% [............................................................................] 173097 / 173097\n"
     ]
    },
    {
     "name": "stderr",
     "output_type": "stream",
     "text": [
      "[INFO] | 2022/04/18 18:24:42 | Choose scihub url [0]: https://sci-hub.ru\n",
      "[INFO] | 2022/04/18 18:24:42 | <- Request: scihub_url=https://sci-hub.ru, source=DoiSource[type=doi, id=doi.org/10.1086/447982]\n",
      "[INFO] | 2022/04/18 18:24:42 | -> Response: status_code=200, content_length=6951\n",
      "[INFO] | 2022/04/18 18:24:42 | * Extracted information: {'url': 'https://twin.sci-hub.ru/5876/bbc0e5c1add50f7b9f141b50a04b278b/schaefer1978.pdf', 'title': 'Psychoanalysis and the Marionette Theater  Interpretation Is Not Depreciation. Critical Inquiry, 5(1), 177–188'}\n"
     ]
    },
    {
     "name": "stdout",
     "output_type": "stream",
     "text": [
      " 84% [..............................................................            ] 1163264 / 1379389"
     ]
    },
    {
     "name": "stderr",
     "output_type": "stream",
     "text": [
      "[INFO] | 2022/04/18 18:24:43 | ↓ Successfully download the url to: ./journals/post_colonial/critical_inquiry/Psychoanalysis and the Marionette Theater  Interpretation Is Not Depreciation. Critical Inquiry, 5(1), 177–188.pdf\n"
     ]
    },
    {
     "name": "stdout",
     "output_type": "stream",
     "text": [
      "100% [..........................................................................] 1379389 / 1379389\n"
     ]
    },
    {
     "name": "stderr",
     "output_type": "stream",
     "text": [
      "[INFO] | 2022/04/18 18:24:53 | Choose scihub url [0]: https://sci-hub.ru\n",
      "[INFO] | 2022/04/18 18:24:53 | <- Request: scihub_url=https://sci-hub.ru, source=DoiSource[type=doi, id=doi.org/10.1086/447984]\n",
      "[INFO] | 2022/04/18 18:24:53 | -> Response: status_code=200, content_length=5456\n",
      "[WARNING] | 2022/04/18 18:24:53 | Error occurs, task status: extracting_failed, error: No pdf tag was found in the given content with the selector: #pdf\n",
      "[INFO] | 2022/04/18 18:24:53 | Choose scihub url [1]: http://sci-hub.se\n",
      "[INFO] | 2022/04/18 18:24:54 | <- Request: scihub_url=http://sci-hub.se, source=DoiSource[type=doi, id=doi.org/10.1086/447984]\n",
      "[INFO] | 2022/04/18 18:24:54 | -> Response: status_code=200, content_length=5456\n",
      "[WARNING] | 2022/04/18 18:24:54 | Error occurs, task status: extracting_failed, error: No pdf tag was found in the given content with the selector: #pdf\n",
      "[INFO] | 2022/04/18 18:24:54 | Choose scihub url [2]: http://sci-hub.st\n",
      "[INFO] | 2022/04/18 18:24:56 | <- Request: scihub_url=http://sci-hub.st, source=DoiSource[type=doi, id=doi.org/10.1086/447984]\n",
      "[INFO] | 2022/04/18 18:24:56 | -> Response: status_code=200, content_length=24\n",
      "[WARNING] | 2022/04/18 18:24:56 | Error occurs, task status: extracting_failed, error: No pdf tag was found in the given content with the selector: #pdf\n",
      "[INFO] | 2022/04/18 18:24:56 | Choose scihub url [3]: https://sci-hub.st\n",
      "[INFO] | 2022/04/18 18:25:01 | <- Request: scihub_url=https://sci-hub.st, source=DoiSource[type=doi, id=doi.org/10.1086/447984]\n",
      "[INFO] | 2022/04/18 18:25:01 | -> Response: status_code=200, content_length=37\n",
      "[WARNING] | 2022/04/18 18:25:01 | Error occurs, task status: extracting_failed, error: No pdf tag was found in the given content with the selector: #pdf\n",
      "[INFO] | 2022/04/18 18:25:01 | Choose scihub url [4]: http://sci-hub.ru\n",
      "[INFO] | 2022/04/18 18:25:01 | <- Request: scihub_url=http://sci-hub.ru, source=DoiSource[type=doi, id=doi.org/10.1086/447984]\n",
      "[INFO] | 2022/04/18 18:25:01 | -> Response: status_code=200, content_length=5456\n",
      "[WARNING] | 2022/04/18 18:25:01 | Error occurs, task status: extracting_failed, error: No pdf tag was found in the given content with the selector: #pdf\n",
      "[INFO] | 2022/04/18 18:25:01 | Choose scihub url [5]: https://sci-hub.se\n",
      "[INFO] | 2022/04/18 18:25:02 | <- Request: scihub_url=https://sci-hub.se, source=DoiSource[type=doi, id=doi.org/10.1086/447984]\n",
      "[INFO] | 2022/04/18 18:25:02 | -> Response: status_code=200, content_length=5456\n",
      "[WARNING] | 2022/04/18 18:25:02 | Error occurs, task status: extracting_failed, error: No pdf tag was found in the given content with the selector: #pdf\n",
      "[ERROR] | 2022/04/18 18:25:02 | Failed to download the paper: https://doi.org/10.1086/447984. Please try again.\n",
      "[INFO] | 2022/04/18 18:25:12 | Choose scihub url [0]: https://sci-hub.ru\n",
      "[INFO] | 2022/04/18 18:25:12 | <- Request: scihub_url=https://sci-hub.ru, source=DoiSource[type=doi, id=doi.org/10.1086/447986]\n",
      "[INFO] | 2022/04/18 18:25:12 | -> Response: status_code=200, content_length=6918\n",
      "[INFO] | 2022/04/18 18:25:12 | * Extracted information: {'url': 'https://twin.sci-hub.ru/5831/6221454f89738b2f1085cd41004d2d06/viereck1978.pdf', 'title': 'Strict Form in Poetry  Would Jacob Wrestle with a Flabby Angel  Critical Inquiry, 5(2), 203–222'}\n"
     ]
    },
    {
     "name": "stdout",
     "output_type": "stream",
     "text": [
      " 63% [..............................................                            ] 1294336 / 2051308"
     ]
    },
    {
     "name": "stderr",
     "output_type": "stream",
     "text": [
      "[INFO] | 2022/04/18 18:25:13 | ↓ Successfully download the url to: ./journals/post_colonial/critical_inquiry/Strict Form in Poetry  Would Jacob Wrestle with a Flabby Angel  Critical Inquiry, 5(2), 203–222.pdf\n"
     ]
    },
    {
     "name": "stdout",
     "output_type": "stream",
     "text": [
      "100% [..........................................................................] 2051308 / 2051308\n"
     ]
    },
    {
     "name": "stderr",
     "output_type": "stream",
     "text": [
      "[INFO] | 2022/04/18 18:25:23 | Choose scihub url [0]: https://sci-hub.ru\n",
      "[INFO] | 2022/04/18 18:25:24 | <- Request: scihub_url=https://sci-hub.ru, source=DoiSource[type=doi, id=doi.org/10.1086/447987]\n",
      "[INFO] | 2022/04/18 18:25:24 | -> Response: status_code=200, content_length=6894\n",
      "[INFO] | 2022/04/18 18:25:24 | * Extracted information: {'url': 'https://twin.sci-hub.ru/5858/39e2d360f44e2d93cb2026a154fe812e/cameron1978.pdf', 'title': 'Naming as History  Dickinson’s Poems of Definition. Critical Inquiry, 5(2), 223–251'}\n"
     ]
    },
    {
     "name": "stdout",
     "output_type": "stream",
     "text": [
      " 45% [.................................                                         ] 1253376 / 2740068"
     ]
    },
    {
     "name": "stderr",
     "output_type": "stream",
     "text": [
      "[INFO] | 2022/04/18 18:25:25 | ↓ Successfully download the url to: ./journals/post_colonial/critical_inquiry/Naming as History  Dickinson’s Poems of Definition. Critical Inquiry, 5(2), 223–251.pdf\n"
     ]
    },
    {
     "name": "stdout",
     "output_type": "stream",
     "text": [
      "100% [..........................................................................] 2740068 / 2740068\n"
     ]
    },
    {
     "name": "stderr",
     "output_type": "stream",
     "text": [
      "[INFO] | 2022/04/18 18:25:35 | Choose scihub url [0]: https://sci-hub.ru\n",
      "[INFO] | 2022/04/18 18:25:36 | <- Request: scihub_url=https://sci-hub.ru, source=DoiSource[type=doi, id=doi.org/10.1086/447988]\n",
      "[INFO] | 2022/04/18 18:25:36 | -> Response: status_code=200, content_length=6868\n",
      "[INFO] | 2022/04/18 18:25:36 | * Extracted information: {'url': 'https://twin.sci-hub.ru/6100/f617472be8e897cb6bf4f7a17a11f3c0/meltzer1978.pdf', 'title': 'Color as Cognition in Symbolist Verse. Critical Inquiry, 5(2), 253–273'}\n"
     ]
    },
    {
     "name": "stdout",
     "output_type": "stream",
     "text": [
      " 63% [...............................................                           ] 1417216 / 2219997"
     ]
    },
    {
     "name": "stderr",
     "output_type": "stream",
     "text": [
      "[INFO] | 2022/04/18 18:25:37 | ↓ Successfully download the url to: ./journals/post_colonial/critical_inquiry/Color as Cognition in Symbolist Verse. Critical Inquiry, 5(2), 253–273.pdf\n"
     ]
    },
    {
     "name": "stdout",
     "output_type": "stream",
     "text": [
      "100% [..........................................................................] 2219997 / 2219997\n"
     ]
    },
    {
     "name": "stderr",
     "output_type": "stream",
     "text": [
      "[INFO] | 2022/04/18 18:25:47 | Choose scihub url [0]: https://sci-hub.ru\n",
      "[INFO] | 2022/04/18 18:25:47 | <- Request: scihub_url=https://sci-hub.ru, source=DoiSource[type=doi, id=doi.org/10.1086/447989]\n",
      "[INFO] | 2022/04/18 18:25:47 | -> Response: status_code=200, content_length=6864\n",
      "[INFO] | 2022/04/18 18:25:47 | * Extracted information: {'url': 'https://twin.sci-hub.ru/6720/3e3f1f1e445f7ecdf42b8432ea59ad0e/frank1978.pdf', 'title': 'Spatial Form  Some Further Reflections. Critical Inquiry, 5(2), 275–290'}\n"
     ]
    },
    {
     "name": "stdout",
     "output_type": "stream",
     "text": [
      " 85% [...............................................................           ] 1531904 / 1784619"
     ]
    },
    {
     "name": "stderr",
     "output_type": "stream",
     "text": [
      "[INFO] | 2022/04/18 18:25:48 | ↓ Successfully download the url to: ./journals/post_colonial/critical_inquiry/Spatial Form  Some Further Reflections. Critical Inquiry, 5(2), 275–290.pdf\n"
     ]
    },
    {
     "name": "stdout",
     "output_type": "stream",
     "text": [
      "100% [..........................................................................] 1784619 / 1784619\n"
     ]
    },
    {
     "name": "stderr",
     "output_type": "stream",
     "text": [
      "[INFO] | 2022/04/18 18:25:58 | Choose scihub url [0]: https://sci-hub.ru\n",
      "[INFO] | 2022/04/18 18:25:59 | <- Request: scihub_url=https://sci-hub.ru, source=DoiSource[type=doi, id=doi.org/10.1086/447990]\n",
      "[INFO] | 2022/04/18 18:25:59 | -> Response: status_code=200, content_length=6870\n",
      "[INFO] | 2022/04/18 18:25:59 | * Extracted information: {'url': 'https://twin.sci-hub.ru/6032/0967251c025e58f4927ba67221820317/greenblatt1978.pdf', 'title': 'Marlowe, Marx, and Anti-Semitism. Critical Inquiry, 5(2), 291–307'}\n"
     ]
    },
    {
     "name": "stdout",
     "output_type": "stream",
     "text": [
      " 76% [........................................................                  ] 1417216 / 1849529"
     ]
    },
    {
     "name": "stderr",
     "output_type": "stream",
     "text": [
      "[INFO] | 2022/04/18 18:26:00 | ↓ Successfully download the url to: ./journals/post_colonial/critical_inquiry/Marlowe, Marx, and Anti-Semitism. Critical Inquiry, 5(2), 291–307.pdf\n"
     ]
    },
    {
     "name": "stdout",
     "output_type": "stream",
     "text": [
      "100% [..........................................................................] 1849529 / 1849529\n"
     ]
    },
    {
     "name": "stderr",
     "output_type": "stream",
     "text": [
      "[INFO] | 2022/04/18 18:26:10 | Choose scihub url [0]: https://sci-hub.ru\n",
      "[INFO] | 2022/04/18 18:26:10 | <- Request: scihub_url=https://sci-hub.ru, source=DoiSource[type=doi, id=doi.org/10.1086/447991]\n",
      "[INFO] | 2022/04/18 18:26:10 | -> Response: status_code=200, content_length=6866\n",
      "[INFO] | 2022/04/18 18:26:10 | * Extracted information: {'url': 'https://twin.sci-hub.ru/5858/77984b0312f2e8efea7ee17ec8fa713c/heilbrun1978.pdf', 'title': 'Marriage and Contemporary Fiction. Critical Inquiry, 5(2), 309–322'}\n"
     ]
    },
    {
     "name": "stdout",
     "output_type": "stream",
     "text": [
      " 13% [..........                                                                ]  188416 / 1369798"
     ]
    },
    {
     "name": "stderr",
     "output_type": "stream",
     "text": [
      "[INFO] | 2022/04/18 18:26:11 | ↓ Successfully download the url to: ./journals/post_colonial/critical_inquiry/Marriage and Contemporary Fiction. Critical Inquiry, 5(2), 309–322.pdf\n"
     ]
    },
    {
     "name": "stdout",
     "output_type": "stream",
     "text": [
      "100% [..........................................................................] 1369798 / 1369798\n"
     ]
    },
    {
     "name": "stderr",
     "output_type": "stream",
     "text": [
      "[INFO] | 2022/04/18 18:26:21 | Choose scihub url [0]: https://sci-hub.ru\n",
      "[INFO] | 2022/04/18 18:26:22 | <- Request: scihub_url=https://sci-hub.ru, source=DoiSource[type=doi, id=doi.org/10.1086/447992]\n",
      "[INFO] | 2022/04/18 18:26:22 | -> Response: status_code=200, content_length=6853\n",
      "[INFO] | 2022/04/18 18:26:22 | * Extracted information: {'url': 'https://twin.sci-hub.ru/6031/1597c3003a442558bda63aaaf8d8f5f0/chambers1978.pdf', 'title': 'Commentary in Literary Texts. Critical Inquiry, 5(2), 323–337'}\n"
     ]
    },
    {
     "name": "stdout",
     "output_type": "stream",
     "text": [
      " 56% [..........................................                                ]  892928 / 1569405"
     ]
    },
    {
     "name": "stderr",
     "output_type": "stream",
     "text": [
      "[INFO] | 2022/04/18 18:26:23 | ↓ Successfully download the url to: ./journals/post_colonial/critical_inquiry/Commentary in Literary Texts. Critical Inquiry, 5(2), 323–337.pdf\n"
     ]
    },
    {
     "name": "stdout",
     "output_type": "stream",
     "text": [
      "100% [..........................................................................] 1569405 / 1569405\n"
     ]
    },
    {
     "name": "stderr",
     "output_type": "stream",
     "text": [
      "[INFO] | 2022/04/18 18:26:33 | Choose scihub url [0]: https://sci-hub.ru\n",
      "[INFO] | 2022/04/18 18:26:34 | <- Request: scihub_url=https://sci-hub.ru, source=DoiSource[type=doi, id=doi.org/10.1086/447994]\n",
      "[INFO] | 2022/04/18 18:26:34 | -> Response: status_code=200, content_length=6882\n",
      "[INFO] | 2022/04/18 18:26:34 | * Extracted information: {'url': 'https://twin.sci-hub.ru/6603/1f7ff713a1138ff74785b366a5f9927f/alter1978.pdf', 'title': 'Biblical Type-Scenes and the Uses of Convention. Critical Inquiry, 5(2), 355–368'}\n"
     ]
    },
    {
     "name": "stdout",
     "output_type": "stream",
     "text": [
      " 66% [.................................................                         ] 1056768 / 1582471"
     ]
    },
    {
     "name": "stderr",
     "output_type": "stream",
     "text": [
      "[INFO] | 2022/04/18 18:26:35 | ↓ Successfully download the url to: ./journals/post_colonial/critical_inquiry/Biblical Type-Scenes and the Uses of Convention. Critical Inquiry, 5(2), 355–368.pdf\n"
     ]
    },
    {
     "name": "stdout",
     "output_type": "stream",
     "text": [
      "100% [..........................................................................] 1582471 / 1582471\n"
     ]
    },
    {
     "name": "stderr",
     "output_type": "stream",
     "text": [
      "[INFO] | 2022/04/18 18:26:45 | Choose scihub url [0]: https://sci-hub.ru\n",
      "[INFO] | 2022/04/18 18:26:45 | <- Request: scihub_url=https://sci-hub.ru, source=DoiSource[type=doi, id=doi.org/10.1086/447995]\n",
      "[INFO] | 2022/04/18 18:26:45 | -> Response: status_code=200, content_length=6861\n",
      "[INFO] | 2022/04/18 18:26:45 | * Extracted information: {'url': 'https://twin.sci-hub.ru/6028/6832a727aae32cc3ea3e1e92f086d4d2/carringer1978.pdf', 'title': 'The Scripts of “Citizen Kane.” Critical Inquiry, 5(2), 369–400'}\n"
     ]
    },
    {
     "name": "stdout",
     "output_type": "stream",
     "text": [
      " 94% [......................................................................    ] 3465216 / 3662755"
     ]
    },
    {
     "name": "stderr",
     "output_type": "stream",
     "text": [
      "[INFO] | 2022/04/18 18:26:47 | ↓ Successfully download the url to: ./journals/post_colonial/critical_inquiry/The Scripts of “Citizen Kane.” Critical Inquiry, 5(2), 369–400.pdf\n"
     ]
    },
    {
     "name": "stdout",
     "output_type": "stream",
     "text": [
      "100% [..........................................................................] 3662755 / 3662755\n"
     ]
    },
    {
     "name": "stderr",
     "output_type": "stream",
     "text": [
      "[INFO] | 2022/04/18 18:26:57 | Choose scihub url [0]: https://sci-hub.ru\n",
      "[INFO] | 2022/04/18 18:26:57 | <- Request: scihub_url=https://sci-hub.ru, source=DoiSource[type=doi, id=doi.org/10.1086/447996]\n",
      "[INFO] | 2022/04/18 18:26:57 | -> Response: status_code=200, content_length=6904\n",
      "[INFO] | 2022/04/18 18:26:57 | * Extracted information: {'url': 'https://twin.sci-hub.ru/6026/9284817fedffc9afda626adc07b85647/burke1978.pdf', 'title': 'Methodological Repression and or Strategies of Containment. Critical Inquiry, 5(2), 401–416'}\n"
     ]
    },
    {
     "name": "stdout",
     "output_type": "stream",
     "text": [
      " 60% [............................................                              ] 1114112 / 1839498"
     ]
    },
    {
     "name": "stderr",
     "output_type": "stream",
     "text": [
      "[INFO] | 2022/04/18 18:26:59 | ↓ Successfully download the url to: ./journals/post_colonial/critical_inquiry/Methodological Repression and or Strategies of Containment. Critical Inquiry, 5(2), 401–416.pdf\n"
     ]
    },
    {
     "name": "stdout",
     "output_type": "stream",
     "text": [
      "100% [..........................................................................] 1839498 / 1839498\n"
     ]
    },
    {
     "name": "stderr",
     "output_type": "stream",
     "text": [
      "[INFO] | 2022/04/18 18:27:09 | Choose scihub url [0]: https://sci-hub.ru\n",
      "[INFO] | 2022/04/18 18:27:09 | <- Request: scihub_url=https://sci-hub.ru, source=DoiSource[type=doi, id=doi.org/10.1086/447997]\n",
      "[INFO] | 2022/04/18 18:27:09 | -> Response: status_code=200, content_length=6853\n",
      "[INFO] | 2022/04/18 18:27:09 | * Extracted information: {'url': 'https://twin.sci-hub.ru/6027/b7b7796143f21084a0f18ccf73bf7e56/jameson1978.pdf', 'title': 'Ideology and Symbolic Action. Critical Inquiry, 5(2), 417–422'}\n"
     ]
    },
    {
     "name": "stdout",
     "output_type": "stream",
     "text": [
      " 28% [.....................                                                       ] 188416 / 654883"
     ]
    },
    {
     "name": "stderr",
     "output_type": "stream",
     "text": [
      "[INFO] | 2022/04/18 18:27:10 | ↓ Successfully download the url to: ./journals/post_colonial/critical_inquiry/Ideology and Symbolic Action. Critical Inquiry, 5(2), 417–422.pdf\n"
     ]
    },
    {
     "name": "stdout",
     "output_type": "stream",
     "text": [
      "100% [............................................................................] 654883 / 654883\n"
     ]
    },
    {
     "name": "stderr",
     "output_type": "stream",
     "text": [
      "[INFO] | 2022/04/18 18:27:20 | Choose scihub url [0]: https://sci-hub.ru\n",
      "[INFO] | 2022/04/18 18:27:20 | <- Request: scihub_url=https://sci-hub.ru, source=DoiSource[type=doi, id=doi.org/10.1086/447998]\n",
      "[INFO] | 2022/04/18 18:27:20 | -> Response: status_code=200, content_length=6838\n",
      "[INFO] | 2022/04/18 18:27:20 | * Extracted information: {'url': 'https://twin.sci-hub.ru/5830/4b4a2a36e0262361828135aaa04d4570/10.1086@447998.pdf', 'title': 'Notes and Exchanges. Critical Inquiry, 5(2), 423–423'}\n",
      "[INFO] | 2022/04/18 18:27:20 | ↓ Successfully download the url to: ./journals/post_colonial/critical_inquiry/Notes and Exchanges. Critical Inquiry, 5(2), 423–423.pdf\n"
     ]
    },
    {
     "name": "stdout",
     "output_type": "stream",
     "text": [
      "100% [..............................................................................] 48688 / 48688\n"
     ]
    },
    {
     "name": "stderr",
     "output_type": "stream",
     "text": [
      "[INFO] | 2022/04/18 18:27:30 | Choose scihub url [0]: https://sci-hub.ru\n",
      "[INFO] | 2022/04/18 18:27:31 | <- Request: scihub_url=https://sci-hub.ru, source=DoiSource[type=doi, id=doi.org/10.1086/447999]\n",
      "[INFO] | 2022/04/18 18:27:31 | -> Response: status_code=200, content_length=6868\n",
      "[INFO] | 2022/04/18 18:27:31 | * Extracted information: {'url': 'https://twin.sci-hub.ru/5973/1ad8bc8212d7e5da1d50c8a2f53bbd70/hauser1979.pdf', 'title': 'The “l’art pour l’art” Problem. Critical Inquiry, 5(3), 425–440'}\n"
     ]
    },
    {
     "name": "stdout",
     "output_type": "stream",
     "text": [
      " 95% [......................................................................    ] 1744896 / 1825714"
     ]
    },
    {
     "name": "stderr",
     "output_type": "stream",
     "text": [
      "[INFO] | 2022/04/18 18:27:32 | ↓ Successfully download the url to: ./journals/post_colonial/critical_inquiry/The “l’art pour l’art” Problem. Critical Inquiry, 5(3), 425–440.pdf\n"
     ]
    },
    {
     "name": "stdout",
     "output_type": "stream",
     "text": [
      "100% [..........................................................................] 1825714 / 1825714\n"
     ]
    },
    {
     "name": "stderr",
     "output_type": "stream",
     "text": [
      "[INFO] | 2022/04/18 18:27:42 | Choose scihub url [0]: https://sci-hub.ru\n",
      "[INFO] | 2022/04/18 18:27:42 | <- Request: scihub_url=https://sci-hub.ru, source=DoiSource[type=doi, id=doi.org/10.1086/448000]\n",
      "[INFO] | 2022/04/18 18:27:42 | -> Response: status_code=200, content_length=6864\n",
      "[INFO] | 2022/04/18 18:27:42 | * Extracted information: {'url': 'https://twin.sci-hub.ru/5979/d668cf263e47fb239ff33eeee312a52d/ackerman1979.pdf', 'title': 'On Judging Art without Absolutes. Critical Inquiry, 5(3), 441–469'}\n"
     ]
    },
    {
     "name": "stdout",
     "output_type": "stream",
     "text": [
      " 46% [..................................                                        ] 1703936 / 3628419"
     ]
    },
    {
     "name": "stderr",
     "output_type": "stream",
     "text": [
      "[INFO] | 2022/04/18 18:27:43 | ↓ Successfully download the url to: ./journals/post_colonial/critical_inquiry/On Judging Art without Absolutes. Critical Inquiry, 5(3), 441–469.pdf\n"
     ]
    },
    {
     "name": "stdout",
     "output_type": "stream",
     "text": [
      "100% [..........................................................................] 3628419 / 3628419\n"
     ]
    },
    {
     "name": "stderr",
     "output_type": "stream",
     "text": [
      "[INFO] | 2022/04/18 18:27:53 | Choose scihub url [0]: https://sci-hub.ru\n",
      "[INFO] | 2022/04/18 18:27:54 | <- Request: scihub_url=https://sci-hub.ru, source=DoiSource[type=doi, id=doi.org/10.1086/448001]\n",
      "[INFO] | 2022/04/18 18:27:54 | -> Response: status_code=200, content_length=6849\n",
      "[INFO] | 2022/04/18 18:27:54 | * Extracted information: {'url': 'https://twin.sci-hub.ru/5850/80fe6f02e799a680b9328ae1dce56ec2/quine1979.pdf', 'title': 'On the Nature of Moral Values. Critical Inquiry, 5(3), 471–480'}\n"
     ]
    },
    {
     "name": "stdout",
     "output_type": "stream",
     "text": [
      " 82% [..............................................................              ] 819200 / 997526"
     ]
    },
    {
     "name": "stderr",
     "output_type": "stream",
     "text": [
      "[INFO] | 2022/04/18 18:27:55 | ↓ Successfully download the url to: ./journals/post_colonial/critical_inquiry/On the Nature of Moral Values. Critical Inquiry, 5(3), 471–480.pdf\n"
     ]
    },
    {
     "name": "stdout",
     "output_type": "stream",
     "text": [
      "100% [............................................................................] 997526 / 997526\n"
     ]
    },
    {
     "name": "stderr",
     "output_type": "stream",
     "text": [
      "[INFO] | 2022/04/18 18:28:05 | Choose scihub url [0]: https://sci-hub.ru\n",
      "[INFO] | 2022/04/18 18:28:05 | <- Request: scihub_url=https://sci-hub.ru, source=DoiSource[type=doi, id=doi.org/10.1086/448004]\n",
      "[INFO] | 2022/04/18 18:28:05 | -> Response: status_code=200, content_length=6913\n",
      "[INFO] | 2022/04/18 18:28:05 | * Extracted information: {'url': 'https://twin.sci-hub.ru/6033/21f308ba5c816eac36b2c3f9b0110d31/mckeon1979.pdf', 'title': '“Pride and Prejudice”  Thought, Character, Argument, and Plot. Critical Inquiry, 5(3), 511–527'}\n"
     ]
    },
    {
     "name": "stdout",
     "output_type": "stream",
     "text": [
      " 80% [...........................................................               ] 1540096 / 1921544"
     ]
    },
    {
     "name": "stderr",
     "output_type": "stream",
     "text": [
      "[INFO] | 2022/04/18 18:28:06 | ↓ Successfully download the url to: ./journals/post_colonial/critical_inquiry/“Pride and Prejudice”  Thought, Character, Argument, and Plot. Critical Inquiry, 5(3), 511–527.pdf\n"
     ]
    },
    {
     "name": "stdout",
     "output_type": "stream",
     "text": [
      "100% [..........................................................................] 1921544 / 1921544\n"
     ]
    },
    {
     "name": "stderr",
     "output_type": "stream",
     "text": [
      "[INFO] | 2022/04/18 18:28:16 | Choose scihub url [0]: https://sci-hub.ru\n",
      "[INFO] | 2022/04/18 18:28:16 | <- Request: scihub_url=https://sci-hub.ru, source=DoiSource[type=doi, id=doi.org/10.1086/448005]\n",
      "[INFO] | 2022/04/18 18:28:16 | -> Response: status_code=200, content_length=6926\n",
      "[INFO] | 2022/04/18 18:28:16 | * Extracted information: {'url': 'https://twin.sci-hub.ru/6004/bc3cef118211748bababb119e64102a1/vogt1979.pdf', 'title': 'Narrative and Drama in the Lyric  Robert Frost’s Strategic Withdrawal. Critical Inquiry, 5(3), 529–551'}\n"
     ]
    },
    {
     "name": "stdout",
     "output_type": "stream",
     "text": [
      " 36% [...........................                                               ]  966656 / 2640248"
     ]
    },
    {
     "name": "stderr",
     "output_type": "stream",
     "text": [
      "[INFO] | 2022/04/18 18:28:17 | ↓ Successfully download the url to: ./journals/post_colonial/critical_inquiry/Narrative and Drama in the Lyric  Robert Frost’s Strategic Withdrawal. Critical Inquiry, 5(3), 529–551.pdf\n"
     ]
    },
    {
     "name": "stdout",
     "output_type": "stream",
     "text": [
      "100% [..........................................................................] 2640248 / 2640248\n"
     ]
    },
    {
     "name": "stderr",
     "output_type": "stream",
     "text": [
      "[INFO] | 2022/04/18 18:28:27 | Choose scihub url [0]: https://sci-hub.ru\n",
      "[INFO] | 2022/04/18 18:28:28 | <- Request: scihub_url=https://sci-hub.ru, source=DoiSource[type=doi, id=doi.org/10.1086/448006]\n",
      "[INFO] | 2022/04/18 18:28:28 | -> Response: status_code=200, content_length=6906\n",
      "[INFO] | 2022/04/18 18:28:28 | * Extracted information: {'url': 'https://twin.sci-hub.ru/6020/06541c492fbc55b0f34247ea59da2b03/miner1979.pdf', 'title': 'On the Genesis and Development of Literary Systems  Part II. Critical Inquiry, 5(3), 553–568'}\n"
     ]
    },
    {
     "name": "stdout",
     "output_type": "stream",
     "text": [
      " 67% [..................................................                        ] 1236992 / 1827361"
     ]
    },
    {
     "name": "stderr",
     "output_type": "stream",
     "text": [
      "[INFO] | 2022/04/18 18:28:28 | ↓ Successfully download the url to: ./journals/post_colonial/critical_inquiry/On the Genesis and Development of Literary Systems  Part II. Critical Inquiry, 5(3), 553–568.pdf\n"
     ]
    },
    {
     "name": "stdout",
     "output_type": "stream",
     "text": [
      "100% [..........................................................................] 1827361 / 1827361\n"
     ]
    },
    {
     "name": "stderr",
     "output_type": "stream",
     "text": [
      "[INFO] | 2022/04/18 18:28:39 | Choose scihub url [0]: https://sci-hub.ru\n",
      "[INFO] | 2022/04/18 18:28:39 | <- Request: scihub_url=https://sci-hub.ru, source=DoiSource[type=doi, id=doi.org/10.1086/448007]\n",
      "[INFO] | 2022/04/18 18:28:39 | -> Response: status_code=200, content_length=6834\n",
      "[INFO] | 2022/04/18 18:28:39 | * Extracted information: {'url': 'https://twin.sci-hub.ru/6036/7ec5d4f85eb31c5584a0cfbb65461d7b/graff1979.pdf', 'title': 'New Criticism Once More. Critical Inquiry, 5(3), 569–575'}\n"
     ]
    },
    {
     "name": "stdout",
     "output_type": "stream",
     "text": [
      " 19% [..............                                                              ] 139264 / 731691"
     ]
    },
    {
     "name": "stderr",
     "output_type": "stream",
     "text": [
      "[INFO] | 2022/04/18 18:28:40 | ↓ Successfully download the url to: ./journals/post_colonial/critical_inquiry/New Criticism Once More. Critical Inquiry, 5(3), 569–575.pdf\n"
     ]
    },
    {
     "name": "stdout",
     "output_type": "stream",
     "text": [
      "100% [............................................................................] 731691 / 731691\n"
     ]
    },
    {
     "name": "stderr",
     "output_type": "stream",
     "text": [
      "[INFO] | 2022/04/18 18:28:50 | Choose scihub url [0]: https://sci-hub.ru\n",
      "[INFO] | 2022/04/18 18:28:51 | <- Request: scihub_url=https://sci-hub.ru, source=DoiSource[type=doi, id=doi.org/10.1086/448008]\n",
      "[INFO] | 2022/04/18 18:28:51 | -> Response: status_code=200, content_length=6845\n",
      "[INFO] | 2022/04/18 18:28:51 | * Extracted information: {'url': 'https://twin.sci-hub.ru/6030/00824b9e1b65e8113a6186def2f98a8d/wellek1979.pdf', 'title': 'A Rejoinder to Gerald Graff. Critical Inquiry, 5(3), 576–579'}\n"
     ]
    },
    {
     "name": "stdout",
     "output_type": "stream",
     "text": [
      " 45% [..................................                                          ] 188416 / 410033"
     ]
    },
    {
     "name": "stderr",
     "output_type": "stream",
     "text": [
      "[INFO] | 2022/04/18 18:28:51 | ↓ Successfully download the url to: ./journals/post_colonial/critical_inquiry/A Rejoinder to Gerald Graff. Critical Inquiry, 5(3), 576–579.pdf\n"
     ]
    },
    {
     "name": "stdout",
     "output_type": "stream",
     "text": [
      "100% [............................................................................] 410033 / 410033\n"
     ]
    },
    {
     "name": "stderr",
     "output_type": "stream",
     "text": [
      "[INFO] | 2022/04/18 18:29:01 | Choose scihub url [0]: https://sci-hub.ru\n",
      "[INFO] | 2022/04/18 18:29:02 | <- Request: scihub_url=https://sci-hub.ru, source=DoiSource[type=doi, id=doi.org/10.1086/448009]\n",
      "[INFO] | 2022/04/18 18:29:02 | -> Response: status_code=200, content_length=6917\n",
      "[INFO] | 2022/04/18 18:29:02 | * Extracted information: {'url': 'https://twin.sci-hub.ru/5877/ff579307f5ded10177ed18e52d6e4fbe/dowling1979.pdf', 'title': 'Invisible Audience  Peter J. Rabinowitz’s “Truth in Fiction.” Critical Inquiry, 5(3), 580–584'}\n"
     ]
    },
    {
     "name": "stdout",
     "output_type": "stream",
     "text": [
      " 35% [..........................                                                  ] 172032 / 490484"
     ]
    },
    {
     "name": "stderr",
     "output_type": "stream",
     "text": [
      "[INFO] | 2022/04/18 18:29:03 | ↓ Successfully download the url to: ./journals/post_colonial/critical_inquiry/Invisible Audience  Peter J. Rabinowitz’s “Truth in Fiction.” Critical Inquiry, 5(3), 580–584.pdf\n"
     ]
    },
    {
     "name": "stdout",
     "output_type": "stream",
     "text": [
      "100% [............................................................................] 490484 / 490484\n"
     ]
    },
    {
     "name": "stderr",
     "output_type": "stream",
     "text": [
      "[INFO] | 2022/04/18 18:29:13 | Choose scihub url [0]: https://sci-hub.ru\n",
      "[INFO] | 2022/04/18 18:29:13 | <- Request: scihub_url=https://sci-hub.ru, source=DoiSource[type=doi, id=doi.org/10.1086/448011]\n",
      "[INFO] | 2022/04/18 18:29:13 | -> Response: status_code=200, content_length=6813\n",
      "[INFO] | 2022/04/18 18:29:13 | * Extracted information: {'url': 'https://twin.sci-hub.ru/5862/f35b7bfcf3383d57447748b6896b5d95/editorial-notes-1979.pdf', 'title': 'Critical Inquiry, 5(3), 590–595'}\n"
     ]
    },
    {
     "name": "stdout",
     "output_type": "stream",
     "text": [
      " 39% [.............................                                               ] 139264 / 353836"
     ]
    },
    {
     "name": "stderr",
     "output_type": "stream",
     "text": [
      "[INFO] | 2022/04/18 18:29:14 | ↓ Successfully download the url to: ./journals/post_colonial/critical_inquiry/Critical Inquiry, 5(3), 590–595.pdf\n"
     ]
    },
    {
     "name": "stdout",
     "output_type": "stream",
     "text": [
      "100% [............................................................................] 353836 / 353836\n"
     ]
    },
    {
     "name": "stderr",
     "output_type": "stream",
     "text": [
      "[INFO] | 2022/04/18 18:29:24 | Choose scihub url [0]: https://sci-hub.ru\n",
      "[INFO] | 2022/04/18 18:29:25 | <- Request: scihub_url=https://sci-hub.ru, source=DoiSource[type=doi, id=doi.org/10.1086/448013]\n",
      "[INFO] | 2022/04/18 18:29:25 | -> Response: status_code=200, content_length=6836\n",
      "[INFO] | 2022/04/18 18:29:25 | * Extracted information: {'url': 'https://twin.sci-hub.ru/6724/c4d5c660d3a4d05035f45561b3df9a01/schwenger1979.pdf', 'title': 'The Masculine Mode. Critical Inquiry, 5(4), 621–633'}\n"
     ]
    },
    {
     "name": "stdout",
     "output_type": "stream",
     "text": [
      " 12% [.........                                                                 ]  188416 / 1458897"
     ]
    },
    {
     "name": "stderr",
     "output_type": "stream",
     "text": [
      "[INFO] | 2022/04/18 18:29:25 | ↓ Successfully download the url to: ./journals/post_colonial/critical_inquiry/The Masculine Mode. Critical Inquiry, 5(4), 621–633.pdf\n"
     ]
    },
    {
     "name": "stdout",
     "output_type": "stream",
     "text": [
      "100% [..........................................................................] 1458897 / 1458897\n"
     ]
    },
    {
     "name": "stderr",
     "output_type": "stream",
     "text": [
      "[INFO] | 2022/04/18 18:29:35 | Choose scihub url [0]: https://sci-hub.ru\n",
      "[INFO] | 2022/04/18 18:29:36 | <- Request: scihub_url=https://sci-hub.ru, source=DoiSource[type=doi, id=doi.org/10.1086/448017]\n",
      "[INFO] | 2022/04/18 18:29:36 | -> Response: status_code=200, content_length=6889\n",
      "[INFO] | 2022/04/18 18:29:36 | * Extracted information: {'url': 'https://twin.sci-hub.ru/6033/4b451e91f802f616b534e6de45b28bbc/russo1979.pdf', 'title': 'A Study in Influence  The Moore-Richards Paradigm. Critical Inquiry, 5(4), 683–712'}\n"
     ]
    },
    {
     "name": "stdout",
     "output_type": "stream",
     "text": [
      " 21% [................                                                          ]  745472 / 3389326"
     ]
    },
    {
     "name": "stderr",
     "output_type": "stream",
     "text": [
      "[INFO] | 2022/04/18 18:29:37 | ↓ Successfully download the url to: ./journals/post_colonial/critical_inquiry/A Study in Influence  The Moore-Richards Paradigm. Critical Inquiry, 5(4), 683–712.pdf\n"
     ]
    },
    {
     "name": "stdout",
     "output_type": "stream",
     "text": [
      "100% [..........................................................................] 3389326 / 3389326\n"
     ]
    },
    {
     "name": "stderr",
     "output_type": "stream",
     "text": [
      "[INFO] | 2022/04/18 18:29:47 | Choose scihub url [0]: https://sci-hub.ru\n",
      "[INFO] | 2022/04/18 18:29:48 | <- Request: scihub_url=https://sci-hub.ru, source=DoiSource[type=doi, id=doi.org/10.1086/448018]\n",
      "[INFO] | 2022/04/18 18:29:48 | -> Response: status_code=200, content_length=6821\n",
      "[INFO] | 2022/04/18 18:29:48 | * Extracted information: {'url': 'https://twin.sci-hub.ru/5827/1ab076f16c31bc9a641f07b07baeace7/mcgregor1979.pdf', 'title': '“Art”  Again. Critical Inquiry, 5(4), 713–723'}\n"
     ]
    },
    {
     "name": "stdout",
     "output_type": "stream",
     "text": [
      " 87% [................................................................          ] 1056768 / 1208634"
     ]
    },
    {
     "name": "stderr",
     "output_type": "stream",
     "text": [
      "[INFO] | 2022/04/18 18:29:48 | ↓ Successfully download the url to: ./journals/post_colonial/critical_inquiry/“Art”  Again. Critical Inquiry, 5(4), 713–723.pdf\n"
     ]
    },
    {
     "name": "stdout",
     "output_type": "stream",
     "text": [
      "100% [..........................................................................] 1208634 / 1208634\n"
     ]
    },
    {
     "name": "stderr",
     "output_type": "stream",
     "text": [
      "[INFO] | 2022/04/18 18:29:59 | Choose scihub url [0]: https://sci-hub.ru\n",
      "[INFO] | 2022/04/18 18:29:59 | <- Request: scihub_url=https://sci-hub.ru, source=DoiSource[type=doi, id=doi.org/10.1086/448022]\n",
      "[INFO] | 2022/04/18 18:29:59 | -> Response: status_code=200, content_length=6859\n",
      "[INFO] | 2022/04/18 18:29:59 | * Extracted information: {'url': 'https://twin.sci-hub.ru/6038/7f9cc53949b2d8780408bd28db430139/bell1979.pdf', 'title': 'Notes and Exchanges. Critical Inquiry, 5(4), 793–799'}\n"
     ]
    },
    {
     "name": "stdout",
     "output_type": "stream",
     "text": [
      " 29% [......................                                                      ] 188416 / 636061"
     ]
    },
    {
     "name": "stderr",
     "output_type": "stream",
     "text": [
      "[INFO] | 2022/04/18 18:30:00 | ↓ Successfully download the url to: ./journals/post_colonial/critical_inquiry/Notes and Exchanges. Critical Inquiry, 5(4), 793–799.pdf\n"
     ]
    },
    {
     "name": "stdout",
     "output_type": "stream",
     "text": [
      "100% [............................................................................] 636061 / 636061\n"
     ]
    },
    {
     "name": "stderr",
     "output_type": "stream",
     "text": [
      "[INFO] | 2022/04/18 18:30:10 | Choose scihub url [0]: https://sci-hub.ru\n",
      "[INFO] | 2022/04/18 18:30:10 | <- Request: scihub_url=https://sci-hub.ru, source=DoiSource[type=doi, id=doi.org/10.1086/448023]\n",
      "[INFO] | 2022/04/18 18:30:10 | -> Response: status_code=200, content_length=6810\n",
      "[INFO] | 2022/04/18 18:30:10 | * Extracted information: {'url': 'https://twin.sci-hub.ru/5855/e711cdfcff5d65075366c1f4211adf37/editorial-note-1979.pdf', 'title': 'Critical Inquiry, 5(4), 800–800'}\n",
      "[INFO] | 2022/04/18 18:30:10 | ↓ Successfully download the url to: ./journals/post_colonial/critical_inquiry/Critical Inquiry, 5(4), 800–800.pdf\n"
     ]
    },
    {
     "name": "stdout",
     "output_type": "stream",
     "text": [
      "100% [..............................................................................] 19997 / 19997\n"
     ]
    },
    {
     "name": "stderr",
     "output_type": "stream",
     "text": [
      "[INFO] | 2022/04/18 18:30:20 | Choose scihub url [0]: https://sci-hub.ru\n",
      "[INFO] | 2022/04/18 18:30:21 | <- Request: scihub_url=https://sci-hub.ru, source=DoiSource[type=doi, id=doi.org/10.1086/448024]\n",
      "[INFO] | 2022/04/18 18:30:21 | -> Response: status_code=200, content_length=6846\n",
      "[INFO] | 2022/04/18 18:30:21 | * Extracted information: {'url': 'https://twin.sci-hub.ru/5876/4427c5f96eaaa411cba5fdcf5e22626b/toulmin1979.pdf', 'title': 'The Inwardness of Mental Life. Critical Inquiry, 6(1), 1–16'}\n"
     ]
    },
    {
     "name": "stdout",
     "output_type": "stream",
     "text": [
      " 75% [.......................................................                   ] 1277952 / 1692128"
     ]
    },
    {
     "name": "stderr",
     "output_type": "stream",
     "text": [
      "[INFO] | 2022/04/18 18:30:22 | ↓ Successfully download the url to: ./journals/post_colonial/critical_inquiry/The Inwardness of Mental Life. Critical Inquiry, 6(1), 1–16.pdf\n"
     ]
    },
    {
     "name": "stdout",
     "output_type": "stream",
     "text": [
      "100% [..........................................................................] 1692128 / 1692128\n"
     ]
    },
    {
     "name": "stderr",
     "output_type": "stream",
     "text": [
      "[INFO] | 2022/04/18 18:30:32 | Choose scihub url [0]: https://sci-hub.ru\n",
      "[INFO] | 2022/04/18 18:30:32 | <- Request: scihub_url=https://sci-hub.ru, source=DoiSource[type=doi, id=doi.org/10.1086/448025]\n",
      "[INFO] | 2022/04/18 18:30:32 | -> Response: status_code=200, content_length=6884\n",
      "[INFO] | 2022/04/18 18:30:32 | * Extracted information: {'url': 'https://twin.sci-hub.ru/5828/cf7fb015b38a0d77acf7c663228e65b1/holroyd1979.pdf', 'title': 'George Bernard Shaw  Women and the Body Politic. Critical Inquiry, 6(1), 17–32'}\n"
     ]
    },
    {
     "name": "stdout",
     "output_type": "stream",
     "text": [
      " 59% [............................................                              ] 1081344 / 1816203"
     ]
    },
    {
     "name": "stderr",
     "output_type": "stream",
     "text": [
      "[INFO] | 2022/04/18 18:30:34 | ↓ Successfully download the url to: ./journals/post_colonial/critical_inquiry/George Bernard Shaw  Women and the Body Politic. Critical Inquiry, 6(1), 17–32.pdf\n"
     ]
    },
    {
     "name": "stdout",
     "output_type": "stream",
     "text": [
      "100% [..........................................................................] 1816203 / 1816203\n"
     ]
    },
    {
     "name": "stderr",
     "output_type": "stream",
     "text": [
      "[INFO] | 2022/04/18 18:30:44 | Choose scihub url [0]: https://sci-hub.ru\n",
      "[INFO] | 2022/04/18 18:30:44 | <- Request: scihub_url=https://sci-hub.ru, source=DoiSource[type=doi, id=doi.org/10.1086/448026]\n",
      "[INFO] | 2022/04/18 18:30:44 | -> Response: status_code=200, content_length=6903\n",
      "[INFO] | 2022/04/18 18:30:44 | * Extracted information: {'url': 'https://twin.sci-hub.ru/6756/7839a413f877667225e5be89e7ac736b/edwards1979.pdf', 'title': 'The Labors of Psyche  Toward a Theory of Female Heroism. Critical Inquiry, 6(1), 33–49'}\n"
     ]
    },
    {
     "name": "stdout",
     "output_type": "stream",
     "text": [
      " 69% [...................................................                       ] 1351680 / 1938281"
     ]
    },
    {
     "name": "stderr",
     "output_type": "stream",
     "text": [
      "[INFO] | 2022/04/18 18:30:45 | ↓ Successfully download the url to: ./journals/post_colonial/critical_inquiry/The Labors of Psyche  Toward a Theory of Female Heroism. Critical Inquiry, 6(1), 33–49.pdf\n"
     ]
    },
    {
     "name": "stdout",
     "output_type": "stream",
     "text": [
      "100% [..........................................................................] 1938281 / 1938281\n"
     ]
    },
    {
     "name": "stderr",
     "output_type": "stream",
     "text": [
      "[INFO] | 2022/04/18 18:30:55 | Choose scihub url [0]: https://sci-hub.ru\n",
      "[INFO] | 2022/04/18 18:30:55 | <- Request: scihub_url=https://sci-hub.ru, source=DoiSource[type=doi, id=doi.org/10.1086/448027]\n",
      "[INFO] | 2022/04/18 18:30:55 | -> Response: status_code=200, content_length=6926\n",
      "[INFO] | 2022/04/18 18:30:55 | * Extracted information: {'url': 'https://twin.sci-hub.ru/6586/52a61e63ac32bba6cbd58d4f091a1705/cooper1979.pdf', 'title': 'The Poet as Elaborator  Analytical Psychology as a Critical Paradigm. Critical Inquiry, 6(1), 51–63'}\n"
     ]
    },
    {
     "name": "stdout",
     "output_type": "stream",
     "text": [
      "100% [..........................................................................] 1334241 / 1334241"
     ]
    },
    {
     "name": "stderr",
     "output_type": "stream",
     "text": [
      "[INFO] | 2022/04/18 18:30:56 | ↓ Successfully download the url to: ./journals/post_colonial/critical_inquiry/The Poet as Elaborator  Analytical Psychology as a Critical Paradigm. Critical Inquiry, 6(1), 51–63.pdf\n"
     ]
    },
    {
     "name": "stdout",
     "output_type": "stream",
     "text": [
      "\n"
     ]
    },
    {
     "name": "stderr",
     "output_type": "stream",
     "text": [
      "[INFO] | 2022/04/18 18:31:06 | Choose scihub url [0]: https://sci-hub.ru\n",
      "[INFO] | 2022/04/18 18:31:07 | <- Request: scihub_url=https://sci-hub.ru, source=DoiSource[type=doi, id=doi.org/10.1086/448030]\n",
      "[INFO] | 2022/04/18 18:31:07 | -> Response: status_code=200, content_length=6965\n",
      "[INFO] | 2022/04/18 18:31:07 | * Extracted information: {'url': 'https://twin.sci-hub.ru/5877/75904d00252aa7d0bb5e07762ab91b00/eoyang1979.pdf', 'title': 'Beyond Visual and Aural Criteria  The Importance of Flavor in Chinese Literary Criticism. Critical Inquiry, 6(1), 99–106'}\n"
     ]
    },
    {
     "name": "stdout",
     "output_type": "stream",
     "text": [
      " 23% [.................                                                           ] 188416 / 800184"
     ]
    },
    {
     "name": "stderr",
     "output_type": "stream",
     "text": [
      "[INFO] | 2022/04/18 18:31:08 | ↓ Successfully download the url to: ./journals/post_colonial/critical_inquiry/Beyond Visual and Aural Criteria  The Importance of Flavor in Chinese Literary Criticism. Critical Inquiry, 6(1), 99–106.pdf\n"
     ]
    },
    {
     "name": "stdout",
     "output_type": "stream",
     "text": [
      "100% [............................................................................] 800184 / 800184\n"
     ]
    },
    {
     "name": "stderr",
     "output_type": "stream",
     "text": [
      "[INFO] | 2022/04/18 18:31:18 | Choose scihub url [0]: https://sci-hub.ru\n",
      "[INFO] | 2022/04/18 18:31:18 | <- Request: scihub_url=https://sci-hub.ru, source=DoiSource[type=doi, id=doi.org/10.1086/448031]\n",
      "[INFO] | 2022/04/18 18:31:18 | -> Response: status_code=200, content_length=6825\n",
      "[INFO] | 2022/04/18 18:31:18 | * Extracted information: {'url': 'https://sci-hub.ru/downloads/2020-03-06/75/orgel1979.pdf', 'title': 'Shakespeare and the Kinds of Drama. Critical Inquiry, 6(1), 107–123'}\n"
     ]
    },
    {
     "name": "stdout",
     "output_type": "stream",
     "text": [
      " 74% [......................................................                    ] 1409024 / 1902440"
     ]
    },
    {
     "name": "stderr",
     "output_type": "stream",
     "text": [
      "[INFO] | 2022/04/18 18:31:19 | ↓ Successfully download the url to: ./journals/post_colonial/critical_inquiry/Shakespeare and the Kinds of Drama. Critical Inquiry, 6(1), 107–123.pdf\n"
     ]
    },
    {
     "name": "stdout",
     "output_type": "stream",
     "text": [
      "100% [..........................................................................] 1902440 / 1902440\n"
     ]
    },
    {
     "name": "stderr",
     "output_type": "stream",
     "text": [
      "[INFO] | 2022/04/18 18:31:29 | Choose scihub url [0]: https://sci-hub.ru\n",
      "[INFO] | 2022/04/18 18:31:29 | <- Request: scihub_url=https://sci-hub.ru, source=DoiSource[type=doi, id=doi.org/10.1086/448032]\n",
      "[INFO] | 2022/04/18 18:31:29 | -> Response: status_code=200, content_length=6842\n",
      "[INFO] | 2022/04/18 18:31:29 | * Extracted information: {'url': 'https://twin.sci-hub.ru/6053/f3d17f3975d124f93f56f8ed502b6af3/goodman1979.pdf', 'title': 'Metaphor as Moonlighting. Critical Inquiry, 6(1), 125–130'}\n"
     ]
    },
    {
     "name": "stdout",
     "output_type": "stream",
     "text": [
      " 34% [..........................                                                  ] 188416 / 548114"
     ]
    },
    {
     "name": "stderr",
     "output_type": "stream",
     "text": [
      "[INFO] | 2022/04/18 18:31:30 | ↓ Successfully download the url to: ./journals/post_colonial/critical_inquiry/Metaphor as Moonlighting. Critical Inquiry, 6(1), 125–130.pdf\n"
     ]
    },
    {
     "name": "stdout",
     "output_type": "stream",
     "text": [
      "100% [............................................................................] 548114 / 548114\n"
     ]
    },
    {
     "name": "stderr",
     "output_type": "stream",
     "text": [
      "[INFO] | 2022/04/18 18:31:40 | Choose scihub url [0]: https://sci-hub.ru\n",
      "[INFO] | 2022/04/18 18:31:40 | <- Request: scihub_url=https://sci-hub.ru, source=DoiSource[type=doi, id=doi.org/10.1086/448033]\n",
      "[INFO] | 2022/04/18 18:31:40 | -> Response: status_code=200, content_length=6880\n",
      "[INFO] | 2022/04/18 18:31:40 | * Extracted information: {'url': 'https://twin.sci-hub.ru/5876/2f65c7bc2ebfc6c17ce4505df9eadb58/black1979.pdf', 'title': 'How Metaphors Work  A Reply to Donald Davidson. Critical Inquiry, 6(1), 131–143'}\n"
     ]
    },
    {
     "name": "stdout",
     "output_type": "stream",
     "text": [
      " 86% [...............................................................           ] 1081344 / 1257141"
     ]
    },
    {
     "name": "stderr",
     "output_type": "stream",
     "text": [
      "[INFO] | 2022/04/18 18:31:42 | ↓ Successfully download the url to: ./journals/post_colonial/critical_inquiry/How Metaphors Work  A Reply to Donald Davidson. Critical Inquiry, 6(1), 131–143.pdf\n"
     ]
    },
    {
     "name": "stdout",
     "output_type": "stream",
     "text": [
      "100% [..........................................................................] 1257141 / 1257141\n"
     ]
    },
    {
     "name": "stderr",
     "output_type": "stream",
     "text": [
      "[INFO] | 2022/04/18 18:31:52 | Choose scihub url [0]: https://sci-hub.ru\n",
      "[INFO] | 2022/04/18 18:31:52 | <- Request: scihub_url=https://sci-hub.ru, source=DoiSource[type=doi, id=doi.org/10.1086/448034]\n",
      "[INFO] | 2022/04/18 18:31:52 | -> Response: status_code=502, content_length=581\n",
      "[WARNING] | 2022/04/18 18:31:52 | Error occurs, task status: crawling_failed, error: Error occurs when crawling source: DoiSource[type=doi, id=doi.org/10.1086/448034]\n",
      "[INFO] | 2022/04/18 18:31:52 | Choose scihub url [1]: http://sci-hub.se\n",
      "[INFO] | 2022/04/18 18:31:52 | <- Request: scihub_url=http://sci-hub.se, source=DoiSource[type=doi, id=doi.org/10.1086/448034]\n",
      "[INFO] | 2022/04/18 18:31:52 | -> Response: status_code=200, content_length=6857\n",
      "[INFO] | 2022/04/18 18:31:52 | * Extracted information: {'url': 'https://twin.sci-hub.se/5992/6907f8fbc31f8362deaa46cc3d411f14/kramer1979.pdf', 'title': 'The Shape of Post-Classical Music. Critical Inquiry, 6(1), 144–152'}\n"
     ]
    },
    {
     "name": "stdout",
     "output_type": "stream",
     "text": [
      " 85% [...............................................................           ]  860160 / 1000741"
     ]
    },
    {
     "name": "stderr",
     "output_type": "stream",
     "text": [
      "[INFO] | 2022/04/18 18:31:53 | ↓ Successfully download the url to: ./journals/post_colonial/critical_inquiry/The Shape of Post-Classical Music. Critical Inquiry, 6(1), 144–152.pdf\n"
     ]
    },
    {
     "name": "stdout",
     "output_type": "stream",
     "text": [
      "100% [..........................................................................] 1000741 / 1000741\n"
     ]
    },
    {
     "name": "stderr",
     "output_type": "stream",
     "text": [
      "[INFO] | 2022/04/18 18:32:03 | Choose scihub url [0]: https://sci-hub.ru\n",
      "[INFO] | 2022/04/18 18:32:03 | <- Request: scihub_url=https://sci-hub.ru, source=DoiSource[type=doi, id=doi.org/10.1086/448036]\n",
      "[INFO] | 2022/04/18 18:32:03 | -> Response: status_code=200, content_length=6913\n",
      "[INFO] | 2022/04/18 18:32:03 | * Extracted information: {'url': 'https://twin.sci-hub.ru/5849/3bd0b04b0948dfa5973bc4399502aff0/reichert1979.pdf', 'title': 'But That Was in Another Ball Park  A Reply to Stanley Fish. Critical Inquiry, 6(1), 164–172'}\n"
     ]
    },
    {
     "name": "stdout",
     "output_type": "stream",
     "text": [
      " 16% [............                                                              ]  172032 / 1025582"
     ]
    },
    {
     "name": "stderr",
     "output_type": "stream",
     "text": [
      "[INFO] | 2022/04/18 18:32:05 | ↓ Successfully download the url to: ./journals/post_colonial/critical_inquiry/But That Was in Another Ball Park  A Reply to Stanley Fish. Critical Inquiry, 6(1), 164–172.pdf\n"
     ]
    },
    {
     "name": "stdout",
     "output_type": "stream",
     "text": [
      "100% [..........................................................................] 1025582 / 1025582\n"
     ]
    },
    {
     "name": "stderr",
     "output_type": "stream",
     "text": [
      "[INFO] | 2022/04/18 18:32:15 | Choose scihub url [0]: https://sci-hub.ru\n",
      "[INFO] | 2022/04/18 18:32:15 | <- Request: scihub_url=https://sci-hub.ru, source=DoiSource[type=doi, id=doi.org/10.1086/448037]\n",
      "[INFO] | 2022/04/18 18:32:15 | -> Response: status_code=200, content_length=6954\n",
      "[INFO] | 2022/04/18 18:32:15 | * Extracted information: {'url': 'https://twin.sci-hub.ru/6799/d9249b9799af0f80211bad056f71e21c/fish1979.pdf', 'title': 'A Reply to John Reichert; Or, How to Stop Worrying and Learn to Love Interpretation. Critical Inquiry, 6(1), 173–178'}\n"
     ]
    },
    {
     "name": "stdout",
     "output_type": "stream",
     "text": [
      " 28% [.....................                                                       ] 188416 / 671334"
     ]
    },
    {
     "name": "stderr",
     "output_type": "stream",
     "text": [
      "[INFO] | 2022/04/18 18:32:16 | ↓ Successfully download the url to: ./journals/post_colonial/critical_inquiry/A Reply to John Reichert; Or, How to Stop Worrying and Learn to Love Interpretation. Critical Inquiry, 6(1), 173–178.pdf\n"
     ]
    },
    {
     "name": "stdout",
     "output_type": "stream",
     "text": [
      "100% [............................................................................] 671334 / 671334\n"
     ]
    },
    {
     "name": "stderr",
     "output_type": "stream",
     "text": [
      "[INFO] | 2022/04/18 18:32:26 | Choose scihub url [0]: https://sci-hub.ru\n",
      "[INFO] | 2022/04/18 18:32:26 | <- Request: scihub_url=https://sci-hub.ru, source=DoiSource[type=doi, id=doi.org/10.1086/448038]\n",
      "[INFO] | 2022/04/18 18:32:26 | -> Response: status_code=200, content_length=7011\n",
      "[INFO] | 2022/04/18 18:32:26 | * Extracted information: {'url': 'https://twin.sci-hub.ru/5854/7cecbfe697b5820505ddd97f838d29b0/editorial-note-the-robber-in-the-bedroom-or-the-thief-of-love-a--1979.pdf', 'title': 'Critical Inquiry, 6(1), 179–179'}\n",
      "[INFO] | 2022/04/18 18:32:26 | ↓ Successfully download the url to: ./journals/post_colonial/critical_inquiry/Critical Inquiry, 6(1), 179–179.pdf\n"
     ]
    },
    {
     "name": "stdout",
     "output_type": "stream",
     "text": [
      "100% [..............................................................................] 32236 / 32236\n"
     ]
    },
    {
     "name": "stderr",
     "output_type": "stream",
     "text": [
      "[INFO] | 2022/04/18 18:32:36 | Choose scihub url [0]: https://sci-hub.ru\n",
      "[INFO] | 2022/04/18 18:32:37 | <- Request: scihub_url=https://sci-hub.ru, source=DoiSource[type=doi, id=doi.org/10.1086/448044]\n",
      "[INFO] | 2022/04/18 18:32:37 | -> Response: status_code=200, content_length=6838\n",
      "[INFO] | 2022/04/18 18:32:37 | * Extracted information: {'url': 'https://twin.sci-hub.ru/5870/1ae08d6c492641875b4445ea26524ec8/sacks1979.pdf', 'title': 'The Pursuit of Lew Archer. Critical Inquiry, 6(2), 231–238'}\n"
     ]
    },
    {
     "name": "stdout",
     "output_type": "stream",
     "text": [
      " 20% [...............                                                             ] 188416 / 908085"
     ]
    },
    {
     "name": "stderr",
     "output_type": "stream",
     "text": [
      "[INFO] | 2022/04/18 18:32:38 | ↓ Successfully download the url to: ./journals/post_colonial/critical_inquiry/The Pursuit of Lew Archer. Critical Inquiry, 6(2), 231–238.pdf\n"
     ]
    },
    {
     "name": "stdout",
     "output_type": "stream",
     "text": [
      "100% [............................................................................] 908085 / 908085\n"
     ]
    },
    {
     "name": "stderr",
     "output_type": "stream",
     "text": [
      "[INFO] | 2022/04/18 18:32:48 | Choose scihub url [0]: https://sci-hub.ru\n",
      "[INFO] | 2022/04/18 18:32:48 | <- Request: scihub_url=https://sci-hub.ru, source=DoiSource[type=doi, id=doi.org/10.1086/448045]\n",
      "[INFO] | 2022/04/18 18:32:48 | -> Response: status_code=200, content_length=6857\n",
      "[INFO] | 2022/04/18 18:32:48 | * Extracted information: {'url': 'https://twin.sci-hub.ru/5972/732fc8178da09821581f8c854ab44731/bell1979.pdf', 'title': 'Bloomsbury and “The Vulgar Passions.” Critical Inquiry, 6(2), 239–256'}\n"
     ]
    },
    {
     "name": "stdout",
     "output_type": "stream",
     "text": [
      " 46% [..................................                                        ]  917504 / 1969147"
     ]
    },
    {
     "name": "stderr",
     "output_type": "stream",
     "text": [
      "[INFO] | 2022/04/18 18:32:49 | ↓ Successfully download the url to: ./journals/post_colonial/critical_inquiry/Bloomsbury and “The Vulgar Passions.” Critical Inquiry, 6(2), 239–256.pdf\n"
     ]
    },
    {
     "name": "stdout",
     "output_type": "stream",
     "text": [
      "100% [..........................................................................] 1969147 / 1969147\n"
     ]
    },
    {
     "name": "stderr",
     "output_type": "stream",
     "text": [
      "[INFO] | 2022/04/18 18:32:59 | Choose scihub url [0]: https://sci-hub.ru\n",
      "[INFO] | 2022/04/18 18:33:00 | <- Request: scihub_url=https://sci-hub.ru, source=DoiSource[type=doi, id=doi.org/10.1086/448046]\n",
      "[INFO] | 2022/04/18 18:33:00 | -> Response: status_code=200, content_length=6930\n",
      "[INFO] | 2022/04/18 18:33:00 | * Extracted information: {'url': 'https://twin.sci-hub.ru/6035/836b9132e53e32fbade168a288fc7c5b/steiner1979.pdf', 'title': 'The Case for Unclear Thinking  The New Critics versus Charles Morris. Critical Inquiry, 6(2), 257–269'}\n"
     ]
    },
    {
     "name": "stdout",
     "output_type": "stream",
     "text": [
      " 88% [.................................................................         ] 1261568 / 1421719"
     ]
    },
    {
     "name": "stderr",
     "output_type": "stream",
     "text": [
      "[INFO] | 2022/04/18 18:33:01 | ↓ Successfully download the url to: ./journals/post_colonial/critical_inquiry/The Case for Unclear Thinking  The New Critics versus Charles Morris. Critical Inquiry, 6(2), 257–269.pdf\n"
     ]
    },
    {
     "name": "stdout",
     "output_type": "stream",
     "text": [
      "100% [..........................................................................] 1421719 / 1421719\n"
     ]
    },
    {
     "name": "stderr",
     "output_type": "stream",
     "text": [
      "[INFO] | 2022/04/18 18:33:11 | Choose scihub url [0]: https://sci-hub.ru\n",
      "[INFO] | 2022/04/18 18:33:11 | <- Request: scihub_url=https://sci-hub.ru, source=DoiSource[type=doi, id=doi.org/10.1086/448047]\n",
      "[INFO] | 2022/04/18 18:33:11 | -> Response: status_code=200, content_length=6853\n",
      "[INFO] | 2022/04/18 18:33:11 | * Extracted information: {'url': 'https://twin.sci-hub.ru/5852/57aa365cb9df4a56c4437613b4671c5b/miller1979.pdf', 'title': 'Chicago Architecture after Mies. Critical Inquiry, 6(2), 271–289'}\n"
     ]
    },
    {
     "name": "stdout",
     "output_type": "stream",
     "text": [
      " 68% [..................................................                        ] 1613824 / 2363092"
     ]
    },
    {
     "name": "stderr",
     "output_type": "stream",
     "text": [
      "[INFO] | 2022/04/18 18:33:12 | ↓ Successfully download the url to: ./journals/post_colonial/critical_inquiry/Chicago Architecture after Mies. Critical Inquiry, 6(2), 271–289.pdf\n"
     ]
    },
    {
     "name": "stdout",
     "output_type": "stream",
     "text": [
      "100% [..........................................................................] 2363092 / 2363092\n"
     ]
    },
    {
     "name": "stderr",
     "output_type": "stream",
     "text": [
      "[INFO] | 2022/04/18 18:33:22 | Choose scihub url [0]: https://sci-hub.ru\n",
      "[INFO] | 2022/04/18 18:33:22 | <- Request: scihub_url=https://sci-hub.ru, source=DoiSource[type=doi, id=doi.org/10.1086/448049]\n",
      "[INFO] | 2022/04/18 18:33:22 | -> Response: status_code=200, content_length=6837\n",
      "[INFO] | 2022/04/18 18:33:23 | * Extracted information: {'url': 'https://twin.sci-hub.ru/6554/9734f67615418533122312dcf9ba43ed/cavell1979.pdf', 'title': 'On Makavejev on Bergman. Critical Inquiry, 6(2), 305–330'}\n"
     ]
    },
    {
     "name": "stdout",
     "output_type": "stream",
     "text": [
      " 57% [..........................................                                ] 1744896 / 3051731"
     ]
    },
    {
     "name": "stderr",
     "output_type": "stream",
     "text": [
      "[INFO] | 2022/04/18 18:33:23 | ↓ Successfully download the url to: ./journals/post_colonial/critical_inquiry/On Makavejev on Bergman. Critical Inquiry, 6(2), 305–330.pdf\n"
     ]
    },
    {
     "name": "stdout",
     "output_type": "stream",
     "text": [
      "100% [..........................................................................] 3051731 / 3051731\n"
     ]
    },
    {
     "name": "stderr",
     "output_type": "stream",
     "text": [
      "[INFO] | 2022/04/18 18:33:33 | Choose scihub url [0]: https://sci-hub.ru\n",
      "[INFO] | 2022/04/18 18:33:34 | <- Request: scihub_url=https://sci-hub.ru, source=DoiSource[type=doi, id=doi.org/10.1086/448052]\n",
      "[INFO] | 2022/04/18 18:33:34 | -> Response: status_code=200, content_length=6900\n",
      "[INFO] | 2022/04/18 18:33:34 | * Extracted information: {'url': 'https://twin.sci-hub.ru/6037/2b8e88d5ae7c85bade47347238b527ae/altieri1979.pdf', 'title': 'Culture and Skepticism  A Response to Michael Fischer. Critical Inquiry, 6(2), 346–354'}\n"
     ]
    },
    {
     "name": "stdout",
     "output_type": "stream",
     "text": [
      " 19% [..............                                                              ] 188416 / 959301"
     ]
    },
    {
     "name": "stderr",
     "output_type": "stream",
     "text": [
      "[INFO] | 2022/04/18 18:33:35 | ↓ Successfully download the url to: ./journals/post_colonial/critical_inquiry/Culture and Skepticism  A Response to Michael Fischer. Critical Inquiry, 6(2), 346–354.pdf\n"
     ]
    },
    {
     "name": "stdout",
     "output_type": "stream",
     "text": [
      "100% [............................................................................] 959301 / 959301\n"
     ]
    },
    {
     "name": "stderr",
     "output_type": "stream",
     "text": [
      "[INFO] | 2022/04/18 18:33:45 | Choose scihub url [0]: https://sci-hub.ru\n",
      "[INFO] | 2022/04/18 18:33:45 | <- Request: scihub_url=https://sci-hub.ru, source=DoiSource[type=doi, id=doi.org/10.1086/448056]\n",
      "[INFO] | 2022/04/18 18:33:45 | -> Response: status_code=200, content_length=6931\n",
      "[INFO] | 2022/04/18 18:33:45 | * Extracted information: {'url': 'https://twin.sci-hub.ru/5982/7fc8312ce511a50529fbc15887e69645/abel1980.pdf', 'title': 'Redefining the Sister Arts  Baudelaire’s Response to the Art of Delacroix. Critical Inquiry, 6(3), 363–384'}\n"
     ]
    },
    {
     "name": "stdout",
     "output_type": "stream",
     "text": [
      " 32% [........................                                                  ]  860160 / 2614397"
     ]
    },
    {
     "name": "stderr",
     "output_type": "stream",
     "text": [
      "[INFO] | 2022/04/18 18:33:46 | ↓ Successfully download the url to: ./journals/post_colonial/critical_inquiry/Redefining the Sister Arts  Baudelaire’s Response to the Art of Delacroix. Critical Inquiry, 6(3), 363–384.pdf\n"
     ]
    },
    {
     "name": "stdout",
     "output_type": "stream",
     "text": [
      "100% [..........................................................................] 2614397 / 2614397\n"
     ]
    },
    {
     "name": "stderr",
     "output_type": "stream",
     "text": [
      "[INFO] | 2022/04/18 18:33:56 | Choose scihub url [0]: https://sci-hub.ru\n",
      "[INFO] | 2022/04/18 18:33:56 | <- Request: scihub_url=https://sci-hub.ru, source=DoiSource[type=doi, id=doi.org/10.1086/448058]\n",
      "[INFO] | 2022/04/18 18:33:56 | -> Response: status_code=200, content_length=6886\n",
      "[INFO] | 2022/04/18 18:33:56 | * Extracted information: {'url': 'https://twin.sci-hub.ru/5862/e695a81edbac4fcb31a4dcab6af69adc/steinberg1980.pdf', 'title': 'The Line of Fate in Michelangelo’s Painting. Critical Inquiry, 6(3), 411–454'}\n"
     ]
    },
    {
     "name": "stdout",
     "output_type": "stream",
     "text": [
      " 91% [...................................................................       ] 6701056 / 7354137"
     ]
    },
    {
     "name": "stderr",
     "output_type": "stream",
     "text": [
      "[INFO] | 2022/04/18 18:33:58 | ↓ Successfully download the url to: ./journals/post_colonial/critical_inquiry/The Line of Fate in Michelangelo’s Painting. Critical Inquiry, 6(3), 411–454.pdf\n"
     ]
    },
    {
     "name": "stdout",
     "output_type": "stream",
     "text": [
      "100% [..........................................................................] 7354137 / 7354137\n"
     ]
    },
    {
     "name": "stderr",
     "output_type": "stream",
     "text": [
      "[INFO] | 2022/04/18 18:34:08 | Choose scihub url [0]: https://sci-hub.ru\n",
      "[INFO] | 2022/04/18 18:34:09 | <- Request: scihub_url=https://sci-hub.ru, source=DoiSource[type=doi, id=doi.org/10.1086/448060]\n",
      "[INFO] | 2022/04/18 18:34:09 | -> Response: status_code=200, content_length=6912\n",
      "[INFO] | 2022/04/18 18:34:09 | * Extracted information: {'url': 'https://twin.sci-hub.ru/6202/8dda991b49b13716d3153ed1c6137c90/searle1980.pdf', 'title': '“Las Meninas” and the Paradoxes of Pictorial Representation. Critical Inquiry, 6(3), 477–488'}\n"
     ]
    },
    {
     "name": "stdout",
     "output_type": "stream",
     "text": [
      " 89% [..................................................................        ] 1163264 / 1298625"
     ]
    },
    {
     "name": "stderr",
     "output_type": "stream",
     "text": [
      "[INFO] | 2022/04/18 18:34:10 | ↓ Successfully download the url to: ./journals/post_colonial/critical_inquiry/“Las Meninas” and the Paradoxes of Pictorial Representation. Critical Inquiry, 6(3), 477–488.pdf\n"
     ]
    },
    {
     "name": "stdout",
     "output_type": "stream",
     "text": [
      "100% [..........................................................................] 1298625 / 1298625\n"
     ]
    },
    {
     "name": "stderr",
     "output_type": "stream",
     "text": [
      "[INFO] | 2022/04/18 18:34:20 | Choose scihub url [0]: https://sci-hub.ru\n",
      "[INFO] | 2022/04/18 18:34:20 | <- Request: scihub_url=https://sci-hub.ru, source=DoiSource[type=doi, id=doi.org/10.1086/448061]\n",
      "[INFO] | 2022/04/18 18:34:20 | -> Response: status_code=200, content_length=6846\n",
      "[INFO] | 2022/04/18 18:34:20 | * Extracted information: {'url': 'https://twin.sci-hub.ru/6035/842996560c594d97615be2a8f8283647/arnheim1980.pdf', 'title': 'A Plea for Visual Thinking. Critical Inquiry, 6(3), 489–497'}\n"
     ]
    },
    {
     "name": "stdout",
     "output_type": "stream",
     "text": [
      " 19% [..............                                                              ] 188416 / 956815"
     ]
    },
    {
     "name": "stderr",
     "output_type": "stream",
     "text": [
      "[INFO] | 2022/04/18 18:34:21 | ↓ Successfully download the url to: ./journals/post_colonial/critical_inquiry/A Plea for Visual Thinking. Critical Inquiry, 6(3), 489–497.pdf\n"
     ]
    },
    {
     "name": "stdout",
     "output_type": "stream",
     "text": [
      "100% [............................................................................] 956815 / 956815\n"
     ]
    },
    {
     "name": "stderr",
     "output_type": "stream",
     "text": [
      "[INFO] | 2022/04/18 18:34:31 | Choose scihub url [0]: https://sci-hub.ru\n",
      "[INFO] | 2022/04/18 18:34:31 | <- Request: scihub_url=https://sci-hub.ru, source=DoiSource[type=doi, id=doi.org/10.1086/448062]\n",
      "[INFO] | 2022/04/18 18:34:31 | -> Response: status_code=200, content_length=6823\n",
      "[INFO] | 2022/04/18 18:34:31 | * Extracted information: {'url': 'https://twin.sci-hub.ru/5851/4fa58aa30cf0dd10de301d2fb992c3d0/snyder1980.pdf', 'title': 'Picturing Vision. Critical Inquiry, 6(3), 499–526'}\n"
     ]
    },
    {
     "name": "stdout",
     "output_type": "stream",
     "text": [
      " 37% [...........................                                               ] 1204224 / 3228799"
     ]
    },
    {
     "name": "stderr",
     "output_type": "stream",
     "text": [
      "[INFO] | 2022/04/18 18:34:33 | ↓ Successfully download the url to: ./journals/post_colonial/critical_inquiry/Picturing Vision. Critical Inquiry, 6(3), 499–526.pdf\n"
     ]
    },
    {
     "name": "stdout",
     "output_type": "stream",
     "text": [
      "100% [..........................................................................] 3228799 / 3228799\n"
     ]
    },
    {
     "name": "stderr",
     "output_type": "stream",
     "text": [
      "[INFO] | 2022/04/18 18:34:43 | Choose scihub url [0]: https://sci-hub.ru\n",
      "[INFO] | 2022/04/18 18:34:43 | <- Request: scihub_url=https://sci-hub.ru, source=DoiSource[type=doi, id=doi.org/10.1086/448064]\n",
      "[INFO] | 2022/04/18 18:34:43 | -> Response: status_code=200, content_length=6905\n",
      "[INFO] | 2022/04/18 18:34:43 | * Extracted information: {'url': 'https://twin.sci-hub.ru/5950/4d52642cc856ee636862ed0e4a828a75/mitchell1980.pdf', 'title': 'Spatial Form in Literature  Toward a General Theory. Critical Inquiry, 6(3), 539–567'}\n"
     ]
    },
    {
     "name": "stdout",
     "output_type": "stream",
     "text": [
      " 48% [...................................                                       ] 1630208 / 3370018"
     ]
    },
    {
     "name": "stderr",
     "output_type": "stream",
     "text": [
      "[INFO] | 2022/04/18 18:34:44 | ↓ Successfully download the url to: ./journals/post_colonial/critical_inquiry/Spatial Form in Literature  Toward a General Theory. Critical Inquiry, 6(3), 539–567.pdf\n"
     ]
    },
    {
     "name": "stdout",
     "output_type": "stream",
     "text": [
      "100% [..........................................................................] 3370018 / 3370018\n"
     ]
    },
    {
     "name": "stderr",
     "output_type": "stream",
     "text": [
      "[INFO] | 2022/04/18 18:34:54 | Choose scihub url [0]: https://sci-hub.ru\n",
      "[INFO] | 2022/04/18 18:34:54 | <- Request: scihub_url=https://sci-hub.ru, source=DoiSource[type=doi, id=doi.org/10.1086/448065]\n",
      "[INFO] | 2022/04/18 18:34:54 | -> Response: status_code=200, content_length=6864\n",
      "[INFO] | 2022/04/18 18:34:54 | * Extracted information: {'url': 'https://twin.sci-hub.ru/5826/0bde709c8b9bb765ad42c8fd1900e24e/recent-books-by-our-contributors-1980.pdf', 'title': 'Critical Inquiry, 6(3), 569–574'}\n"
     ]
    },
    {
     "name": "stdout",
     "output_type": "stream",
     "text": [
      " 32% [........................                                                    ] 106496 / 332620"
     ]
    },
    {
     "name": "stderr",
     "output_type": "stream",
     "text": [
      "[INFO] | 2022/04/18 18:34:55 | ↓ Successfully download the url to: ./journals/post_colonial/critical_inquiry/Critical Inquiry, 6(3), 569–574.pdf\n"
     ]
    },
    {
     "name": "stdout",
     "output_type": "stream",
     "text": [
      "100% [............................................................................] 332620 / 332620\n"
     ]
    },
    {
     "name": "stderr",
     "output_type": "stream",
     "text": [
      "[INFO] | 2022/04/18 18:35:05 | Choose scihub url [0]: https://sci-hub.ru\n",
      "[INFO] | 2022/04/18 18:35:06 | <- Request: scihub_url=https://sci-hub.ru, source=DoiSource[type=doi, id=doi.org/10.1086/448066]\n",
      "[INFO] | 2022/04/18 18:35:06 | -> Response: status_code=200, content_length=6830\n",
      "[INFO] | 2022/04/18 18:35:06 | * Extracted information: {'url': 'https://sci-hub.ru/tree/03/f7/03f7f05eec93f6f4471e0b3a1d9c300e.pdf', 'title': 'Stanley Cavell and “The Claim of Reason.” Critical Inquiry, 6(4), 575–588'}\n"
     ]
    },
    {
     "name": "stdout",
     "output_type": "stream",
     "text": [
      " 73% [......................................................                    ] 1163264 / 1575500"
     ]
    },
    {
     "name": "stderr",
     "output_type": "stream",
     "text": [
      "[INFO] | 2022/04/18 18:35:07 | ↓ Successfully download the url to: ./journals/post_colonial/critical_inquiry/Stanley Cavell and “The Claim of Reason.” Critical Inquiry, 6(4), 575–588.pdf\n"
     ]
    },
    {
     "name": "stdout",
     "output_type": "stream",
     "text": [
      "100% [..........................................................................] 1575500 / 1575500\n"
     ]
    },
    {
     "name": "stderr",
     "output_type": "stream",
     "text": [
      "[INFO] | 2022/04/18 18:35:17 | Choose scihub url [0]: https://sci-hub.ru\n",
      "[INFO] | 2022/04/18 18:35:17 | <- Request: scihub_url=https://sci-hub.ru, source=DoiSource[type=doi, id=doi.org/10.1086/448067]\n",
      "[INFO] | 2022/04/18 18:35:17 | -> Response: status_code=200, content_length=6841\n",
      "[INFO] | 2022/04/18 18:35:17 | * Extracted information: {'url': 'https://twin.sci-hub.ru/6029/7b91dee2a29613e96220dd88b8b7e302/cavell1980.pdf', 'title': 'A Reply to John Hollander. Critical Inquiry, 6(4), 589–591'}\n"
     ]
    },
    {
     "name": "stdout",
     "output_type": "stream",
     "text": [
      " 77% [...........................................................                 ] 188416 / 241585"
     ]
    },
    {
     "name": "stderr",
     "output_type": "stream",
     "text": [
      "[INFO] | 2022/04/18 18:35:18 | ↓ Successfully download the url to: ./journals/post_colonial/critical_inquiry/A Reply to John Hollander. Critical Inquiry, 6(4), 589–591.pdf\n"
     ]
    },
    {
     "name": "stdout",
     "output_type": "stream",
     "text": [
      "100% [............................................................................] 241585 / 241585\n"
     ]
    },
    {
     "name": "stderr",
     "output_type": "stream",
     "text": [
      "[INFO] | 2022/04/18 18:35:28 | Choose scihub url [0]: https://sci-hub.ru\n",
      "[INFO] | 2022/04/18 18:35:28 | <- Request: scihub_url=https://sci-hub.ru, source=DoiSource[type=doi, id=doi.org/10.1086/448068]\n",
      "[INFO] | 2022/04/18 18:35:28 | -> Response: status_code=200, content_length=6928\n",
      "[INFO] | 2022/04/18 18:35:28 | * Extracted information: {'url': 'https://twin.sci-hub.ru/6025/6a16b5e9e7215f07567b02ebdc9140c4/leitch1980.pdf', 'title': 'The Lateral Dance  The Deconstructive Criticism of J. Hillis Miller. Critical Inquiry, 6(4), 593–607'}\n"
     ]
    },
    {
     "name": "stdout",
     "output_type": "stream",
     "text": [
      " 80% [...........................................................               ] 1277952 / 1593898"
     ]
    },
    {
     "name": "stderr",
     "output_type": "stream",
     "text": [
      "[INFO] | 2022/04/18 18:35:29 | ↓ Successfully download the url to: ./journals/post_colonial/critical_inquiry/The Lateral Dance  The Deconstructive Criticism of J. Hillis Miller. Critical Inquiry, 6(4), 593–607.pdf\n"
     ]
    },
    {
     "name": "stdout",
     "output_type": "stream",
     "text": [
      "100% [..........................................................................] 1593898 / 1593898\n"
     ]
    },
    {
     "name": "stderr",
     "output_type": "stream",
     "text": [
      "[INFO] | 2022/04/18 18:35:39 | Choose scihub url [0]: https://sci-hub.ru\n",
      "[INFO] | 2022/04/18 18:35:39 | <- Request: scihub_url=https://sci-hub.ru, source=DoiSource[type=doi, id=doi.org/10.1086/448071]\n",
      "[INFO] | 2022/04/18 18:35:39 | -> Response: status_code=200, content_length=6821\n",
      "[INFO] | 2022/04/18 18:35:39 | * Extracted information: {'url': 'https://twin.sci-hub.ru/6323/dfa1db4ac773ceab6741fa221c306d63/riffaterre1980.pdf', 'title': 'Syllepsis. Critical Inquiry, 6(4), 625–638'}\n"
     ]
    },
    {
     "name": "stdout",
     "output_type": "stream",
     "text": [
      " 65% [................................................                          ] 1073152 / 1631462"
     ]
    },
    {
     "name": "stderr",
     "output_type": "stream",
     "text": [
      "[INFO] | 2022/04/18 18:35:40 | ↓ Successfully download the url to: ./journals/post_colonial/critical_inquiry/Syllepsis. Critical Inquiry, 6(4), 625–638.pdf\n"
     ]
    },
    {
     "name": "stdout",
     "output_type": "stream",
     "text": [
      "100% [..........................................................................] 1631462 / 1631462\n"
     ]
    },
    {
     "name": "stderr",
     "output_type": "stream",
     "text": [
      "[INFO] | 2022/04/18 18:35:50 | Choose scihub url [0]: https://sci-hub.ru\n",
      "[INFO] | 2022/04/18 18:35:50 | <- Request: scihub_url=https://sci-hub.ru, source=DoiSource[type=doi, id=doi.org/10.1086/448072]\n",
      "[INFO] | 2022/04/18 18:35:50 | -> Response: status_code=200, content_length=7003\n",
      "[INFO] | 2022/04/18 18:35:50 | * Extracted information: {'url': 'https://twin.sci-hub.ru/6015/02b0d962a3e04751054b4f5e50458fb0/rimmon-kenan1980.pdf', 'title': 'Doubles and Counterparts  Patterns of Interchangeability in Borges’ “The Garden of Forking Paths.” Critical Inquiry, 6(4), 639–647'}\n"
     ]
    },
    {
     "name": "stdout",
     "output_type": "stream",
     "text": [
      " 77% [...........................................................                 ] 778240 / 999306"
     ]
    },
    {
     "name": "stderr",
     "output_type": "stream",
     "text": [
      "[INFO] | 2022/04/18 18:35:52 | ↓ Successfully download the url to: ./journals/post_colonial/critical_inquiry/Doubles and Counterparts  Patterns of Interchangeability in Borges’ “The Garden of Forking Paths.” Critical Inquiry, 6(4), 639–647.pdf\n"
     ]
    },
    {
     "name": "stdout",
     "output_type": "stream",
     "text": [
      "100% [............................................................................] 999306 / 999306\n"
     ]
    },
    {
     "name": "stderr",
     "output_type": "stream",
     "text": [
      "[INFO] | 2022/04/18 18:36:02 | Choose scihub url [0]: https://sci-hub.ru\n",
      "[INFO] | 2022/04/18 18:36:02 | <- Request: scihub_url=https://sci-hub.ru, source=DoiSource[type=doi, id=doi.org/10.1086/448073]\n",
      "[INFO] | 2022/04/18 18:36:02 | -> Response: status_code=200, content_length=6908\n",
      "[INFO] | 2022/04/18 18:36:02 | * Extracted information: {'url': 'https://twin.sci-hub.ru/6036/5839935374fceda245b6763eaccb52c4/martin1980.pdf', 'title': 'Literary Invention  The Illusion of the Individual Talent. Critical Inquiry, 6(4), 649–667'}\n"
     ]
    },
    {
     "name": "stdout",
     "output_type": "stream",
     "text": [
      " 59% [...........................................                               ] 1253376 / 2112553"
     ]
    },
    {
     "name": "stderr",
     "output_type": "stream",
     "text": [
      "[INFO] | 2022/04/18 18:36:03 | ↓ Successfully download the url to: ./journals/post_colonial/critical_inquiry/Literary Invention  The Illusion of the Individual Talent. Critical Inquiry, 6(4), 649–667.pdf\n"
     ]
    },
    {
     "name": "stdout",
     "output_type": "stream",
     "text": [
      "100% [..........................................................................] 2112553 / 2112553\n"
     ]
    },
    {
     "name": "stderr",
     "output_type": "stream",
     "text": [
      "[INFO] | 2022/04/18 18:36:13 | Choose scihub url [0]: https://sci-hub.ru\n",
      "[INFO] | 2022/04/18 18:36:13 | <- Request: scihub_url=https://sci-hub.ru, source=DoiSource[type=doi, id=doi.org/10.1086/448074]\n",
      "[INFO] | 2022/04/18 18:36:13 | -> Response: status_code=200, content_length=6880\n",
      "[INFO] | 2022/04/18 18:36:13 | * Extracted information: {'url': 'https://twin.sci-hub.ru/5977/34be369a6b998ba5db9234be7dc5cda2/schleusener1980.pdf', 'title': 'Convention and the Context of Reading. Critical Inquiry, 6(4), 669–680'}\n"
     ]
    },
    {
     "name": "stdout",
     "output_type": "stream",
     "text": [
      " 79% [..........................................................                ] 1048576 / 1318277"
     ]
    },
    {
     "name": "stderr",
     "output_type": "stream",
     "text": [
      "[INFO] | 2022/04/18 18:36:14 | ↓ Successfully download the url to: ./journals/post_colonial/critical_inquiry/Convention and the Context of Reading. Critical Inquiry, 6(4), 669–680.pdf\n"
     ]
    },
    {
     "name": "stdout",
     "output_type": "stream",
     "text": [
      "100% [..........................................................................] 1318277 / 1318277\n"
     ]
    },
    {
     "name": "stderr",
     "output_type": "stream",
     "text": [
      "[INFO] | 2022/04/18 18:36:24 | Choose scihub url [0]: https://sci-hub.ru\n",
      "[INFO] | 2022/04/18 18:36:24 | <- Request: scihub_url=https://sci-hub.ru, source=DoiSource[type=doi, id=doi.org/10.1086/448077]\n",
      "[INFO] | 2022/04/18 18:36:24 | -> Response: status_code=200, content_length=6925\n",
      "[INFO] | 2022/04/18 18:36:24 | * Extracted information: {'url': 'https://twin.sci-hub.ru/7026/74933ec87e22e5a33e7c1de14839be15/nelson1980.pdf', 'title': 'Soliciting Self-Knowledge  The Rhetoric of Susan Sontag’s Criticism. Critical Inquiry, 6(4), 707–726'}\n"
     ]
    },
    {
     "name": "stdout",
     "output_type": "stream",
     "text": [
      " 53% [.......................................                                   ] 1212416 / 2278385"
     ]
    },
    {
     "name": "stderr",
     "output_type": "stream",
     "text": [
      "[INFO] | 2022/04/18 18:36:25 | ↓ Successfully download the url to: ./journals/post_colonial/critical_inquiry/Soliciting Self-Knowledge  The Rhetoric of Susan Sontag’s Criticism. Critical Inquiry, 6(4), 707–726.pdf\n"
     ]
    },
    {
     "name": "stdout",
     "output_type": "stream",
     "text": [
      "100% [..........................................................................] 2278385 / 2278385\n"
     ]
    },
    {
     "name": "stderr",
     "output_type": "stream",
     "text": [
      "[INFO] | 2022/04/18 18:36:35 | Choose scihub url [0]: https://sci-hub.ru\n",
      "[INFO] | 2022/04/18 18:36:36 | <- Request: scihub_url=https://sci-hub.ru, source=DoiSource[type=doi, id=doi.org/10.1086/448079]\n",
      "[INFO] | 2022/04/18 18:36:36 | -> Response: status_code=200, content_length=6881\n",
      "[INFO] | 2022/04/18 18:36:36 | * Extracted information: {'url': 'https://twin.sci-hub.ru/6664/c3036986c8a310a6dcbfaec5e52e2dfb/hyman1980.pdf', 'title': 'Harpsichord Exercises and the My Lai Massacre. Critical Inquiry, 6(4), 739–742'}\n"
     ]
    },
    {
     "name": "stdout",
     "output_type": "stream",
     "text": [
      " 53% [........................................                                    ] 188416 / 349727"
     ]
    },
    {
     "name": "stderr",
     "output_type": "stream",
     "text": [
      "[INFO] | 2022/04/18 18:36:36 | ↓ Successfully download the url to: ./journals/post_colonial/critical_inquiry/Harpsichord Exercises and the My Lai Massacre. Critical Inquiry, 6(4), 739–742.pdf\n"
     ]
    },
    {
     "name": "stdout",
     "output_type": "stream",
     "text": [
      "100% [............................................................................] 349727 / 349727\n"
     ]
    },
    {
     "name": "stderr",
     "output_type": "stream",
     "text": [
      "[INFO] | 2022/04/18 18:36:46 | Choose scihub url [0]: https://sci-hub.ru\n",
      "[INFO] | 2022/04/18 18:36:47 | <- Request: scihub_url=https://sci-hub.ru, source=DoiSource[type=doi, id=doi.org/10.1086/448080]\n",
      "[INFO] | 2022/04/18 18:36:47 | -> Response: status_code=200, content_length=6840\n",
      "[INFO] | 2022/04/18 18:36:47 | * Extracted information: {'url': 'https://twin.sci-hub.ru/6028/233645a389b766ad84bc6f4b7a0fa1d4/purdy1980.pdf', 'title': 'Reply to Lawrence W. Hyman. Critical Inquiry, 6(4), 743–745'}\n"
     ]
    },
    {
     "name": "stdout",
     "output_type": "stream",
     "text": [
      " 40% [...............................                                             ] 106496 / 259976"
     ]
    },
    {
     "name": "stderr",
     "output_type": "stream",
     "text": [
      "[INFO] | 2022/04/18 18:36:48 | ↓ Successfully download the url to: ./journals/post_colonial/critical_inquiry/Reply to Lawrence W. Hyman. Critical Inquiry, 6(4), 743–745.pdf\n"
     ]
    },
    {
     "name": "stdout",
     "output_type": "stream",
     "text": [
      "100% [............................................................................] 259976 / 259976\n"
     ]
    },
    {
     "name": "stderr",
     "output_type": "stream",
     "text": [
      "[INFO] | 2022/04/18 18:36:58 | Choose scihub url [0]: https://sci-hub.ru\n",
      "[INFO] | 2022/04/18 18:36:58 | <- Request: scihub_url=https://sci-hub.ru, source=DoiSource[type=doi, id=doi.org/10.1086/448081]\n",
      "[INFO] | 2022/04/18 18:36:58 | -> Response: status_code=200, content_length=6857\n",
      "[INFO] | 2022/04/18 18:36:58 | * Extracted information: {'url': 'https://twin.sci-hub.ru/5961/6c93bc18713ef2e442439d1ece72b43d/reichert1980.pdf', 'title': 'Making Sense of Interpretation. Critical Inquiry, 6(4), 746–748'}\n"
     ]
    },
    {
     "name": "stdout",
     "output_type": "stream",
     "text": [
      " 56% [..........................................                                  ] 188416 / 335036"
     ]
    },
    {
     "name": "stderr",
     "output_type": "stream",
     "text": [
      "[INFO] | 2022/04/18 18:36:59 | ↓ Successfully download the url to: ./journals/post_colonial/critical_inquiry/Making Sense of Interpretation. Critical Inquiry, 6(4), 746–748.pdf\n"
     ]
    },
    {
     "name": "stdout",
     "output_type": "stream",
     "text": [
      "100% [............................................................................] 335036 / 335036\n"
     ]
    },
    {
     "name": "stderr",
     "output_type": "stream",
     "text": [
      "[INFO] | 2022/04/18 18:37:09 | Choose scihub url [0]: https://sci-hub.ru\n",
      "[INFO] | 2022/04/18 18:37:09 | <- Request: scihub_url=https://sci-hub.ru, source=DoiSource[type=doi, id=doi.org/10.1086/448085]\n",
      "[INFO] | 2022/04/18 18:37:09 | -> Response: status_code=200, content_length=6849\n",
      "[INFO] | 2022/04/18 18:37:09 | * Extracted information: {'url': 'https://twin.sci-hub.ru/5878/fcb862db6f3e1a2f906178029c9652f8/mitchell1980.pdf', 'title': 'Editor’s Note  On Narrative. Critical Inquiry, 7(1), 1–4'}\n"
     ]
    },
    {
     "name": "stdout",
     "output_type": "stream",
     "text": [
      " 49% [.....................................                                       ] 188416 / 378548"
     ]
    },
    {
     "name": "stderr",
     "output_type": "stream",
     "text": [
      "[INFO] | 2022/04/18 18:37:10 | ↓ Successfully download the url to: ./journals/post_colonial/critical_inquiry/Editor’s Note  On Narrative. Critical Inquiry, 7(1), 1–4.pdf\n"
     ]
    },
    {
     "name": "stdout",
     "output_type": "stream",
     "text": [
      "100% [............................................................................] 378548 / 378548\n"
     ]
    },
    {
     "name": "stderr",
     "output_type": "stream",
     "text": [
      "[INFO] | 2022/04/18 18:37:20 | Choose scihub url [0]: https://sci-hub.ru\n",
      "[INFO] | 2022/04/18 18:37:21 | <- Request: scihub_url=https://sci-hub.ru, source=DoiSource[type=doi, id=doi.org/10.1086/448086]\n",
      "[INFO] | 2022/04/18 18:37:21 | -> Response: status_code=200, content_length=6896\n",
      "[INFO] | 2022/04/18 18:37:21 | * Extracted information: {'url': 'https://twin.sci-hub.ru/6237/115cf941fee508974c5dfc66ac8aec86/white1980.pdf', 'title': 'The Value of Narrativity in the Representation of Reality. Critical Inquiry, 7(1), 5–27'}\n"
     ]
    },
    {
     "name": "stdout",
     "output_type": "stream",
     "text": [
      " 36% [...........................                                               ]  974848 / 2667178"
     ]
    },
    {
     "name": "stderr",
     "output_type": "stream",
     "text": [
      "[INFO] | 2022/04/18 18:37:22 | ↓ Successfully download the url to: ./journals/post_colonial/critical_inquiry/The Value of Narrativity in the Representation of Reality. Critical Inquiry, 7(1), 5–27.pdf\n"
     ]
    },
    {
     "name": "stdout",
     "output_type": "stream",
     "text": [
      "100% [..........................................................................] 2667178 / 2667178\n"
     ]
    },
    {
     "name": "stderr",
     "output_type": "stream",
     "text": [
      "[INFO] | 2022/04/18 18:37:32 | Choose scihub url [0]: https://sci-hub.ru\n",
      "[INFO] | 2022/04/18 18:37:32 | <- Request: scihub_url=https://sci-hub.ru, source=DoiSource[type=doi, id=doi.org/10.1086/448087]\n",
      "[INFO] | 2022/04/18 18:37:32 | -> Response: status_code=200, content_length=6870\n",
      "[INFO] | 2022/04/18 18:37:32 | * Extracted information: {'url': 'https://twin.sci-hub.ru/6029/b146415968e0a35a33c73706e2b468e9/schafer1980.pdf', 'title': 'Narration in the Psychoanalytic Dialogue. Critical Inquiry, 7(1), 29–53'}\n"
     ]
    },
    {
     "name": "stdout",
     "output_type": "stream",
     "text": [
      " 28% [....................                                                      ]  819200 / 2922508"
     ]
    },
    {
     "name": "stderr",
     "output_type": "stream",
     "text": [
      "[INFO] | 2022/04/18 18:37:33 | ↓ Successfully download the url to: ./journals/post_colonial/critical_inquiry/Narration in the Psychoanalytic Dialogue. Critical Inquiry, 7(1), 29–53.pdf\n"
     ]
    },
    {
     "name": "stdout",
     "output_type": "stream",
     "text": [
      "100% [..........................................................................] 2922508 / 2922508\n"
     ]
    },
    {
     "name": "stderr",
     "output_type": "stream",
     "text": [
      "[INFO] | 2022/04/18 18:37:43 | Choose scihub url [0]: https://sci-hub.ru\n",
      "[INFO] | 2022/04/18 18:37:44 | <- Request: scihub_url=https://sci-hub.ru, source=DoiSource[type=doi, id=doi.org/10.1086/448088]\n",
      "[INFO] | 2022/04/18 18:37:44 | -> Response: status_code=200, content_length=6836\n",
      "[INFO] | 2022/04/18 18:37:44 | * Extracted information: {'url': 'https://twin.sci-hub.ru/6244/ebea706f493ee38849b3e0c2ec8b4770/derrida1980.pdf', 'title': 'The Law of Genre. Critical Inquiry, 7(1), 55–81'}\n"
     ]
    },
    {
     "name": "stdout",
     "output_type": "stream",
     "text": [
      " 39% [.............................                                             ] 1204224 / 3036062"
     ]
    },
    {
     "name": "stderr",
     "output_type": "stream",
     "text": [
      "[INFO] | 2022/04/18 18:37:45 | ↓ Successfully download the url to: ./journals/post_colonial/critical_inquiry/The Law of Genre. Critical Inquiry, 7(1), 55–81.pdf\n"
     ]
    },
    {
     "name": "stdout",
     "output_type": "stream",
     "text": [
      "100% [..........................................................................] 3036062 / 3036062\n"
     ]
    },
    {
     "name": "stderr",
     "output_type": "stream",
     "text": [
      "[INFO] | 2022/04/18 18:37:55 | Choose scihub url [0]: https://sci-hub.ru\n",
      "[INFO] | 2022/04/18 18:37:55 | <- Request: scihub_url=https://sci-hub.ru, source=DoiSource[type=doi, id=doi.org/10.1086/448089]\n",
      "[INFO] | 2022/04/18 18:37:55 | -> Response: status_code=200, content_length=6852\n",
      "[INFO] | 2022/04/18 18:37:55 | * Extracted information: {'url': 'https://twin.sci-hub.ru/5999/118d1b959881d8cf47f0be1c7dc4d66e/kermode1980.pdf', 'title': 'Secrets and Narrative Sequence. Critical Inquiry, 7(1), 83–101'}\n"
     ]
    },
    {
     "name": "stdout",
     "output_type": "stream",
     "text": [
      " 53% [.......................................                                   ] 1138688 / 2115879"
     ]
    },
    {
     "name": "stderr",
     "output_type": "stream",
     "text": [
      "[INFO] | 2022/04/18 18:37:56 | ↓ Successfully download the url to: ./journals/post_colonial/critical_inquiry/Secrets and Narrative Sequence. Critical Inquiry, 7(1), 83–101.pdf\n"
     ]
    },
    {
     "name": "stdout",
     "output_type": "stream",
     "text": [
      "100% [..........................................................................] 2115879 / 2115879\n"
     ]
    },
    {
     "name": "stderr",
     "output_type": "stream",
     "text": [
      "[INFO] | 2022/04/18 18:38:06 | Choose scihub url [0]: https://sci-hub.ru\n",
      "[INFO] | 2022/04/18 18:38:06 | <- Request: scihub_url=https://sci-hub.ru, source=DoiSource[type=doi, id=doi.org/10.1086/448091]\n",
      "[INFO] | 2022/04/18 18:38:06 | -> Response: status_code=200, content_length=6898\n",
      "[INFO] | 2022/04/18 18:38:06 | * Extracted information: {'url': 'https://twin.sci-hub.ru/6392/47508db3e1f92fa9027ba8b0ed75c86d/chatman1980.pdf', 'title': 'What Novels Can Do That Films Can’t (And Vice Versa). Critical Inquiry, 7(1), 121–140'}\n"
     ]
    },
    {
     "name": "stdout",
     "output_type": "stream",
     "text": [
      " 99% [......................................................................... ] 2236416 / 2258775"
     ]
    },
    {
     "name": "stderr",
     "output_type": "stream",
     "text": [
      "[INFO] | 2022/04/18 18:38:08 | ↓ Successfully download the url to: ./journals/post_colonial/critical_inquiry/What Novels Can Do That Films Can’t (And Vice Versa). Critical Inquiry, 7(1), 121–140.pdf\n"
     ]
    },
    {
     "name": "stdout",
     "output_type": "stream",
     "text": [
      "100% [..........................................................................] 2258775 / 2258775\n"
     ]
    },
    {
     "name": "stderr",
     "output_type": "stream",
     "text": [
      "[INFO] | 2022/04/18 18:38:18 | Choose scihub url [0]: https://sci-hub.ru\n",
      "[INFO] | 2022/04/18 18:38:18 | <- Request: scihub_url=https://sci-hub.ru, source=DoiSource[type=doi, id=doi.org/10.1086/448092]\n",
      "[INFO] | 2022/04/18 18:38:18 | -> Response: status_code=200, content_length=6863\n",
      "[INFO] | 2022/04/18 18:38:18 | * Extracted information: {'url': 'https://twin.sci-hub.ru/6106/6efc2ee096129a53ec361775f231de43/turner1980.pdf', 'title': 'Social Dramas and Stories about Them. Critical Inquiry, 7(1), 141–168'}\n"
     ]
    },
    {
     "name": "stdout",
     "output_type": "stream",
     "text": [
      " 37% [...........................                                               ] 1179648 / 3149166"
     ]
    },
    {
     "name": "stderr",
     "output_type": "stream",
     "text": [
      "[INFO] | 2022/04/18 18:38:19 | ↓ Successfully download the url to: ./journals/post_colonial/critical_inquiry/Social Dramas and Stories about Them. Critical Inquiry, 7(1), 141–168.pdf\n"
     ]
    },
    {
     "name": "stdout",
     "output_type": "stream",
     "text": [
      "100% [..........................................................................] 3149166 / 3149166\n"
     ]
    },
    {
     "name": "stderr",
     "output_type": "stream",
     "text": [
      "[INFO] | 2022/04/18 18:38:29 | Choose scihub url [0]: https://sci-hub.ru\n",
      "[INFO] | 2022/04/18 18:38:30 | <- Request: scihub_url=https://sci-hub.ru, source=DoiSource[type=doi, id=doi.org/10.1086/448093]\n",
      "[INFO] | 2022/04/18 18:38:30 | -> Response: status_code=200, content_length=6822\n",
      "[INFO] | 2022/04/18 18:38:30 | * Extracted information: {'url': 'https://twin.sci-hub.ru/6118/849af7ccc4aa69f0f06fcf9cac844b78/ricoeur1980.pdf', 'title': 'Narrative Time. Critical Inquiry, 7(1), 169–190'}\n"
     ]
    },
    {
     "name": "stdout",
     "output_type": "stream",
     "text": [
      " 48% [...................................                                       ] 1155072 / 2392900"
     ]
    },
    {
     "name": "stderr",
     "output_type": "stream",
     "text": [
      "[INFO] | 2022/04/18 18:38:31 | ↓ Successfully download the url to: ./journals/post_colonial/critical_inquiry/Narrative Time. Critical Inquiry, 7(1), 169–190.pdf\n"
     ]
    },
    {
     "name": "stdout",
     "output_type": "stream",
     "text": [
      "100% [..........................................................................] 2392900 / 2392900\n"
     ]
    },
    {
     "name": "stderr",
     "output_type": "stream",
     "text": [
      "[INFO] | 2022/04/18 18:38:41 | Choose scihub url [0]: https://sci-hub.ru\n",
      "[INFO] | 2022/04/18 18:38:41 | <- Request: scihub_url=https://sci-hub.ru, source=DoiSource[type=doi, id=doi.org/10.1086/448094]\n",
      "[INFO] | 2022/04/18 18:38:41 | -> Response: status_code=200, content_length=6912\n",
      "[INFO] | 2022/04/18 18:38:41 | * Extracted information: {'url': 'https://sci-hub.ru/downloads/2020-05-06/a0/leguin1980.pdf', 'title': 'It Was a Dark and Stormy Night; Or, Why Are We Huddling about the Campfire  Critical Inquiry, 7(1), 191–199'}\n",
      "[INFO] | 2022/04/18 18:38:42 | ↓ Successfully download the url to: ./journals/post_colonial/critical_inquiry/It Was a Dark and Stormy Night; Or, Why Are We Huddling about the Campfire  Critical Inquiry, 7(1), 191–199.pdf\n"
     ]
    },
    {
     "name": "stdout",
     "output_type": "stream",
     "text": [
      "100% [............................................................................] 124864 / 124864\n"
     ]
    },
    {
     "name": "stderr",
     "output_type": "stream",
     "text": [
      "[INFO] | 2022/04/18 18:38:52 | Choose scihub url [0]: https://sci-hub.ru\n",
      "[INFO] | 2022/04/18 18:38:52 | <- Request: scihub_url=https://sci-hub.ru, source=DoiSource[type=doi, id=doi.org/10.1086/448095]\n",
      "[INFO] | 2022/04/18 18:38:52 | -> Response: status_code=200, content_length=6839\n",
      "[INFO] | 2022/04/18 18:38:52 | * Extracted information: {'url': 'https://sci-hub.ru/downloads/2019-10-08/de/hernadi1980.pdf', 'title': 'On the How, What, and Why of Narrative. Critical Inquiry, 7(1), 201–203'}\n",
      "[INFO] | 2022/04/18 18:38:53 | ↓ Successfully download the url to: ./journals/post_colonial/critical_inquiry/On the How, What, and Why of Narrative. Critical Inquiry, 7(1), 201–203.pdf\n"
     ]
    },
    {
     "name": "stdout",
     "output_type": "stream",
     "text": [
      "100% [..............................................................................] 49759 / 49759\n"
     ]
    },
    {
     "name": "stderr",
     "output_type": "stream",
     "text": [
      "[INFO] | 2022/04/18 18:39:03 | Choose scihub url [0]: https://sci-hub.ru\n",
      "[INFO] | 2022/04/18 18:39:03 | <- Request: scihub_url=https://sci-hub.ru, source=DoiSource[type=doi, id=doi.org/10.1086/448096]\n",
      "[INFO] | 2022/04/18 18:39:03 | -> Response: status_code=200, content_length=6826\n",
      "[INFO] | 2022/04/18 18:39:03 | * Extracted information: {'url': 'https://sci-hub.ru/tree/48/e9/48e9ec4d8940cee0e7634540be567dd0.pdf', 'title': 'Language, Narrative, and Anti-Narrative. Critical Inquiry, 7(1), 204–212'}\n",
      "[INFO] | 2022/04/18 18:39:04 | ↓ Successfully download the url to: ./journals/post_colonial/critical_inquiry/Language, Narrative, and Anti-Narrative. Critical Inquiry, 7(1), 204–212.pdf\n"
     ]
    },
    {
     "name": "stdout",
     "output_type": "stream",
     "text": [
      "100% [............................................................................] 132415 / 132415\n"
     ]
    },
    {
     "name": "stderr",
     "output_type": "stream",
     "text": [
      "[INFO] | 2022/04/18 18:39:14 | Choose scihub url [0]: https://sci-hub.ru\n",
      "[INFO] | 2022/04/18 18:39:14 | <- Request: scihub_url=https://sci-hub.ru, source=DoiSource[type=doi, id=doi.org/10.1086/448097]\n",
      "[INFO] | 2022/04/18 18:39:14 | -> Response: status_code=200, content_length=6867\n",
      "[INFO] | 2022/04/18 18:39:14 | * Extracted information: {'url': 'https://twin.sci-hub.ru/6200/b8b23b6afe6c5a3a3afc937fdfe65d9f/smith1980.pdf', 'title': 'Narrative Versions, Narrative Theories. Critical Inquiry, 7(1), 213–236'}\n"
     ]
    },
    {
     "name": "stdout",
     "output_type": "stream",
     "text": [
      " 37% [...........................                                               ] 1015808 / 2691666"
     ]
    },
    {
     "name": "stderr",
     "output_type": "stream",
     "text": [
      "[INFO] | 2022/04/18 18:39:15 | ↓ Successfully download the url to: ./journals/post_colonial/critical_inquiry/Narrative Versions, Narrative Theories. Critical Inquiry, 7(1), 213–236.pdf\n"
     ]
    },
    {
     "name": "stdout",
     "output_type": "stream",
     "text": [
      "100% [..........................................................................] 2691666 / 2691666\n"
     ]
    },
    {
     "name": "stderr",
     "output_type": "stream",
     "text": [
      "[INFO] | 2022/04/18 18:39:25 | Choose scihub url [0]: https://sci-hub.ru\n",
      "[INFO] | 2022/04/18 18:39:26 | <- Request: scihub_url=https://sci-hub.ru, source=DoiSource[type=doi, id=doi.org/10.1086/448098]\n",
      "[INFO] | 2022/04/18 18:39:26 | -> Response: status_code=200, content_length=6914\n",
      "[INFO] | 2022/04/18 18:39:26 | * Extracted information: {'url': 'https://twin.sci-hub.ru/6110/8d941aca8eabf85281aeddd30231a776/gombrich1980.pdf', 'title': 'Standards of Truth  The Arrested Image and the Moving Eye. Critical Inquiry, 7(2), 237–273'}\n"
     ]
    },
    {
     "name": "stdout",
     "output_type": "stream",
     "text": [
      " 31% [.......................                                                   ] 1744896 / 5512701"
     ]
    },
    {
     "name": "stderr",
     "output_type": "stream",
     "text": [
      "[INFO] | 2022/04/18 18:39:27 | ↓ Successfully download the url to: ./journals/post_colonial/critical_inquiry/Standards of Truth  The Arrested Image and the Moving Eye. Critical Inquiry, 7(2), 237–273.pdf\n"
     ]
    },
    {
     "name": "stdout",
     "output_type": "stream",
     "text": [
      "100% [..........................................................................] 5512701 / 5512701\n"
     ]
    },
    {
     "name": "stderr",
     "output_type": "stream",
     "text": [
      "[INFO] | 2022/04/18 18:39:37 | Choose scihub url [0]: https://sci-hub.ru\n",
      "[INFO] | 2022/04/18 18:39:37 | <- Request: scihub_url=https://sci-hub.ru, source=DoiSource[type=doi, id=doi.org/10.1086/448099]\n",
      "[INFO] | 2022/04/18 18:39:37 | -> Response: status_code=200, content_length=6857\n",
      "[INFO] | 2022/04/18 18:39:37 | * Extracted information: {'url': 'https://twin.sci-hub.ru/6025/ef6f1419a2024f9b675563473a59511f/10.1086@448099.pdf', 'title': 'Browning’s Lyric Intentions. Critical Inquiry, 7(2), 275–296'}\n"
     ]
    },
    {
     "name": "stdout",
     "output_type": "stream",
     "text": [
      " 65% [................................................                          ] 1744896 / 2682676"
     ]
    },
    {
     "name": "stderr",
     "output_type": "stream",
     "text": [
      "[INFO] | 2022/04/18 18:39:38 | ↓ Successfully download the url to: ./journals/post_colonial/critical_inquiry/Browning’s Lyric Intentions. Critical Inquiry, 7(2), 275–296.pdf\n"
     ]
    },
    {
     "name": "stdout",
     "output_type": "stream",
     "text": [
      "100% [..........................................................................] 2682676 / 2682676\n"
     ]
    },
    {
     "name": "stderr",
     "output_type": "stream",
     "text": [
      "[INFO] | 2022/04/18 18:39:48 | Choose scihub url [0]: https://sci-hub.ru\n",
      "[INFO] | 2022/04/18 18:39:48 | <- Request: scihub_url=https://sci-hub.ru, source=DoiSource[type=doi, id=doi.org/10.1086/448100]\n",
      "[INFO] | 2022/04/18 18:39:48 | -> Response: status_code=200, content_length=6857\n",
      "[INFO] | 2022/04/18 18:39:48 | * Extracted information: {'url': 'https://twin.sci-hub.ru/6825/e60e802aaede41ac0f858e857a335d64/bruns1980.pdf', 'title': 'Intention, Authority, and Meaning. Critical Inquiry, 7(2), 297–309'}\n"
     ]
    },
    {
     "name": "stdout",
     "output_type": "stream",
     "text": [
      " 11% [........                                                                  ]  188416 / 1618295"
     ]
    },
    {
     "name": "stderr",
     "output_type": "stream",
     "text": [
      "[INFO] | 2022/04/18 18:39:49 | ↓ Successfully download the url to: ./journals/post_colonial/critical_inquiry/Intention, Authority, and Meaning. Critical Inquiry, 7(2), 297–309.pdf\n"
     ]
    },
    {
     "name": "stdout",
     "output_type": "stream",
     "text": [
      "100% [..........................................................................] 1618295 / 1618295\n"
     ]
    },
    {
     "name": "stderr",
     "output_type": "stream",
     "text": [
      "[INFO] | 2022/04/18 18:39:59 | Choose scihub url [0]: https://sci-hub.ru\n",
      "[INFO] | 2022/04/18 18:40:00 | <- Request: scihub_url=https://sci-hub.ru, source=DoiSource[type=doi, id=doi.org/10.1086/448101]\n",
      "[INFO] | 2022/04/18 18:40:00 | -> Response: status_code=200, content_length=6879\n",
      "[INFO] | 2022/04/18 18:40:00 | * Extracted information: {'url': 'https://twin.sci-hub.ru/5879/ecfb27530bc0b293e1b8f5982013bf6a/kerman1980.pdf', 'title': 'How We Got into Analysis, and How to Get out. Critical Inquiry, 7(2), 311–331'}\n"
     ]
    },
    {
     "name": "stdout",
     "output_type": "stream",
     "text": [
      " 62% [..............................................                            ] 1638400 / 2625895"
     ]
    },
    {
     "name": "stderr",
     "output_type": "stream",
     "text": [
      "[INFO] | 2022/04/18 18:40:01 | ↓ Successfully download the url to: ./journals/post_colonial/critical_inquiry/How We Got into Analysis, and How to Get out. Critical Inquiry, 7(2), 311–331.pdf\n"
     ]
    },
    {
     "name": "stdout",
     "output_type": "stream",
     "text": [
      "100% [..........................................................................] 2625895 / 2625895\n"
     ]
    },
    {
     "name": "stderr",
     "output_type": "stream",
     "text": [
      "[INFO] | 2022/04/18 18:40:11 | Choose scihub url [0]: https://sci-hub.ru\n",
      "[INFO] | 2022/04/18 18:40:11 | <- Request: scihub_url=https://sci-hub.ru, source=DoiSource[type=doi, id=doi.org/10.1086/448102]\n",
      "[INFO] | 2022/04/18 18:40:11 | -> Response: status_code=200, content_length=6858\n",
      "[INFO] | 2022/04/18 18:40:11 | * Extracted information: {'url': 'https://twin.sci-hub.ru/6528/3c2f450e4453c716dc7a007364d69448/states1980.pdf', 'title': 'The Persistence of the Archetype. Critical Inquiry, 7(2), 333–344'}\n"
     ]
    },
    {
     "name": "stdout",
     "output_type": "stream",
     "text": [
      " 71% [.....................................................                     ] 1081344 / 1506998"
     ]
    },
    {
     "name": "stderr",
     "output_type": "stream",
     "text": [
      "[INFO] | 2022/04/18 18:40:12 | ↓ Successfully download the url to: ./journals/post_colonial/critical_inquiry/The Persistence of the Archetype. Critical Inquiry, 7(2), 333–344.pdf\n"
     ]
    },
    {
     "name": "stdout",
     "output_type": "stream",
     "text": [
      "100% [..........................................................................] 1506998 / 1506998\n"
     ]
    },
    {
     "name": "stderr",
     "output_type": "stream",
     "text": [
      "[INFO] | 2022/04/18 18:40:22 | Choose scihub url [0]: https://sci-hub.ru\n",
      "[INFO] | 2022/04/18 18:40:22 | <- Request: scihub_url=https://sci-hub.ru, source=DoiSource[type=doi, id=doi.org/10.1086/448104]\n",
      "[INFO] | 2022/04/18 18:40:22 | -> Response: status_code=200, content_length=6859\n",
      "[INFO] | 2022/04/18 18:40:22 | * Extracted information: {'url': 'https://sci-hub.ru/downloads/2019-03-24/5a/michaels1980.pdf', 'title': '“Sister Carrie’’ s Popular Economy.” Critical Inquiry, 7(2), 373–390. https'}\n"
     ]
    },
    {
     "name": "stdout",
     "output_type": "stream",
     "text": [
      " 48% [....................................                                        ] 188416 / 390561"
     ]
    },
    {
     "name": "stderr",
     "output_type": "stream",
     "text": [
      "[INFO] | 2022/04/18 18:40:23 | ↓ Successfully download the url to: ./journals/post_colonial/critical_inquiry/“Sister Carrie’’ s Popular Economy.” Critical Inquiry, 7(2), 373–390. https.pdf\n"
     ]
    },
    {
     "name": "stdout",
     "output_type": "stream",
     "text": [
      "100% [............................................................................] 390561 / 390561\n"
     ]
    },
    {
     "name": "stderr",
     "output_type": "stream",
     "text": [
      "[INFO] | 2022/04/18 18:40:33 | Choose scihub url [0]: https://sci-hub.ru\n",
      "[INFO] | 2022/04/18 18:40:33 | <- Request: scihub_url=https://sci-hub.ru, source=DoiSource[type=doi, id=doi.org/10.1086/448105]\n",
      "[INFO] | 2022/04/18 18:40:33 | -> Response: status_code=200, content_length=6885\n",
      "[INFO] | 2022/04/18 18:40:33 | * Extracted information: {'url': 'https://sci-hub.ru/tree/11/17/1117067371ebe0aa18a7390b17cfdad3.pdf', 'title': 'Costumes of the Mind  Transvestism as Metaphor in Modern Literature. Critical Inquiry, 7(2), 391–417'}\n"
     ]
    },
    {
     "name": "stdout",
     "output_type": "stream",
     "text": [
      " 34% [.........................                                                 ] 1204224 / 3491686"
     ]
    },
    {
     "name": "stderr",
     "output_type": "stream",
     "text": [
      "[INFO] | 2022/04/18 18:40:34 | ↓ Successfully download the url to: ./journals/post_colonial/critical_inquiry/Costumes of the Mind  Transvestism as Metaphor in Modern Literature. Critical Inquiry, 7(2), 391–417.pdf\n"
     ]
    },
    {
     "name": "stdout",
     "output_type": "stream",
     "text": [
      "100% [..........................................................................] 3491686 / 3491686\n"
     ]
    },
    {
     "name": "stderr",
     "output_type": "stream",
     "text": [
      "[INFO] | 2022/04/18 18:40:44 | Choose scihub url [0]: https://sci-hub.ru\n",
      "[INFO] | 2022/04/18 18:40:45 | <- Request: scihub_url=https://sci-hub.ru, source=DoiSource[type=doi, id=doi.org/10.1086/448106]\n",
      "[INFO] | 2022/04/18 18:40:45 | -> Response: status_code=200, content_length=6905\n",
      "[INFO] | 2022/04/18 18:40:45 | * Extracted information: {'url': 'https://twin.sci-hub.ru/5988/681fa4552157dccb13b98657fa68d6c8/oates1980.pdf', 'title': '“The Picture of Dorian Gray”  Wilde’s Parable of the Fall. Critical Inquiry, 7(2), 419–428'}\n"
     ]
    },
    {
     "name": "stdout",
     "output_type": "stream",
     "text": [
      " 17% [............                                                              ]  188416 / 1105095"
     ]
    },
    {
     "name": "stderr",
     "output_type": "stream",
     "text": [
      "[INFO] | 2022/04/18 18:40:46 | ↓ Successfully download the url to: ./journals/post_colonial/critical_inquiry/“The Picture of Dorian Gray”  Wilde’s Parable of the Fall. Critical Inquiry, 7(2), 419–428.pdf\n"
     ]
    },
    {
     "name": "stdout",
     "output_type": "stream",
     "text": [
      "100% [..........................................................................] 1105095 / 1105095\n"
     ]
    },
    {
     "name": "stderr",
     "output_type": "stream",
     "text": [
      "[INFO] | 2022/04/18 18:40:56 | Choose scihub url [0]: https://sci-hub.ru\n",
      "[INFO] | 2022/04/18 18:40:56 | <- Request: scihub_url=https://sci-hub.ru, source=DoiSource[type=doi, id=doi.org/10.1086/448107]\n",
      "[INFO] | 2022/04/18 18:40:56 | -> Response: status_code=200, content_length=6855\n",
      "[INFO] | 2022/04/18 18:40:56 | * Extracted information: {'url': 'https://sci-hub.ru/downloads/2019-01-08/62/snyder1980.pdf', 'title': 'Reflexions on “Las Meninas”  Paradox Lost. Critical Inquiry, 7(2), 429–447'}\n"
     ]
    },
    {
     "name": "stdout",
     "output_type": "stream",
     "text": [
      " 51% [......................................                                    ] 1196032 / 2315973"
     ]
    },
    {
     "name": "stderr",
     "output_type": "stream",
     "text": [
      "[INFO] | 2022/04/18 18:40:57 | ↓ Successfully download the url to: ./journals/post_colonial/critical_inquiry/Reflexions on “Las Meninas”  Paradox Lost. Critical Inquiry, 7(2), 429–447.pdf\n"
     ]
    },
    {
     "name": "stdout",
     "output_type": "stream",
     "text": [
      "100% [..........................................................................] 2315973 / 2315973\n"
     ]
    },
    {
     "name": "stderr",
     "output_type": "stream",
     "text": [
      "[INFO] | 2022/04/18 18:41:07 | Choose scihub url [0]: https://sci-hub.ru\n",
      "[INFO] | 2022/04/18 18:41:08 | <- Request: scihub_url=https://sci-hub.ru, source=DoiSource[type=doi, id=doi.org/10.1086/448110]\n",
      "[INFO] | 2022/04/18 18:41:08 | -> Response: status_code=200, content_length=6888\n",
      "[INFO] | 2022/04/18 18:41:08 | * Extracted information: {'url': 'https://twin.sci-hub.ru/5849/579838c075bec13fea831d9b54a72212/stewart1981.pdf', 'title': 'Coppola’s Conrad  The Repetitions of Complicity. Critical Inquiry, 7(3), 455–474'}\n"
     ]
    },
    {
     "name": "stdout",
     "output_type": "stream",
     "text": [
      " 46% [..................................                                        ] 1089536 / 2334583"
     ]
    },
    {
     "name": "stderr",
     "output_type": "stream",
     "text": [
      "[INFO] | 2022/04/18 18:41:09 | ↓ Successfully download the url to: ./journals/post_colonial/critical_inquiry/Coppola’s Conrad  The Repetitions of Complicity. Critical Inquiry, 7(3), 455–474.pdf\n"
     ]
    },
    {
     "name": "stdout",
     "output_type": "stream",
     "text": [
      "100% [..........................................................................] 2334583 / 2334583\n"
     ]
    },
    {
     "name": "stderr",
     "output_type": "stream",
     "text": [
      "[INFO] | 2022/04/18 18:41:19 | Choose scihub url [0]: https://sci-hub.ru\n",
      "[INFO] | 2022/04/18 18:41:19 | <- Request: scihub_url=https://sci-hub.ru, source=DoiSource[type=doi, id=doi.org/10.1086/448113]\n",
      "[INFO] | 2022/04/18 18:41:19 | -> Response: status_code=200, content_length=6882\n",
      "[INFO] | 2022/04/18 18:41:19 | * Extracted information: {'url': 'https://twin.sci-hub.ru/6595/a3ac5b56b90d3a5a032bfd2b75cda826/harth1981.pdf', 'title': 'The New Criticism and Eighteenth-Century Poetry. Critical Inquiry, 7(3), 521–537'}\n"
     ]
    },
    {
     "name": "stdout",
     "output_type": "stream",
     "text": [
      " 84% [..............................................................            ] 1720320 / 2026871"
     ]
    },
    {
     "name": "stderr",
     "output_type": "stream",
     "text": [
      "[INFO] | 2022/04/18 18:41:20 | ↓ Successfully download the url to: ./journals/post_colonial/critical_inquiry/The New Criticism and Eighteenth-Century Poetry. Critical Inquiry, 7(3), 521–537.pdf\n"
     ]
    },
    {
     "name": "stdout",
     "output_type": "stream",
     "text": [
      "100% [..........................................................................] 2026871 / 2026871\n"
     ]
    },
    {
     "name": "stderr",
     "output_type": "stream",
     "text": [
      "[INFO] | 2022/04/18 18:41:30 | Choose scihub url [0]: https://sci-hub.ru\n",
      "[INFO] | 2022/04/18 18:41:31 | <- Request: scihub_url=https://sci-hub.ru, source=DoiSource[type=doi, id=doi.org/10.1086/448114]\n",
      "[INFO] | 2022/04/18 18:41:31 | -> Response: status_code=200, content_length=6846\n",
      "[INFO] | 2022/04/18 18:41:31 | * Extracted information: {'url': 'https://twin.sci-hub.ru/6577/352c7953cc4409e3a89ae365ea7415af/kramer1981.pdf', 'title': 'New Temporalities in Music. Critical Inquiry, 7(3), 539–556'}\n"
     ]
    },
    {
     "name": "stdout",
     "output_type": "stream",
     "text": [
      " 43% [................................                                          ]  909312 / 2101404"
     ]
    },
    {
     "name": "stderr",
     "output_type": "stream",
     "text": [
      "[INFO] | 2022/04/18 18:41:32 | ↓ Successfully download the url to: ./journals/post_colonial/critical_inquiry/New Temporalities in Music. Critical Inquiry, 7(3), 539–556.pdf\n"
     ]
    },
    {
     "name": "stdout",
     "output_type": "stream",
     "text": [
      "100% [..........................................................................] 2101404 / 2101404\n"
     ]
    },
    {
     "name": "stderr",
     "output_type": "stream",
     "text": [
      "[INFO] | 2022/04/18 18:41:42 | Choose scihub url [0]: https://sci-hub.ru\n",
      "[INFO] | 2022/04/18 18:41:42 | <- Request: scihub_url=https://sci-hub.ru, source=DoiSource[type=doi, id=doi.org/10.1086/448115]\n",
      "[INFO] | 2022/04/18 18:41:42 | -> Response: status_code=200, content_length=6869\n",
      "[INFO] | 2022/04/18 18:41:42 | * Extracted information: {'url': 'https://sci-hub.ru/tree/61/a6/61a6b7b801d4c3de61b429c148475f8d.pdf', 'title': 'Only Time Can Tell  On the Topology of Mental Space and Time. Critical Inquiry, 7(3), 557–576'}\n"
     ]
    },
    {
     "name": "stdout",
     "output_type": "stream",
     "text": [
      " 69% [...................................................                       ] 1236992 / 1791359"
     ]
    },
    {
     "name": "stderr",
     "output_type": "stream",
     "text": [
      "[INFO] | 2022/04/18 18:41:43 | ↓ Successfully download the url to: ./journals/post_colonial/critical_inquiry/Only Time Can Tell  On the Topology of Mental Space and Time. Critical Inquiry, 7(3), 557–576.pdf\n"
     ]
    },
    {
     "name": "stdout",
     "output_type": "stream",
     "text": [
      "100% [..........................................................................] 1791359 / 1791359\n"
     ]
    },
    {
     "name": "stderr",
     "output_type": "stream",
     "text": [
      "[INFO] | 2022/04/18 18:41:53 | Choose scihub url [0]: https://sci-hub.ru\n",
      "[INFO] | 2022/04/18 18:41:54 | <- Request: scihub_url=https://sci-hub.ru, source=DoiSource[type=doi, id=doi.org/10.1086/448116]\n",
      "[INFO] | 2022/04/18 18:41:54 | -> Response: status_code=200, content_length=6854\n",
      "[INFO] | 2022/04/18 18:41:54 | * Extracted information: {'url': 'https://twin.sci-hub.ru/5849/36f5830833e13c53ca71a57449c1d8d9/scruton1981.pdf', 'title': 'Photography and Representation. Critical Inquiry, 7(3), 577–603'}\n"
     ]
    },
    {
     "name": "stdout",
     "output_type": "stream",
     "text": [
      " 52% [......................................                                    ] 1556480 / 2987665"
     ]
    },
    {
     "name": "stderr",
     "output_type": "stream",
     "text": [
      "[INFO] | 2022/04/18 18:41:55 | ↓ Successfully download the url to: ./journals/post_colonial/critical_inquiry/Photography and Representation. Critical Inquiry, 7(3), 577–603.pdf\n"
     ]
    },
    {
     "name": "stdout",
     "output_type": "stream",
     "text": [
      "100% [..........................................................................] 2987665 / 2987665\n"
     ]
    },
    {
     "name": "stderr",
     "output_type": "stream",
     "text": [
      "[INFO] | 2022/04/18 18:42:05 | Choose scihub url [0]: https://sci-hub.ru\n",
      "[INFO] | 2022/04/18 18:42:05 | <- Request: scihub_url=https://sci-hub.ru, source=DoiSource[type=doi, id=doi.org/10.1086/448119]\n",
      "[INFO] | 2022/04/18 18:42:05 | -> Response: status_code=200, content_length=6833\n",
      "[INFO] | 2022/04/18 18:42:05 | * Extracted information: {'url': 'https://twin.sci-hub.ru/6768/237559896ef21266b2767c728abd8a5c/mitchell1981.pdf', 'title': 'Diagrammatology. Critical Inquiry, 7(3), 622–633'}\n"
     ]
    },
    {
     "name": "stdout",
     "output_type": "stream",
     "text": [
      " 84% [..............................................................            ] 1056768 / 1256792"
     ]
    },
    {
     "name": "stderr",
     "output_type": "stream",
     "text": [
      "[INFO] | 2022/04/18 18:42:06 | ↓ Successfully download the url to: ./journals/post_colonial/critical_inquiry/Diagrammatology. Critical Inquiry, 7(3), 622–633.pdf\n"
     ]
    },
    {
     "name": "stdout",
     "output_type": "stream",
     "text": [
      "100% [..........................................................................] 1256792 / 1256792\n"
     ]
    },
    {
     "name": "stderr",
     "output_type": "stream",
     "text": [
      "[INFO] | 2022/04/18 18:42:16 | Choose scihub url [0]: https://sci-hub.ru\n",
      "[INFO] | 2022/04/18 18:42:17 | <- Request: scihub_url=https://sci-hub.ru, source=DoiSource[type=doi, id=doi.org/10.1086/448122]\n",
      "[INFO] | 2022/04/18 18:42:17 | -> Response: status_code=200, content_length=6807\n",
      "[INFO] | 2022/04/18 18:42:17 | * Extracted information: {'url': 'https://twin.sci-hub.ru/6587/27454832e52209c3b332f5cd6e547900/seamus-heaney-1981.pdf', 'title': 'Critical Inquiry, 7(4), 645–651'}\n"
     ]
    },
    {
     "name": "stdout",
     "output_type": "stream",
     "text": [
      " 31% [.......................                                                     ] 188416 / 606054"
     ]
    },
    {
     "name": "stderr",
     "output_type": "stream",
     "text": [
      "[INFO] | 2022/04/18 18:42:18 | ↓ Successfully download the url to: ./journals/post_colonial/critical_inquiry/Critical Inquiry, 7(4), 645–651.pdf\n"
     ]
    },
    {
     "name": "stdout",
     "output_type": "stream",
     "text": [
      "100% [............................................................................] 606054 / 606054\n"
     ]
    },
    {
     "name": "stderr",
     "output_type": "stream",
     "text": [
      "[INFO] | 2022/04/18 18:42:28 | Choose scihub url [0]: https://sci-hub.ru\n",
      "[INFO] | 2022/04/18 18:42:28 | <- Request: scihub_url=https://sci-hub.ru, source=DoiSource[type=doi, id=doi.org/10.1086/448125]\n",
      "[INFO] | 2022/04/18 18:42:28 | -> Response: status_code=200, content_length=6817\n",
      "[INFO] | 2022/04/18 18:42:28 | * Extracted information: {'url': 'https://sci-hub.ru/downloads/2020-05-17/57/morson1981.pdf', 'title': 'Tolstoy’s Absolute Language. Critical Inquiry, 7(4), 667–687'}\n"
     ]
    },
    {
     "name": "stdout",
     "output_type": "stream",
     "text": [
      " 64% [...............................................                           ] 1548288 / 2407257"
     ]
    },
    {
     "name": "stderr",
     "output_type": "stream",
     "text": [
      "[INFO] | 2022/04/18 18:42:29 | ↓ Successfully download the url to: ./journals/post_colonial/critical_inquiry/Tolstoy’s Absolute Language. Critical Inquiry, 7(4), 667–687.pdf\n"
     ]
    },
    {
     "name": "stdout",
     "output_type": "stream",
     "text": [
      "100% [..........................................................................] 2407257 / 2407257\n"
     ]
    },
    {
     "name": "stderr",
     "output_type": "stream",
     "text": [
      "[INFO] | 2022/04/18 18:42:39 | Choose scihub url [0]: https://sci-hub.ru\n",
      "[INFO] | 2022/04/18 18:42:39 | <- Request: scihub_url=https://sci-hub.ru, source=DoiSource[type=doi, id=doi.org/10.1086/448126]\n",
      "[INFO] | 2022/04/18 18:42:39 | -> Response: status_code=200, content_length=6902\n",
      "[INFO] | 2022/04/18 18:42:39 | * Extracted information: {'url': 'https://twin.sci-hub.ru/5878/3f3168aab33f381a8ef28e5b81e293e7/brown1981.pdf', 'title': 'Mozart and after  The Revolution in Musical Consciousness. Critical Inquiry, 7(4), 689–706'}\n"
     ]
    },
    {
     "name": "stdout",
     "output_type": "stream",
     "text": [
      " 94% [.....................................................................     ] 2039808 / 2161567"
     ]
    },
    {
     "name": "stderr",
     "output_type": "stream",
     "text": [
      "[INFO] | 2022/04/18 18:42:41 | ↓ Successfully download the url to: ./journals/post_colonial/critical_inquiry/Mozart and after  The Revolution in Musical Consciousness. Critical Inquiry, 7(4), 689–706.pdf\n"
     ]
    },
    {
     "name": "stdout",
     "output_type": "stream",
     "text": [
      "100% [..........................................................................] 2161567 / 2161567\n"
     ]
    },
    {
     "name": "stderr",
     "output_type": "stream",
     "text": [
      "[INFO] | 2022/04/18 18:42:51 | Choose scihub url [0]: https://sci-hub.ru\n",
      "[INFO] | 2022/04/18 18:42:52 | <- Request: scihub_url=https://sci-hub.ru, source=DoiSource[type=doi, id=doi.org/10.1086/448127]\n",
      "[INFO] | 2022/04/18 18:42:52 | -> Response: status_code=200, content_length=6849\n",
      "[INFO] | 2022/04/18 18:42:52 | * Extracted information: {'url': 'https://twin.sci-hub.ru/5990/5171cd24ee052d522683466b111eed37/white1981.pdf', 'title': 'Homer’s Argument with Culture. Critical Inquiry, 7(4), 707–725'}\n"
     ]
    },
    {
     "name": "stdout",
     "output_type": "stream",
     "text": [
      " 50% [.....................................                                     ] 1089536 / 2172555"
     ]
    },
    {
     "name": "stderr",
     "output_type": "stream",
     "text": [
      "[INFO] | 2022/04/18 18:42:53 | ↓ Successfully download the url to: ./journals/post_colonial/critical_inquiry/Homer’s Argument with Culture. Critical Inquiry, 7(4), 707–725.pdf\n"
     ]
    },
    {
     "name": "stdout",
     "output_type": "stream",
     "text": [
      "100% [..........................................................................] 2172555 / 2172555\n"
     ]
    },
    {
     "name": "stderr",
     "output_type": "stream",
     "text": [
      "[INFO] | 2022/04/18 18:43:03 | Choose scihub url [0]: https://sci-hub.ru\n",
      "[INFO] | 2022/04/18 18:43:03 | <- Request: scihub_url=https://sci-hub.ru, source=DoiSource[type=doi, id=doi.org/10.1086/448129]\n",
      "[INFO] | 2022/04/18 18:43:03 | -> Response: status_code=200, content_length=6830\n",
      "[INFO] | 2022/04/18 18:43:03 | * Extracted information: {'url': 'https://twin.sci-hub.ru/6025/fcd1116b5ca6d54247ab5d74ae255035/rudinow1981.pdf', 'title': 'Duchamp’s Mischief. Critical Inquiry, 7(4), 747–760'}\n"
     ]
    },
    {
     "name": "stdout",
     "output_type": "stream",
     "text": [
      " 80% [...........................................................               ] 1236992 / 1533133"
     ]
    },
    {
     "name": "stderr",
     "output_type": "stream",
     "text": [
      "[INFO] | 2022/04/18 18:43:04 | ↓ Successfully download the url to: ./journals/post_colonial/critical_inquiry/Duchamp’s Mischief. Critical Inquiry, 7(4), 747–760.pdf\n"
     ]
    },
    {
     "name": "stdout",
     "output_type": "stream",
     "text": [
      "100% [..........................................................................] 1533133 / 1533133\n"
     ]
    },
    {
     "name": "stderr",
     "output_type": "stream",
     "text": [
      "[INFO] | 2022/04/18 18:43:14 | Choose scihub url [0]: https://sci-hub.ru\n",
      "[INFO] | 2022/04/18 18:43:14 | <- Request: scihub_url=https://sci-hub.ru, source=DoiSource[type=doi, id=doi.org/10.1086/448130]\n",
      "[INFO] | 2022/04/18 18:43:14 | -> Response: status_code=200, content_length=6796\n",
      "[INFO] | 2022/04/18 18:43:14 | * Extracted information: {'url': 'https://sci-hub.ru/downloads/2020-05-31/a1/cavell1981.pdf', 'title': 'North by Northwest. Critical Inquiry, 7(4), 761–776'}\n"
     ]
    },
    {
     "name": "stdout",
     "output_type": "stream",
     "text": [
      " 69% [....................................................                        ] 188416 / 271932"
     ]
    },
    {
     "name": "stderr",
     "output_type": "stream",
     "text": [
      "[INFO] | 2022/04/18 18:43:15 | ↓ Successfully download the url to: ./journals/post_colonial/critical_inquiry/North by Northwest. Critical Inquiry, 7(4), 761–776.pdf\n"
     ]
    },
    {
     "name": "stdout",
     "output_type": "stream",
     "text": [
      "100% [............................................................................] 271932 / 271932\n"
     ]
    },
    {
     "name": "stderr",
     "output_type": "stream",
     "text": [
      "[INFO] | 2022/04/18 18:43:25 | Choose scihub url [0]: https://sci-hub.ru\n",
      "[INFO] | 2022/04/18 18:43:25 | <- Request: scihub_url=https://sci-hub.ru, source=DoiSource[type=doi, id=doi.org/10.1086/448132]\n",
      "[INFO] | 2022/04/18 18:43:25 | -> Response: status_code=200, content_length=6890\n",
      "[INFO] | 2022/04/18 18:43:25 | * Extracted information: {'url': 'https://sci-hub.ru/downloads/2020-05-17/7d/waldman1981.pdf', 'title': '“The Otherwise Unnoteworthy Year 711”  A Reply to Hayden White. Critical Inquiry, 7(4), 784–792'}\n"
     ]
    },
    {
     "name": "stdout",
     "output_type": "stream",
     "text": [
      " 19% [..............                                                              ] 188416 / 973626"
     ]
    },
    {
     "name": "stderr",
     "output_type": "stream",
     "text": [
      "[INFO] | 2022/04/18 18:43:27 | ↓ Successfully download the url to: ./journals/post_colonial/critical_inquiry/“The Otherwise Unnoteworthy Year 711”  A Reply to Hayden White. Critical Inquiry, 7(4), 784–792.pdf\n"
     ]
    },
    {
     "name": "stdout",
     "output_type": "stream",
     "text": [
      "100% [............................................................................] 973626 / 973626\n"
     ]
    },
    {
     "name": "stderr",
     "output_type": "stream",
     "text": [
      "[INFO] | 2022/04/18 18:43:37 | Choose scihub url [0]: https://sci-hub.ru\n",
      "[INFO] | 2022/04/18 18:43:37 | <- Request: scihub_url=https://sci-hub.ru, source=DoiSource[type=doi, id=doi.org/10.1086/448133]\n",
      "[INFO] | 2022/04/18 18:43:37 | -> Response: status_code=200, content_length=6856\n",
      "[INFO] | 2022/04/18 18:43:37 | * Extracted information: {'url': 'https://twin.sci-hub.ru/6349/299f463824f9f94b82aafb5b23bc08c4/white1981.pdf', 'title': 'The Narrativization of Real Events. Critical Inquiry, 7(4), 793–798'}\n"
     ]
    },
    {
     "name": "stdout",
     "output_type": "stream",
     "text": [
      " 29% [......................                                                      ] 188416 / 630484"
     ]
    },
    {
     "name": "stderr",
     "output_type": "stream",
     "text": [
      "[INFO] | 2022/04/18 18:43:38 | ↓ Successfully download the url to: ./journals/post_colonial/critical_inquiry/The Narrativization of Real Events. Critical Inquiry, 7(4), 793–798.pdf\n"
     ]
    },
    {
     "name": "stdout",
     "output_type": "stream",
     "text": [
      "100% [............................................................................] 630484 / 630484\n"
     ]
    },
    {
     "name": "stderr",
     "output_type": "stream",
     "text": [
      "[INFO] | 2022/04/18 18:43:48 | Choose scihub url [0]: https://sci-hub.ru\n",
      "[INFO] | 2022/04/18 18:43:48 | <- Request: scihub_url=https://sci-hub.ru, source=DoiSource[type=doi, id=doi.org/10.1086/448134]\n",
      "[INFO] | 2022/04/18 18:43:48 | -> Response: status_code=200, content_length=6842\n",
      "[INFO] | 2022/04/18 18:43:48 | * Extracted information: {'url': 'https://twin.sci-hub.ru/5857/457c4531e431df236c0ecd1856098cf8/goodman1981.pdf', 'title': 'The Telling and the Told. Critical Inquiry, 7(4), 799–801'}\n",
      "[INFO] | 2022/04/18 18:43:49 | ↓ Successfully download the url to: ./journals/post_colonial/critical_inquiry/The Telling and the Told. Critical Inquiry, 7(4), 799–801.pdf\n"
     ]
    },
    {
     "name": "stdout",
     "output_type": "stream",
     "text": [
      "100% [............................................................................] 159430 / 159430\n"
     ]
    },
    {
     "name": "stderr",
     "output_type": "stream",
     "text": [
      "[INFO] | 2022/04/18 18:43:59 | Choose scihub url [0]: https://sci-hub.ru\n",
      "[INFO] | 2022/04/18 18:43:59 | <- Request: scihub_url=https://sci-hub.ru, source=DoiSource[type=doi, id=doi.org/10.1086/448135]\n",
      "[INFO] | 2022/04/18 18:43:59 | -> Response: status_code=200, content_length=6860\n",
      "[INFO] | 2022/04/18 18:43:59 | * Extracted information: {'url': 'https://twin.sci-hub.ru/5852/ceeeab9e29fc8da47050447dccf76c80/chatman1981.pdf', 'title': 'Reply to Barbara Herrnstein Smith. Critical Inquiry, 7(4), 802–809'}\n"
     ]
    },
    {
     "name": "stdout",
     "output_type": "stream",
     "text": [
      " 22% [.................                                                           ] 188416 / 823575"
     ]
    },
    {
     "name": "stderr",
     "output_type": "stream",
     "text": [
      "[INFO] | 2022/04/18 18:44:00 | ↓ Successfully download the url to: ./journals/post_colonial/critical_inquiry/Reply to Barbara Herrnstein Smith. Critical Inquiry, 7(4), 802–809.pdf\n"
     ]
    },
    {
     "name": "stdout",
     "output_type": "stream",
     "text": [
      "100% [............................................................................] 823575 / 823575\n"
     ]
    },
    {
     "name": "stderr",
     "output_type": "stream",
     "text": [
      "[INFO] | 2022/04/18 18:44:10 | Choose scihub url [0]: https://sci-hub.ru\n",
      "[INFO] | 2022/04/18 18:44:11 | <- Request: scihub_url=https://sci-hub.ru, source=DoiSource[type=doi, id=doi.org/10.1086/448138]\n",
      "[INFO] | 2022/04/18 18:44:11 | -> Response: status_code=200, content_length=6889\n",
      "[INFO] | 2022/04/18 18:44:11 | * Extracted information: {'url': 'https://twin.sci-hub.ru/6027/5fd14c8b264c13d2b9a6907e7f509158/panofsky1981.pdf', 'title': 'The Concept of Artistic Volition. Critical Inquiry, 8(1), 17–33'}\n"
     ]
    },
    {
     "name": "stdout",
     "output_type": "stream",
     "text": [
      " 61% [.............................................                             ] 1163264 / 1883258"
     ]
    },
    {
     "name": "stderr",
     "output_type": "stream",
     "text": [
      "[INFO] | 2022/04/18 18:44:12 | ↓ Successfully download the url to: ./journals/post_colonial/critical_inquiry/The Concept of Artistic Volition. Critical Inquiry, 8(1), 17–33.pdf\n"
     ]
    },
    {
     "name": "stdout",
     "output_type": "stream",
     "text": [
      "100% [..........................................................................] 1883258 / 1883258\n"
     ]
    },
    {
     "name": "stderr",
     "output_type": "stream",
     "text": [
      "[INFO] | 2022/04/18 18:44:22 | Choose scihub url [0]: https://sci-hub.ru\n",
      "[INFO] | 2022/04/18 18:44:22 | <- Request: scihub_url=https://sci-hub.ru, source=DoiSource[type=doi, id=doi.org/10.1086/448139]\n",
      "[INFO] | 2022/04/18 18:44:22 | -> Response: status_code=200, content_length=6858\n",
      "[INFO] | 2022/04/18 18:44:22 | * Extracted information: {'url': 'https://twin.sci-hub.ru/5838/e9b8fd3143964162c08eaf09ec6c1d3a/mcgann1981.pdf', 'title': 'The Meaning of the Ancient Mariner. Critical Inquiry, 8(1), 35–67'}\n"
     ]
    },
    {
     "name": "stdout",
     "output_type": "stream",
     "text": [
      " 72% [.....................................................                     ] 2629632 / 3633297"
     ]
    },
    {
     "name": "stderr",
     "output_type": "stream",
     "text": [
      "[INFO] | 2022/04/18 18:44:24 | ↓ Successfully download the url to: ./journals/post_colonial/critical_inquiry/The Meaning of the Ancient Mariner. Critical Inquiry, 8(1), 35–67.pdf\n"
     ]
    },
    {
     "name": "stdout",
     "output_type": "stream",
     "text": [
      "100% [..........................................................................] 3633297 / 3633297\n"
     ]
    },
    {
     "name": "stderr",
     "output_type": "stream",
     "text": [
      "[INFO] | 2022/04/18 18:44:34 | Choose scihub url [0]: https://sci-hub.ru\n",
      "[INFO] | 2022/04/18 18:44:34 | <- Request: scihub_url=https://sci-hub.ru, source=DoiSource[type=doi, id=doi.org/10.1086/448141]\n",
      "[INFO] | 2022/04/18 18:44:34 | -> Response: status_code=200, content_length=6860\n",
      "[INFO] | 2022/04/18 18:44:34 | * Extracted information: {'url': 'https://twin.sci-hub.ru/6791/7490c5c59cf26d5d32859183f5fd166c/pearce1981.pdf', 'title': 'Whitman Justified  The Poet in 1855. Critical Inquiry, 8(1), 83–97'}\n"
     ]
    },
    {
     "name": "stdout",
     "output_type": "stream",
     "text": [
      " 89% [..................................................................        ] 1318912 / 1468196"
     ]
    },
    {
     "name": "stderr",
     "output_type": "stream",
     "text": [
      "[INFO] | 2022/04/18 18:44:35 | ↓ Successfully download the url to: ./journals/post_colonial/critical_inquiry/Whitman Justified  The Poet in 1855. Critical Inquiry, 8(1), 83–97.pdf\n"
     ]
    },
    {
     "name": "stdout",
     "output_type": "stream",
     "text": [
      "100% [..........................................................................] 1468196 / 1468196\n"
     ]
    },
    {
     "name": "stderr",
     "output_type": "stream",
     "text": [
      "[INFO] | 2022/04/18 18:44:45 | Choose scihub url [0]: https://sci-hub.ru\n",
      "[INFO] | 2022/04/18 18:44:46 | <- Request: scihub_url=https://sci-hub.ru, source=DoiSource[type=doi, id=doi.org/10.1086/448142]\n",
      "[INFO] | 2022/04/18 18:44:46 | -> Response: status_code=200, content_length=6881\n",
      "[INFO] | 2022/04/18 18:44:46 | * Extracted information: {'url': 'https://twin.sci-hub.ru/5865/d73ec5182aebbc64d9a1c82be523b337/beaver1981.pdf', 'title': 'Homosexual Signs (In Memory of Roland Barthes). Critical Inquiry, 8(1), 99–119'}\n"
     ]
    },
    {
     "name": "stdout",
     "output_type": "stream",
     "text": [
      " 35% [..........................                                                ]  860160 / 2397643"
     ]
    },
    {
     "name": "stderr",
     "output_type": "stream",
     "text": [
      "[INFO] | 2022/04/18 18:44:47 | ↓ Successfully download the url to: ./journals/post_colonial/critical_inquiry/Homosexual Signs (In Memory of Roland Barthes). Critical Inquiry, 8(1), 99–119.pdf\n"
     ]
    },
    {
     "name": "stdout",
     "output_type": "stream",
     "text": [
      "100% [..........................................................................] 2397643 / 2397643\n"
     ]
    },
    {
     "name": "stderr",
     "output_type": "stream",
     "text": [
      "[INFO] | 2022/04/18 18:44:57 | Choose scihub url [0]: https://sci-hub.ru\n",
      "[INFO] | 2022/04/18 18:44:57 | <- Request: scihub_url=https://sci-hub.ru, source=DoiSource[type=doi, id=doi.org/10.1086/448144]\n",
      "[INFO] | 2022/04/18 18:44:57 | -> Response: status_code=200, content_length=6914\n",
      "[INFO] | 2022/04/18 18:44:57 | * Extracted information: {'url': 'https://twin.sci-hub.ru/6025/a26217040370b467a5e379584c6a0bf2/nehamas1981.pdf', 'title': 'The Postulated Author  Critical Monism as a Regulative Ideal. Critical Inquiry, 8(1), 133–149'}\n"
     ]
    },
    {
     "name": "stdout",
     "output_type": "stream",
     "text": [
      " 54% [........................................                                  ] 1081344 / 1966109"
     ]
    },
    {
     "name": "stderr",
     "output_type": "stream",
     "text": [
      "[INFO] | 2022/04/18 18:44:58 | ↓ Successfully download the url to: ./journals/post_colonial/critical_inquiry/The Postulated Author  Critical Monism as a Regulative Ideal. Critical Inquiry, 8(1), 133–149.pdf\n"
     ]
    },
    {
     "name": "stdout",
     "output_type": "stream",
     "text": [
      "100% [..........................................................................] 1966109 / 1966109\n"
     ]
    },
    {
     "name": "stderr",
     "output_type": "stream",
     "text": [
      "[INFO] | 2022/04/18 18:45:08 | Choose scihub url [0]: https://sci-hub.ru\n",
      "[INFO] | 2022/04/18 18:45:09 | <- Request: scihub_url=https://sci-hub.ru, source=DoiSource[type=doi, id=doi.org/10.1086/448145]\n",
      "[INFO] | 2022/04/18 18:45:09 | -> Response: status_code=200, content_length=6839\n",
      "[INFO] | 2022/04/18 18:45:09 | * Extracted information: {'url': 'https://twin.sci-hub.ru/6185/8f589c4bc6811d9e3113b637d03668ee/wieand1981.pdf', 'title': 'Duchamp and the Artworld. Critical Inquiry, 8(1), 151–157'}\n"
     ]
    },
    {
     "name": "stdout",
     "output_type": "stream",
     "text": [
      " 25% [...................                                                         ] 188416 / 743250"
     ]
    },
    {
     "name": "stderr",
     "output_type": "stream",
     "text": [
      "[INFO] | 2022/04/18 18:45:09 | ↓ Successfully download the url to: ./journals/post_colonial/critical_inquiry/Duchamp and the Artworld. Critical Inquiry, 8(1), 151–157.pdf\n"
     ]
    },
    {
     "name": "stdout",
     "output_type": "stream",
     "text": [
      "100% [............................................................................] 743250 / 743250\n"
     ]
    },
    {
     "name": "stderr",
     "output_type": "stream",
     "text": [
      "[INFO] | 2022/04/18 18:45:19 | Choose scihub url [0]: https://sci-hub.ru\n",
      "[INFO] | 2022/04/18 18:45:20 | <- Request: scihub_url=https://sci-hub.ru, source=DoiSource[type=doi, id=doi.org/10.1086/448147]\n",
      "[INFO] | 2022/04/18 18:45:20 | -> Response: status_code=200, content_length=6884\n",
      "[INFO] | 2022/04/18 18:45:20 | * Extracted information: {'url': 'https://twin.sci-hub.ru/6032/dadfcdc16e3b6cdcb7fe10d2dc7fbad6/michaels1981.pdf', 'title': 'Fictitious Dealing  A Reply to Leo Bersani. Critical Inquiry, 8(1), 165–171'}\n"
     ]
    },
    {
     "name": "stdout",
     "output_type": "stream",
     "text": [
      " 25% [...................                                                         ] 188416 / 725980"
     ]
    },
    {
     "name": "stderr",
     "output_type": "stream",
     "text": [
      "[INFO] | 2022/04/18 18:45:21 | ↓ Successfully download the url to: ./journals/post_colonial/critical_inquiry/Fictitious Dealing  A Reply to Leo Bersani. Critical Inquiry, 8(1), 165–171.pdf\n"
     ]
    },
    {
     "name": "stdout",
     "output_type": "stream",
     "text": [
      "100% [............................................................................] 725980 / 725980\n"
     ]
    },
    {
     "name": "stderr",
     "output_type": "stream",
     "text": [
      "[INFO] | 2022/04/18 18:45:31 | Choose scihub url [0]: https://sci-hub.ru\n",
      "[INFO] | 2022/04/18 18:45:31 | <- Request: scihub_url=https://sci-hub.ru, source=DoiSource[type=doi, id=doi.org/10.1086/448150]\n",
      "[INFO] | 2022/04/18 18:45:31 | -> Response: status_code=200, content_length=6872\n",
      "[INFO] | 2022/04/18 18:45:31 | * Extracted information: {'url': 'https://twin.sci-hub.ru/6047/4c3c9322c308038976bf7195f25e795f/showalter1981.pdf', 'title': 'Feminist Criticism in the Wilderness. Critical Inquiry, 8(2), 179–205'}\n"
     ]
    },
    {
     "name": "stdout",
     "output_type": "stream",
     "text": [
      " 38% [............................                                              ] 1220608 / 3167985"
     ]
    },
    {
     "name": "stderr",
     "output_type": "stream",
     "text": [
      "[INFO] | 2022/04/18 18:45:32 | ↓ Successfully download the url to: ./journals/post_colonial/critical_inquiry/Feminist Criticism in the Wilderness. Critical Inquiry, 8(2), 179–205.pdf\n"
     ]
    },
    {
     "name": "stdout",
     "output_type": "stream",
     "text": [
      "100% [..........................................................................] 3167985 / 3167985\n"
     ]
    },
    {
     "name": "stderr",
     "output_type": "stream",
     "text": [
      "[INFO] | 2022/04/18 18:45:42 | Choose scihub url [0]: https://sci-hub.ru\n",
      "[INFO] | 2022/04/18 18:45:42 | <- Request: scihub_url=https://sci-hub.ru, source=DoiSource[type=doi, id=doi.org/10.1086/448151]\n",
      "[INFO] | 2022/04/18 18:45:42 | -> Response: status_code=200, content_length=6928\n",
      "[INFO] | 2022/04/18 18:45:42 | * Extracted information: {'url': 'https://twin.sci-hub.ru/5852/e3c5183a9298dfc42995942a757573b9/jacobus1981.pdf', 'title': 'The Question of Language  Men of Maxims and “The Mill on the Floss.” Critical Inquiry, 8(2), 207–222'}\n"
     ]
    },
    {
     "name": "stdout",
     "output_type": "stream",
     "text": [
      " 69% [...................................................                       ] 1228800 / 1767713"
     ]
    },
    {
     "name": "stderr",
     "output_type": "stream",
     "text": [
      "[INFO] | 2022/04/18 18:45:43 | ↓ Successfully download the url to: ./journals/post_colonial/critical_inquiry/The Question of Language  Men of Maxims and “The Mill on the Floss.” Critical Inquiry, 8(2), 207–222.pdf\n"
     ]
    },
    {
     "name": "stdout",
     "output_type": "stream",
     "text": [
      "100% [..........................................................................] 1767713 / 1767713\n"
     ]
    },
    {
     "name": "stderr",
     "output_type": "stream",
     "text": [
      "[INFO] | 2022/04/18 18:45:53 | Choose scihub url [0]: https://sci-hub.ru\n",
      "[INFO] | 2022/04/18 18:45:54 | <- Request: scihub_url=https://sci-hub.ru, source=DoiSource[type=doi, id=doi.org/10.1086/448152]\n",
      "[INFO] | 2022/04/18 18:45:54 | -> Response: status_code=200, content_length=6913\n",
      "[INFO] | 2022/04/18 18:45:54 | * Extracted information: {'url': 'https://twin.sci-hub.ru/6663/bdbee7d12af0fe9f70cc84aba13b3998/homans1981.pdf', 'title': 'Eliot, Wordsworth, and the Scenes of the Sisters’ Instruction. Critical Inquiry, 8(2), 223–241'}\n"
     ]
    },
    {
     "name": "stdout",
     "output_type": "stream",
     "text": [
      " 42% [...............................                                           ]  933888 / 2187390"
     ]
    },
    {
     "name": "stderr",
     "output_type": "stream",
     "text": [
      "[INFO] | 2022/04/18 18:45:55 | ↓ Successfully download the url to: ./journals/post_colonial/critical_inquiry/Eliot, Wordsworth, and the Scenes of the Sisters’ Instruction. Critical Inquiry, 8(2), 223–241.pdf\n"
     ]
    },
    {
     "name": "stdout",
     "output_type": "stream",
     "text": [
      "100% [..........................................................................] 2187390 / 2187390\n"
     ]
    },
    {
     "name": "stderr",
     "output_type": "stream",
     "text": [
      "[INFO] | 2022/04/18 18:46:05 | Choose scihub url [0]: https://sci-hub.ru\n",
      "[INFO] | 2022/04/18 18:46:06 | <- Request: scihub_url=https://sci-hub.ru, source=DoiSource[type=doi, id=doi.org/10.1086/448153]\n",
      "[INFO] | 2022/04/18 18:46:06 | -> Response: status_code=200, content_length=6892\n",
      "[INFO] | 2022/04/18 18:46:06 | * Extracted information: {'url': 'https://twin.sci-hub.ru/6025/1682024751faa812cb92f7f19ca60b86/gubar1981.pdf', 'title': '“The Blank Page” and the Issues of Female Creativity. Critical Inquiry, 8(2), 243–263'}\n"
     ]
    },
    {
     "name": "stdout",
     "output_type": "stream",
     "text": [
      " 27% [....................                                                      ]  688128 / 2524734"
     ]
    },
    {
     "name": "stderr",
     "output_type": "stream",
     "text": [
      "[INFO] | 2022/04/18 18:46:07 | ↓ Successfully download the url to: ./journals/post_colonial/critical_inquiry/“The Blank Page” and the Issues of Female Creativity. Critical Inquiry, 8(2), 243–263.pdf\n"
     ]
    },
    {
     "name": "stdout",
     "output_type": "stream",
     "text": [
      "100% [..........................................................................] 2524734 / 2524734\n"
     ]
    },
    {
     "name": "stderr",
     "output_type": "stream",
     "text": [
      "[INFO] | 2022/04/18 18:46:17 | Choose scihub url [0]: https://sci-hub.ru\n",
      "[INFO] | 2022/04/18 18:46:17 | <- Request: scihub_url=https://sci-hub.ru, source=DoiSource[type=doi, id=doi.org/10.1086/448154]\n",
      "[INFO] | 2022/04/18 18:46:17 | -> Response: status_code=200, content_length=6901\n",
      "[INFO] | 2022/04/18 18:46:17 | * Extracted information: {'url': 'https://twin.sci-hub.ru/5835/e0fe22b49471800bb7e7e9e28166c449/vickers1981.pdf', 'title': 'Diana Described  Scattered Woman and Scattered Rhyme. Critical Inquiry, 8(2), 265–279'}\n"
     ]
    },
    {
     "name": "stdout",
     "output_type": "stream",
     "text": [
      " 92% [....................................................................      ] 1433600 / 1552530"
     ]
    },
    {
     "name": "stderr",
     "output_type": "stream",
     "text": [
      "[INFO] | 2022/04/18 18:46:18 | ↓ Successfully download the url to: ./journals/post_colonial/critical_inquiry/Diana Described  Scattered Woman and Scattered Rhyme. Critical Inquiry, 8(2), 265–279.pdf\n"
     ]
    },
    {
     "name": "stdout",
     "output_type": "stream",
     "text": [
      "100% [..........................................................................] 1552530 / 1552530\n"
     ]
    },
    {
     "name": "stderr",
     "output_type": "stream",
     "text": [
      "[INFO] | 2022/04/18 18:46:28 | Choose scihub url [0]: https://sci-hub.ru\n",
      "[INFO] | 2022/04/18 18:46:28 | <- Request: scihub_url=https://sci-hub.ru, source=DoiSource[type=doi, id=doi.org/10.1086/448157]\n",
      "[INFO] | 2022/04/18 18:46:28 | -> Response: status_code=200, content_length=6968\n",
      "[INFO] | 2022/04/18 18:46:28 | * Extracted information: {'url': 'https://twin.sci-hub.ru/5835/0092cf2a6e86837fa178c9ebc1caacf4/kolodny1981.pdf', 'title': 'Turning the Lens on “The Panther Captivity”  A Feminist Exercise in Practical Criticism. Critical Inquiry, 8(2), 329–345'}\n"
     ]
    },
    {
     "name": "stdout",
     "output_type": "stream",
     "text": [
      " 59% [............................................                              ] 1220608 / 2039706"
     ]
    },
    {
     "name": "stderr",
     "output_type": "stream",
     "text": [
      "[INFO] | 2022/04/18 18:46:30 | ↓ Successfully download the url to: ./journals/post_colonial/critical_inquiry/Turning the Lens on “The Panther Captivity”  A Feminist Exercise in Practical Criticism. Critical Inquiry, 8(2), 329–345.pdf\n"
     ]
    },
    {
     "name": "stdout",
     "output_type": "stream",
     "text": [
      "100% [..........................................................................] 2039706 / 2039706\n"
     ]
    },
    {
     "name": "stderr",
     "output_type": "stream",
     "text": [
      "[INFO] | 2022/04/18 18:46:40 | Choose scihub url [0]: https://sci-hub.ru\n",
      "[INFO] | 2022/04/18 18:46:40 | <- Request: scihub_url=https://sci-hub.ru, source=DoiSource[type=doi, id=doi.org/10.1086/448158]\n",
      "[INFO] | 2022/04/18 18:46:40 | -> Response: status_code=200, content_length=6878\n",
      "[INFO] | 2022/04/18 18:46:40 | * Extracted information: {'url': 'https://twin.sci-hub.ru/6205/336ab626b4f390c393d01cad43454333/gardiner1981.pdf', 'title': 'On Female Identity and Writing by Women. Critical Inquiry, 8(2), 347–361'}\n"
     ]
    },
    {
     "name": "stdout",
     "output_type": "stream",
     "text": [
      " 66% [.................................................                         ] 1146880 / 1725701"
     ]
    },
    {
     "name": "stderr",
     "output_type": "stream",
     "text": [
      "[INFO] | 2022/04/18 18:46:41 | ↓ Successfully download the url to: ./journals/post_colonial/critical_inquiry/On Female Identity and Writing by Women. Critical Inquiry, 8(2), 347–361.pdf\n"
     ]
    },
    {
     "name": "stdout",
     "output_type": "stream",
     "text": [
      "100% [..........................................................................] 1725701 / 1725701\n"
     ]
    },
    {
     "name": "stderr",
     "output_type": "stream",
     "text": [
      "[INFO] | 2022/04/18 18:46:51 | Choose scihub url [0]: https://sci-hub.ru\n",
      "[INFO] | 2022/04/18 18:46:51 | <- Request: scihub_url=https://sci-hub.ru, source=DoiSource[type=doi, id=doi.org/10.1086/448159]\n",
      "[INFO] | 2022/04/18 18:46:51 | -> Response: status_code=200, content_length=6869\n",
      "[INFO] | 2022/04/18 18:46:51 | * Extracted information: {'url': 'https://sci-hub.ru/downloads/2019-06-11/ab/stimpson1981.pdf', 'title': 'Zero Degree Deviancy  The Lesbian Novel in English. Critical Inquiry, 8(2), 363–379'}\n"
     ]
    },
    {
     "name": "stdout",
     "output_type": "stream",
     "text": [
      " 58% [...........................................                               ] 1155072 / 1967330"
     ]
    },
    {
     "name": "stderr",
     "output_type": "stream",
     "text": [
      "[INFO] | 2022/04/18 18:46:52 | ↓ Successfully download the url to: ./journals/post_colonial/critical_inquiry/Zero Degree Deviancy  The Lesbian Novel in English. Critical Inquiry, 8(2), 363–379.pdf\n"
     ]
    },
    {
     "name": "stdout",
     "output_type": "stream",
     "text": [
      "100% [..........................................................................] 1967330 / 1967330\n"
     ]
    },
    {
     "name": "stderr",
     "output_type": "stream",
     "text": [
      "[INFO] | 2022/04/18 18:47:02 | Choose scihub url [0]: https://sci-hub.ru\n",
      "[INFO] | 2022/04/18 18:47:03 | <- Request: scihub_url=https://sci-hub.ru, source=DoiSource[type=doi, id=doi.org/10.1086/448160]\n",
      "[INFO] | 2022/04/18 18:47:03 | -> Response: status_code=200, content_length=6850\n",
      "[INFO] | 2022/04/18 18:47:03 | * Extracted information: {'url': 'https://twin.sci-hub.ru/6020/ccdb48340c352ee07c24ac7f5f44259a/spivak1981.pdf', 'title': '“Draupadi” by Mahasveta Devi. Critical Inquiry, 8(2), 381–402'}\n"
     ]
    },
    {
     "name": "stdout",
     "output_type": "stream",
     "text": [
      " 40% [.............................                                             ]  974848 / 2408145"
     ]
    },
    {
     "name": "stderr",
     "output_type": "stream",
     "text": [
      "[INFO] | 2022/04/18 18:47:04 | ↓ Successfully download the url to: ./journals/post_colonial/critical_inquiry/“Draupadi” by Mahasveta Devi. Critical Inquiry, 8(2), 381–402.pdf\n"
     ]
    },
    {
     "name": "stdout",
     "output_type": "stream",
     "text": [
      "100% [..........................................................................] 2408145 / 2408145\n"
     ]
    },
    {
     "name": "stderr",
     "output_type": "stream",
     "text": [
      "[INFO] | 2022/04/18 18:47:14 | Choose scihub url [0]: https://sci-hub.ru\n",
      "[INFO] | 2022/04/18 18:47:14 | <- Request: scihub_url=https://sci-hub.ru, source=DoiSource[type=doi, id=doi.org/10.1086/448161]\n",
      "[INFO] | 2022/04/18 18:47:14 | -> Response: status_code=200, content_length=6810\n",
      "[INFO] | 2022/04/18 18:47:14 | * Extracted information: {'url': 'https://twin.sci-hub.ru/6025/cc4ba090b3f3805285ea85edda3a57de/editorial-note-1981.pdf', 'title': 'Critical Inquiry, 8(2), 403–403'}\n",
      "[INFO] | 2022/04/18 18:47:15 | ↓ Successfully download the url to: ./journals/post_colonial/critical_inquiry/Critical Inquiry, 8(2), 403–403.pdf\n"
     ]
    },
    {
     "name": "stdout",
     "output_type": "stream",
     "text": [
      "100% [..............................................................................] 26465 / 26465\n"
     ]
    },
    {
     "name": "stderr",
     "output_type": "stream",
     "text": [
      "[INFO] | 2022/04/18 18:47:25 | Choose scihub url [0]: https://sci-hub.ru\n",
      "[INFO] | 2022/04/18 18:47:25 | <- Request: scihub_url=https://sci-hub.ru, source=DoiSource[type=doi, id=doi.org/10.1086/448163]\n",
      "[INFO] | 2022/04/18 18:47:25 | -> Response: status_code=200, content_length=6899\n",
      "[INFO] | 2022/04/18 18:47:25 | * Extracted information: {'url': 'https://twin.sci-hub.ru/6036/ba78d130c15bca4268258b413778ca72/vonhallberg1982.pdf', 'title': 'Donald Davie and “The Moral Shape of Politics.” Critical Inquiry, 8(3), 415–436'}\n"
     ]
    },
    {
     "name": "stdout",
     "output_type": "stream",
     "text": [
      " 46% [..................................                                        ] 1097728 / 2358464"
     ]
    },
    {
     "name": "stderr",
     "output_type": "stream",
     "text": [
      "[INFO] | 2022/04/18 18:47:26 | ↓ Successfully download the url to: ./journals/post_colonial/critical_inquiry/Donald Davie and “The Moral Shape of Politics.” Critical Inquiry, 8(3), 415–436.pdf\n"
     ]
    },
    {
     "name": "stdout",
     "output_type": "stream",
     "text": [
      "100% [..........................................................................] 2358464 / 2358464\n"
     ]
    },
    {
     "name": "stderr",
     "output_type": "stream",
     "text": [
      "[INFO] | 2022/04/18 18:47:36 | Choose scihub url [0]: https://sci-hub.ru\n",
      "[INFO] | 2022/04/18 18:47:37 | <- Request: scihub_url=https://sci-hub.ru, source=DoiSource[type=doi, id=doi.org/10.1086/448164]\n",
      "[INFO] | 2022/04/18 18:47:37 | -> Response: status_code=200, content_length=6823\n",
      "[INFO] | 2022/04/18 18:47:37 | * Extracted information: {'url': 'https://twin.sci-hub.ru/6577/9763daebac3c33d7a066d605d2f269f9/alpers1982.pdf', 'title': 'What Is Pastoral  Critical Inquiry, 8(3), 437–460'}\n"
     ]
    },
    {
     "name": "stdout",
     "output_type": "stream",
     "text": [
      " 26% [...................                                                       ]  786432 / 2942474"
     ]
    },
    {
     "name": "stderr",
     "output_type": "stream",
     "text": [
      "[INFO] | 2022/04/18 18:47:38 | ↓ Successfully download the url to: ./journals/post_colonial/critical_inquiry/What Is Pastoral  Critical Inquiry, 8(3), 437–460.pdf\n"
     ]
    },
    {
     "name": "stdout",
     "output_type": "stream",
     "text": [
      "100% [..........................................................................] 2942474 / 2942474\n"
     ]
    },
    {
     "name": "stderr",
     "output_type": "stream",
     "text": [
      "[INFO] | 2022/04/18 18:47:48 | Choose scihub url [0]: https://sci-hub.ru\n",
      "[INFO] | 2022/04/18 18:47:48 | <- Request: scihub_url=https://sci-hub.ru, source=DoiSource[type=doi, id=doi.org/10.1086/448166]\n",
      "[INFO] | 2022/04/18 18:47:48 | -> Response: status_code=200, content_length=6806\n",
      "[INFO] | 2022/04/18 18:47:48 | * Extracted information: {'url': 'https://sci-hub.ru/downloads/2020-10-22/3f/corngold1982.pdf', 'title': 'Error in Paul de Man. Critical Inquiry, 8(3), 489–507'}\n"
     ]
    },
    {
     "name": "stdout",
     "output_type": "stream",
     "text": [
      " 40% [.............................                                             ]  950272 / 2354938"
     ]
    },
    {
     "name": "stderr",
     "output_type": "stream",
     "text": [
      "[INFO] | 2022/04/18 18:47:49 | ↓ Successfully download the url to: ./journals/post_colonial/critical_inquiry/Error in Paul de Man. Critical Inquiry, 8(3), 489–507.pdf\n"
     ]
    },
    {
     "name": "stdout",
     "output_type": "stream",
     "text": [
      "100% [..........................................................................] 2354938 / 2354938\n"
     ]
    },
    {
     "name": "stderr",
     "output_type": "stream",
     "text": [
      "[INFO] | 2022/04/18 18:47:59 | Choose scihub url [0]: https://sci-hub.ru\n",
      "[INFO] | 2022/04/18 18:48:00 | <- Request: scihub_url=https://sci-hub.ru, source=DoiSource[type=doi, id=doi.org/10.1086/448168]\n",
      "[INFO] | 2022/04/18 18:48:00 | -> Response: status_code=200, content_length=6844\n",
      "[INFO] | 2022/04/18 18:48:00 | * Extracted information: {'url': 'https://twin.sci-hub.ru/6010/33e6bcba8bf6429d2bc2d432570b52be/meltzer1982.pdf', 'title': 'Laclos’ Purloined Letters. Critical Inquiry, 8(3), 515–529'}\n"
     ]
    },
    {
     "name": "stdout",
     "output_type": "stream",
     "text": [
      " 63% [...............................................                           ] 1105920 / 1731790"
     ]
    },
    {
     "name": "stderr",
     "output_type": "stream",
     "text": [
      "[INFO] | 2022/04/18 18:48:01 | ↓ Successfully download the url to: ./journals/post_colonial/critical_inquiry/Laclos’ Purloined Letters. Critical Inquiry, 8(3), 515–529.pdf\n"
     ]
    },
    {
     "name": "stdout",
     "output_type": "stream",
     "text": [
      "100% [..........................................................................] 1731790 / 1731790\n"
     ]
    },
    {
     "name": "stderr",
     "output_type": "stream",
     "text": [
      "[INFO] | 2022/04/18 18:48:11 | Choose scihub url [0]: https://sci-hub.ru\n",
      "[INFO] | 2022/04/18 18:48:11 | <- Request: scihub_url=https://sci-hub.ru, source=DoiSource[type=doi, id=doi.org/10.1086/448169]\n",
      "[INFO] | 2022/04/18 18:48:11 | -> Response: status_code=200, content_length=6875\n",
      "[INFO] | 2022/04/18 18:48:11 | * Extracted information: {'url': 'https://twin.sci-hub.ru/6009/e22bb1ae9ec5e8c0de4f38d11683ea38/ricardou1982.pdf', 'title': 'Proust  A Retrospective Reading. Critical Inquiry, 8(3), 531–541'}\n"
     ]
    },
    {
     "name": "stdout",
     "output_type": "stream",
     "text": [
      " 89% [..................................................................        ] 1130496 / 1264305"
     ]
    },
    {
     "name": "stderr",
     "output_type": "stream",
     "text": [
      "[INFO] | 2022/04/18 18:48:13 | ↓ Successfully download the url to: ./journals/post_colonial/critical_inquiry/Proust  A Retrospective Reading. Critical Inquiry, 8(3), 531–541.pdf\n"
     ]
    },
    {
     "name": "stdout",
     "output_type": "stream",
     "text": [
      "100% [..........................................................................] 1264305 / 1264305\n"
     ]
    },
    {
     "name": "stderr",
     "output_type": "stream",
     "text": [
      "[INFO] | 2022/04/18 18:48:23 | Choose scihub url [0]: https://sci-hub.ru\n",
      "[INFO] | 2022/04/18 18:48:23 | <- Request: scihub_url=https://sci-hub.ru, source=DoiSource[type=doi, id=doi.org/10.1086/448170]\n",
      "[INFO] | 2022/04/18 18:48:23 | -> Response: status_code=200, content_length=6926\n",
      "[INFO] | 2022/04/18 18:48:23 | * Extracted information: {'url': 'https://twin.sci-hub.ru/6032/0a9c9960e202ca62b138db4add9806e1/burke1982.pdf', 'title': 'Gertrude Stein, the Cone Sisters, and the Puzzle of Female Friendship. Critical Inquiry, 8(3), 543–564'}\n"
     ]
    },
    {
     "name": "stdout",
     "output_type": "stream",
     "text": [
      " 50% [.....................................                                     ] 1343488 / 2675975"
     ]
    },
    {
     "name": "stderr",
     "output_type": "stream",
     "text": [
      "[INFO] | 2022/04/18 18:48:24 | ↓ Successfully download the url to: ./journals/post_colonial/critical_inquiry/Gertrude Stein, the Cone Sisters, and the Puzzle of Female Friendship. Critical Inquiry, 8(3), 543–564.pdf\n"
     ]
    },
    {
     "name": "stdout",
     "output_type": "stream",
     "text": [
      "100% [..........................................................................] 2675975 / 2675975\n"
     ]
    },
    {
     "name": "stderr",
     "output_type": "stream",
     "text": [
      "[INFO] | 2022/04/18 18:48:34 | Choose scihub url [0]: https://sci-hub.ru\n",
      "[INFO] | 2022/04/18 18:48:34 | <- Request: scihub_url=https://sci-hub.ru, source=DoiSource[type=doi, id=doi.org/10.1086/448171]\n",
      "[INFO] | 2022/04/18 18:48:34 | -> Response: status_code=200, content_length=6926\n",
      "[INFO] | 2022/04/18 18:48:34 | * Extracted information: {'url': 'https://twin.sci-hub.ru/6032/2c550d1f52c4b76f48c02b44d1df8a4e/tomlinson1982.pdf', 'title': 'Music and the Claims of Text  Monteverdi, Rinuccini, and Marino. Critical Inquiry, 8(3), 565–589'}\n"
     ]
    },
    {
     "name": "stdout",
     "output_type": "stream",
     "text": [
      " 47% [..................................                                        ] 1220608 / 2588920"
     ]
    },
    {
     "name": "stderr",
     "output_type": "stream",
     "text": [
      "[INFO] | 2022/04/18 18:48:36 | ↓ Successfully download the url to: ./journals/post_colonial/critical_inquiry/Music and the Claims of Text  Monteverdi, Rinuccini, and Marino. Critical Inquiry, 8(3), 565–589.pdf\n"
     ]
    },
    {
     "name": "stdout",
     "output_type": "stream",
     "text": [
      "100% [..........................................................................] 2588920 / 2588920\n"
     ]
    },
    {
     "name": "stderr",
     "output_type": "stream",
     "text": [
      "[INFO] | 2022/04/18 18:48:46 | Choose scihub url [0]: https://sci-hub.ru\n",
      "[INFO] | 2022/04/18 18:48:46 | <- Request: scihub_url=https://sci-hub.ru, source=DoiSource[type=doi, id=doi.org/10.1086/448172]\n",
      "[INFO] | 2022/04/18 18:48:46 | -> Response: status_code=200, content_length=6817\n",
      "[INFO] | 2022/04/18 18:48:46 | * Extracted information: {'url': 'https://twin.sci-hub.ru/6033/34727b4799eb3df95c00903a65c6d538/jauss1982.pdf', 'title': 'Poiesis. Critical Inquiry, 8(3), 591–608'}\n"
     ]
    },
    {
     "name": "stdout",
     "output_type": "stream",
     "text": [
      " 61% [.............................................                             ] 1384448 / 2242757"
     ]
    },
    {
     "name": "stderr",
     "output_type": "stream",
     "text": [
      "[INFO] | 2022/04/18 18:48:47 | ↓ Successfully download the url to: ./journals/post_colonial/critical_inquiry/Poiesis. Critical Inquiry, 8(3), 591–608.pdf\n"
     ]
    },
    {
     "name": "stdout",
     "output_type": "stream",
     "text": [
      "100% [..........................................................................] 2242757 / 2242757\n"
     ]
    },
    {
     "name": "stderr",
     "output_type": "stream",
     "text": [
      "[INFO] | 2022/04/18 18:48:57 | Choose scihub url [0]: https://sci-hub.ru\n",
      "[INFO] | 2022/04/18 18:48:57 | <- Request: scihub_url=https://sci-hub.ru, source=DoiSource[type=doi, id=doi.org/10.1086/448173]\n",
      "[INFO] | 2022/04/18 18:48:57 | -> Response: status_code=200, content_length=6899\n",
      "[INFO] | 2022/04/18 18:48:57 | * Extracted information: {'url': 'https://twin.sci-hub.ru/5873/1d15d3c3d2c6bf694fa690ba21bdb0ef/mitchell1982.pdf', 'title': '“Critical Inquiry” and the Ideology of Pluralism. Critical Inquiry, 8(4), 609–618'}\n"
     ]
    },
    {
     "name": "stdout",
     "output_type": "stream",
     "text": [
      " 15% [...........                                                               ]  188416 / 1222645"
     ]
    },
    {
     "name": "stderr",
     "output_type": "stream",
     "text": [
      "[INFO] | 2022/04/18 18:48:58 | ↓ Successfully download the url to: ./journals/post_colonial/critical_inquiry/“Critical Inquiry” and the Ideology of Pluralism. Critical Inquiry, 8(4), 609–618.pdf\n"
     ]
    },
    {
     "name": "stdout",
     "output_type": "stream",
     "text": [
      "100% [..........................................................................] 1222645 / 1222645\n"
     ]
    },
    {
     "name": "stderr",
     "output_type": "stream",
     "text": [
      "[INFO] | 2022/04/18 18:49:08 | Choose scihub url [0]: https://sci-hub.ru\n",
      "[INFO] | 2022/04/18 18:49:08 | <- Request: scihub_url=https://sci-hub.ru, source=DoiSource[type=doi, id=doi.org/10.1086/448174]\n",
      "[INFO] | 2022/04/18 18:49:08 | -> Response: status_code=200, content_length=6948\n",
      "[INFO] | 2022/04/18 18:49:08 | * Extracted information: {'url': 'https://twin.sci-hub.ru/5945/7bc4c1b6af765aa77e191a79685f654d/fried1982.pdf', 'title': 'Painter into Painting  On Courbet’s “After Dinner at Ornans” and “Stonebreakers.” Critical Inquiry, 8(4), 619–649'}\n"
     ]
    },
    {
     "name": "stdout",
     "output_type": "stream",
     "text": [
      " 40% [..............................                                            ] 1744896 / 4257398"
     ]
    },
    {
     "name": "stderr",
     "output_type": "stream",
     "text": [
      "[INFO] | 2022/04/18 18:49:09 | ↓ Successfully download the url to: ./journals/post_colonial/critical_inquiry/Painter into Painting  On Courbet’s “After Dinner at Ornans” and “Stonebreakers.” Critical Inquiry, 8(4), 619–649.pdf\n"
     ]
    },
    {
     "name": "stdout",
     "output_type": "stream",
     "text": [
      "100% [..........................................................................] 4257398 / 4257398\n"
     ]
    },
    {
     "name": "stderr",
     "output_type": "stream",
     "text": [
      "[INFO] | 2022/04/18 18:49:19 | Choose scihub url [0]: https://sci-hub.ru\n",
      "[INFO] | 2022/04/18 18:49:20 | <- Request: scihub_url=https://sci-hub.ru, source=DoiSource[type=doi, id=doi.org/10.1086/448175]\n",
      "[INFO] | 2022/04/18 18:49:20 | -> Response: status_code=200, content_length=6939\n",
      "[INFO] | 2022/04/18 18:49:20 | * Extracted information: {'url': 'https://twin.sci-hub.ru/6022/7b825122c2982aa4cad26df4c6a23277/carringer1982.pdf', 'title': 'Orson Welles and Gregg Toland  Their Collaboration on “Citizen Kane.” Critical Inquiry, 8(4), 651–674'}\n"
     ]
    },
    {
     "name": "stdout",
     "output_type": "stream",
     "text": [
      " 54% [.......................................                                   ] 1466368 / 2714561"
     ]
    },
    {
     "name": "stderr",
     "output_type": "stream",
     "text": [
      "[INFO] | 2022/04/18 18:49:21 | ↓ Successfully download the url to: ./journals/post_colonial/critical_inquiry/Orson Welles and Gregg Toland  Their Collaboration on “Citizen Kane.” Critical Inquiry, 8(4), 651–674.pdf\n"
     ]
    },
    {
     "name": "stdout",
     "output_type": "stream",
     "text": [
      "100% [..........................................................................] 2714561 / 2714561\n"
     ]
    },
    {
     "name": "stderr",
     "output_type": "stream",
     "text": [
      "[INFO] | 2022/04/18 18:49:31 | Choose scihub url [0]: https://sci-hub.ru\n",
      "[INFO] | 2022/04/18 18:49:32 | <- Request: scihub_url=https://sci-hub.ru, source=DoiSource[type=doi, id=doi.org/10.1086/448176]\n",
      "[INFO] | 2022/04/18 18:49:32 | -> Response: status_code=200, content_length=6868\n",
      "[INFO] | 2022/04/18 18:49:32 | * Extracted information: {'url': 'https://twin.sci-hub.ru/6665/077cac53ba9458b19b246e4f132a7780/derrida1982.pdf', 'title': 'The Linguistic Circle of Geneva. Critical Inquiry, 8(4), 675–691'}\n"
     ]
    },
    {
     "name": "stdout",
     "output_type": "stream",
     "text": [
      " 52% [......................................                                    ] 1024000 / 1947107"
     ]
    },
    {
     "name": "stderr",
     "output_type": "stream",
     "text": [
      "[INFO] | 2022/04/18 18:49:33 | ↓ Successfully download the url to: ./journals/post_colonial/critical_inquiry/The Linguistic Circle of Geneva. Critical Inquiry, 8(4), 675–691.pdf\n"
     ]
    },
    {
     "name": "stdout",
     "output_type": "stream",
     "text": [
      "100% [..........................................................................] 1947107 / 1947107\n"
     ]
    },
    {
     "name": "stderr",
     "output_type": "stream",
     "text": [
      "[INFO] | 2022/04/18 18:49:43 | Choose scihub url [0]: https://sci-hub.ru\n",
      "[INFO] | 2022/04/18 18:49:43 | <- Request: scihub_url=https://sci-hub.ru, source=DoiSource[type=doi, id=doi.org/10.1086/448177]\n",
      "[INFO] | 2022/04/18 18:49:43 | -> Response: status_code=200, content_length=6895\n",
      "[INFO] | 2022/04/18 18:49:43 | * Extracted information: {'url': 'https://sci-hub.ru/downloads/2020-04-13/80/fish1982.pdf', 'title': 'With the Compliments of the Author  Reflections on Austin and Derrida. Critical Inquiry, 8(4), 693–721'}\n"
     ]
    },
    {
     "name": "stdout",
     "output_type": "stream",
     "text": [
      " 29% [......................                                                    ] 1032192 / 3445588"
     ]
    },
    {
     "name": "stderr",
     "output_type": "stream",
     "text": [
      "[INFO] | 2022/04/18 18:49:44 | ↓ Successfully download the url to: ./journals/post_colonial/critical_inquiry/With the Compliments of the Author  Reflections on Austin and Derrida. Critical Inquiry, 8(4), 693–721.pdf\n"
     ]
    },
    {
     "name": "stdout",
     "output_type": "stream",
     "text": [
      "100% [..........................................................................] 3445588 / 3445588\n"
     ]
    },
    {
     "name": "stderr",
     "output_type": "stream",
     "text": [
      "[INFO] | 2022/04/18 18:49:54 | Choose scihub url [0]: https://sci-hub.ru\n",
      "[INFO] | 2022/04/18 18:49:54 | <- Request: scihub_url=https://sci-hub.ru, source=DoiSource[type=doi, id=doi.org/10.1086/448178]\n",
      "[INFO] | 2022/04/18 18:49:54 | -> Response: status_code=200, content_length=0\n",
      "[WARNING] | 2022/04/18 18:49:54 | Error occurs, task status: extracting_failed, error: No pdf tag was found in the given content with the selector: #pdf\n",
      "[INFO] | 2022/04/18 18:49:54 | Choose scihub url [1]: http://sci-hub.se\n",
      "[INFO] | 2022/04/18 18:49:54 | <- Request: scihub_url=http://sci-hub.se, source=DoiSource[type=doi, id=doi.org/10.1086/448178]\n",
      "[INFO] | 2022/04/18 18:49:54 | -> Response: status_code=403, content_length=8008\n",
      "[WARNING] | 2022/04/18 18:49:54 | Error occurs, task status: crawling_failed, error: Error occurs when crawling source: DoiSource[type=doi, id=doi.org/10.1086/448178]\n",
      "[INFO] | 2022/04/18 18:49:54 | Choose scihub url [2]: http://sci-hub.st\n",
      "[INFO] | 2022/04/18 18:49:55 | <- Request: scihub_url=http://sci-hub.st, source=DoiSource[type=doi, id=doi.org/10.1086/448178]\n",
      "[INFO] | 2022/04/18 18:49:55 | -> Response: status_code=200, content_length=11972\n",
      "[INFO] | 2022/04/18 18:49:55 | * Extracted information: {'url': 'https://twin.sci-hub.st/6028/774c1f8b32eb9fa7746fdc2389622b65/knapp1982.pdf#navpanes=0&view=FitH', 'title': 'Against Theory. Critical Inquiry, 8(4), 723–742'}\n"
     ]
    },
    {
     "name": "stdout",
     "output_type": "stream",
     "text": [
      " 38% [............................                                              ]  835584 / 2175015"
     ]
    },
    {
     "name": "stderr",
     "output_type": "stream",
     "text": [
      "[INFO] | 2022/04/18 18:49:57 | ↓ Successfully download the url to: ./journals/post_colonial/critical_inquiry/Against Theory. Critical Inquiry, 8(4), 723–742.pdf\n"
     ]
    },
    {
     "name": "stdout",
     "output_type": "stream",
     "text": [
      "100% [..........................................................................] 2175015 / 2175015\n"
     ]
    },
    {
     "name": "stderr",
     "output_type": "stream",
     "text": [
      "[INFO] | 2022/04/18 18:50:07 | Choose scihub url [0]: https://sci-hub.ru\n",
      "[INFO] | 2022/04/18 18:50:07 | <- Request: scihub_url=https://sci-hub.ru, source=DoiSource[type=doi, id=doi.org/10.1086/448179]\n",
      "[INFO] | 2022/04/18 18:50:07 | -> Response: status_code=200, content_length=0\n",
      "[WARNING] | 2022/04/18 18:50:07 | Error occurs, task status: extracting_failed, error: No pdf tag was found in the given content with the selector: #pdf\n",
      "[INFO] | 2022/04/18 18:50:07 | Choose scihub url [1]: http://sci-hub.se\n",
      "[INFO] | 2022/04/18 18:50:07 | <- Request: scihub_url=http://sci-hub.se, source=DoiSource[type=doi, id=doi.org/10.1086/448179]\n",
      "[INFO] | 2022/04/18 18:50:07 | -> Response: status_code=403, content_length=8008\n",
      "[WARNING] | 2022/04/18 18:50:07 | Error occurs, task status: crawling_failed, error: Error occurs when crawling source: DoiSource[type=doi, id=doi.org/10.1086/448179]\n",
      "[INFO] | 2022/04/18 18:50:07 | Choose scihub url [2]: http://sci-hub.st\n",
      "[INFO] | 2022/04/18 18:50:07 | <- Request: scihub_url=http://sci-hub.st, source=DoiSource[type=doi, id=doi.org/10.1086/448179]\n",
      "[INFO] | 2022/04/18 18:50:07 | -> Response: status_code=200, content_length=11984\n",
      "[INFO] | 2022/04/18 18:50:07 | * Extracted information: {'url': 'https://twin.sci-hub.st/6344/4a2097fa1f83de5458e4e8b4f1305a7b/russo1982.pdf#navpanes=0&view=FitH', 'title': 'I. A. Richards in Retrospect. Critical Inquiry, 8(4), 743–760'}\n"
     ]
    },
    {
     "name": "stdout",
     "output_type": "stream",
     "text": [
      " 43% [...............................                                           ]  860160 / 1999192"
     ]
    },
    {
     "name": "stderr",
     "output_type": "stream",
     "text": [
      "[INFO] | 2022/04/18 18:50:08 | ↓ Successfully download the url to: ./journals/post_colonial/critical_inquiry/I. A. Richards in Retrospect. Critical Inquiry, 8(4), 743–760.pdf\n"
     ]
    },
    {
     "name": "stdout",
     "output_type": "stream",
     "text": [
      "100% [..........................................................................] 1999192 / 1999192\n"
     ]
    },
    {
     "name": "stderr",
     "output_type": "stream",
     "text": [
      "[INFO] | 2022/04/18 18:50:18 | Choose scihub url [0]: https://sci-hub.ru\n",
      "[INFO] | 2022/04/18 18:50:18 | <- Request: scihub_url=https://sci-hub.ru, source=DoiSource[type=doi, id=doi.org/10.1086/448180]\n",
      "[INFO] | 2022/04/18 18:50:18 | -> Response: status_code=200, content_length=0\n",
      "[WARNING] | 2022/04/18 18:50:18 | Error occurs, task status: extracting_failed, error: No pdf tag was found in the given content with the selector: #pdf\n",
      "[INFO] | 2022/04/18 18:50:18 | Choose scihub url [1]: http://sci-hub.se\n",
      "[INFO] | 2022/04/18 18:50:19 | <- Request: scihub_url=http://sci-hub.se, source=DoiSource[type=doi, id=doi.org/10.1086/448180]\n",
      "[INFO] | 2022/04/18 18:50:19 | -> Response: status_code=403, content_length=8008\n",
      "[WARNING] | 2022/04/18 18:50:19 | Error occurs, task status: crawling_failed, error: Error occurs when crawling source: DoiSource[type=doi, id=doi.org/10.1086/448180]\n",
      "[INFO] | 2022/04/18 18:50:19 | Choose scihub url [2]: http://sci-hub.st\n",
      "[INFO] | 2022/04/18 18:50:19 | <- Request: scihub_url=http://sci-hub.st, source=DoiSource[type=doi, id=doi.org/10.1086/448180]\n",
      "[INFO] | 2022/04/18 18:50:19 | -> Response: status_code=200, content_length=12004\n",
      "[INFO] | 2022/04/18 18:50:19 | * Extracted information: {'url': 'https://twin.sci-hub.st/6352/749a7c8e416c391c2b9425a9946ae443/deman1982.pdf#navpanes=0&view=FitH', 'title': 'Sign and Symbol in Hegel’s “Aesthetics.” Critical Inquiry, 8(4), 761–775'}\n"
     ]
    },
    {
     "name": "stdout",
     "output_type": "stream",
     "text": [
      " 61% [.............................................                             ] 1073152 / 1755813"
     ]
    },
    {
     "name": "stderr",
     "output_type": "stream",
     "text": [
      "[INFO] | 2022/04/18 18:50:20 | ↓ Successfully download the url to: ./journals/post_colonial/critical_inquiry/Sign and Symbol in Hegel’s “Aesthetics.” Critical Inquiry, 8(4), 761–775.pdf\n"
     ]
    },
    {
     "name": "stdout",
     "output_type": "stream",
     "text": [
      "100% [..........................................................................] 1755813 / 1755813\n"
     ]
    },
    {
     "name": "stderr",
     "output_type": "stream",
     "text": [
      "[INFO] | 2022/04/18 18:50:30 | Choose scihub url [0]: https://sci-hub.ru\n",
      "[INFO] | 2022/04/18 18:50:30 | <- Request: scihub_url=https://sci-hub.ru, source=DoiSource[type=doi, id=doi.org/10.1086/448181]\n",
      "[INFO] | 2022/04/18 18:50:30 | -> Response: status_code=200, content_length=0\n",
      "[WARNING] | 2022/04/18 18:50:30 | Error occurs, task status: extracting_failed, error: No pdf tag was found in the given content with the selector: #pdf\n",
      "[INFO] | 2022/04/18 18:50:30 | Choose scihub url [1]: http://sci-hub.se\n",
      "[INFO] | 2022/04/18 18:50:31 | <- Request: scihub_url=http://sci-hub.se, source=DoiSource[type=doi, id=doi.org/10.1086/448181]\n",
      "[INFO] | 2022/04/18 18:50:31 | -> Response: status_code=403, content_length=8008\n",
      "[WARNING] | 2022/04/18 18:50:31 | Error occurs, task status: crawling_failed, error: Error occurs when crawling source: DoiSource[type=doi, id=doi.org/10.1086/448181]\n",
      "[INFO] | 2022/04/18 18:50:31 | Choose scihub url [2]: http://sci-hub.st\n",
      "[INFO] | 2022/04/18 18:50:31 | <- Request: scihub_url=http://sci-hub.st, source=DoiSource[type=doi, id=doi.org/10.1086/448181]\n",
      "[INFO] | 2022/04/18 18:50:31 | -> Response: status_code=200, content_length=11976\n",
      "[INFO] | 2022/04/18 18:50:31 | * Extracted information: {'url': 'https://twin.sci-hub.st/5870/78d65043561fe8e6cad65457d0b38102/foucault1982.pdf#navpanes=0&view=FitH', 'title': 'The Subject and Power. Critical Inquiry, 8(4), 777–795'}\n"
     ]
    },
    {
     "name": "stdout",
     "output_type": "stream",
     "text": [
      " 56% [.........................................                                 ] 1138688 / 2032658"
     ]
    },
    {
     "name": "stderr",
     "output_type": "stream",
     "text": [
      "[INFO] | 2022/04/18 18:50:32 | ↓ Successfully download the url to: ./journals/post_colonial/critical_inquiry/The Subject and Power. Critical Inquiry, 8(4), 777–795.pdf\n"
     ]
    },
    {
     "name": "stdout",
     "output_type": "stream",
     "text": [
      "100% [..........................................................................] 2032658 / 2032658\n"
     ]
    },
    {
     "name": "stderr",
     "output_type": "stream",
     "text": [
      "[INFO] | 2022/04/18 18:50:42 | Choose scihub url [0]: https://sci-hub.ru\n",
      "[INFO] | 2022/04/18 18:50:42 | <- Request: scihub_url=https://sci-hub.ru, source=DoiSource[type=doi, id=doi.org/10.1086/448184]\n",
      "[INFO] | 2022/04/18 18:50:42 | -> Response: status_code=200, content_length=0\n",
      "[WARNING] | 2022/04/18 18:50:42 | Error occurs, task status: extracting_failed, error: No pdf tag was found in the given content with the selector: #pdf\n",
      "[INFO] | 2022/04/18 18:50:42 | Choose scihub url [1]: http://sci-hub.se\n",
      "[INFO] | 2022/04/18 18:50:42 | <- Request: scihub_url=http://sci-hub.se, source=DoiSource[type=doi, id=doi.org/10.1086/448184]\n",
      "[INFO] | 2022/04/18 18:50:42 | -> Response: status_code=403, content_length=8008\n",
      "[WARNING] | 2022/04/18 18:50:42 | Error occurs, task status: crawling_failed, error: Error occurs when crawling source: DoiSource[type=doi, id=doi.org/10.1086/448184]\n",
      "[INFO] | 2022/04/18 18:50:42 | Choose scihub url [2]: http://sci-hub.st\n",
      "[INFO] | 2022/04/18 18:50:43 | <- Request: scihub_url=http://sci-hub.st, source=DoiSource[type=doi, id=doi.org/10.1086/448184]\n",
      "[INFO] | 2022/04/18 18:50:43 | -> Response: status_code=200, content_length=11947\n",
      "[INFO] | 2022/04/18 18:50:43 | * Extracted information: {'url': 'https://twin.sci-hub.st/5878/c8b900e5111eca1523898625d5f84da2/editorial-note-1982.pdf#navpanes=0&view=FitH', 'title': 'Critical Inquiry, 8(4), 812–812'}\n",
      "[INFO] | 2022/04/18 18:50:43 | ↓ Successfully download the url to: ./journals/post_colonial/critical_inquiry/Critical Inquiry, 8(4), 812–812.pdf\n"
     ]
    },
    {
     "name": "stdout",
     "output_type": "stream",
     "text": [
      "100% [..............................................................................] 26539 / 26539\n"
     ]
    },
    {
     "name": "stderr",
     "output_type": "stream",
     "text": [
      "[INFO] | 2022/04/18 18:50:53 | Choose scihub url [0]: https://sci-hub.ru\n",
      "[INFO] | 2022/04/18 18:50:54 | <- Request: scihub_url=https://sci-hub.ru, source=DoiSource[type=doi, id=doi.org/10.1086/448185]\n",
      "[INFO] | 2022/04/18 18:50:54 | -> Response: status_code=200, content_length=6911\n",
      "[INFO] | 2022/04/18 18:50:54 | * Extracted information: {'url': 'https://twin.sci-hub.ru/6180/bad6282056ae11289d9bae1a719de190/mitchell1982.pdf', 'title': 'Editor’s Introduction  The Politics of Interpretation. Critical Inquiry, 9(1), iii–viii'}\n",
      "[INFO] | 2022/04/18 18:50:55 | ↓ Successfully download the url to: ./journals/post_colonial/critical_inquiry/Editor’s Introduction  The Politics of Interpretation. Critical Inquiry, 9(1), iii–viii.pdf\n"
     ]
    },
    {
     "name": "stdout",
     "output_type": "stream",
     "text": [
      "100% [..............................................................................] 90897 / 90897\n"
     ]
    },
    {
     "name": "stderr",
     "output_type": "stream",
     "text": [
      "[INFO] | 2022/04/18 18:51:05 | Choose scihub url [0]: https://sci-hub.ru\n",
      "[INFO] | 2022/04/18 18:51:05 | <- Request: scihub_url=https://sci-hub.ru, source=DoiSource[type=doi, id=doi.org/10.1086/448186]\n",
      "[INFO] | 2022/04/18 18:51:05 | -> Response: status_code=200, content_length=6884\n",
      "[INFO] | 2022/04/18 18:51:05 | * Extracted information: {'url': 'https://twin.sci-hub.ru/5858/c8a7c02b5238971ef9b58732cea0cc15/said1982.pdf', 'title': 'Opponents, Audiences, Constituencies, and Community. Critical Inquiry, 9(1), 1–26'}\n"
     ]
    },
    {
     "name": "stdout",
     "output_type": "stream",
     "text": [
      " 41% [...............................                                             ] 188416 / 449778"
     ]
    },
    {
     "name": "stderr",
     "output_type": "stream",
     "text": [
      "[INFO] | 2022/04/18 18:51:06 | ↓ Successfully download the url to: ./journals/post_colonial/critical_inquiry/Opponents, Audiences, Constituencies, and Community. Critical Inquiry, 9(1), 1–26.pdf\n"
     ]
    },
    {
     "name": "stdout",
     "output_type": "stream",
     "text": [
      "100% [............................................................................] 449778 / 449778\n"
     ]
    },
    {
     "name": "stderr",
     "output_type": "stream",
     "text": [
      "[INFO] | 2022/04/18 18:51:16 | Choose scihub url [0]: https://sci-hub.ru\n",
      "[INFO] | 2022/04/18 18:51:17 | <- Request: scihub_url=https://sci-hub.ru, source=DoiSource[type=doi, id=doi.org/10.1086/448188]\n",
      "[INFO] | 2022/04/18 18:51:17 | -> Response: status_code=200, content_length=6935\n",
      "[INFO] | 2022/04/18 18:51:17 | * Extracted information: {'url': 'https://twin.sci-hub.ru/6039/0fa032f791ef94be67f7c529b610ed6e/booth1982.pdf', 'title': 'Freedom of Interpretation  Bakhtin and the Challenge of Feminist Criticism. Critical Inquiry, 9(1), 45–76'}\n"
     ]
    },
    {
     "name": "stdout",
     "output_type": "stream",
     "text": [
      " 31% [.......................                                                     ] 188416 / 599061"
     ]
    },
    {
     "name": "stderr",
     "output_type": "stream",
     "text": [
      "[INFO] | 2022/04/18 18:51:17 | ↓ Successfully download the url to: ./journals/post_colonial/critical_inquiry/Freedom of Interpretation  Bakhtin and the Challenge of Feminist Criticism. Critical Inquiry, 9(1), 45–76.pdf\n"
     ]
    },
    {
     "name": "stdout",
     "output_type": "stream",
     "text": [
      "100% [............................................................................] 599061 / 599061\n"
     ]
    },
    {
     "name": "stderr",
     "output_type": "stream",
     "text": [
      "[INFO] | 2022/04/18 18:51:27 | Choose scihub url [0]: https://sci-hub.ru\n",
      "[INFO] | 2022/04/18 18:51:28 | <- Request: scihub_url=https://sci-hub.ru, source=DoiSource[type=doi, id=doi.org/10.1086/448189]\n",
      "[INFO] | 2022/04/18 18:51:28 | -> Response: status_code=200, content_length=6863\n",
      "[INFO] | 2022/04/18 18:51:28 | * Extracted information: {'url': 'https://twin.sci-hub.ru/5848/7ffef8a6264c9b0b3effda48717f9be1/kristeva1982.pdf', 'title': 'Psychoanalysis and the Polis. Critical Inquiry, 9(1), 77–92'}\n"
     ]
    },
    {
     "name": "stdout",
     "output_type": "stream",
     "text": [
      " 63% [................................................                            ] 188416 / 295350"
     ]
    },
    {
     "name": "stderr",
     "output_type": "stream",
     "text": [
      "[INFO] | 2022/04/18 18:51:28 | ↓ Successfully download the url to: ./journals/post_colonial/critical_inquiry/Psychoanalysis and the Polis. Critical Inquiry, 9(1), 77–92.pdf\n"
     ]
    },
    {
     "name": "stdout",
     "output_type": "stream",
     "text": [
      "100% [............................................................................] 295350 / 295350\n"
     ]
    },
    {
     "name": "stderr",
     "output_type": "stream",
     "text": [
      "[INFO] | 2022/04/18 18:51:38 | Choose scihub url [0]: https://sci-hub.ru\n",
      "[INFO] | 2022/04/18 18:51:39 | <- Request: scihub_url=https://sci-hub.ru, source=DoiSource[type=doi, id=doi.org/10.1086/448190]\n",
      "[INFO] | 2022/04/18 18:51:39 | -> Response: status_code=200, content_length=6928\n",
      "[INFO] | 2022/04/18 18:51:39 | * Extracted information: {'url': 'https://twin.sci-hub.ru/6198/f7249cff219e447b1d1b9730dd771ff0/toulmin1982.pdf', 'title': 'The Construal of Reality  Criticism in Modern and Postmodern Science. Critical Inquiry, 9(1), 93–111'}\n"
     ]
    },
    {
     "name": "stdout",
     "output_type": "stream",
     "text": [
      " 55% [..........................................                                  ] 188416 / 340497"
     ]
    },
    {
     "name": "stderr",
     "output_type": "stream",
     "text": [
      "[INFO] | 2022/04/18 18:51:39 | ↓ Successfully download the url to: ./journals/post_colonial/critical_inquiry/The Construal of Reality  Criticism in Modern and Postmodern Science. Critical Inquiry, 9(1), 93–111.pdf\n"
     ]
    },
    {
     "name": "stdout",
     "output_type": "stream",
     "text": [
      "100% [............................................................................] 340497 / 340497\n"
     ]
    },
    {
     "name": "stderr",
     "output_type": "stream",
     "text": [
      "[INFO] | 2022/04/18 18:51:49 | Choose scihub url [0]: https://sci-hub.ru\n",
      "[INFO] | 2022/04/18 18:51:50 | <- Request: scihub_url=https://sci-hub.ru, source=DoiSource[type=doi, id=doi.org/10.1086/448191]\n",
      "[INFO] | 2022/04/18 18:51:50 | -> Response: status_code=200, content_length=6932\n",
      "[INFO] | 2022/04/18 18:51:50 | * Extracted information: {'url': 'https://twin.sci-hub.ru/5833/89ff4e7be8c05fa22c8845b66d53a0d6/white1982.pdf', 'title': 'The Politics of Historical Interpretation  Discipline and De-Sublimation. Critical Inquiry, 9(1), 113–137'}\n"
     ]
    },
    {
     "name": "stdout",
     "output_type": "stream",
     "text": [
      " 24% [..................                                                          ] 122880 / 496324"
     ]
    },
    {
     "name": "stderr",
     "output_type": "stream",
     "text": [
      "[INFO] | 2022/04/18 18:51:51 | ↓ Successfully download the url to: ./journals/post_colonial/critical_inquiry/The Politics of Historical Interpretation  Discipline and De-Sublimation. Critical Inquiry, 9(1), 113–137.pdf\n"
     ]
    },
    {
     "name": "stdout",
     "output_type": "stream",
     "text": [
      "100% [............................................................................] 496324 / 496324\n"
     ]
    },
    {
     "name": "stderr",
     "output_type": "stream",
     "text": [
      "[INFO] | 2022/04/18 18:52:01 | Choose scihub url [0]: https://sci-hub.ru\n",
      "[INFO] | 2022/04/18 18:52:01 | <- Request: scihub_url=https://sci-hub.ru, source=DoiSource[type=doi, id=doi.org/10.1086/448193]\n",
      "[INFO] | 2022/04/18 18:52:01 | -> Response: status_code=200, content_length=6845\n",
      "[INFO] | 2022/04/18 18:52:01 | * Extracted information: {'url': 'https://twin.sci-hub.ru/6449/832f9c3a5f65d0e5a82ab67cc3e10aa9/cavell1982.pdf', 'title': 'Politics as Opposed to What  Critical Inquiry, 9(1), 157–178'}\n"
     ]
    },
    {
     "name": "stdout",
     "output_type": "stream",
     "text": [
      " 40% [...............................                                             ] 188416 / 461470"
     ]
    },
    {
     "name": "stderr",
     "output_type": "stream",
     "text": [
      "[INFO] | 2022/04/18 18:52:02 | ↓ Successfully download the url to: ./journals/post_colonial/critical_inquiry/Politics as Opposed to What  Critical Inquiry, 9(1), 157–178.pdf\n"
     ]
    },
    {
     "name": "stdout",
     "output_type": "stream",
     "text": [
      "100% [............................................................................] 461470 / 461470\n"
     ]
    },
    {
     "name": "stderr",
     "output_type": "stream",
     "text": [
      "[INFO] | 2022/04/18 18:52:12 | Choose scihub url [0]: https://sci-hub.ru\n",
      "[INFO] | 2022/04/18 18:52:12 | <- Request: scihub_url=https://sci-hub.ru, source=DoiSource[type=doi, id=doi.org/10.1086/448194]\n",
      "[INFO] | 2022/04/18 18:52:12 | -> Response: status_code=200, content_length=6836\n",
      "[INFO] | 2022/04/18 18:52:12 | * Extracted information: {'url': 'https://twin.sci-hub.ru/6354/4c9a16190b2082b13cfd4e5ebdc60957/dworkin1982.pdf', 'title': 'Law as Interpretation. Critical Inquiry, 9(1), 179–200'}\n"
     ]
    },
    {
     "name": "stdout",
     "output_type": "stream",
     "text": [
      " 52% [.......................................                                     ] 188416 / 359399"
     ]
    },
    {
     "name": "stderr",
     "output_type": "stream",
     "text": [
      "[INFO] | 2022/04/18 18:52:13 | ↓ Successfully download the url to: ./journals/post_colonial/critical_inquiry/Law as Interpretation. Critical Inquiry, 9(1), 179–200.pdf\n"
     ]
    },
    {
     "name": "stdout",
     "output_type": "stream",
     "text": [
      "100% [............................................................................] 359399 / 359399\n"
     ]
    },
    {
     "name": "stderr",
     "output_type": "stream",
     "text": [
      "[INFO] | 2022/04/18 18:52:23 | Choose scihub url [0]: https://sci-hub.ru\n",
      "[INFO] | 2022/04/18 18:52:23 | <- Request: scihub_url=https://sci-hub.ru, source=DoiSource[type=doi, id=doi.org/10.1086/448195]\n",
      "[INFO] | 2022/04/18 18:52:23 | -> Response: status_code=200, content_length=6941\n",
      "[INFO] | 2022/04/18 18:52:23 | * Extracted information: {'url': 'https://twin.sci-hub.ru/6027/bc15db1ac81d15fba9bb431bae10a456/fish1982.pdf', 'title': 'Working on the Chain Gang  Interpretation in the Law and in Literary Criticism. Critical Inquiry, 9(1), 201–216'}\n"
     ]
    },
    {
     "name": "stdout",
     "output_type": "stream",
     "text": [
      " 45% [..................................                                          ] 139264 / 303648"
     ]
    },
    {
     "name": "stderr",
     "output_type": "stream",
     "text": [
      "[INFO] | 2022/04/18 18:52:24 | ↓ Successfully download the url to: ./journals/post_colonial/critical_inquiry/Working on the Chain Gang  Interpretation in the Law and in Literary Criticism. Critical Inquiry, 9(1), 201–216.pdf\n"
     ]
    },
    {
     "name": "stdout",
     "output_type": "stream",
     "text": [
      "100% [............................................................................] 303648 / 303648\n"
     ]
    },
    {
     "name": "stderr",
     "output_type": "stream",
     "text": [
      "[INFO] | 2022/04/18 18:52:34 | Choose scihub url [0]: https://sci-hub.ru\n",
      "[INFO] | 2022/04/18 18:52:35 | <- Request: scihub_url=https://sci-hub.ru, source=DoiSource[type=doi, id=doi.org/10.1086/448196]\n",
      "[INFO] | 2022/04/18 18:52:35 | -> Response: status_code=200, content_length=6880\n",
      "[INFO] | 2022/04/18 18:52:35 | * Extracted information: {'url': 'https://twin.sci-hub.ru/6014/8b82f205c15af0913f417bd8a1dd70c2/fried1982.pdf', 'title': 'How Modernism Works  A Response to T. J. Clark. Critical Inquiry, 9(1), 217–234'}\n"
     ]
    },
    {
     "name": "stdout",
     "output_type": "stream",
     "text": [
      " 37% [............................                                                ] 188416 / 505726"
     ]
    },
    {
     "name": "stderr",
     "output_type": "stream",
     "text": [
      "[INFO] | 2022/04/18 18:52:35 | ↓ Successfully download the url to: ./journals/post_colonial/critical_inquiry/How Modernism Works  A Response to T. J. Clark. Critical Inquiry, 9(1), 217–234.pdf\n"
     ]
    },
    {
     "name": "stdout",
     "output_type": "stream",
     "text": [
      "100% [............................................................................] 505726 / 505726\n"
     ]
    },
    {
     "name": "stderr",
     "output_type": "stream",
     "text": [
      "[INFO] | 2022/04/18 18:52:45 | Choose scihub url [0]: https://sci-hub.ru\n",
      "[INFO] | 2022/04/18 18:52:46 | <- Request: scihub_url=https://sci-hub.ru, source=DoiSource[type=doi, id=doi.org/10.1086/448198]\n",
      "[INFO] | 2022/04/18 18:52:46 | -> Response: status_code=200, content_length=6874\n",
      "[INFO] | 2022/04/18 18:52:46 | * Extracted information: {'url': 'https://twin.sci-hub.ru/6448/87e36c63330b930f30c65c8ad98ed3c2/michaels1982.pdf', 'title': 'Is There a Politics of Interpretation  Critical Inquiry, 9(1), 248–258'}\n"
     ]
    },
    {
     "name": "stdout",
     "output_type": "stream",
     "text": [
      " 42% [................................                                            ] 106496 / 252071"
     ]
    },
    {
     "name": "stderr",
     "output_type": "stream",
     "text": [
      "[INFO] | 2022/04/18 18:52:47 | ↓ Successfully download the url to: ./journals/post_colonial/critical_inquiry/Is There a Politics of Interpretation  Critical Inquiry, 9(1), 248–258.pdf\n"
     ]
    },
    {
     "name": "stdout",
     "output_type": "stream",
     "text": [
      "100% [............................................................................] 252071 / 252071\n"
     ]
    },
    {
     "name": "stderr",
     "output_type": "stream",
     "text": [
      "[INFO] | 2022/04/18 18:52:57 | Choose scihub url [0]: https://sci-hub.ru\n",
      "[INFO] | 2022/04/18 18:52:58 | <- Request: scihub_url=https://sci-hub.ru, source=DoiSource[type=doi, id=doi.org/10.1086/448199]\n",
      "[INFO] | 2022/04/18 18:52:58 | -> Response: status_code=200, content_length=6856\n",
      "[INFO] | 2022/04/18 18:52:58 | * Extracted information: {'url': 'https://twin.sci-hub.ru/6028/53ca155adab485ca70acc7a04b498b2e/spivak1982.pdf', 'title': 'The Politics of Interpretations. Critical Inquiry, 9(1), 259–278'}\n"
     ]
    },
    {
     "name": "stdout",
     "output_type": "stream",
     "text": [
      " 38% [.............................                                               ] 155648 / 401233"
     ]
    },
    {
     "name": "stderr",
     "output_type": "stream",
     "text": [
      "[INFO] | 2022/04/18 18:52:59 | ↓ Successfully download the url to: ./journals/post_colonial/critical_inquiry/The Politics of Interpretations. Critical Inquiry, 9(1), 259–278.pdf\n"
     ]
    },
    {
     "name": "stdout",
     "output_type": "stream",
     "text": [
      "100% [............................................................................] 401233 / 401233\n"
     ]
    },
    {
     "name": "stderr",
     "output_type": "stream",
     "text": [
      "[INFO] | 2022/04/18 18:53:09 | Choose scihub url [0]: https://sci-hub.ru\n",
      "[INFO] | 2022/04/18 18:53:09 | <- Request: scihub_url=https://sci-hub.ru, source=DoiSource[type=doi, id=doi.org/10.1086/448204]\n",
      "[INFO] | 2022/04/18 18:53:09 | -> Response: status_code=200, content_length=6887\n",
      "[INFO] | 2022/04/18 18:53:09 | * Extracted information: {'url': 'https://twin.sci-hub.ru/5951/b25aa2a7757281880e43b5563fd16fbc/yeazell1982.pdf', 'title': 'Podsnappery, Sexuality, and the English Novel. Critical Inquiry, 9(2), 339–357'}\n"
     ]
    },
    {
     "name": "stdout",
     "output_type": "stream",
     "text": [
      " 37% [............................                                                ] 139264 / 368821"
     ]
    },
    {
     "name": "stderr",
     "output_type": "stream",
     "text": [
      "[INFO] | 2022/04/18 18:53:10 | ↓ Successfully download the url to: ./journals/post_colonial/critical_inquiry/Podsnappery, Sexuality, and the English Novel. Critical Inquiry, 9(2), 339–357.pdf\n"
     ]
    },
    {
     "name": "stdout",
     "output_type": "stream",
     "text": [
      "100% [............................................................................] 368821 / 368821\n"
     ]
    },
    {
     "name": "stderr",
     "output_type": "stream",
     "text": [
      "[INFO] | 2022/04/18 18:53:20 | Choose scihub url [0]: https://sci-hub.ru\n",
      "[INFO] | 2022/04/18 18:53:21 | <- Request: scihub_url=https://sci-hub.ru, source=DoiSource[type=doi, id=doi.org/10.1086/448205]\n",
      "[INFO] | 2022/04/18 18:53:21 | -> Response: status_code=200, content_length=6959\n",
      "[INFO] | 2022/04/18 18:53:21 | * Extracted information: {'url': 'https://twin.sci-hub.ru/6026/6fa46bd9dcc3ff9496d52e6804f93efd/langland1982.pdf', 'title': 'Society as Formal Protagonist  The Examples of “Nostromo” and “Barchester Towers.” Critical Inquiry, 9(2), 359–378'}\n"
     ]
    },
    {
     "name": "stdout",
     "output_type": "stream",
     "text": [
      " 49% [.....................................                                       ] 188416 / 378882"
     ]
    },
    {
     "name": "stderr",
     "output_type": "stream",
     "text": [
      "[INFO] | 2022/04/18 18:53:21 | ↓ Successfully download the url to: ./journals/post_colonial/critical_inquiry/Society as Formal Protagonist  The Examples of “Nostromo” and “Barchester Towers.” Critical Inquiry, 9(2), 359–378.pdf\n"
     ]
    },
    {
     "name": "stdout",
     "output_type": "stream",
     "text": [
      "100% [............................................................................] 378882 / 378882\n"
     ]
    },
    {
     "name": "stderr",
     "output_type": "stream",
     "text": [
      "[INFO] | 2022/04/18 18:53:32 | Choose scihub url [0]: https://sci-hub.ru\n",
      "[INFO] | 2022/04/18 18:53:32 | <- Request: scihub_url=https://sci-hub.ru, source=DoiSource[type=doi, id=doi.org/10.1086/448206]\n",
      "[INFO] | 2022/04/18 18:53:32 | -> Response: status_code=200, content_length=6928\n",
      "[INFO] | 2022/04/18 18:53:32 | * Extracted information: {'url': 'https://twin.sci-hub.ru/5834/abfaf7ee51a82e006cba685514dc5490/brown1982.pdf', 'title': 'The Classic Is the Baroque  On the Principle of Wölfflin’s Art History. Critical Inquiry, 9(2), 379–404'}\n"
     ]
    },
    {
     "name": "stdout",
     "output_type": "stream",
     "text": [
      " 26% [....................                                                        ] 139264 / 525468"
     ]
    },
    {
     "name": "stderr",
     "output_type": "stream",
     "text": [
      "[INFO] | 2022/04/18 18:53:33 | ↓ Successfully download the url to: ./journals/post_colonial/critical_inquiry/The Classic Is the Baroque  On the Principle of Wölfflin’s Art History. Critical Inquiry, 9(2), 379–404.pdf\n"
     ]
    },
    {
     "name": "stdout",
     "output_type": "stream",
     "text": [
      "100% [............................................................................] 525468 / 525468\n"
     ]
    },
    {
     "name": "stderr",
     "output_type": "stream",
     "text": [
      "[INFO] | 2022/04/18 18:53:43 | Choose scihub url [0]: https://sci-hub.ru\n",
      "[INFO] | 2022/04/18 18:53:44 | <- Request: scihub_url=https://sci-hub.ru, source=DoiSource[type=doi, id=doi.org/10.1086/448209]\n",
      "[INFO] | 2022/04/18 18:53:44 | -> Response: status_code=200, content_length=6867\n",
      "[INFO] | 2022/04/18 18:53:44 | * Extracted information: {'url': 'https://twin.sci-hub.ru/6582/df41ee2ab884e081e88dd0c293c1d172/oates1982.pdf', 'title': 'The Magnanimity of “Wuthering Heights.” Critical Inquiry, 9(2), 435–449'}\n"
     ]
    },
    {
     "name": "stdout",
     "output_type": "stream",
     "text": [
      " 75% [.........................................................                   ] 188416 / 251155"
     ]
    },
    {
     "name": "stderr",
     "output_type": "stream",
     "text": [
      "[INFO] | 2022/04/18 18:53:45 | ↓ Successfully download the url to: ./journals/post_colonial/critical_inquiry/The Magnanimity of “Wuthering Heights.” Critical Inquiry, 9(2), 435–449.pdf\n"
     ]
    },
    {
     "name": "stdout",
     "output_type": "stream",
     "text": [
      "100% [............................................................................] 251155 / 251155\n"
     ]
    },
    {
     "name": "stderr",
     "output_type": "stream",
     "text": [
      "[INFO] | 2022/04/18 18:53:55 | Choose scihub url [0]: https://sci-hub.ru\n",
      "[INFO] | 2022/04/18 18:53:55 | <- Request: scihub_url=https://sci-hub.ru, source=DoiSource[type=doi, id=doi.org/10.1086/448210]\n",
      "[INFO] | 2022/04/18 18:53:55 | -> Response: status_code=200, content_length=6852\n",
      "[INFO] | 2022/04/18 18:53:55 | * Extracted information: {'url': 'https://twin.sci-hub.ru/6030/f8e5d0246f41a84920f93e376982daa0/goodheart1983.pdf', 'title': 'Arnold at the Present Time. Critical Inquiry, 9(3), 451–468'}\n"
     ]
    },
    {
     "name": "stdout",
     "output_type": "stream",
     "text": [
      " 38% [............................                                                ] 122880 / 322600"
     ]
    },
    {
     "name": "stderr",
     "output_type": "stream",
     "text": [
      "[INFO] | 2022/04/18 18:53:56 | ↓ Successfully download the url to: ./journals/post_colonial/critical_inquiry/Arnold at the Present Time. Critical Inquiry, 9(3), 451–468.pdf\n"
     ]
    },
    {
     "name": "stdout",
     "output_type": "stream",
     "text": [
      "100% [............................................................................] 322600 / 322600\n"
     ]
    },
    {
     "name": "stderr",
     "output_type": "stream",
     "text": [
      "[INFO] | 2022/04/18 18:54:06 | Choose scihub url [0]: https://sci-hub.ru\n",
      "[INFO] | 2022/04/18 18:54:06 | <- Request: scihub_url=https://sci-hub.ru, source=DoiSource[type=doi, id=doi.org/10.1086/448211]\n",
      "[INFO] | 2022/04/18 18:54:06 | -> Response: status_code=200, content_length=6879\n",
      "[INFO] | 2022/04/18 18:54:06 | * Extracted information: {'url': 'https://twin.sci-hub.ru/6032/cd574f40b9905c3ba252b7a3d847b776/levine1983.pdf', 'title': 'Matthew Arnold  The Artist in the Wilderness. Critical Inquiry, 9(3), 469–482'}\n"
     ]
    },
    {
     "name": "stdout",
     "output_type": "stream",
     "text": [
      " 83% [...............................................................             ] 188416 / 225646"
     ]
    },
    {
     "name": "stderr",
     "output_type": "stream",
     "text": [
      "[INFO] | 2022/04/18 18:54:07 | ↓ Successfully download the url to: ./journals/post_colonial/critical_inquiry/Matthew Arnold  The Artist in the Wilderness. Critical Inquiry, 9(3), 469–482.pdf\n"
     ]
    },
    {
     "name": "stdout",
     "output_type": "stream",
     "text": [
      "100% [............................................................................] 225646 / 225646\n"
     ]
    },
    {
     "name": "stderr",
     "output_type": "stream",
     "text": [
      "[INFO] | 2022/04/18 18:54:17 | Choose scihub url [0]: https://sci-hub.ru\n",
      "[INFO] | 2022/04/18 18:54:17 | <- Request: scihub_url=https://sci-hub.ru, source=DoiSource[type=doi, id=doi.org/10.1086/448213]\n",
      "[INFO] | 2022/04/18 18:54:17 | -> Response: status_code=200, content_length=6824\n",
      "[INFO] | 2022/04/18 18:54:17 | * Extracted information: {'url': 'https://twin.sci-hub.ru/6028/11a10350a7f14867acc61cb015e34bad/tave1983.pdf', 'title': 'Goodheart’s Arnold. Critical Inquiry, 9(3), 509–513'}\n",
      "[INFO] | 2022/04/18 18:54:18 | ↓ Successfully download the url to: ./journals/post_colonial/critical_inquiry/Goodheart’s Arnold. Critical Inquiry, 9(3), 509–513.pdf\n"
     ]
    },
    {
     "name": "stdout",
     "output_type": "stream",
     "text": [
      "100% [..............................................................................] 81186 / 81186\n"
     ]
    },
    {
     "name": "stderr",
     "output_type": "stream",
     "text": [
      "[INFO] | 2022/04/18 18:54:28 | Choose scihub url [0]: https://sci-hub.ru\n",
      "[INFO] | 2022/04/18 18:54:29 | <- Request: scihub_url=https://sci-hub.ru, source=DoiSource[type=doi, id=doi.org/10.1086/448214]\n",
      "[INFO] | 2022/04/18 18:54:29 | -> Response: status_code=200, content_length=6880\n",
      "[INFO] | 2022/04/18 18:54:29 | * Extracted information: {'url': 'https://twin.sci-hub.ru/6028/d590517b22529902f9f39ea594d1a862/goodheart1983.pdf', 'title': 'Replies to Stuart Tave and George Levine. Critical Inquiry, 9(3), 515–516'}\n",
      "[INFO] | 2022/04/18 18:54:30 | ↓ Successfully download the url to: ./journals/post_colonial/critical_inquiry/Replies to Stuart Tave and George Levine. Critical Inquiry, 9(3), 515–516.pdf\n"
     ]
    },
    {
     "name": "stdout",
     "output_type": "stream",
     "text": [
      "100% [..............................................................................] 29870 / 29870\n"
     ]
    },
    {
     "name": "stderr",
     "output_type": "stream",
     "text": [
      "[INFO] | 2022/04/18 18:54:40 | Choose scihub url [0]: https://sci-hub.ru\n",
      "[INFO] | 2022/04/18 18:54:40 | <- Request: scihub_url=https://sci-hub.ru, source=DoiSource[type=doi, id=doi.org/10.1086/448215]\n",
      "[INFO] | 2022/04/18 18:54:40 | -> Response: status_code=200, content_length=6879\n",
      "[INFO] | 2022/04/18 18:54:40 | * Extracted information: {'url': 'https://twin.sci-hub.ru/5832/2a4424cd206cd6294f0eda389488f7a0/meyer1983.pdf', 'title': 'Innovation, Choice, and the History of Music. Critical Inquiry, 9(3), 517–544'}\n"
     ]
    },
    {
     "name": "stdout",
     "output_type": "stream",
     "text": [
      " 34% [..........................                                                  ] 188416 / 545307"
     ]
    },
    {
     "name": "stderr",
     "output_type": "stream",
     "text": [
      "[INFO] | 2022/04/18 18:54:41 | ↓ Successfully download the url to: ./journals/post_colonial/critical_inquiry/Innovation, Choice, and the History of Music. Critical Inquiry, 9(3), 517–544.pdf\n"
     ]
    },
    {
     "name": "stdout",
     "output_type": "stream",
     "text": [
      "100% [............................................................................] 545307 / 545307\n"
     ]
    },
    {
     "name": "stderr",
     "output_type": "stream",
     "text": [
      "[INFO] | 2022/04/18 18:54:51 | Choose scihub url [0]: https://sci-hub.ru\n",
      "[INFO] | 2022/04/18 18:54:51 | <- Request: scihub_url=https://sci-hub.ru, source=DoiSource[type=doi, id=doi.org/10.1086/448216]\n",
      "[INFO] | 2022/04/18 18:54:51 | -> Response: status_code=200, content_length=6907\n",
      "[INFO] | 2022/04/18 18:54:51 | * Extracted information: {'url': 'https://twin.sci-hub.ru/6086/fbcfe3165ce9064520657281b25600fc/rorty1983.pdf', 'title': 'Experiments in Philosophic Genre  Descartes’ “Meditations.” Critical Inquiry, 9(3), 545–564'}\n"
     ]
    },
    {
     "name": "stdout",
     "output_type": "stream",
     "text": [
      " 57% [...........................................                                 ] 188416 / 327024"
     ]
    },
    {
     "name": "stderr",
     "output_type": "stream",
     "text": [
      "[INFO] | 2022/04/18 18:54:52 | ↓ Successfully download the url to: ./journals/post_colonial/critical_inquiry/Experiments in Philosophic Genre  Descartes’ “Meditations.” Critical Inquiry, 9(3), 545–564.pdf\n"
     ]
    },
    {
     "name": "stdout",
     "output_type": "stream",
     "text": [
      "100% [............................................................................] 327024 / 327024\n"
     ]
    },
    {
     "name": "stderr",
     "output_type": "stream",
     "text": [
      "[INFO] | 2022/04/18 18:55:02 | Choose scihub url [0]: https://sci-hub.ru\n",
      "[INFO] | 2022/04/18 18:55:02 | <- Request: scihub_url=https://sci-hub.ru, source=DoiSource[type=doi, id=doi.org/10.1086/448217]\n",
      "[INFO] | 2022/04/18 18:55:02 | -> Response: status_code=200, content_length=6882\n",
      "[INFO] | 2022/04/18 18:55:02 | * Extracted information: {'url': 'https://twin.sci-hub.ru/6449/1662c577c7ae8747c2f54d763523f716/brinker1983.pdf', 'title': 'Farce and the Poetics of the “Vraisemblable.” Critical Inquiry, 9(3), 565–577'}\n"
     ]
    },
    {
     "name": "stdout",
     "output_type": "stream",
     "text": [
      " 79% [............................................................                ] 188416 / 237271"
     ]
    },
    {
     "name": "stderr",
     "output_type": "stream",
     "text": [
      "[INFO] | 2022/04/18 18:55:03 | ↓ Successfully download the url to: ./journals/post_colonial/critical_inquiry/Farce and the Poetics of the “Vraisemblable.” Critical Inquiry, 9(3), 565–577.pdf\n"
     ]
    },
    {
     "name": "stdout",
     "output_type": "stream",
     "text": [
      "100% [............................................................................] 237271 / 237271\n"
     ]
    },
    {
     "name": "stderr",
     "output_type": "stream",
     "text": [
      "[INFO] | 2022/04/18 18:55:13 | Choose scihub url [0]: https://sci-hub.ru\n",
      "[INFO] | 2022/04/18 18:55:13 | <- Request: scihub_url=https://sci-hub.ru, source=DoiSource[type=doi, id=doi.org/10.1086/448220]\n",
      "[INFO] | 2022/04/18 18:55:13 | -> Response: status_code=200, content_length=6898\n",
      "[INFO] | 2022/04/18 18:55:13 | * Extracted information: {'url': 'https://twin.sci-hub.ru/6664/5fab09e1aab9864201386440fed7eea2/shapiro1983.pdf', 'title': '“Far Lamps at Night”  The Poetry of J. V. Cunningham. Critical Inquiry, 9(3), 611–629'}\n"
     ]
    },
    {
     "name": "stdout",
     "output_type": "stream",
     "text": [
      " 62% [...............................................                             ] 188416 / 301592"
     ]
    },
    {
     "name": "stderr",
     "output_type": "stream",
     "text": [
      "[INFO] | 2022/04/18 18:55:14 | ↓ Successfully download the url to: ./journals/post_colonial/critical_inquiry/“Far Lamps at Night”  The Poetry of J. V. Cunningham. Critical Inquiry, 9(3), 611–629.pdf\n"
     ]
    },
    {
     "name": "stdout",
     "output_type": "stream",
     "text": [
      "100% [............................................................................] 301592 / 301592\n"
     ]
    },
    {
     "name": "stderr",
     "output_type": "stream",
     "text": [
      "[INFO] | 2022/04/18 18:55:24 | Choose scihub url [0]: https://sci-hub.ru\n",
      "[INFO] | 2022/04/18 18:55:24 | <- Request: scihub_url=https://sci-hub.ru, source=DoiSource[type=doi, id=doi.org/10.1086/448224]\n",
      "[INFO] | 2022/04/18 18:55:24 | -> Response: status_code=200, content_length=6958\n",
      "[INFO] | 2022/04/18 18:55:24 | * Extracted information: {'url': 'https://twin.sci-hub.ru/6204/7f24587c23de37deccb4ab0e15a4efc5/10.1086@448224.pdf', 'title': 'The “Blackness of Blackness”  A Critique of the Sign and the Signifying Monkey. Critical Inquiry, 9(4), 685–723'}\n"
     ]
    },
    {
     "name": "stdout",
     "output_type": "stream",
     "text": [
      " 17% [.............                                                               ] 131072 / 745519"
     ]
    },
    {
     "name": "stderr",
     "output_type": "stream",
     "text": [
      "[INFO] | 2022/04/18 18:55:25 | ↓ Successfully download the url to: ./journals/post_colonial/critical_inquiry/The “Blackness of Blackness”  A Critique of the Sign and the Signifying Monkey. Critical Inquiry, 9(4), 685–723.pdf\n"
     ]
    },
    {
     "name": "stdout",
     "output_type": "stream",
     "text": [
      "100% [............................................................................] 745519 / 745519\n"
     ]
    },
    {
     "name": "stderr",
     "output_type": "stream",
     "text": [
      "[INFO] | 2022/04/18 18:55:35 | Choose scihub url [0]: https://sci-hub.ru\n",
      "[INFO] | 2022/04/18 18:55:36 | <- Request: scihub_url=https://sci-hub.ru, source=DoiSource[type=doi, id=doi.org/10.1086/448226]\n",
      "[INFO] | 2022/04/18 18:55:36 | -> Response: status_code=200, content_length=6966\n",
      "[INFO] | 2022/04/18 18:55:36 | * Extracted information: {'url': 'https://twin.sci-hub.ru/6029/27cfaee30187886e395e53eb7b5eb5d1/10.1086@448226.pdf', 'title': 'Revisionary Madness  The Prospects of American Literary Theory at the Present Time. Critical Inquiry, 9(4), 726–742'}\n"
     ]
    },
    {
     "name": "stdout",
     "output_type": "stream",
     "text": [
      " 60% [.............................................                               ] 188416 / 312813"
     ]
    },
    {
     "name": "stderr",
     "output_type": "stream",
     "text": [
      "[INFO] | 2022/04/18 18:55:36 | ↓ Successfully download the url to: ./journals/post_colonial/critical_inquiry/Revisionary Madness  The Prospects of American Literary Theory at the Present Time. Critical Inquiry, 9(4), 726–742.pdf\n"
     ]
    },
    {
     "name": "stdout",
     "output_type": "stream",
     "text": [
      "100% [............................................................................] 312813 / 312813\n"
     ]
    },
    {
     "name": "stderr",
     "output_type": "stream",
     "text": [
      "[INFO] | 2022/04/18 18:55:46 | Choose scihub url [0]: https://sci-hub.ru\n",
      "[INFO] | 2022/04/18 18:55:47 | <- Request: scihub_url=https://sci-hub.ru, source=DoiSource[type=doi, id=doi.org/10.1086/448227]\n",
      "[INFO] | 2022/04/18 18:55:47 | -> Response: status_code=200, content_length=6831\n",
      "[INFO] | 2022/04/18 18:55:47 | * Extracted information: {'url': 'https://twin.sci-hub.ru/6723/3302cc22bc943724e71fd5e58d9ef5dc/10.1086@448227.pdf', 'title': 'Against Theory  Critical Inquiry, 9(4), 743–747'}\n",
      "[INFO] | 2022/04/18 18:55:47 | ↓ Successfully download the url to: ./journals/post_colonial/critical_inquiry/Against Theory  Critical Inquiry, 9(4), 743–747.pdf\n"
     ]
    },
    {
     "name": "stdout",
     "output_type": "stream",
     "text": [
      "100% [..............................................................................] 77954 / 77954\n"
     ]
    },
    {
     "name": "stderr",
     "output_type": "stream",
     "text": [
      "[INFO] | 2022/04/18 18:55:58 | Choose scihub url [0]: https://sci-hub.ru\n",
      "[INFO] | 2022/04/18 18:55:58 | <- Request: scihub_url=https://sci-hub.ru, source=DoiSource[type=doi, id=doi.org/10.1086/448231]\n",
      "[INFO] | 2022/04/18 18:55:58 | -> Response: status_code=200, content_length=6863\n",
      "[INFO] | 2022/04/18 18:55:58 | * Extracted information: {'url': 'https://twin.sci-hub.ru/5835/f119713fe25c99e3e6aa027be42d84f4/rosmarin1983.pdf', 'title': 'On the Theory of “Against Theory.” Critical Inquiry, 9(4), 775–783'}\n",
      "[INFO] | 2022/04/18 18:55:59 | ↓ Successfully download the url to: ./journals/post_colonial/critical_inquiry/On the Theory of “Against Theory.” Critical Inquiry, 9(4), 775–783.pdf\n"
     ]
    },
    {
     "name": "stdout",
     "output_type": "stream",
     "text": [
      "100% [............................................................................] 159345 / 159345\n"
     ]
    },
    {
     "name": "stderr",
     "output_type": "stream",
     "text": [
      "[INFO] | 2022/04/18 18:56:09 | Choose scihub url [0]: https://sci-hub.ru\n",
      "[INFO] | 2022/04/18 18:56:09 | <- Request: scihub_url=https://sci-hub.ru, source=DoiSource[type=doi, id=doi.org/10.1086/448232]\n",
      "[INFO] | 2022/04/18 18:56:09 | -> Response: status_code=200, content_length=6839\n",
      "[INFO] | 2022/04/18 18:56:09 | * Extracted information: {'url': 'https://twin.sci-hub.ru/6580/2d7cd44dcdf4e31099a7816e95b08053/dowling1983.pdf', 'title': 'Intentionless Meaning. Critical Inquiry, 9(4), 784–789'}\n",
      "[INFO] | 2022/04/18 18:56:10 | ↓ Successfully download the url to: ./journals/post_colonial/critical_inquiry/Intentionless Meaning. Critical Inquiry, 9(4), 784–789.pdf\n"
     ]
    },
    {
     "name": "stdout",
     "output_type": "stream",
     "text": [
      "100% [..............................................................................] 91867 / 91867\n"
     ]
    },
    {
     "name": "stderr",
     "output_type": "stream",
     "text": [
      "[INFO] | 2022/04/18 18:56:20 | Choose scihub url [0]: https://sci-hub.ru\n",
      "[INFO] | 2022/04/18 18:56:20 | <- Request: scihub_url=https://sci-hub.ru, source=DoiSource[type=doi, id=doi.org/10.1086/448235]\n",
      "[INFO] | 2022/04/18 18:56:20 | -> Response: status_code=200, content_length=6800\n",
      "[INFO] | 2022/04/18 18:56:20 | * Extracted information: {'url': 'https://sci-hub.ru/downloads/2020-05-27/9c/smith1983.pdf', 'title': 'Contingencies of Value. Critical Inquiry, 10(1), 1–35'}\n"
     ]
    },
    {
     "name": "stdout",
     "output_type": "stream",
     "text": [
      " 30% [.......................                                                     ] 188416 / 612523"
     ]
    },
    {
     "name": "stderr",
     "output_type": "stream",
     "text": [
      "[INFO] | 2022/04/18 18:56:21 | ↓ Successfully download the url to: ./journals/post_colonial/critical_inquiry/Contingencies of Value. Critical Inquiry, 10(1), 1–35.pdf\n"
     ]
    },
    {
     "name": "stdout",
     "output_type": "stream",
     "text": [
      "100% [............................................................................] 612523 / 612523\n"
     ]
    },
    {
     "name": "stderr",
     "output_type": "stream",
     "text": [
      "[INFO] | 2022/04/18 18:56:31 | Choose scihub url [0]: https://sci-hub.ru\n",
      "[INFO] | 2022/04/18 18:56:31 | <- Request: scihub_url=https://sci-hub.ru, source=DoiSource[type=doi, id=doi.org/10.1086/448236]\n",
      "[INFO] | 2022/04/18 18:56:31 | -> Response: status_code=200, content_length=6866\n",
      "[INFO] | 2022/04/18 18:56:31 | * Extracted information: {'url': 'https://twin.sci-hub.ru/6665/dcce6fd85b12e6ca755760b6a8266cdf/altieri1983.pdf', 'title': 'An Idea and Ideal of a Literary Canon. Critical Inquiry, 10(1), 37–60'}\n"
     ]
    },
    {
     "name": "stdout",
     "output_type": "stream",
     "text": [
      " 47% [...................................                                         ] 188416 / 400286"
     ]
    },
    {
     "name": "stderr",
     "output_type": "stream",
     "text": [
      "[INFO] | 2022/04/18 18:56:32 | ↓ Successfully download the url to: ./journals/post_colonial/critical_inquiry/An Idea and Ideal of a Literary Canon. Critical Inquiry, 10(1), 37–60.pdf\n"
     ]
    },
    {
     "name": "stdout",
     "output_type": "stream",
     "text": [
      "100% [............................................................................] 400286 / 400286\n"
     ]
    },
    {
     "name": "stderr",
     "output_type": "stream",
     "text": [
      "[INFO] | 2022/04/18 18:56:42 | Choose scihub url [0]: https://sci-hub.ru\n",
      "[INFO] | 2022/04/18 18:56:42 | <- Request: scihub_url=https://sci-hub.ru, source=DoiSource[type=doi, id=doi.org/10.1086/448237]\n",
      "[INFO] | 2022/04/18 18:56:42 | -> Response: status_code=200, content_length=6880\n",
      "[INFO] | 2022/04/18 18:56:42 | * Extracted information: {'url': 'https://twin.sci-hub.ru/6032/77318540731b9c0b0f71a7aea92a182c/lipking1983.pdf', 'title': 'Aristotle’s Sister  A Poetics of Abandonment. Critical Inquiry, 10(1), 61–81'}\n"
     ]
    },
    {
     "name": "stdout",
     "output_type": "stream",
     "text": [
      " 49% [.....................................                                       ] 188416 / 383532"
     ]
    },
    {
     "name": "stderr",
     "output_type": "stream",
     "text": [
      "[INFO] | 2022/04/18 18:56:43 | ↓ Successfully download the url to: ./journals/post_colonial/critical_inquiry/Aristotle’s Sister  A Poetics of Abandonment. Critical Inquiry, 10(1), 61–81.pdf\n"
     ]
    },
    {
     "name": "stdout",
     "output_type": "stream",
     "text": [
      "100% [............................................................................] 383532 / 383532\n"
     ]
    },
    {
     "name": "stderr",
     "output_type": "stream",
     "text": [
      "[INFO] | 2022/04/18 18:56:53 | Choose scihub url [0]: https://sci-hub.ru\n",
      "[INFO] | 2022/04/18 18:56:53 | <- Request: scihub_url=https://sci-hub.ru, source=DoiSource[type=doi, id=doi.org/10.1086/448238]\n",
      "[INFO] | 2022/04/18 18:56:53 | -> Response: status_code=200, content_length=6953\n",
      "[INFO] | 2022/04/18 18:56:53 | * Extracted information: {'url': 'https://twin.sci-hub.ru/6030/2b14ec9c67f660bb303914144fd7b661/recreating-the-canon-augustan-poetry-and-the-alexandrian-past-1983.pdf', 'title': 'Critical Inquiry, 10(1), 83–105'}\n"
     ]
    },
    {
     "name": "stdout",
     "output_type": "stream",
     "text": [
      " 45% [..................................                                          ] 188416 / 413410"
     ]
    },
    {
     "name": "stderr",
     "output_type": "stream",
     "text": [
      "[INFO] | 2022/04/18 18:56:54 | ↓ Successfully download the url to: ./journals/post_colonial/critical_inquiry/Critical Inquiry, 10(1), 83–105.pdf\n"
     ]
    },
    {
     "name": "stdout",
     "output_type": "stream",
     "text": [
      "100% [............................................................................] 413410 / 413410\n"
     ]
    },
    {
     "name": "stderr",
     "output_type": "stream",
     "text": [
      "[INFO] | 2022/04/18 18:57:04 | Choose scihub url [0]: https://sci-hub.ru\n",
      "[INFO] | 2022/04/18 18:57:05 | <- Request: scihub_url=https://sci-hub.ru, source=DoiSource[type=doi, id=doi.org/10.1086/448239]\n",
      "[INFO] | 2022/04/18 18:57:05 | -> Response: status_code=200, content_length=6841\n",
      "[INFO] | 2022/04/18 18:57:05 | * Extracted information: {'url': 'https://twin.sci-hub.ru/5997/530dfca47d3cbb25e706f9a191dd08d4/kerman1983.pdf', 'title': 'A Few Canonic Variations. Critical Inquiry, 10(1), 107–125'}\n"
     ]
    },
    {
     "name": "stdout",
     "output_type": "stream",
     "text": [
      " 51% [.......................................                                     ] 172032 / 331997"
     ]
    },
    {
     "name": "stderr",
     "output_type": "stream",
     "text": [
      "[INFO] | 2022/04/18 18:57:06 | ↓ Successfully download the url to: ./journals/post_colonial/critical_inquiry/A Few Canonic Variations. Critical Inquiry, 10(1), 107–125.pdf\n"
     ]
    },
    {
     "name": "stdout",
     "output_type": "stream",
     "text": [
      "100% [............................................................................] 331997 / 331997\n"
     ]
    },
    {
     "name": "stderr",
     "output_type": "stream",
     "text": [
      "[INFO] | 2022/04/18 18:57:16 | Choose scihub url [0]: https://sci-hub.ru\n",
      "[INFO] | 2022/04/18 18:57:16 | <- Request: scihub_url=https://sci-hub.ru, source=DoiSource[type=doi, id=doi.org/10.1086/448240]\n",
      "[INFO] | 2022/04/18 18:57:16 | -> Response: status_code=200, content_length=6849\n",
      "[INFO] | 2022/04/18 18:57:16 | * Extracted information: {'url': 'https://sci-hub.ru/downloads/2019-04-24/a4/mcgann1983.pdf', 'title': 'The Religious Poetry of Christina Rossetti. Critical Inquiry, 10(1), 127–144'}\n"
     ]
    },
    {
     "name": "stdout",
     "output_type": "stream",
     "text": [
      " 59% [.............................................                               ] 188416 / 318179"
     ]
    },
    {
     "name": "stderr",
     "output_type": "stream",
     "text": [
      "[INFO] | 2022/04/18 18:57:17 | ↓ Successfully download the url to: ./journals/post_colonial/critical_inquiry/The Religious Poetry of Christina Rossetti. Critical Inquiry, 10(1), 127–144.pdf\n"
     ]
    },
    {
     "name": "stdout",
     "output_type": "stream",
     "text": [
      "100% [............................................................................] 318179 / 318179\n"
     ]
    },
    {
     "name": "stderr",
     "output_type": "stream",
     "text": [
      "[INFO] | 2022/04/18 18:57:27 | Choose scihub url [0]: https://sci-hub.ru\n",
      "[INFO] | 2022/04/18 18:57:27 | <- Request: scihub_url=https://sci-hub.ru, source=DoiSource[type=doi, id=doi.org/10.1086/448241]\n",
      "[INFO] | 2022/04/18 18:57:27 | -> Response: status_code=200, content_length=6829\n",
      "[INFO] | 2022/04/18 18:57:27 | * Extracted information: {'url': 'https://sci-hub.ru/tree/92/6d/926d87416831ee1833bcbb4e07cfd1c4.pdf', 'title': 'Native American Literature and the Canon. Critical Inquiry, 10(1), 145–171'}\n"
     ]
    },
    {
     "name": "stdout",
     "output_type": "stream",
     "text": [
      " 37% [............................                                                ] 188416 / 497929"
     ]
    },
    {
     "name": "stderr",
     "output_type": "stream",
     "text": [
      "[INFO] | 2022/04/18 18:57:28 | ↓ Successfully download the url to: ./journals/post_colonial/critical_inquiry/Native American Literature and the Canon. Critical Inquiry, 10(1), 145–171.pdf\n"
     ]
    },
    {
     "name": "stdout",
     "output_type": "stream",
     "text": [
      "100% [............................................................................] 497929 / 497929\n"
     ]
    },
    {
     "name": "stderr",
     "output_type": "stream",
     "text": [
      "[INFO] | 2022/04/18 18:57:38 | Choose scihub url [0]: https://sci-hub.ru\n",
      "[INFO] | 2022/04/18 18:57:39 | <- Request: scihub_url=https://sci-hub.ru, source=DoiSource[type=doi, id=doi.org/10.1086/448242]\n",
      "[INFO] | 2022/04/18 18:57:39 | -> Response: status_code=200, content_length=6925\n",
      "[INFO] | 2022/04/18 18:57:39 | * Extracted information: {'url': 'https://twin.sci-hub.ru/5855/dc016e9d82922d27fcff615e994bf212/guillory1983.pdf', 'title': 'The Ideology of Canon-Formation  T. S. Eliot and Cleanth Brooks. Critical Inquiry, 10(1), 173–198'}\n"
     ]
    },
    {
     "name": "stdout",
     "output_type": "stream",
     "text": [
      " 40% [..............................                                              ] 188416 / 466851"
     ]
    },
    {
     "name": "stderr",
     "output_type": "stream",
     "text": [
      "[INFO] | 2022/04/18 18:57:40 | ↓ Successfully download the url to: ./journals/post_colonial/critical_inquiry/The Ideology of Canon-Formation  T. S. Eliot and Cleanth Brooks. Critical Inquiry, 10(1), 173–198.pdf\n"
     ]
    },
    {
     "name": "stdout",
     "output_type": "stream",
     "text": [
      "100% [............................................................................] 466851 / 466851\n"
     ]
    },
    {
     "name": "stderr",
     "output_type": "stream",
     "text": [
      "[INFO] | 2022/04/18 18:57:50 | Choose scihub url [0]: https://sci-hub.ru\n",
      "[INFO] | 2022/04/18 18:57:50 | <- Request: scihub_url=https://sci-hub.ru, source=DoiSource[type=doi, id=doi.org/10.1086/448243]\n",
      "[INFO] | 2022/04/18 18:57:50 | -> Response: status_code=200, content_length=6843\n",
      "[INFO] | 2022/04/18 18:57:50 | * Extracted information: {'url': 'https://sci-hub.ru/tree/4a/90/4a9041180d1679fc858b845febd81d2c.pdf', 'title': 'The Shaping of a Canon  U.S. Fiction, 1960-1975. Critical Inquiry, 10(1), 199–223'}\n"
     ]
    },
    {
     "name": "stdout",
     "output_type": "stream",
     "text": [
      " 39% [..............................                                              ] 188416 / 474348"
     ]
    },
    {
     "name": "stderr",
     "output_type": "stream",
     "text": [
      "[INFO] | 2022/04/18 18:57:51 | ↓ Successfully download the url to: ./journals/post_colonial/critical_inquiry/The Shaping of a Canon  U.S. Fiction, 1960-1975. Critical Inquiry, 10(1), 199–223.pdf\n"
     ]
    },
    {
     "name": "stdout",
     "output_type": "stream",
     "text": [
      "100% [............................................................................] 474348 / 474348\n"
     ]
    },
    {
     "name": "stderr",
     "output_type": "stream",
     "text": [
      "[INFO] | 2022/04/18 18:58:01 | Choose scihub url [0]: https://sci-hub.ru\n",
      "[INFO] | 2022/04/18 18:58:01 | <- Request: scihub_url=https://sci-hub.ru, source=DoiSource[type=doi, id=doi.org/10.1086/448244]\n",
      "[INFO] | 2022/04/18 18:58:01 | -> Response: status_code=200, content_length=6892\n",
      "[INFO] | 2022/04/18 18:58:01 | * Extracted information: {'url': 'https://twin.sci-hub.ru/6592/9af0f2c7116d8f69082c2ff1a914f295/morson1983.pdf', 'title': 'Who Speaks for Bakhtin   A Dialogic Introduction. Critical Inquiry, 10(2), 225–243'}\n"
     ]
    },
    {
     "name": "stdout",
     "output_type": "stream",
     "text": [
      " 35% [...........................                                                 ] 122880 / 342395"
     ]
    },
    {
     "name": "stderr",
     "output_type": "stream",
     "text": [
      "[INFO] | 2022/04/18 18:58:02 | ↓ Successfully download the url to: ./journals/post_colonial/critical_inquiry/Who Speaks for Bakhtin   A Dialogic Introduction. Critical Inquiry, 10(2), 225–243.pdf\n"
     ]
    },
    {
     "name": "stdout",
     "output_type": "stream",
     "text": [
      "100% [............................................................................] 342395 / 342395\n"
     ]
    },
    {
     "name": "stderr",
     "output_type": "stream",
     "text": [
      "[INFO] | 2022/04/18 18:58:12 | Choose scihub url [0]: https://sci-hub.ru\n",
      "[INFO] | 2022/04/18 18:58:13 | <- Request: scihub_url=https://sci-hub.ru, source=DoiSource[type=doi, id=doi.org/10.1086/448245]\n",
      "[INFO] | 2022/04/18 18:58:13 | -> Response: status_code=200, content_length=6970\n",
      "[INFO] | 2022/04/18 18:58:13 | * Extracted information: {'url': 'https://twin.sci-hub.ru/6075/c2a593346eb61e948cabb8cb6dc6ab8f/emerson1983.pdf', 'title': 'The Outer Word and Inner Speech  Bakhtin, Vygotsky, and the Internalization of Language. Critical Inquiry, 10(2), 245–264'}\n"
     ]
    },
    {
     "name": "stdout",
     "output_type": "stream",
     "text": [
      " 49% [.....................................                                       ] 188416 / 379042"
     ]
    },
    {
     "name": "stderr",
     "output_type": "stream",
     "text": [
      "[INFO] | 2022/04/18 18:58:14 | ↓ Successfully download the url to: ./journals/post_colonial/critical_inquiry/The Outer Word and Inner Speech  Bakhtin, Vygotsky, and the Internalization of Language. Critical Inquiry, 10(2), 245–264.pdf\n"
     ]
    },
    {
     "name": "stdout",
     "output_type": "stream",
     "text": [
      "100% [............................................................................] 379042 / 379042\n"
     ]
    },
    {
     "name": "stderr",
     "output_type": "stream",
     "text": [
      "[INFO] | 2022/04/18 18:58:24 | Choose scihub url [0]: https://sci-hub.ru\n",
      "[INFO] | 2022/04/18 18:58:24 | <- Request: scihub_url=https://sci-hub.ru, source=DoiSource[type=doi, id=doi.org/10.1086/448247]\n",
      "[INFO] | 2022/04/18 18:58:24 | -> Response: status_code=200, content_length=6957\n",
      "[INFO] | 2022/04/18 18:58:24 | * Extracted information: {'url': 'https://twin.sci-hub.ru/6031/0efa99151d3e86e745a3a71138997213/bernstein1983.pdf', 'title': 'When the Carnival Turns Bitter  Preliminary Reflections upon the Abject Hero. Critical Inquiry, 10(2), 283–305'}\n"
     ]
    },
    {
     "name": "stdout",
     "output_type": "stream",
     "text": [
      " 44% [.................................                                           ] 188416 / 422930"
     ]
    },
    {
     "name": "stderr",
     "output_type": "stream",
     "text": [
      "[INFO] | 2022/04/18 18:58:25 | ↓ Successfully download the url to: ./journals/post_colonial/critical_inquiry/When the Carnival Turns Bitter  Preliminary Reflections upon the Abject Hero. Critical Inquiry, 10(2), 283–305.pdf\n"
     ]
    },
    {
     "name": "stdout",
     "output_type": "stream",
     "text": [
      "100% [............................................................................] 422930 / 422930\n"
     ]
    },
    {
     "name": "stderr",
     "output_type": "stream",
     "text": [
      "[INFO] | 2022/04/18 18:58:35 | Choose scihub url [0]: https://sci-hub.ru\n",
      "[INFO] | 2022/04/18 18:58:35 | <- Request: scihub_url=https://sci-hub.ru, source=DoiSource[type=doi, id=doi.org/10.1086/448249]\n",
      "[INFO] | 2022/04/18 18:58:35 | -> Response: status_code=200, content_length=6897\n",
      "[INFO] | 2022/04/18 18:58:35 | * Extracted information: {'url': 'https://twin.sci-hub.ru/6269/2a24c972673ab5c7df9844c1e1fe9c8a/froula1983.pdf', 'title': 'When Eve Reads Milton  Undoing the Canonical Economy. Critical Inquiry, 10(2), 321–347'}\n"
     ]
    },
    {
     "name": "stdout",
     "output_type": "stream",
     "text": [
      " 37% [............................                                                ] 188416 / 498694"
     ]
    },
    {
     "name": "stderr",
     "output_type": "stream",
     "text": [
      "[INFO] | 2022/04/18 18:58:36 | ↓ Successfully download the url to: ./journals/post_colonial/critical_inquiry/When Eve Reads Milton  Undoing the Canonical Economy. Critical Inquiry, 10(2), 321–347.pdf\n"
     ]
    },
    {
     "name": "stdout",
     "output_type": "stream",
     "text": [
      "100% [............................................................................] 498694 / 498694\n"
     ]
    },
    {
     "name": "stderr",
     "output_type": "stream",
     "text": [
      "[INFO] | 2022/04/18 18:58:46 | Choose scihub url [0]: https://sci-hub.ru\n",
      "[INFO] | 2022/04/18 18:58:47 | <- Request: scihub_url=https://sci-hub.ru, source=DoiSource[type=doi, id=doi.org/10.1086/448250]\n",
      "[INFO] | 2022/04/18 18:58:47 | -> Response: status_code=200, content_length=6927\n",
      "[INFO] | 2022/04/18 18:58:47 | * Extracted information: {'url': 'https://twin.sci-hub.ru/6028/42cd334b1e4c6430a81886b342ac9199/fish1983.pdf', 'title': 'Profession Despise Thyself  Fear and Self-Loathing in Literary Studies. Critical Inquiry, 10(2), 349–364'}\n"
     ]
    },
    {
     "name": "stdout",
     "output_type": "stream",
     "text": [
      " 64% [................................................                            ] 188416 / 292785"
     ]
    },
    {
     "name": "stderr",
     "output_type": "stream",
     "text": [
      "[INFO] | 2022/04/18 18:58:48 | ↓ Successfully download the url to: ./journals/post_colonial/critical_inquiry/Profession Despise Thyself  Fear and Self-Loathing in Literary Studies. Critical Inquiry, 10(2), 349–364.pdf\n"
     ]
    },
    {
     "name": "stdout",
     "output_type": "stream",
     "text": [
      "100% [............................................................................] 292785 / 292785\n"
     ]
    },
    {
     "name": "stderr",
     "output_type": "stream",
     "text": [
      "[INFO] | 2022/04/18 18:58:58 | Choose scihub url [0]: https://sci-hub.ru\n",
      "[INFO] | 2022/04/18 18:58:58 | <- Request: scihub_url=https://sci-hub.ru, source=DoiSource[type=doi, id=doi.org/10.1086/448252]\n",
      "[INFO] | 2022/04/18 18:58:58 | -> Response: status_code=200, content_length=6838\n",
      "[INFO] | 2022/04/18 18:58:58 | * Extracted information: {'url': 'https://twin.sci-hub.ru/5976/cd78418b2d976f5331f4fee8b2a7848b/said1983.pdf', 'title': 'Response to Stanley Fish. Critical Inquiry, 10(2), 371–373'}\n",
      "[INFO] | 2022/04/18 18:58:59 | ↓ Successfully download the url to: ./journals/post_colonial/critical_inquiry/Response to Stanley Fish. Critical Inquiry, 10(2), 371–373.pdf\n"
     ]
    },
    {
     "name": "stdout",
     "output_type": "stream",
     "text": [
      "100% [..............................................................................] 53293 / 53293\n"
     ]
    },
    {
     "name": "stderr",
     "output_type": "stream",
     "text": [
      "[INFO] | 2022/04/18 18:59:09 | Choose scihub url [0]: https://sci-hub.ru\n",
      "[INFO] | 2022/04/18 18:59:09 | <- Request: scihub_url=https://sci-hub.ru, source=DoiSource[type=doi, id=doi.org/10.1086/448253]\n",
      "[INFO] | 2022/04/18 18:59:09 | -> Response: status_code=200, content_length=6840\n",
      "[INFO] | 2022/04/18 18:59:09 | * Extracted information: {'url': 'https://twin.sci-hub.ru/6452/acc2e27ac75b6fe05e7e945de5e252b4/geuss1983.pdf', 'title': 'A Response to Paul de Man. Critical Inquiry, 10(2), 375–382'}\n",
      "[INFO] | 2022/04/18 18:59:10 | ↓ Successfully download the url to: ./journals/post_colonial/critical_inquiry/A Response to Paul de Man. Critical Inquiry, 10(2), 375–382.pdf\n"
     ]
    },
    {
     "name": "stdout",
     "output_type": "stream",
     "text": [
      "100% [............................................................................] 141978 / 141978\n"
     ]
    },
    {
     "name": "stderr",
     "output_type": "stream",
     "text": [
      "[INFO] | 2022/04/18 18:59:20 | Choose scihub url [0]: https://sci-hub.ru\n",
      "[INFO] | 2022/04/18 18:59:20 | <- Request: scihub_url=https://sci-hub.ru, source=DoiSource[type=doi, id=doi.org/10.1086/448254]\n",
      "[INFO] | 2022/04/18 18:59:20 | -> Response: status_code=200, content_length=6835\n",
      "[INFO] | 2022/04/18 18:59:20 | * Extracted information: {'url': 'https://twin.sci-hub.ru/6533/21ebc81d16cca082d253fa0fdbf88f41/deman1983.pdf', 'title': 'Reply to Raymond Geuss. Critical Inquiry, 10(2), 383–390'}\n",
      "[INFO] | 2022/04/18 18:59:21 | ↓ Successfully download the url to: ./journals/post_colonial/critical_inquiry/Reply to Raymond Geuss. Critical Inquiry, 10(2), 383–390.pdf\n"
     ]
    },
    {
     "name": "stdout",
     "output_type": "stream",
     "text": [
      "100% [............................................................................] 165215 / 165215\n"
     ]
    },
    {
     "name": "stderr",
     "output_type": "stream",
     "text": [
      "[INFO] | 2022/04/18 18:59:31 | Choose scihub url [0]: https://sci-hub.ru\n",
      "[INFO] | 2022/04/18 18:59:31 | <- Request: scihub_url=https://sci-hub.ru, source=DoiSource[type=doi, id=doi.org/10.1086/448256]\n",
      "[INFO] | 2022/04/18 18:59:31 | -> Response: status_code=200, content_length=6888\n",
      "[INFO] | 2022/04/18 18:59:31 | * Extracted information: {'url': 'https://twin.sci-hub.ru/5827/9c722c57b95b1ce757c91eb9cdb149d8/wills1984.pdf', 'title': 'Washington’s Citizen Virtue  Greenough and Houdon. Critical Inquiry, 10(3), 420–441'}\n"
     ]
    },
    {
     "name": "stdout",
     "output_type": "stream",
     "text": [
      " 69% [...................................................                       ]  958464 / 1374352"
     ]
    },
    {
     "name": "stderr",
     "output_type": "stream",
     "text": [
      "[INFO] | 2022/04/18 18:59:32 | ↓ Successfully download the url to: ./journals/post_colonial/critical_inquiry/Washington’s Citizen Virtue  Greenough and Houdon. Critical Inquiry, 10(3), 420–441.pdf\n"
     ]
    },
    {
     "name": "stdout",
     "output_type": "stream",
     "text": [
      "100% [..........................................................................] 1374352 / 1374352\n"
     ]
    },
    {
     "name": "stderr",
     "output_type": "stream",
     "text": [
      "[INFO] | 2022/04/18 18:59:42 | Choose scihub url [0]: https://sci-hub.ru\n",
      "[INFO] | 2022/04/18 18:59:43 | <- Request: scihub_url=https://sci-hub.ru, source=DoiSource[type=doi, id=doi.org/10.1086/448257]\n",
      "[INFO] | 2022/04/18 18:59:43 | -> Response: status_code=200, content_length=6892\n",
      "[INFO] | 2022/04/18 18:59:43 | * Extracted information: {'url': 'https://twin.sci-hub.ru/7007/4e6e6bb6f20a9975bf720e8361d30ea7/morgan1984.pdf', 'title': 'Secret Languages  The Roots of Musical Modernism. Critical Inquiry, 10(3), 442–461'}\n"
     ]
    },
    {
     "name": "stdout",
     "output_type": "stream",
     "text": [
      " 51% [.......................................                                     ] 188416 / 363925"
     ]
    },
    {
     "name": "stderr",
     "output_type": "stream",
     "text": [
      "[INFO] | 2022/04/18 18:59:43 | ↓ Successfully download the url to: ./journals/post_colonial/critical_inquiry/Secret Languages  The Roots of Musical Modernism. Critical Inquiry, 10(3), 442–461.pdf\n"
     ]
    },
    {
     "name": "stdout",
     "output_type": "stream",
     "text": [
      "100% [............................................................................] 363925 / 363925\n"
     ]
    },
    {
     "name": "stderr",
     "output_type": "stream",
     "text": [
      "[INFO] | 2022/04/18 18:59:53 | Choose scihub url [0]: https://sci-hub.ru\n",
      "[INFO] | 2022/04/18 18:59:54 | <- Request: scihub_url=https://sci-hub.ru, source=DoiSource[type=doi, id=doi.org/10.1086/448258]\n",
      "[INFO] | 2022/04/18 18:59:54 | -> Response: status_code=200, content_length=6873\n",
      "[INFO] | 2022/04/18 18:59:54 | * Extracted information: {'url': 'https://twin.sci-hub.ru/5866/9891f98c761a0c690486ca7ed2a357bf/bruns1984.pdf', 'title': 'Canon and Power in the Hebrew Scriptures. Critical Inquiry, 10(3), 462–480'}\n"
     ]
    },
    {
     "name": "stdout",
     "output_type": "stream",
     "text": [
      " 53% [........................................                                    ] 188416 / 354007"
     ]
    },
    {
     "name": "stderr",
     "output_type": "stream",
     "text": [
      "[INFO] | 2022/04/18 18:59:55 | ↓ Successfully download the url to: ./journals/post_colonial/critical_inquiry/Canon and Power in the Hebrew Scriptures. Critical Inquiry, 10(3), 462–480.pdf\n"
     ]
    },
    {
     "name": "stdout",
     "output_type": "stream",
     "text": [
      "100% [............................................................................] 354007 / 354007\n"
     ]
    },
    {
     "name": "stderr",
     "output_type": "stream",
     "text": [
      "[INFO] | 2022/04/18 19:00:05 | Choose scihub url [0]: https://sci-hub.ru\n",
      "[INFO] | 2022/04/18 19:00:05 | <- Request: scihub_url=https://sci-hub.ru, source=DoiSource[type=doi, id=doi.org/10.1086/448259]\n",
      "[INFO] | 2022/04/18 19:00:05 | -> Response: status_code=200, content_length=6888\n",
      "[INFO] | 2022/04/18 19:00:05 | * Extracted information: {'url': 'https://sci-hub.ru/downloads/2019-04-21/a1/chandler1984.pdf', 'title': 'The Pope Controversy  Romantic Poetics and the English Canon. Critical Inquiry, 10(3), 481–509'}\n"
     ]
    },
    {
     "name": "stdout",
     "output_type": "stream",
     "text": [
      " 34% [..........................                                                  ] 188416 / 547450"
     ]
    },
    {
     "name": "stderr",
     "output_type": "stream",
     "text": [
      "[INFO] | 2022/04/18 19:00:06 | ↓ Successfully download the url to: ./journals/post_colonial/critical_inquiry/The Pope Controversy  Romantic Poetics and the English Canon. Critical Inquiry, 10(3), 481–509.pdf\n"
     ]
    },
    {
     "name": "stdout",
     "output_type": "stream",
     "text": [
      "100% [............................................................................] 547450 / 547450\n"
     ]
    },
    {
     "name": "stderr",
     "output_type": "stream",
     "text": [
      "[INFO] | 2022/04/18 19:00:16 | Choose scihub url [0]: https://sci-hub.ru\n",
      "[INFO] | 2022/04/18 19:00:16 | <- Request: scihub_url=https://sci-hub.ru, source=DoiSource[type=doi, id=doi.org/10.1086/448260]\n",
      "[INFO] | 2022/04/18 19:00:16 | -> Response: status_code=200, content_length=6936\n",
      "[INFO] | 2022/04/18 19:00:16 | * Extracted information: {'url': 'https://twin.sci-hub.ru/5825/92a6a600eae8db339eaa709bee936bd5/fried1984.pdf', 'title': 'Painting Memories  On the Containment of the past in Baudelaire and Manet. Critical Inquiry, 10(3), 510–542'}\n"
     ]
    },
    {
     "name": "stdout",
     "output_type": "stream",
     "text": [
      " 94% [.....................................................................     ] 1114112 / 1178868"
     ]
    },
    {
     "name": "stderr",
     "output_type": "stream",
     "text": [
      "[INFO] | 2022/04/18 19:00:17 | ↓ Successfully download the url to: ./journals/post_colonial/critical_inquiry/Painting Memories  On the Containment of the past in Baudelaire and Manet. Critical Inquiry, 10(3), 510–542.pdf\n"
     ]
    },
    {
     "name": "stdout",
     "output_type": "stream",
     "text": [
      "100% [..........................................................................] 1178868 / 1178868\n"
     ]
    },
    {
     "name": "stderr",
     "output_type": "stream",
     "text": [
      "[INFO] | 2022/04/18 19:00:27 | Choose scihub url [0]: https://sci-hub.ru\n",
      "[INFO] | 2022/04/18 19:00:28 | <- Request: scihub_url=https://sci-hub.ru, source=DoiSource[type=doi, id=doi.org/10.1086/448261]\n",
      "[INFO] | 2022/04/18 19:00:28 | -> Response: status_code=200, content_length=6847\n",
      "[INFO] | 2022/04/18 19:00:28 | * Extracted information: {'url': 'https://twin.sci-hub.ru/6035/20cc9dfd955dbcf8df7a9f1afdca09ee/oates1984.pdf', 'title': 'Frankenstein’s Fallen Angel. Critical Inquiry, 10(3), 543–554'}\n"
     ]
    },
    {
     "name": "stdout",
     "output_type": "stream",
     "text": [
      " 88% [...................................................................         ] 188416 / 213176"
     ]
    },
    {
     "name": "stderr",
     "output_type": "stream",
     "text": [
      "[INFO] | 2022/04/18 19:00:29 | ↓ Successfully download the url to: ./journals/post_colonial/critical_inquiry/Frankenstein’s Fallen Angel. Critical Inquiry, 10(3), 543–554.pdf\n"
     ]
    },
    {
     "name": "stdout",
     "output_type": "stream",
     "text": [
      "100% [............................................................................] 213176 / 213176\n"
     ]
    },
    {
     "name": "stderr",
     "output_type": "stream",
     "text": [
      "[INFO] | 2022/04/18 19:00:39 | Choose scihub url [0]: https://sci-hub.ru\n",
      "[INFO] | 2022/04/18 19:00:39 | <- Request: scihub_url=https://sci-hub.ru, source=DoiSource[type=doi, id=doi.org/10.1086/448262]\n",
      "[INFO] | 2022/04/18 19:00:39 | -> Response: status_code=200, content_length=6812\n",
      "[INFO] | 2022/04/18 19:00:39 | * Extracted information: {'url': 'https://twin.sci-hub.ru/5854/b545f1b7063602dc5cdce610d6b6de24/editorial-note-1984.pdf', 'title': 'Critical Inquiry, 10(3), 555–555'}\n",
      "[INFO] | 2022/04/18 19:00:40 | ↓ Successfully download the url to: ./journals/post_colonial/critical_inquiry/Critical Inquiry, 10(3), 555–555.pdf\n"
     ]
    },
    {
     "name": "stdout",
     "output_type": "stream",
     "text": [
      "100% [..............................................................................] 11367 / 11367\n"
     ]
    },
    {
     "name": "stderr",
     "output_type": "stream",
     "text": [
      "[INFO] | 2022/04/18 19:00:50 | Choose scihub url [0]: https://sci-hub.ru\n",
      "[INFO] | 2022/04/18 19:00:50 | <- Request: scihub_url=https://sci-hub.ru, source=DoiSource[type=doi, id=doi.org/10.1086/448263]\n",
      "[INFO] | 2022/04/18 19:00:50 | -> Response: status_code=200, content_length=6831\n",
      "[INFO] | 2022/04/18 19:00:50 | * Extracted information: {'url': 'https://twin.sci-hub.ru/6206/5ff0b509c7948e034d09607e6b9a3352/bell1984.pdf', 'title': 'A “Radiant” Friendship. Critical Inquiry, 10(4), 557–566'}\n"
     ]
    },
    {
     "name": "stdout",
     "output_type": "stream",
     "text": [
      " 77% [...........................................................                 ] 188416 / 242066"
     ]
    },
    {
     "name": "stderr",
     "output_type": "stream",
     "text": [
      "[INFO] | 2022/04/18 19:00:51 | ↓ Successfully download the url to: ./journals/post_colonial/critical_inquiry/A “Radiant” Friendship. Critical Inquiry, 10(4), 557–566.pdf\n"
     ]
    },
    {
     "name": "stdout",
     "output_type": "stream",
     "text": [
      "100% [............................................................................] 242066 / 242066\n"
     ]
    },
    {
     "name": "stderr",
     "output_type": "stream",
     "text": [
      "[INFO] | 2022/04/18 19:01:01 | Choose scihub url [0]: https://sci-hub.ru\n",
      "[INFO] | 2022/04/18 19:01:01 | <- Request: scihub_url=https://sci-hub.ru, source=DoiSource[type=doi, id=doi.org/10.1086/448265]\n",
      "[INFO] | 2022/04/18 19:01:01 | -> Response: status_code=200, content_length=6829\n",
      "[INFO] | 2022/04/18 19:01:01 | * Extracted information: {'url': 'https://twin.sci-hub.ru/6664/ab5eced2a6a451bac24fe1699ad3526c/ziff1984.pdf', 'title': 'Whitman and the Crowd. Critical Inquiry, 10(4), 579–591'}\n"
     ]
    },
    {
     "name": "stdout",
     "output_type": "stream",
     "text": [
      " 60% [..............................................                              ] 172032 / 283683"
     ]
    },
    {
     "name": "stderr",
     "output_type": "stream",
     "text": [
      "[INFO] | 2022/04/18 19:01:02 | ↓ Successfully download the url to: ./journals/post_colonial/critical_inquiry/Whitman and the Crowd. Critical Inquiry, 10(4), 579–591.pdf\n"
     ]
    },
    {
     "name": "stdout",
     "output_type": "stream",
     "text": [
      "100% [............................................................................] 283683 / 283683\n"
     ]
    },
    {
     "name": "stderr",
     "output_type": "stream",
     "text": [
      "[INFO] | 2022/04/18 19:01:12 | Choose scihub url [0]: https://sci-hub.ru\n",
      "[INFO] | 2022/04/18 19:01:12 | <- Request: scihub_url=https://sci-hub.ru, source=DoiSource[type=doi, id=doi.org/10.1086/448266]\n",
      "[INFO] | 2022/04/18 19:01:12 | -> Response: status_code=200, content_length=6903\n",
      "[INFO] | 2022/04/18 19:01:12 | * Extracted information: {'url': 'https://twin.sci-hub.ru/6518/0141d8c4cea90c42085b1d38dec81817/marshall1984.pdf', 'title': 'Adam Smith and the Theatricality of Moral Sentiments. Critical Inquiry, 10(4), 592–613'}\n"
     ]
    },
    {
     "name": "stdout",
     "output_type": "stream",
     "text": [
      " 43% [................................                                            ] 188416 / 435029"
     ]
    },
    {
     "name": "stderr",
     "output_type": "stream",
     "text": [
      "[INFO] | 2022/04/18 19:01:13 | ↓ Successfully download the url to: ./journals/post_colonial/critical_inquiry/Adam Smith and the Theatricality of Moral Sentiments. Critical Inquiry, 10(4), 592–613.pdf\n"
     ]
    },
    {
     "name": "stdout",
     "output_type": "stream",
     "text": [
      "100% [............................................................................] 435029 / 435029\n"
     ]
    },
    {
     "name": "stderr",
     "output_type": "stream",
     "text": [
      "[INFO] | 2022/04/18 19:01:23 | Choose scihub url [0]: https://sci-hub.ru\n",
      "[INFO] | 2022/04/18 19:01:24 | <- Request: scihub_url=https://sci-hub.ru, source=DoiSource[type=doi, id=doi.org/10.1086/448267]\n",
      "[INFO] | 2022/04/18 19:01:24 | -> Response: status_code=200, content_length=6830\n",
      "[INFO] | 2022/04/18 19:01:24 | * Extracted information: {'url': 'https://twin.sci-hub.ru/6028/fa7b7129a8f731d30153dc361ea904ef/newcomb1984.pdf', 'title': 'Sound and Feeling. Critical Inquiry, 10(4), 614–643'}\n"
     ]
    },
    {
     "name": "stdout",
     "output_type": "stream",
     "text": [
      " 31% [........................                                                    ] 188416 / 589727"
     ]
    },
    {
     "name": "stderr",
     "output_type": "stream",
     "text": [
      "[INFO] | 2022/04/18 19:01:24 | ↓ Successfully download the url to: ./journals/post_colonial/critical_inquiry/Sound and Feeling. Critical Inquiry, 10(4), 614–643.pdf\n"
     ]
    },
    {
     "name": "stdout",
     "output_type": "stream",
     "text": [
      "100% [............................................................................] 589727 / 589727\n"
     ]
    },
    {
     "name": "stderr",
     "output_type": "stream",
     "text": [
      "[INFO] | 2022/04/18 19:01:34 | Choose scihub url [0]: https://sci-hub.ru\n",
      "[INFO] | 2022/04/18 19:01:35 | <- Request: scihub_url=https://sci-hub.ru, source=DoiSource[type=doi, id=doi.org/10.1086/448269]\n",
      "[INFO] | 2022/04/18 19:01:35 | -> Response: status_code=200, content_length=6887\n",
      "[INFO] | 2022/04/18 19:01:35 | * Extracted information: {'url': 'https://twin.sci-hub.ru/6025/3d875ef09779e3f495dd3c34cd39b764/davis1984.pdf', 'title': 'The Fisher King  “Wille zur Macht” in Baltimore. Critical Inquiry, 10(4), 668–694'}\n"
     ]
    },
    {
     "name": "stdout",
     "output_type": "stream",
     "text": [
      " 38% [.............................                                               ] 188416 / 491562"
     ]
    },
    {
     "name": "stderr",
     "output_type": "stream",
     "text": [
      "[INFO] | 2022/04/18 19:01:35 | ↓ Successfully download the url to: ./journals/post_colonial/critical_inquiry/The Fisher King  “Wille zur Macht” in Baltimore. Critical Inquiry, 10(4), 668–694.pdf\n"
     ]
    },
    {
     "name": "stdout",
     "output_type": "stream",
     "text": [
      "100% [............................................................................] 491562 / 491562\n"
     ]
    },
    {
     "name": "stderr",
     "output_type": "stream",
     "text": [
      "[INFO] | 2022/04/18 19:01:45 | Choose scihub url [0]: https://sci-hub.ru\n",
      "[INFO] | 2022/04/18 19:01:46 | <- Request: scihub_url=https://sci-hub.ru, source=DoiSource[type=doi, id=doi.org/10.1086/448271]\n",
      "[INFO] | 2022/04/18 19:01:46 | -> Response: status_code=200, content_length=6883\n",
      "[INFO] | 2022/04/18 19:01:46 | * Extracted information: {'url': 'https://twin.sci-hub.ru/5863/ceaf5d05091e1934693643a9157e3805/davis1984.pdf', 'title': 'Offending the Profession (After Peter Handke). Critical Inquiry, 10(4), 706–718'}\n"
     ]
    },
    {
     "name": "stdout",
     "output_type": "stream",
     "text": [
      " 65% [.................................................                           ] 155648 / 236622"
     ]
    },
    {
     "name": "stderr",
     "output_type": "stream",
     "text": [
      "[INFO] | 2022/04/18 19:01:47 | ↓ Successfully download the url to: ./journals/post_colonial/critical_inquiry/Offending the Profession (After Peter Handke). Critical Inquiry, 10(4), 706–718.pdf\n"
     ]
    },
    {
     "name": "stdout",
     "output_type": "stream",
     "text": [
      "100% [............................................................................] 236622 / 236622\n"
     ]
    },
    {
     "name": "stderr",
     "output_type": "stream",
     "text": [
      "[INFO] | 2022/04/18 19:01:57 | Choose scihub url [0]: https://sci-hub.ru\n",
      "[INFO] | 2022/04/18 19:01:57 | <- Request: scihub_url=https://sci-hub.ru, source=DoiSource[type=doi, id=doi.org/10.1086/448272]\n",
      "[INFO] | 2022/04/18 19:01:57 | -> Response: status_code=200, content_length=6815\n",
      "[INFO] | 2022/04/18 19:01:57 | * Extracted information: {'url': 'https://twin.sci-hub.ru/6042/66de1b9cee24d9a43d16f5cfb5f0bd4b/editorial-notes-1984.pdf', 'title': 'Critical Inquiry, 10(4), 719–719'}\n",
      "[INFO] | 2022/04/18 19:01:58 | ↓ Successfully download the url to: ./journals/post_colonial/critical_inquiry/Critical Inquiry, 10(4), 719–719.pdf\n"
     ]
    },
    {
     "name": "stdout",
     "output_type": "stream",
     "text": [
      "100% [..............................................................................] 11968 / 11968\n"
     ]
    },
    {
     "name": "stderr",
     "output_type": "stream",
     "text": [
      "[INFO] | 2022/04/18 19:02:08 | Choose scihub url [0]: https://sci-hub.ru\n",
      "[INFO] | 2022/04/18 19:02:08 | <- Request: scihub_url=https://sci-hub.ru, source=DoiSource[type=doi, id=doi.org/10.1086/448273]\n",
      "[INFO] | 2022/04/18 19:02:08 | -> Response: status_code=200, content_length=6817\n",
      "[INFO] | 2022/04/18 19:02:08 | * Extracted information: {'url': 'https://sci-hub.ru/downloads/2020-05-29/43/rorty1984.pdf', 'title': 'Deconstruction and Circumvention. Critical Inquiry, 11(1), 1–23'}\n"
     ]
    },
    {
     "name": "stdout",
     "output_type": "stream",
     "text": [
      " 29% [......................                                                      ] 188416 / 648718"
     ]
    },
    {
     "name": "stderr",
     "output_type": "stream",
     "text": [
      "[INFO] | 2022/04/18 19:02:09 | ↓ Successfully download the url to: ./journals/post_colonial/critical_inquiry/Deconstruction and Circumvention. Critical Inquiry, 11(1), 1–23.pdf\n"
     ]
    },
    {
     "name": "stdout",
     "output_type": "stream",
     "text": [
      "100% [............................................................................] 648718 / 648718\n"
     ]
    },
    {
     "name": "stderr",
     "output_type": "stream",
     "text": [
      "[INFO] | 2022/04/18 19:02:19 | Choose scihub url [0]: https://sci-hub.ru\n",
      "[INFO] | 2022/04/18 19:02:19 | <- Request: scihub_url=https://sci-hub.ru, source=DoiSource[type=doi, id=doi.org/10.1086/448274]\n",
      "[INFO] | 2022/04/18 19:02:19 | -> Response: status_code=200, content_length=6895\n",
      "[INFO] | 2022/04/18 19:02:19 | * Extracted information: {'url': 'https://twin.sci-hub.ru/6009/4f6da2d43d10932865ff9c66db09dd4a/thomas1984.pdf', 'title': 'The Legal Fictions of Herman Melville and Lemuel Shaw. Critical Inquiry, 11(1), 24–51'}\n"
     ]
    },
    {
     "name": "stdout",
     "output_type": "stream",
     "text": [
      " 13% [..........                                                                  ] 106496 / 786683"
     ]
    },
    {
     "name": "stderr",
     "output_type": "stream",
     "text": [
      "[INFO] | 2022/04/18 19:02:20 | ↓ Successfully download the url to: ./journals/post_colonial/critical_inquiry/The Legal Fictions of Herman Melville and Lemuel Shaw. Critical Inquiry, 11(1), 24–51.pdf\n"
     ]
    },
    {
     "name": "stdout",
     "output_type": "stream",
     "text": [
      "100% [............................................................................] 786683 / 786683\n"
     ]
    },
    {
     "name": "stderr",
     "output_type": "stream",
     "text": [
      "[INFO] | 2022/04/18 19:02:30 | Choose scihub url [0]: https://sci-hub.ru\n",
      "[INFO] | 2022/04/18 19:02:31 | <- Request: scihub_url=https://sci-hub.ru, source=DoiSource[type=doi, id=doi.org/10.1086/448275]\n",
      "[INFO] | 2022/04/18 19:02:31 | -> Response: status_code=200, content_length=6650\n",
      "[INFO] | 2022/04/18 19:02:31 | * Extracted information: {'url': 'https://sci-hub.ru/downloads/2020-03-11/46/simpson1984.pdf', 'title': ''}\n"
     ]
    },
    {
     "name": "stdout",
     "output_type": "stream",
     "text": [
      " 22% [.................                                                           ] 188416 / 821515"
     ]
    },
    {
     "name": "stderr",
     "output_type": "stream",
     "text": [
      "[INFO] | 2022/04/18 19:02:31 | ↓ Successfully download the url to: ./journals/post_colonial/critical_inquiry/ (1).pdf\n"
     ]
    },
    {
     "name": "stdout",
     "output_type": "stream",
     "text": [
      "100% [............................................................................] 821515 / 821515\n"
     ]
    },
    {
     "name": "stderr",
     "output_type": "stream",
     "text": [
      "[INFO] | 2022/04/18 19:02:41 | Choose scihub url [0]: https://sci-hub.ru\n",
      "[INFO] | 2022/04/18 19:02:42 | <- Request: scihub_url=https://sci-hub.ru, source=DoiSource[type=doi, id=doi.org/10.1086/448276]\n",
      "[INFO] | 2022/04/18 19:02:42 | -> Response: status_code=200, content_length=5456\n",
      "[WARNING] | 2022/04/18 19:02:42 | Error occurs, task status: extracting_failed, error: No pdf tag was found in the given content with the selector: #pdf\n",
      "[INFO] | 2022/04/18 19:02:42 | Choose scihub url [1]: http://sci-hub.se\n",
      "[INFO] | 2022/04/18 19:02:42 | <- Request: scihub_url=http://sci-hub.se, source=DoiSource[type=doi, id=doi.org/10.1086/448276]\n",
      "[INFO] | 2022/04/18 19:02:42 | -> Response: status_code=200, content_length=5456\n",
      "[WARNING] | 2022/04/18 19:02:42 | Error occurs, task status: extracting_failed, error: No pdf tag was found in the given content with the selector: #pdf\n",
      "[INFO] | 2022/04/18 19:02:42 | Choose scihub url [2]: http://sci-hub.st\n",
      "[INFO] | 2022/04/18 19:02:45 | <- Request: scihub_url=http://sci-hub.st, source=DoiSource[type=doi, id=doi.org/10.1086/448276]\n",
      "[INFO] | 2022/04/18 19:02:45 | -> Response: status_code=200, content_length=24\n",
      "[WARNING] | 2022/04/18 19:02:45 | Error occurs, task status: extracting_failed, error: No pdf tag was found in the given content with the selector: #pdf\n",
      "[INFO] | 2022/04/18 19:02:45 | Choose scihub url [3]: https://sci-hub.st\n",
      "[INFO] | 2022/04/18 19:02:48 | <- Request: scihub_url=https://sci-hub.st, source=DoiSource[type=doi, id=doi.org/10.1086/448276]\n",
      "[INFO] | 2022/04/18 19:02:48 | -> Response: status_code=200, content_length=24\n",
      "[WARNING] | 2022/04/18 19:02:48 | Error occurs, task status: extracting_failed, error: No pdf tag was found in the given content with the selector: #pdf\n",
      "[INFO] | 2022/04/18 19:02:48 | Choose scihub url [4]: http://sci-hub.ru\n",
      "[INFO] | 2022/04/18 19:02:49 | <- Request: scihub_url=http://sci-hub.ru, source=DoiSource[type=doi, id=doi.org/10.1086/448276]\n",
      "[INFO] | 2022/04/18 19:02:49 | -> Response: status_code=200, content_length=5456\n",
      "[WARNING] | 2022/04/18 19:02:49 | Error occurs, task status: extracting_failed, error: No pdf tag was found in the given content with the selector: #pdf\n",
      "[INFO] | 2022/04/18 19:02:49 | Choose scihub url [5]: https://sci-hub.se\n",
      "[INFO] | 2022/04/18 19:02:49 | <- Request: scihub_url=https://sci-hub.se, source=DoiSource[type=doi, id=doi.org/10.1086/448276]\n",
      "[INFO] | 2022/04/18 19:02:49 | -> Response: status_code=200, content_length=5456\n",
      "[WARNING] | 2022/04/18 19:02:49 | Error occurs, task status: extracting_failed, error: No pdf tag was found in the given content with the selector: #pdf\n",
      "[ERROR] | 2022/04/18 19:02:49 | Failed to download the paper: https://doi.org/10.1086/448276. Please try again.\n",
      "[INFO] | 2022/04/18 19:02:59 | Choose scihub url [0]: https://sci-hub.ru\n",
      "[INFO] | 2022/04/18 19:03:00 | <- Request: scihub_url=https://sci-hub.ru, source=DoiSource[type=doi, id=doi.org/10.1086/448277]\n",
      "[INFO] | 2022/04/18 19:03:00 | -> Response: status_code=200, content_length=6849\n",
      "[INFO] | 2022/04/18 19:03:00 | * Extracted information: {'url': 'https://twin.sci-hub.ru/7005/69c3c0ab0b26e92d673708a632aa4672/niesz1984.pdf', 'title': 'Interactive Fiction. Critical Inquiry, 11(1), 110–129'}\n"
     ]
    },
    {
     "name": "stdout",
     "output_type": "stream",
     "text": [
      " 20% [...............                                                             ] 106496 / 528772"
     ]
    },
    {
     "name": "stderr",
     "output_type": "stream",
     "text": [
      "[INFO] | 2022/04/18 19:03:01 | ↓ Successfully download the url to: ./journals/post_colonial/critical_inquiry/Interactive Fiction. Critical Inquiry, 11(1), 110–129.pdf\n"
     ]
    },
    {
     "name": "stdout",
     "output_type": "stream",
     "text": [
      "100% [............................................................................] 528772 / 528772\n"
     ]
    },
    {
     "name": "stderr",
     "output_type": "stream",
     "text": [
      "[INFO] | 2022/04/18 19:03:11 | Choose scihub url [0]: https://sci-hub.ru\n",
      "[INFO] | 2022/04/18 19:03:11 | <- Request: scihub_url=https://sci-hub.ru, source=DoiSource[type=doi, id=doi.org/10.1086/448278]\n",
      "[INFO] | 2022/04/18 19:03:11 | -> Response: status_code=200, content_length=6921\n",
      "[INFO] | 2022/04/18 19:03:11 | * Extracted information: {'url': 'https://twin.sci-hub.ru/5852/b61f16c98e9f8f17ae49a898f370433d/purdy1984.pdf', 'title': 'Technopoetics  Seeing What Literature Has to Do with the Machine. Critical Inquiry, 11(1), 130–140'}\n"
     ]
    },
    {
     "name": "stdout",
     "output_type": "stream",
     "text": [
      " 60% [.............................................                               ] 188416 / 314003"
     ]
    },
    {
     "name": "stderr",
     "output_type": "stream",
     "text": [
      "[INFO] | 2022/04/18 19:03:12 | ↓ Successfully download the url to: ./journals/post_colonial/critical_inquiry/Technopoetics  Seeing What Literature Has to Do with the Machine. Critical Inquiry, 11(1), 130–140.pdf\n"
     ]
    },
    {
     "name": "stdout",
     "output_type": "stream",
     "text": [
      "100% [............................................................................] 314003 / 314003\n"
     ]
    },
    {
     "name": "stderr",
     "output_type": "stream",
     "text": [
      "[INFO] | 2022/04/18 19:03:22 | Choose scihub url [0]: https://sci-hub.ru\n",
      "[INFO] | 2022/04/18 19:03:22 | <- Request: scihub_url=https://sci-hub.ru, source=DoiSource[type=doi, id=doi.org/10.1086/448279]\n",
      "[INFO] | 2022/04/18 19:03:22 | -> Response: status_code=200, content_length=6883\n",
      "[INFO] | 2022/04/18 19:03:22 | * Extracted information: {'url': 'https://sci-hub.ru/tree/c3/a7/c3a7d065305730b7ca0b38c567ce5a25.pdf', 'title': 'Intertextual Representation  On Mimesis as Interpretive Discourse. Critical Inquiry, 11(1), 141–162'}\n"
     ]
    },
    {
     "name": "stdout",
     "output_type": "stream",
     "text": [
      " 30% [.......................                                                     ] 188416 / 608204"
     ]
    },
    {
     "name": "stderr",
     "output_type": "stream",
     "text": [
      "[INFO] | 2022/04/18 19:03:23 | ↓ Successfully download the url to: ./journals/post_colonial/critical_inquiry/Intertextual Representation  On Mimesis as Interpretive Discourse. Critical Inquiry, 11(1), 141–162.pdf\n"
     ]
    },
    {
     "name": "stdout",
     "output_type": "stream",
     "text": [
      "100% [............................................................................] 608204 / 608204\n"
     ]
    },
    {
     "name": "stderr",
     "output_type": "stream",
     "text": [
      "[INFO] | 2022/04/18 19:03:33 | Choose scihub url [0]: https://sci-hub.ru\n",
      "[INFO] | 2022/04/18 19:03:33 | <- Request: scihub_url=https://sci-hub.ru, source=DoiSource[type=doi, id=doi.org/10.1086/448281]\n",
      "[INFO] | 2022/04/18 19:03:33 | -> Response: status_code=200, content_length=6961\n",
      "[INFO] | 2022/04/18 19:03:33 | * Extracted information: {'url': 'https://twin.sci-hub.ru/6042/9072c3517859e2ad416907a6d5c36f84/froula1984.pdf', 'title': 'Pechter’s Specter  Milton’s Bogey Writ Small; Or, Why Is He Afraid of Virginia Woolf  Critical Inquiry, 11(1), 171–178'}\n"
     ]
    },
    {
     "name": "stdout",
     "output_type": "stream",
     "text": [
      " 85% [.................................................................           ] 188416 / 220058"
     ]
    },
    {
     "name": "stderr",
     "output_type": "stream",
     "text": [
      "[INFO] | 2022/04/18 19:03:34 | ↓ Successfully download the url to: ./journals/post_colonial/critical_inquiry/Pechter’s Specter  Milton’s Bogey Writ Small; Or, Why Is He Afraid of Virginia Woolf  Critical Inquiry, 11(1), 171–178.pdf\n"
     ]
    },
    {
     "name": "stdout",
     "output_type": "stream",
     "text": [
      "100% [............................................................................] 220058 / 220058\n"
     ]
    },
    {
     "name": "stderr",
     "output_type": "stream",
     "text": [
      "[INFO] | 2022/04/18 19:03:44 | Choose scihub url [0]: https://sci-hub.ru\n",
      "[INFO] | 2022/04/18 19:03:45 | <- Request: scihub_url=https://sci-hub.ru, source=DoiSource[type=doi, id=doi.org/10.1086/448283]\n",
      "[INFO] | 2022/04/18 19:03:45 | -> Response: status_code=200, content_length=6954\n",
      "[INFO] | 2022/04/18 19:03:45 | * Extracted information: {'url': 'https://twin.sci-hub.ru/5857/61a3f63f85a1c1e745e4220111f909dd/krieger1984.pdf', 'title': 'The Ambiguities of Representation and Illusion  An E. H. Gombrich Retrospective. Critical Inquiry, 11(2), 181–194'}\n"
     ]
    },
    {
     "name": "stdout",
     "output_type": "stream",
     "text": [
      " 75% [.........................................................                   ] 188416 / 249861"
     ]
    },
    {
     "name": "stderr",
     "output_type": "stream",
     "text": [
      "[INFO] | 2022/04/18 19:03:45 | ↓ Successfully download the url to: ./journals/post_colonial/critical_inquiry/The Ambiguities of Representation and Illusion  An E. H. Gombrich Retrospective. Critical Inquiry, 11(2), 181–194.pdf\n"
     ]
    },
    {
     "name": "stdout",
     "output_type": "stream",
     "text": [
      "100% [............................................................................] 249861 / 249861\n"
     ]
    },
    {
     "name": "stderr",
     "output_type": "stream",
     "text": [
      "[INFO] | 2022/04/18 19:03:55 | Choose scihub url [0]: https://sci-hub.ru\n",
      "[INFO] | 2022/04/18 19:03:56 | <- Request: scihub_url=https://sci-hub.ru, source=DoiSource[type=doi, id=doi.org/10.1086/448284]\n",
      "[INFO] | 2022/04/18 19:03:56 | -> Response: status_code=200, content_length=6874\n",
      "[INFO] | 2022/04/18 19:03:56 | * Extracted information: {'url': 'https://twin.sci-hub.ru/6665/7e15326030794493d2fcbefb30f39a3b/gombrich1984.pdf', 'title': 'Representation and Misrepresentation. Critical Inquiry, 11(2), 195–201'}\n",
      "[INFO] | 2022/04/18 19:03:57 | ↓ Successfully download the url to: ./journals/post_colonial/critical_inquiry/Representation and Misrepresentation. Critical Inquiry, 11(2), 195–201.pdf\n"
     ]
    },
    {
     "name": "stdout",
     "output_type": "stream",
     "text": [
      "100% [............................................................................] 113379 / 113379\n"
     ]
    },
    {
     "name": "stderr",
     "output_type": "stream",
     "text": [
      "[INFO] | 2022/04/18 19:04:07 | Choose scihub url [0]: https://sci-hub.ru\n",
      "[INFO] | 2022/04/18 19:04:07 | <- Request: scihub_url=https://sci-hub.ru, source=DoiSource[type=doi, id=doi.org/10.1086/448285]\n",
      "[INFO] | 2022/04/18 19:04:07 | -> Response: status_code=200, content_length=6881\n",
      "[INFO] | 2022/04/18 19:04:07 | * Extracted information: {'url': 'https://twin.sci-hub.ru/5857/e86344c511e6df8a4c930bd043e259d7/10.1086@448285.pdf', 'title': 'Meaning and Significance Reinterpreted. Critical Inquiry, 11(2), 202–225'}\n"
     ]
    },
    {
     "name": "stdout",
     "output_type": "stream",
     "text": [
      " 45% [..................................                                          ] 188416 / 415585"
     ]
    },
    {
     "name": "stderr",
     "output_type": "stream",
     "text": [
      "[INFO] | 2022/04/18 19:04:08 | ↓ Successfully download the url to: ./journals/post_colonial/critical_inquiry/Meaning and Significance Reinterpreted. Critical Inquiry, 11(2), 202–225.pdf\n"
     ]
    },
    {
     "name": "stdout",
     "output_type": "stream",
     "text": [
      "100% [............................................................................] 415585 / 415585\n"
     ]
    },
    {
     "name": "stderr",
     "output_type": "stream",
     "text": [
      "[INFO] | 2022/04/18 19:04:18 | Choose scihub url [0]: https://sci-hub.ru\n",
      "[INFO] | 2022/04/18 19:04:18 | <- Request: scihub_url=https://sci-hub.ru, source=DoiSource[type=doi, id=doi.org/10.1086/448286]\n",
      "[INFO] | 2022/04/18 19:04:18 | -> Response: status_code=200, content_length=6972\n",
      "[INFO] | 2022/04/18 19:04:18 | * Extracted information: {'url': 'https://twin.sci-hub.ru/6586/ca37d6388ffbca09a45dd5bfd09c3245/sedgwick1984.pdf', 'title': 'Sexualism and the Citizen of the World  Wycherley, Sterne, and Male Homosocial Desire. Critical Inquiry, 11(2), 226–245'}\n"
     ]
    },
    {
     "name": "stdout",
     "output_type": "stream",
     "text": [
      " 52% [.......................................                                     ] 188416 / 361116"
     ]
    },
    {
     "name": "stderr",
     "output_type": "stream",
     "text": [
      "[INFO] | 2022/04/18 19:04:19 | ↓ Successfully download the url to: ./journals/post_colonial/critical_inquiry/Sexualism and the Citizen of the World  Wycherley, Sterne, and Male Homosocial Desire. Critical Inquiry, 11(2), 226–245.pdf\n"
     ]
    },
    {
     "name": "stdout",
     "output_type": "stream",
     "text": [
      "100% [............................................................................] 361116 / 361116\n"
     ]
    },
    {
     "name": "stderr",
     "output_type": "stream",
     "text": [
      "[INFO] | 2022/04/18 19:04:29 | Choose scihub url [0]: https://sci-hub.ru\n",
      "[INFO] | 2022/04/18 19:04:29 | <- Request: scihub_url=https://sci-hub.ru, source=DoiSource[type=doi, id=doi.org/10.1086/448288]\n",
      "[INFO] | 2022/04/18 19:04:29 | -> Response: status_code=502, content_length=581\n",
      "[WARNING] | 2022/04/18 19:04:29 | Error occurs, task status: crawling_failed, error: Error occurs when crawling source: DoiSource[type=doi, id=doi.org/10.1086/448288]\n",
      "[INFO] | 2022/04/18 19:04:29 | Choose scihub url [1]: http://sci-hub.se\n",
      "[INFO] | 2022/04/18 19:04:29 | <- Request: scihub_url=http://sci-hub.se, source=DoiSource[type=doi, id=doi.org/10.1086/448288]\n",
      "[INFO] | 2022/04/18 19:04:29 | -> Response: status_code=200, content_length=6840\n",
      "[INFO] | 2022/04/18 19:04:29 | * Extracted information: {'url': 'https://twin.sci-hub.se/5855/a2485b6fc67992e54c56ba59a1b46a37/johnson1984.pdf', 'title': 'Rigorous Unreliability. Critical Inquiry, 11(2), 278–285'}\n",
      "[INFO] | 2022/04/18 19:04:30 | ↓ Successfully download the url to: ./journals/post_colonial/critical_inquiry/Rigorous Unreliability. Critical Inquiry, 11(2), 278–285.pdf\n"
     ]
    },
    {
     "name": "stdout",
     "output_type": "stream",
     "text": [
      "100% [............................................................................] 146223 / 146223\n"
     ]
    },
    {
     "name": "stderr",
     "output_type": "stream",
     "text": [
      "[INFO] | 2022/04/18 19:04:40 | Choose scihub url [0]: https://sci-hub.ru\n",
      "[INFO] | 2022/04/18 19:04:41 | <- Request: scihub_url=https://sci-hub.ru, source=DoiSource[type=doi, id=doi.org/10.1086/448289]\n",
      "[INFO] | 2022/04/18 19:04:41 | -> Response: status_code=200, content_length=6780\n",
      "[INFO] | 2022/04/18 19:04:41 | * Extracted information: {'url': 'https://sci-hub.ru/downloads/2020-05-06/9f/fisher1984.pdf', 'title': 'Entitling. Critical Inquiry, 11(2), 286–298'}\n"
     ]
    },
    {
     "name": "stdout",
     "output_type": "stream",
     "text": [
      " 70% [.....................................................                       ] 172032 / 244023"
     ]
    },
    {
     "name": "stderr",
     "output_type": "stream",
     "text": [
      "[INFO] | 2022/04/18 19:04:41 | ↓ Successfully download the url to: ./journals/post_colonial/critical_inquiry/Entitling. Critical Inquiry, 11(2), 286–298.pdf\n"
     ]
    },
    {
     "name": "stdout",
     "output_type": "stream",
     "text": [
      "100% [............................................................................] 244023 / 244023\n"
     ]
    },
    {
     "name": "stderr",
     "output_type": "stream",
     "text": [
      "[INFO] | 2022/04/18 19:04:51 | Choose scihub url [0]: https://sci-hub.ru\n",
      "[INFO] | 2022/04/18 19:04:52 | <- Request: scihub_url=https://sci-hub.ru, source=DoiSource[type=doi, id=doi.org/10.1086/448291]\n",
      "[INFO] | 2022/04/18 19:04:52 | -> Response: status_code=200, content_length=6974\n",
      "[INFO] | 2022/04/18 19:04:52 | * Extracted information: {'url': 'https://sci-hub.ru/downloads/2019-12-08/dd/rochberg1984.pdf', 'title': 'Can the Arts Survive Modernism  (A Discussion of the Characteristics, History, and Legacy of Modernism). Critical Inquiry, 11(2), 317–340'}\n"
     ]
    },
    {
     "name": "stdout",
     "output_type": "stream",
     "text": [
      " 46% [...................................                                         ] 188416 / 405689"
     ]
    },
    {
     "name": "stderr",
     "output_type": "stream",
     "text": [
      "[INFO] | 2022/04/18 19:04:53 | ↓ Successfully download the url to: ./journals/post_colonial/critical_inquiry/Can the Arts Survive Modernism  (A Discussion of the Characteristics, History, and Legacy of Modernism). Critical Inquiry, 11(2), 317–340.pdf\n"
     ]
    },
    {
     "name": "stdout",
     "output_type": "stream",
     "text": [
      "100% [............................................................................] 405689 / 405689\n"
     ]
    },
    {
     "name": "stderr",
     "output_type": "stream",
     "text": [
      "[INFO] | 2022/04/18 19:05:03 | Choose scihub url [0]: https://sci-hub.ru\n",
      "[INFO] | 2022/04/18 19:05:03 | <- Request: scihub_url=https://sci-hub.ru, source=DoiSource[type=doi, id=doi.org/10.1086/448292]\n",
      "[INFO] | 2022/04/18 19:05:03 | -> Response: status_code=200, content_length=6870\n",
      "[INFO] | 2022/04/18 19:05:03 | * Extracted information: {'url': 'https://twin.sci-hub.ru/6019/af50b3676c5395fc76036ef5f9143456/kramer1984.pdf', 'title': 'Can Modernism Survive George Rochberg  Critical Inquiry, 11(2), 341–354'}\n"
     ]
    },
    {
     "name": "stdout",
     "output_type": "stream",
     "text": [
      " 77% [..........................................................                  ] 188416 / 243292"
     ]
    },
    {
     "name": "stderr",
     "output_type": "stream",
     "text": [
      "[INFO] | 2022/04/18 19:05:04 | ↓ Successfully download the url to: ./journals/post_colonial/critical_inquiry/Can Modernism Survive George Rochberg  Critical Inquiry, 11(2), 341–354.pdf\n"
     ]
    },
    {
     "name": "stdout",
     "output_type": "stream",
     "text": [
      "100% [............................................................................] 243292 / 243292\n"
     ]
    },
    {
     "name": "stderr",
     "output_type": "stream",
     "text": [
      "[INFO] | 2022/04/18 19:05:14 | Choose scihub url [0]: https://sci-hub.ru\n",
      "[INFO] | 2022/04/18 19:05:14 | <- Request: scihub_url=https://sci-hub.ru, source=DoiSource[type=doi, id=doi.org/10.1086/448294]\n",
      "[INFO] | 2022/04/18 19:05:14 | -> Response: status_code=200, content_length=6933\n",
      "[INFO] | 2022/04/18 19:05:14 | * Extracted information: {'url': 'https://twin.sci-hub.ru/6532/fe4700a52272633806aed1b5dd414528/longxi1985.pdf', 'title': 'The “Tao” and the “Logos”  Notes on Derrida’s Critique of Logocentrism. Critical Inquiry, 11(3), 385–398'}\n"
     ]
    },
    {
     "name": "stdout",
     "output_type": "stream",
     "text": [
      " 67% [...................................................                         ] 188416 / 277308"
     ]
    },
    {
     "name": "stderr",
     "output_type": "stream",
     "text": [
      "[INFO] | 2022/04/18 19:05:15 | ↓ Successfully download the url to: ./journals/post_colonial/critical_inquiry/The “Tao” and the “Logos”  Notes on Derrida’s Critique of Logocentrism. Critical Inquiry, 11(3), 385–398.pdf\n"
     ]
    },
    {
     "name": "stdout",
     "output_type": "stream",
     "text": [
      "100% [............................................................................] 277308 / 277308\n"
     ]
    },
    {
     "name": "stderr",
     "output_type": "stream",
     "text": [
      "[INFO] | 2022/04/18 19:05:25 | Choose scihub url [0]: https://sci-hub.ru\n",
      "[INFO] | 2022/04/18 19:05:25 | <- Request: scihub_url=https://sci-hub.ru, source=DoiSource[type=doi, id=doi.org/10.1086/448298]\n",
      "[INFO] | 2022/04/18 19:05:25 | -> Response: status_code=200, content_length=6811\n",
      "[INFO] | 2022/04/18 19:05:25 | * Extracted information: {'url': 'https://twin.sci-hub.ru/6554/dd9b029fae8d1823bb1876f7ebf4b114/fish1985.pdf', 'title': 'Consequences. Critical Inquiry, 11(3), 433–458'}\n"
     ]
    },
    {
     "name": "stdout",
     "output_type": "stream",
     "text": [
      " 38% [.............................                                               ] 188416 / 487546"
     ]
    },
    {
     "name": "stderr",
     "output_type": "stream",
     "text": [
      "[INFO] | 2022/04/18 19:05:26 | ↓ Successfully download the url to: ./journals/post_colonial/critical_inquiry/Consequences. Critical Inquiry, 11(3), 433–458.pdf\n"
     ]
    },
    {
     "name": "stdout",
     "output_type": "stream",
     "text": [
      "100% [............................................................................] 487546 / 487546\n"
     ]
    },
    {
     "name": "stderr",
     "output_type": "stream",
     "text": [
      "[INFO] | 2022/04/18 19:05:36 | Choose scihub url [0]: https://sci-hub.ru\n",
      "[INFO] | 2022/04/18 19:05:37 | <- Request: scihub_url=https://sci-hub.ru, source=DoiSource[type=doi, id=doi.org/10.1086/448299]\n",
      "[INFO] | 2022/04/18 19:05:37 | -> Response: status_code=200, content_length=6848\n",
      "[INFO] | 2022/04/18 19:05:37 | * Extracted information: {'url': 'https://twin.sci-hub.ru/6136/ee5b9e3d2804a19008ba06161eb9208e/rorty1985.pdf', 'title': 'Philosophy without Principles. Critical Inquiry, 11(3), 459–465'}\n",
      "[INFO] | 2022/04/18 19:05:37 | ↓ Successfully download the url to: ./journals/post_colonial/critical_inquiry/Philosophy without Principles. Critical Inquiry, 11(3), 459–465.pdf\n"
     ]
    },
    {
     "name": "stdout",
     "output_type": "stream",
     "text": [
      "100% [............................................................................] 135892 / 135892\n"
     ]
    },
    {
     "name": "stderr",
     "output_type": "stream",
     "text": [
      "[INFO] | 2022/04/18 19:05:47 | Choose scihub url [0]: https://sci-hub.ru\n",
      "[INFO] | 2022/04/18 19:05:48 | <- Request: scihub_url=https://sci-hub.ru, source=DoiSource[type=doi, id=doi.org/10.1086/448302]\n",
      "[INFO] | 2022/04/18 19:05:48 | -> Response: status_code=200, content_length=6823\n",
      "[INFO] | 2022/04/18 19:05:48 | * Extracted information: {'url': 'https://twin.sci-hub.ru/6206/1f2cf8574ccf85665342bbcccd0571d2/marcus1985.pdf', 'title': 'Quentin’s Bogey. Critical Inquiry, 11(3), 486–497'}\n"
     ]
    },
    {
     "name": "stdout",
     "output_type": "stream",
     "text": [
      " 77% [...........................................................                 ] 188416 / 241769"
     ]
    },
    {
     "name": "stderr",
     "output_type": "stream",
     "text": [
      "[INFO] | 2022/04/18 19:05:49 | ↓ Successfully download the url to: ./journals/post_colonial/critical_inquiry/Quentin’s Bogey. Critical Inquiry, 11(3), 486–497.pdf\n"
     ]
    },
    {
     "name": "stdout",
     "output_type": "stream",
     "text": [
      "100% [............................................................................] 241769 / 241769\n"
     ]
    },
    {
     "name": "stderr",
     "output_type": "stream",
     "text": [
      "[INFO] | 2022/04/18 19:05:59 | Choose scihub url [0]: https://sci-hub.ru\n",
      "[INFO] | 2022/04/18 19:05:59 | <- Request: scihub_url=https://sci-hub.ru, source=DoiSource[type=doi, id=doi.org/10.1086/448305]\n",
      "[INFO] | 2022/04/18 19:05:59 | -> Response: status_code=200, content_length=6652\n",
      "[INFO] | 2022/04/18 19:05:59 | * Extracted information: {'url': 'https://sci-hub.ru/downloads/2019-09-16/15/rochberg1985.pdf', 'title': ''}\n",
      "[INFO] | 2022/04/18 19:05:59 | ↓ Successfully download the url to: ./journals/post_colonial/critical_inquiry/ (1).pdf\n"
     ]
    },
    {
     "name": "stdout",
     "output_type": "stream",
     "text": [
      "100% [............................................................................] 161689 / 161689\n"
     ]
    },
    {
     "name": "stderr",
     "output_type": "stream",
     "text": [
      "[INFO] | 2022/04/18 19:06:09 | Choose scihub url [0]: https://sci-hub.ru\n",
      "[INFO] | 2022/04/18 19:06:10 | <- Request: scihub_url=https://sci-hub.ru, source=DoiSource[type=doi, id=doi.org/10.1086/448306]\n",
      "[INFO] | 2022/04/18 19:06:10 | -> Response: status_code=200, content_length=6837\n",
      "[INFO] | 2022/04/18 19:06:10 | * Extracted information: {'url': 'https://twin.sci-hub.ru/6027/7189c4fb9016bfa1d79ae6d0835d555a/cavell1985.pdf', 'title': 'The Division of Talent. Critical Inquiry, 11(4), 519–538'}\n"
     ]
    },
    {
     "name": "stdout",
     "output_type": "stream",
     "text": [
      " 50% [......................................                                      ] 188416 / 373536"
     ]
    },
    {
     "name": "stderr",
     "output_type": "stream",
     "text": [
      "[INFO] | 2022/04/18 19:06:11 | ↓ Successfully download the url to: ./journals/post_colonial/critical_inquiry/The Division of Talent. Critical Inquiry, 11(4), 519–538.pdf\n"
     ]
    },
    {
     "name": "stdout",
     "output_type": "stream",
     "text": [
      "100% [............................................................................] 373536 / 373536\n"
     ]
    },
    {
     "name": "stderr",
     "output_type": "stream",
     "text": [
      "[INFO] | 2022/04/18 19:06:21 | Choose scihub url [0]: https://sci-hub.ru\n",
      "[INFO] | 2022/04/18 19:06:21 | <- Request: scihub_url=https://sci-hub.ru, source=DoiSource[type=doi, id=doi.org/10.1086/448307]\n",
      "[INFO] | 2022/04/18 19:06:21 | -> Response: status_code=200, content_length=6877\n",
      "[INFO] | 2022/04/18 19:06:21 | * Extracted information: {'url': 'https://twin.sci-hub.ru/5848/7702fdbe1472d81d053fb52c7d5ab929/snyder1985.pdf', 'title': '“Las Meninas” and the Mirror of the Prince. Critical Inquiry, 11(4), 539–572'}\n"
     ]
    },
    {
     "name": "stdout",
     "output_type": "stream",
     "text": [
      " 22% [................                                                            ] 188416 / 851885"
     ]
    },
    {
     "name": "stderr",
     "output_type": "stream",
     "text": [
      "[INFO] | 2022/04/18 19:06:22 | ↓ Successfully download the url to: ./journals/post_colonial/critical_inquiry/“Las Meninas” and the Mirror of the Prince. Critical Inquiry, 11(4), 539–572.pdf\n"
     ]
    },
    {
     "name": "stdout",
     "output_type": "stream",
     "text": [
      "100% [............................................................................] 851885 / 851885\n"
     ]
    },
    {
     "name": "stderr",
     "output_type": "stream",
     "text": [
      "[INFO] | 2022/04/18 19:06:32 | Choose scihub url [0]: https://sci-hub.ru\n",
      "[INFO] | 2022/04/18 19:06:32 | <- Request: scihub_url=https://sci-hub.ru, source=DoiSource[type=doi, id=doi.org/10.1086/448308]\n",
      "[INFO] | 2022/04/18 19:06:32 | -> Response: status_code=200, content_length=6859\n",
      "[INFO] | 2022/04/18 19:06:32 | * Extracted information: {'url': 'https://twin.sci-hub.ru/5957/939af0044734d293fe72e3e3a62ba09e/cottom1985.pdf', 'title': 'The Enchantment of Interpretation. Critical Inquiry, 11(4), 573–594'}\n"
     ]
    },
    {
     "name": "stdout",
     "output_type": "stream",
     "text": [
      " 43% [.................................                                           ] 172032 / 393136"
     ]
    },
    {
     "name": "stderr",
     "output_type": "stream",
     "text": [
      "[INFO] | 2022/04/18 19:06:33 | ↓ Successfully download the url to: ./journals/post_colonial/critical_inquiry/The Enchantment of Interpretation. Critical Inquiry, 11(4), 573–594.pdf\n"
     ]
    },
    {
     "name": "stdout",
     "output_type": "stream",
     "text": [
      "100% [............................................................................] 393136 / 393136\n"
     ]
    },
    {
     "name": "stderr",
     "output_type": "stream",
     "text": [
      "[INFO] | 2022/04/18 19:06:43 | Choose scihub url [0]: https://sci-hub.ru\n",
      "[INFO] | 2022/04/18 19:06:43 | <- Request: scihub_url=https://sci-hub.ru, source=DoiSource[type=doi, id=doi.org/10.1086/448310]\n",
      "[INFO] | 2022/04/18 19:06:43 | -> Response: status_code=200, content_length=6845\n",
      "[INFO] | 2022/04/18 19:06:43 | * Extracted information: {'url': 'https://twin.sci-hub.ru/6594/592b0b0ddd20c40d281d5066a46ada84/mailloux1985.pdf', 'title': 'Rhetorical Hermeneutics. Critical Inquiry, 11(4), 620–641'}\n"
     ]
    },
    {
     "name": "stdout",
     "output_type": "stream",
     "text": [
      " 44% [.................................                                           ] 188416 / 427015"
     ]
    },
    {
     "name": "stderr",
     "output_type": "stream",
     "text": [
      "[INFO] | 2022/04/18 19:06:44 | ↓ Successfully download the url to: ./journals/post_colonial/critical_inquiry/Rhetorical Hermeneutics. Critical Inquiry, 11(4), 620–641.pdf\n"
     ]
    },
    {
     "name": "stdout",
     "output_type": "stream",
     "text": [
      "100% [............................................................................] 427015 / 427015\n"
     ]
    },
    {
     "name": "stderr",
     "output_type": "stream",
     "text": [
      "[INFO] | 2022/04/18 19:06:54 | Choose scihub url [0]: https://sci-hub.ru\n",
      "[INFO] | 2022/04/18 19:06:54 | <- Request: scihub_url=https://sci-hub.ru, source=DoiSource[type=doi, id=doi.org/10.1086/448311]\n",
      "[INFO] | 2022/04/18 19:06:54 | -> Response: status_code=200, content_length=6832\n",
      "[INFO] | 2022/04/18 19:06:54 | * Extracted information: {'url': 'https://twin.sci-hub.ru/5866/e7282289ee8cf0aa14b64dfd63e748cd/goodman1985.pdf', 'title': 'How Buildings Mean. Critical Inquiry, 11(4), 642–653'}\n"
     ]
    },
    {
     "name": "stdout",
     "output_type": "stream",
     "text": [
      " 49% [.....................................                                       ] 188416 / 379906"
     ]
    },
    {
     "name": "stderr",
     "output_type": "stream",
     "text": [
      "[INFO] | 2022/04/18 19:06:55 | ↓ Successfully download the url to: ./journals/post_colonial/critical_inquiry/How Buildings Mean. Critical Inquiry, 11(4), 642–653.pdf\n"
     ]
    },
    {
     "name": "stdout",
     "output_type": "stream",
     "text": [
      "100% [............................................................................] 379906 / 379906\n"
     ]
    },
    {
     "name": "stderr",
     "output_type": "stream",
     "text": [
      "[INFO] | 2022/04/18 19:07:05 | Choose scihub url [0]: https://sci-hub.ru\n",
      "[INFO] | 2022/04/18 19:07:06 | <- Request: scihub_url=https://sci-hub.ru, source=DoiSource[type=doi, id=doi.org/10.1086/448314]\n",
      "[INFO] | 2022/04/18 19:07:06 | -> Response: status_code=200, content_length=6918\n",
      "[INFO] | 2022/04/18 19:07:06 | * Extracted information: {'url': 'https://twin.sci-hub.ru/5946/769fe6bdaa0a9a658fe28c823e322bdc/morson1985.pdf', 'title': 'Dialogue, Monologue, and the Social  A Reply to Ken Hirschkop. Critical Inquiry, 11(4), 679–686'}\n",
      "[INFO] | 2022/04/18 19:07:07 | ↓ Successfully download the url to: ./journals/post_colonial/critical_inquiry/Dialogue, Monologue, and the Social  A Reply to Ken Hirschkop. Critical Inquiry, 11(4), 679–686.pdf\n"
     ]
    },
    {
     "name": "stdout",
     "output_type": "stream",
     "text": [
      "100% [............................................................................] 150882 / 150882\n"
     ]
    },
    {
     "name": "stderr",
     "output_type": "stream",
     "text": [
      "[INFO] | 2022/04/18 19:07:17 | Choose scihub url [0]: https://sci-hub.ru\n",
      "[INFO] | 2022/04/18 19:07:17 | <- Request: scihub_url=https://sci-hub.ru, source=DoiSource[type=doi, id=doi.org/10.1086/448316]\n",
      "[INFO] | 2022/04/18 19:07:17 | -> Response: status_code=200, content_length=6841\n",
      "[INFO] | 2022/04/18 19:07:17 | * Extracted information: {'url': 'https://twin.sci-hub.ru/6663/7c346d75a93f0070e11a12929f930e45/booth1985.pdf', 'title': 'Reply to Richard Berrong. Critical Inquiry, 11(4), 697–701'}\n",
      "[INFO] | 2022/04/18 19:07:18 | ↓ Successfully download the url to: ./journals/post_colonial/critical_inquiry/Reply to Richard Berrong. Critical Inquiry, 11(4), 697–701.pdf\n"
     ]
    },
    {
     "name": "stdout",
     "output_type": "stream",
     "text": [
      "100% [..............................................................................] 85202 / 85202\n"
     ]
    },
    {
     "name": "stderr",
     "output_type": "stream",
     "text": [
      "[INFO] | 2022/04/18 19:07:28 | Choose scihub url [0]: https://sci-hub.ru\n",
      "[INFO] | 2022/04/18 19:07:28 | <- Request: scihub_url=https://sci-hub.ru, source=DoiSource[type=doi, id=doi.org/10.1086/448318]\n",
      "[INFO] | 2022/04/18 19:07:28 | -> Response: status_code=200, content_length=6928\n",
      "[INFO] | 2022/04/18 19:07:28 | * Extracted information: {'url': 'https://twin.sci-hub.ru/5835/94b53f148437b074dceed30bea3b7393/10.1086@448318.pdf', 'title': 'Editor’s Introduction  Writing “Race” and the Difference It Makes. Critical Inquiry, 12(1), 1–20'}\n"
     ]
    },
    {
     "name": "stdout",
     "output_type": "stream",
     "text": [
      " 49% [....................................                                      ] 1114112 / 2250069"
     ]
    },
    {
     "name": "stderr",
     "output_type": "stream",
     "text": [
      "[INFO] | 2022/04/18 19:07:29 | ↓ Successfully download the url to: ./journals/post_colonial/critical_inquiry/Editor’s Introduction  Writing “Race” and the Difference It Makes. Critical Inquiry, 12(1), 1–20.pdf\n"
     ]
    },
    {
     "name": "stdout",
     "output_type": "stream",
     "text": [
      "100% [..........................................................................] 2250069 / 2250069\n"
     ]
    },
    {
     "name": "stderr",
     "output_type": "stream",
     "text": [
      "[INFO] | 2022/04/18 19:07:39 | Choose scihub url [0]: https://sci-hub.ru\n",
      "[INFO] | 2022/04/18 19:07:40 | <- Request: scihub_url=https://sci-hub.ru, source=DoiSource[type=doi, id=doi.org/10.1086/448319]\n",
      "[INFO] | 2022/04/18 19:07:40 | -> Response: status_code=200, content_length=6905\n",
      "[INFO] | 2022/04/18 19:07:40 | * Extracted information: {'url': 'https://twin.sci-hub.ru/6269/eb10d81c4a2f42e25412805a80a573aa/appiah1985.pdf', 'title': 'The Uncompleted Argument  Du Bois and the Illusion of Race. Critical Inquiry, 12(1), 21–37'}\n"
     ]
    },
    {
     "name": "stdout",
     "output_type": "stream",
     "text": [
      " 53% [.......................................                                   ]  991232 / 1869828"
     ]
    },
    {
     "name": "stderr",
     "output_type": "stream",
     "text": [
      "[INFO] | 2022/04/18 19:07:41 | ↓ Successfully download the url to: ./journals/post_colonial/critical_inquiry/The Uncompleted Argument  Du Bois and the Illusion of Race. Critical Inquiry, 12(1), 21–37.pdf\n"
     ]
    },
    {
     "name": "stdout",
     "output_type": "stream",
     "text": [
      "100% [..........................................................................] 1869828 / 1869828\n"
     ]
    },
    {
     "name": "stderr",
     "output_type": "stream",
     "text": [
      "[INFO] | 2022/04/18 19:07:51 | Choose scihub url [0]: https://sci-hub.ru\n",
      "[INFO] | 2022/04/18 19:07:51 | <- Request: scihub_url=https://sci-hub.ru, source=DoiSource[type=doi, id=doi.org/10.1086/448320]\n",
      "[INFO] | 2022/04/18 19:07:51 | -> Response: status_code=200, content_length=6836\n",
      "[INFO] | 2022/04/18 19:07:51 | * Extracted information: {'url': 'https://twin.sci-hub.ru/6594/ada30a08dde317ed367b5614dc393a88/said1985.pdf', 'title': 'An Ideology of Difference. Critical Inquiry, 12(1), 38–58'}\n"
     ]
    },
    {
     "name": "stdout",
     "output_type": "stream",
     "text": [
      " 43% [...............................                                           ] 1097728 / 2544794"
     ]
    },
    {
     "name": "stderr",
     "output_type": "stream",
     "text": [
      "[INFO] | 2022/04/18 19:07:52 | ↓ Successfully download the url to: ./journals/post_colonial/critical_inquiry/An Ideology of Difference. Critical Inquiry, 12(1), 38–58.pdf\n"
     ]
    },
    {
     "name": "stdout",
     "output_type": "stream",
     "text": [
      "100% [..........................................................................] 2544794 / 2544794\n"
     ]
    },
    {
     "name": "stderr",
     "output_type": "stream",
     "text": [
      "[INFO] | 2022/04/18 19:08:02 | Choose scihub url [0]: https://sci-hub.ru\n",
      "[INFO] | 2022/04/18 19:08:03 | <- Request: scihub_url=https://sci-hub.ru, source=DoiSource[type=doi, id=doi.org/10.1086/448321]\n",
      "[INFO] | 2022/04/18 19:08:03 | -> Response: status_code=200, content_length=6992\n",
      "[INFO] | 2022/04/18 19:08:03 | * Extracted information: {'url': 'https://twin.sci-hub.ru/6536/212099877dc0cef805220713678392b1/janmohamed1985.pdf', 'title': 'The Economy of Manichean Allegory  The Function of Racial Difference in Colonialist Literature. Critical Inquiry, 12(1), 59–87'}\n"
     ]
    },
    {
     "name": "stdout",
     "output_type": "stream",
     "text": [
      " 35% [..........................                                                ] 1253376 / 3519929"
     ]
    },
    {
     "name": "stderr",
     "output_type": "stream",
     "text": [
      "[INFO] | 2022/04/18 19:08:04 | ↓ Successfully download the url to: ./journals/post_colonial/critical_inquiry/The Economy of Manichean Allegory  The Function of Racial Difference in Colonialist Literature. Critical Inquiry, 12(1), 59–87.pdf\n"
     ]
    },
    {
     "name": "stdout",
     "output_type": "stream",
     "text": [
      "100% [..........................................................................] 3519929 / 3519929\n"
     ]
    },
    {
     "name": "stderr",
     "output_type": "stream",
     "text": [
      "[INFO] | 2022/04/18 19:08:14 | Choose scihub url [0]: https://sci-hub.ru\n",
      "[INFO] | 2022/04/18 19:08:14 | <- Request: scihub_url=https://sci-hub.ru, source=DoiSource[type=doi, id=doi.org/10.1086/448322]\n",
      "[INFO] | 2022/04/18 19:08:14 | -> Response: status_code=200, content_length=6801\n",
      "[INFO] | 2022/04/18 19:08:14 | * Extracted information: {'url': 'https://sci-hub.ru/downloads/2020-07-02//06/lewis1985.pdf', 'title': 'The Crows of the Arabs. Critical Inquiry, 12(1), 88–97'}\n"
     ]
    },
    {
     "name": "stdout",
     "output_type": "stream",
     "text": [
      " 86% [.................................................................           ] 860160 / 992348"
     ]
    },
    {
     "name": "stderr",
     "output_type": "stream",
     "text": [
      "[INFO] | 2022/04/18 19:08:15 | ↓ Successfully download the url to: ./journals/post_colonial/critical_inquiry/The Crows of the Arabs. Critical Inquiry, 12(1), 88–97.pdf\n"
     ]
    },
    {
     "name": "stdout",
     "output_type": "stream",
     "text": [
      "100% [............................................................................] 992348 / 992348\n"
     ]
    },
    {
     "name": "stderr",
     "output_type": "stream",
     "text": [
      "[INFO] | 2022/04/18 19:08:25 | Choose scihub url [0]: https://sci-hub.ru\n",
      "[INFO] | 2022/04/18 19:08:25 | <- Request: scihub_url=https://sci-hub.ru, source=DoiSource[type=doi, id=doi.org/10.1086/448324]\n",
      "[INFO] | 2022/04/18 19:08:25 | -> Response: status_code=200, content_length=6938\n",
      "[INFO] | 2022/04/18 19:08:25 | * Extracted information: {'url': 'https://sci-hub.ru/downloads/2020-05-10/24/pratt1985.pdf', 'title': 'Scratches on the Face of the Country; Or, What Mr. Barrow Saw in the Land of the Bushmen. Critical Inquiry, 12(1), 119–143'}\n"
     ]
    },
    {
     "name": "stdout",
     "output_type": "stream",
     "text": [
      " 39% [.............................                                             ] 1236992 / 3138533"
     ]
    },
    {
     "name": "stderr",
     "output_type": "stream",
     "text": [
      "[INFO] | 2022/04/18 19:08:26 | ↓ Successfully download the url to: ./journals/post_colonial/critical_inquiry/Scratches on the Face of the Country; Or, What Mr. Barrow Saw in the Land of the Bushmen. Critical Inquiry, 12(1), 119–143.pdf\n"
     ]
    },
    {
     "name": "stdout",
     "output_type": "stream",
     "text": [
      "100% [..........................................................................] 3138533 / 3138533\n"
     ]
    },
    {
     "name": "stderr",
     "output_type": "stream",
     "text": [
      "[INFO] | 2022/04/18 19:08:36 | Choose scihub url [0]: https://sci-hub.ru\n",
      "[INFO] | 2022/04/18 19:08:37 | <- Request: scihub_url=https://sci-hub.ru, source=DoiSource[type=doi, id=doi.org/10.1086/448325]\n",
      "[INFO] | 2022/04/18 19:08:37 | -> Response: status_code=200, content_length=6952\n",
      "[INFO] | 2022/04/18 19:08:37 | * Extracted information: {'url': 'https://sci-hub.ru/tree/e7/31/e731d562eb56a3cc2c19ccfadd6a7d4d.pdf', 'title': 'Signs Taken for Wonders  Questions of Ambivalence and Authority under a Tree outside Delhi, May 1817. Critical Inquiry, 12(1), 144–165'}\n"
     ]
    },
    {
     "name": "stdout",
     "output_type": "stream",
     "text": [
      " 45% [.................................                                         ] 1163264 / 2548284"
     ]
    },
    {
     "name": "stderr",
     "output_type": "stream",
     "text": [
      "[INFO] | 2022/04/18 19:08:38 | ↓ Successfully download the url to: ./journals/post_colonial/critical_inquiry/Signs Taken for Wonders  Questions of Ambivalence and Authority under a Tree outside Delhi, May 1817. Critical Inquiry, 12(1), 144–165.pdf\n"
     ]
    },
    {
     "name": "stdout",
     "output_type": "stream",
     "text": [
      "100% [..........................................................................] 2548284 / 2548284\n"
     ]
    },
    {
     "name": "stderr",
     "output_type": "stream",
     "text": [
      "[INFO] | 2022/04/18 19:08:48 | Choose scihub url [0]: https://sci-hub.ru\n",
      "[INFO] | 2022/04/18 19:08:48 | <- Request: scihub_url=https://sci-hub.ru, source=DoiSource[type=doi, id=doi.org/10.1086/448326]\n",
      "[INFO] | 2022/04/18 19:08:48 | -> Response: status_code=200, content_length=6952\n",
      "[INFO] | 2022/04/18 19:08:49 | * Extracted information: {'url': 'https://twin.sci-hub.ru/6028/071fa968a219d108b43b4c8a8f9b2609/brantlinger1985.pdf', 'title': 'Victorians and Africans  The Genealogy of the Myth of the Dark Continent. Critical Inquiry, 12(1), 166–203'}\n"
     ]
    },
    {
     "name": "stdout",
     "output_type": "stream",
     "text": [
      " 48% [...................................                                       ] 2400256 / 4989795"
     ]
    },
    {
     "name": "stderr",
     "output_type": "stream",
     "text": [
      "[INFO] | 2022/04/18 19:08:50 | ↓ Successfully download the url to: ./journals/post_colonial/critical_inquiry/Victorians and Africans  The Genealogy of the Myth of the Dark Continent. Critical Inquiry, 12(1), 166–203.pdf\n"
     ]
    },
    {
     "name": "stdout",
     "output_type": "stream",
     "text": [
      "100% [..........................................................................] 4989795 / 4989795\n"
     ]
    },
    {
     "name": "stderr",
     "output_type": "stream",
     "text": [
      "[INFO] | 2022/04/18 19:09:00 | Choose scihub url [0]: https://sci-hub.ru\n",
      "[INFO] | 2022/04/18 19:09:00 | <- Request: scihub_url=https://sci-hub.ru, source=DoiSource[type=doi, id=doi.org/10.1086/448327]\n",
      "[INFO] | 2022/04/18 19:09:00 | -> Response: status_code=200, content_length=7048\n",
      "[INFO] | 2022/04/18 19:09:00 | * Extracted information: {'url': 'https://twin.sci-hub.ru/6028/ed3bec2f1369e12d60a8dd65317fff67/gilman1985.pdf', 'title': 'Black Bodies, White Bodies  Toward an Iconography of Female Sexuality in Late Nineteenth-Century Art, Medicine, and Literature. Critical Inquiry, 12(1), 204–242'}\n"
     ]
    },
    {
     "name": "stdout",
     "output_type": "stream",
     "text": [
      " 99% [......................................................................... ] 4972544 / 5012696"
     ]
    },
    {
     "name": "stderr",
     "output_type": "stream",
     "text": [
      "[INFO] | 2022/04/18 19:09:02 | ↓ Successfully download the url to: ./journals/post_colonial/critical_inquiry/Black Bodies, White Bodies  Toward an Iconography of Female Sexuality in Late Nineteenth-Century Art, Medicine, and Literature. Critical Inquiry, 12(1), 204–242.pdf\n"
     ]
    },
    {
     "name": "stdout",
     "output_type": "stream",
     "text": [
      "100% [..........................................................................] 5012696 / 5012696\n"
     ]
    },
    {
     "name": "stderr",
     "output_type": "stream",
     "text": [
      "[INFO] | 2022/04/18 19:09:12 | Choose scihub url [0]: https://sci-hub.ru\n",
      "[INFO] | 2022/04/18 19:09:12 | <- Request: scihub_url=https://sci-hub.ru, source=DoiSource[type=doi, id=doi.org/10.1086/448328]\n",
      "[INFO] | 2022/04/18 19:09:12 | -> Response: status_code=200, content_length=6894\n",
      "[INFO] | 2022/04/18 19:09:13 | * Extracted information: {'url': 'https://twin.sci-hub.ru/6103/87b1b9c0a5d16df58ea60d7600ebbbc1/spivak1985.pdf', 'title': 'Three Women’s Texts and a Critique of Imperialism. Critical Inquiry, 12(1), 243–261'}\n"
     ]
    },
    {
     "name": "stdout",
     "output_type": "stream",
     "text": [
      " 51% [......................................                                    ] 1171456 / 2261689"
     ]
    },
    {
     "name": "stderr",
     "output_type": "stream",
     "text": [
      "[INFO] | 2022/04/18 19:09:14 | ↓ Successfully download the url to: ./journals/post_colonial/critical_inquiry/Three Women’s Texts and a Critique of Imperialism. Critical Inquiry, 12(1), 243–261.pdf\n"
     ]
    },
    {
     "name": "stdout",
     "output_type": "stream",
     "text": [
      "100% [..........................................................................] 2261689 / 2261689\n"
     ]
    },
    {
     "name": "stderr",
     "output_type": "stream",
     "text": [
      "[INFO] | 2022/04/18 19:09:24 | Choose scihub url [0]: https://sci-hub.ru\n",
      "[INFO] | 2022/04/18 19:09:25 | <- Request: scihub_url=https://sci-hub.ru, source=DoiSource[type=doi, id=doi.org/10.1086/448329]\n",
      "[INFO] | 2022/04/18 19:09:25 | -> Response: status_code=200, content_length=6933\n",
      "[INFO] | 2022/04/18 19:09:25 | * Extracted information: {'url': 'https://sci-hub.ru/tree/91/a8/91a8a2da0288e21c6c4ddd2870dad76c.pdf', 'title': '“On the Threshold of Woman’s Era”  Lynching, Empire, and Sexuality in Black Feminist Theory. Critical Inquiry, 12(1), 262–277'}\n"
     ]
    },
    {
     "name": "stdout",
     "output_type": "stream",
     "text": [
      " 61% [..............................................                              ] 188416 / 308112"
     ]
    },
    {
     "name": "stderr",
     "output_type": "stream",
     "text": [
      "[INFO] | 2022/04/18 19:09:26 | ↓ Successfully download the url to: ./journals/post_colonial/critical_inquiry/“On the Threshold of Woman’s Era”  Lynching, Empire, and Sexuality in Black Feminist Theory. Critical Inquiry, 12(1), 262–277.pdf\n"
     ]
    },
    {
     "name": "stdout",
     "output_type": "stream",
     "text": [
      "100% [............................................................................] 308112 / 308112\n"
     ]
    },
    {
     "name": "stderr",
     "output_type": "stream",
     "text": [
      "[INFO] | 2022/04/18 19:09:36 | Choose scihub url [0]: https://sci-hub.ru\n",
      "[INFO] | 2022/04/18 19:09:36 | <- Request: scihub_url=https://sci-hub.ru, source=DoiSource[type=doi, id=doi.org/10.1086/448330]\n",
      "[INFO] | 2022/04/18 19:09:36 | -> Response: status_code=200, content_length=6934\n",
      "[INFO] | 2022/04/18 19:09:36 | * Extracted information: {'url': 'https://twin.sci-hub.ru/5849/265692130994745b3707e031d82ff250/johnson1985.pdf', 'title': 'Thresholds of Difference  Structures of Address in Zora Neale Hurston. Critical Inquiry, 12(1), 278–289'}\n"
     ]
    },
    {
     "name": "stdout",
     "output_type": "stream",
     "text": [
      " 13% [..........                                                                ]  172032 / 1252495"
     ]
    },
    {
     "name": "stderr",
     "output_type": "stream",
     "text": [
      "[INFO] | 2022/04/18 19:09:37 | ↓ Successfully download the url to: ./journals/post_colonial/critical_inquiry/Thresholds of Difference  Structures of Address in Zora Neale Hurston. Critical Inquiry, 12(1), 278–289.pdf\n"
     ]
    },
    {
     "name": "stdout",
     "output_type": "stream",
     "text": [
      "100% [..........................................................................] 1252495 / 1252495\n"
     ]
    },
    {
     "name": "stderr",
     "output_type": "stream",
     "text": [
      "[INFO] | 2022/04/18 19:09:47 | Choose scihub url [0]: https://sci-hub.ru\n",
      "[INFO] | 2022/04/18 19:09:48 | <- Request: scihub_url=https://sci-hub.ru, source=DoiSource[type=doi, id=doi.org/10.1086/448331]\n",
      "[INFO] | 2022/04/18 19:09:48 | -> Response: status_code=200, content_length=6845\n",
      "[INFO] | 2022/04/18 19:09:48 | * Extracted information: {'url': 'https://twin.sci-hub.ru/6555/9cf32fc16129b5ec350549bf13c41935/derrida1985.pdf', 'title': 'Racism’s Last Word. Critical Inquiry, 12(1), 290–299'}\n"
     ]
    },
    {
     "name": "stdout",
     "output_type": "stream",
     "text": [
      " 17% [............                                                              ]  188416 / 1080291"
     ]
    },
    {
     "name": "stderr",
     "output_type": "stream",
     "text": [
      "[INFO] | 2022/04/18 19:09:48 | ↓ Successfully download the url to: ./journals/post_colonial/critical_inquiry/Racism’s Last Word. Critical Inquiry, 12(1), 290–299.pdf\n"
     ]
    },
    {
     "name": "stdout",
     "output_type": "stream",
     "text": [
      "100% [..........................................................................] 1080291 / 1080291\n"
     ]
    },
    {
     "name": "stderr",
     "output_type": "stream",
     "text": [
      "[INFO] | 2022/04/18 19:09:58 | Choose scihub url [0]: https://sci-hub.ru\n",
      "[INFO] | 2022/04/18 19:09:59 | <- Request: scihub_url=https://sci-hub.ru, source=DoiSource[type=doi, id=doi.org/10.1086/448332]\n",
      "[INFO] | 2022/04/18 19:09:59 | -> Response: status_code=200, content_length=6815\n",
      "[INFO] | 2022/04/18 19:09:59 | * Extracted information: {'url': 'https://twin.sci-hub.ru/5852/0805e01e89057cefb37810eb448da0dd/editorial-notes-1985.pdf', 'title': 'Critical Inquiry, 12(1), 300–300'}\n",
      "[INFO] | 2022/04/18 19:10:00 | ↓ Successfully download the url to: ./journals/post_colonial/critical_inquiry/Critical Inquiry, 12(1), 300–300.pdf\n"
     ]
    },
    {
     "name": "stdout",
     "output_type": "stream",
     "text": [
      "100% [..............................................................................] 44331 / 44331\n"
     ]
    },
    {
     "name": "stderr",
     "output_type": "stream",
     "text": [
      "[INFO] | 2022/04/18 19:10:10 | Choose scihub url [0]: https://sci-hub.ru\n",
      "[INFO] | 2022/04/18 19:10:10 | <- Request: scihub_url=https://sci-hub.ru, source=DoiSource[type=doi, id=doi.org/10.1086/448333]\n",
      "[INFO] | 2022/04/18 19:10:10 | -> Response: status_code=200, content_length=6798\n",
      "[INFO] | 2022/04/18 19:10:10 | * Extracted information: {'url': 'https://sci-hub.ru/tree/e0/b8/e0b81697e38c3093c4cbe2c9925134f8.pdf', 'title': 'On Magic Realism in Film. Critical Inquiry, 12(2), 301–325'}\n"
     ]
    },
    {
     "name": "stdout",
     "output_type": "stream",
     "text": [
      " 31% [.......................                                                   ] 1097728 / 3450420"
     ]
    },
    {
     "name": "stderr",
     "output_type": "stream",
     "text": [
      "[INFO] | 2022/04/18 19:10:11 | ↓ Successfully download the url to: ./journals/post_colonial/critical_inquiry/On Magic Realism in Film. Critical Inquiry, 12(2), 301–325.pdf\n"
     ]
    },
    {
     "name": "stdout",
     "output_type": "stream",
     "text": [
      "100% [..........................................................................] 3450420 / 3450420\n"
     ]
    },
    {
     "name": "stderr",
     "output_type": "stream",
     "text": [
      "[INFO] | 2022/04/18 19:10:21 | Choose scihub url [0]: https://sci-hub.ru\n",
      "[INFO] | 2022/04/18 19:10:21 | <- Request: scihub_url=https://sci-hub.ru, source=DoiSource[type=doi, id=doi.org/10.1086/448334]\n",
      "[INFO] | 2022/04/18 19:10:21 | -> Response: status_code=200, content_length=6839\n",
      "[INFO] | 2022/04/18 19:10:21 | * Extracted information: {'url': 'https://twin.sci-hub.ru/5978/adb686de7754c43325a14cf4352a05f2/greenblatt1986.pdf', 'title': 'Loudun and London. Critical Inquiry, 12(2), 326–346'}\n"
     ]
    },
    {
     "name": "stdout",
     "output_type": "stream",
     "text": [
      " 41% [..............................                                            ] 1056768 / 2563703"
     ]
    },
    {
     "name": "stderr",
     "output_type": "stream",
     "text": [
      "[INFO] | 2022/04/18 19:10:22 | ↓ Successfully download the url to: ./journals/post_colonial/critical_inquiry/Loudun and London. Critical Inquiry, 12(2), 326–346.pdf\n"
     ]
    },
    {
     "name": "stdout",
     "output_type": "stream",
     "text": [
      "100% [..........................................................................] 2563703 / 2563703\n"
     ]
    },
    {
     "name": "stderr",
     "output_type": "stream",
     "text": [
      "[INFO] | 2022/04/18 19:10:32 | Choose scihub url [0]: https://sci-hub.ru\n",
      "[INFO] | 2022/04/18 19:10:33 | <- Request: scihub_url=https://sci-hub.ru, source=DoiSource[type=doi, id=doi.org/10.1086/448335]\n",
      "[INFO] | 2022/04/18 19:10:33 | -> Response: status_code=200, content_length=6955\n",
      "[INFO] | 2022/04/18 19:10:33 | * Extracted information: {'url': 'https://twin.sci-hub.ru/6027/058b23b7b6721adacba12677a0ba2606/bernstein1986.pdf', 'title': 'Image, Word, and Sign  The Visual Arts as Evidence in Ezra Pound’s “Cantos.” Critical Inquiry, 12(2), 347–364'}\n"
     ]
    },
    {
     "name": "stdout",
     "output_type": "stream",
     "text": [
      " 56% [..........................................                                ] 1220608 / 2147148"
     ]
    },
    {
     "name": "stderr",
     "output_type": "stream",
     "text": [
      "[INFO] | 2022/04/18 19:10:33 | ↓ Successfully download the url to: ./journals/post_colonial/critical_inquiry/Image, Word, and Sign  The Visual Arts as Evidence in Ezra Pound’s “Cantos.” Critical Inquiry, 12(2), 347–364.pdf\n"
     ]
    },
    {
     "name": "stdout",
     "output_type": "stream",
     "text": [
      "100% [..........................................................................] 2147148 / 2147148\n"
     ]
    },
    {
     "name": "stderr",
     "output_type": "stream",
     "text": [
      "[INFO] | 2022/04/18 19:10:43 | Choose scihub url [0]: https://sci-hub.ru\n",
      "[INFO] | 2022/04/18 19:10:44 | <- Request: scihub_url=https://sci-hub.ru, source=DoiSource[type=doi, id=doi.org/10.1086/448337]\n",
      "[INFO] | 2022/04/18 19:10:44 | -> Response: status_code=200, content_length=6914\n",
      "[INFO] | 2022/04/18 19:10:44 | * Extracted information: {'url': 'https://twin.sci-hub.ru/6323/ca1f10ba4e6fca16ff6659b89ef5dade/torok1986.pdf', 'title': 'Unpublished by Freud to Fliess  Restoring an Oscillation. Critical Inquiry, 12(2), 391–398'}\n"
     ]
    },
    {
     "name": "stdout",
     "output_type": "stream",
     "text": [
      " 11% [........                                                                    ] 106496 / 958159"
     ]
    },
    {
     "name": "stderr",
     "output_type": "stream",
     "text": [
      "[INFO] | 2022/04/18 19:10:45 | ↓ Successfully download the url to: ./journals/post_colonial/critical_inquiry/Unpublished by Freud to Fliess  Restoring an Oscillation. Critical Inquiry, 12(2), 391–398.pdf\n"
     ]
    },
    {
     "name": "stdout",
     "output_type": "stream",
     "text": [
      "100% [............................................................................] 958159 / 958159\n"
     ]
    },
    {
     "name": "stderr",
     "output_type": "stream",
     "text": [
      "[INFO] | 2022/04/18 19:10:55 | Choose scihub url [0]: https://sci-hub.ru\n",
      "[INFO] | 2022/04/18 19:10:55 | <- Request: scihub_url=https://sci-hub.ru, source=DoiSource[type=doi, id=doi.org/10.1086/448338]\n",
      "[INFO] | 2022/04/18 19:10:55 | -> Response: status_code=200, content_length=6916\n",
      "[INFO] | 2022/04/18 19:10:55 | * Extracted information: {'url': 'https://twin.sci-hub.ru/5967/34a7f16897d6c35c4ee8b6a9e395d852/bersani1986.pdf', 'title': '“The Culture of Redemption”  Marcel Proust and Melanie Klein. Critical Inquiry, 12(2), 399–421'}\n"
     ]
    },
    {
     "name": "stdout",
     "output_type": "stream",
     "text": [
      " 55% [.........................................                                 ] 1589248 / 2861346"
     ]
    },
    {
     "name": "stderr",
     "output_type": "stream",
     "text": [
      "[INFO] | 2022/04/18 19:10:56 | ↓ Successfully download the url to: ./journals/post_colonial/critical_inquiry/“The Culture of Redemption”  Marcel Proust and Melanie Klein. Critical Inquiry, 12(2), 399–421.pdf\n"
     ]
    },
    {
     "name": "stdout",
     "output_type": "stream",
     "text": [
      "100% [..........................................................................] 2861346 / 2861346\n"
     ]
    },
    {
     "name": "stderr",
     "output_type": "stream",
     "text": [
      "[INFO] | 2022/04/18 19:11:06 | Choose scihub url [0]: https://sci-hub.ru\n",
      "[INFO] | 2022/04/18 19:11:07 | <- Request: scihub_url=https://sci-hub.ru, source=DoiSource[type=doi, id=doi.org/10.1086/448344]\n",
      "[INFO] | 2022/04/18 19:11:07 | -> Response: status_code=200, content_length=6891\n",
      "[INFO] | 2022/04/18 19:11:07 | * Extracted information: {'url': 'https://twin.sci-hub.ru/5825/611951f287ed0cc97dbce848e4e98bae/mitchell1986.pdf', 'title': 'Introduction  Pluralism and Its Discontents. Critical Inquiry, 12(3), 467–467'}\n",
      "[INFO] | 2022/04/18 19:11:07 | ↓ Successfully download the url to: ./journals/post_colonial/critical_inquiry/Introduction  Pluralism and Its Discontents. Critical Inquiry, 12(3), 467–467.pdf\n"
     ]
    },
    {
     "name": "stdout",
     "output_type": "stream",
     "text": [
      "100% [..............................................................................] 69249 / 69249\n"
     ]
    },
    {
     "name": "stderr",
     "output_type": "stream",
     "text": [
      "[INFO] | 2022/04/18 19:11:18 | Choose scihub url [0]: https://sci-hub.ru\n",
      "[INFO] | 2022/04/18 19:11:18 | <- Request: scihub_url=https://sci-hub.ru, source=DoiSource[type=doi, id=doi.org/10.1086/448345]\n",
      "[INFO] | 2022/04/18 19:11:18 | -> Response: status_code=200, content_length=6845\n",
      "[INFO] | 2022/04/18 19:11:18 | * Extracted information: {'url': 'https://twin.sci-hub.ru/5864/7e7cacdf8297d07eca2216ea50497963/booth1986.pdf', 'title': 'Pluralism in the Classroom. Critical Inquiry, 12(3), 468–479'}\n"
     ]
    },
    {
     "name": "stdout",
     "output_type": "stream",
     "text": [
      " 12% [.........                                                                 ]  188416 / 1474485"
     ]
    },
    {
     "name": "stderr",
     "output_type": "stream",
     "text": [
      "[INFO] | 2022/04/18 19:11:19 | ↓ Successfully download the url to: ./journals/post_colonial/critical_inquiry/Pluralism in the Classroom. Critical Inquiry, 12(3), 468–479.pdf\n"
     ]
    },
    {
     "name": "stdout",
     "output_type": "stream",
     "text": [
      "100% [..........................................................................] 1474485 / 1474485\n"
     ]
    },
    {
     "name": "stderr",
     "output_type": "stream",
     "text": [
      "[INFO] | 2022/04/18 19:11:29 | Choose scihub url [0]: https://sci-hub.ru\n",
      "[INFO] | 2022/04/18 19:11:29 | <- Request: scihub_url=https://sci-hub.ru, source=DoiSource[type=doi, id=doi.org/10.1086/448346]\n",
      "[INFO] | 2022/04/18 19:11:29 | -> Response: status_code=200, content_length=6830\n",
      "[INFO] | 2022/04/18 19:11:29 | * Extracted information: {'url': 'https://twin.sci-hub.ru/5865/e4fa40b37bd77e31abf15513007a1c36/white1986.pdf', 'title': 'Historical Pluralism. Critical Inquiry, 12(3), 480–493'}\n"
     ]
    },
    {
     "name": "stdout",
     "output_type": "stream",
     "text": [
      " 88% [.................................................................         ] 1679360 / 1888016"
     ]
    },
    {
     "name": "stderr",
     "output_type": "stream",
     "text": [
      "[INFO] | 2022/04/18 19:11:30 | ↓ Successfully download the url to: ./journals/post_colonial/critical_inquiry/Historical Pluralism. Critical Inquiry, 12(3), 480–493.pdf\n"
     ]
    },
    {
     "name": "stdout",
     "output_type": "stream",
     "text": [
      "100% [..........................................................................] 1888016 / 1888016\n"
     ]
    },
    {
     "name": "stderr",
     "output_type": "stream",
     "text": [
      "[INFO] | 2022/04/18 19:11:40 | Choose scihub url [0]: https://sci-hub.ru\n",
      "[INFO] | 2022/04/18 19:11:40 | <- Request: scihub_url=https://sci-hub.ru, source=DoiSource[type=doi, id=doi.org/10.1086/448348]\n",
      "[INFO] | 2022/04/18 19:11:40 | -> Response: status_code=200, content_length=6863\n",
      "[INFO] | 2022/04/18 19:11:40 | * Extracted information: {'url': 'https://twin.sci-hub.ru/6591/b8c5b25b3a7c1526a6565b90c62a8807/hassan1986.pdf', 'title': 'Pluralism in Postmodern Perspective. Critical Inquiry, 12(3), 503–520'}\n"
     ]
    },
    {
     "name": "stdout",
     "output_type": "stream",
     "text": [
      " 76% [........................................................                  ] 1744896 / 2281837"
     ]
    },
    {
     "name": "stderr",
     "output_type": "stream",
     "text": [
      "[INFO] | 2022/04/18 19:11:41 | ↓ Successfully download the url to: ./journals/post_colonial/critical_inquiry/Pluralism in Postmodern Perspective. Critical Inquiry, 12(3), 503–520.pdf\n"
     ]
    },
    {
     "name": "stdout",
     "output_type": "stream",
     "text": [
      "100% [..........................................................................] 2281837 / 2281837\n"
     ]
    },
    {
     "name": "stderr",
     "output_type": "stream",
     "text": [
      "[INFO] | 2022/04/18 19:11:51 | Choose scihub url [0]: https://sci-hub.ru\n",
      "[INFO] | 2022/04/18 19:11:52 | <- Request: scihub_url=https://sci-hub.ru, source=DoiSource[type=doi, id=doi.org/10.1086/448351]\n",
      "[INFO] | 2022/04/18 19:11:52 | -> Response: status_code=200, content_length=6899\n",
      "[INFO] | 2022/04/18 19:11:52 | * Extracted information: {'url': 'https://sci-hub.ru/downloads/2020-05-22/72/goodman1986.pdf', 'title': 'Interpretation and Identity  Can the Work Survive the World  Critical Inquiry, 12(3), 564–575'}\n"
     ]
    },
    {
     "name": "stdout",
     "output_type": "stream",
     "text": [
      " 69% [....................................................                        ] 188416 / 272515"
     ]
    },
    {
     "name": "stderr",
     "output_type": "stream",
     "text": [
      "[INFO] | 2022/04/18 19:11:52 | ↓ Successfully download the url to: ./journals/post_colonial/critical_inquiry/Interpretation and Identity  Can the Work Survive the World  Critical Inquiry, 12(3), 564–575.pdf\n"
     ]
    },
    {
     "name": "stdout",
     "output_type": "stream",
     "text": [
      "100% [............................................................................] 272515 / 272515\n"
     ]
    },
    {
     "name": "stderr",
     "output_type": "stream",
     "text": [
      "[INFO] | 2022/04/18 19:12:02 | Choose scihub url [0]: https://sci-hub.ru\n",
      "[INFO] | 2022/04/18 19:12:03 | <- Request: scihub_url=https://sci-hub.ru, source=DoiSource[type=doi, id=doi.org/10.1086/448352]\n",
      "[INFO] | 2022/04/18 19:12:03 | -> Response: status_code=200, content_length=6973\n",
      "[INFO] | 2022/04/18 19:12:03 | * Extracted information: {'url': 'https://twin.sci-hub.ru/6033/8678154806bc9b87222b55688238f49c/mckeon1986.pdf', 'title': 'Pluralism of Interpretations and Pluralism of Objects, Actions, and Statements Interpreted. Critical Inquiry, 12(3), 577–596'}\n"
     ]
    },
    {
     "name": "stdout",
     "output_type": "stream",
     "text": [
      " 28% [....................                                                      ]  761856 / 2700488"
     ]
    },
    {
     "name": "stderr",
     "output_type": "stream",
     "text": [
      "[INFO] | 2022/04/18 19:12:04 | ↓ Successfully download the url to: ./journals/post_colonial/critical_inquiry/Pluralism of Interpretations and Pluralism of Objects, Actions, and Statements Interpreted. Critical Inquiry, 12(3), 577–596.pdf\n"
     ]
    },
    {
     "name": "stdout",
     "output_type": "stream",
     "text": [
      "100% [..........................................................................] 2700488 / 2700488\n"
     ]
    },
    {
     "name": "stderr",
     "output_type": "stream",
     "text": [
      "[INFO] | 2022/04/18 19:12:14 | Choose scihub url [0]: https://sci-hub.ru\n",
      "[INFO] | 2022/04/18 19:12:14 | <- Request: scihub_url=https://sci-hub.ru, source=DoiSource[type=doi, id=doi.org/10.1086/448353]\n",
      "[INFO] | 2022/04/18 19:12:14 | -> Response: status_code=200, content_length=6862\n",
      "[INFO] | 2022/04/18 19:12:14 | * Extracted information: {'url': 'https://twin.sci-hub.ru/6046/71525555c4ac1a0f729d3325ac24c42b/longhurst1986.pdf', 'title': 'A Response to Peter Rabinowitz. Critical Inquiry, 12(3), 597–600'}\n"
     ]
    },
    {
     "name": "stdout",
     "output_type": "stream",
     "text": [
      " 45% [..................................                                          ] 188416 / 416004"
     ]
    },
    {
     "name": "stderr",
     "output_type": "stream",
     "text": [
      "[INFO] | 2022/04/18 19:12:15 | ↓ Successfully download the url to: ./journals/post_colonial/critical_inquiry/A Response to Peter Rabinowitz. Critical Inquiry, 12(3), 597–600.pdf\n"
     ]
    },
    {
     "name": "stdout",
     "output_type": "stream",
     "text": [
      "100% [............................................................................] 416004 / 416004\n"
     ]
    },
    {
     "name": "stderr",
     "output_type": "stream",
     "text": [
      "[INFO] | 2022/04/18 19:12:25 | Choose scihub url [0]: https://sci-hub.ru\n",
      "[INFO] | 2022/04/18 19:12:25 | <- Request: scihub_url=https://sci-hub.ru, source=DoiSource[type=doi, id=doi.org/10.1086/448354]\n",
      "[INFO] | 2022/04/18 19:12:25 | -> Response: status_code=200, content_length=6904\n",
      "[INFO] | 2022/04/18 19:12:25 | * Extracted information: {'url': 'https://twin.sci-hub.ru/5826/d965cdd112926132282dfd07a7db8e5a/rabinowitz1986.pdf', 'title': 'Assuming the Obvious  A Reply to Derek Longhurst. Critical Inquiry, 12(3), 601–604'}\n"
     ]
    },
    {
     "name": "stdout",
     "output_type": "stream",
     "text": [
      " 46% [...................................                                         ] 188416 / 402529"
     ]
    },
    {
     "name": "stderr",
     "output_type": "stream",
     "text": [
      "[INFO] | 2022/04/18 19:12:26 | ↓ Successfully download the url to: ./journals/post_colonial/critical_inquiry/Assuming the Obvious  A Reply to Derek Longhurst. Critical Inquiry, 12(3), 601–604.pdf\n"
     ]
    },
    {
     "name": "stdout",
     "output_type": "stream",
     "text": [
      "100% [............................................................................] 402529 / 402529\n"
     ]
    },
    {
     "name": "stderr",
     "output_type": "stream",
     "text": [
      "[INFO] | 2022/04/18 19:12:36 | Choose scihub url [0]: https://sci-hub.ru\n",
      "[INFO] | 2022/04/18 19:12:37 | <- Request: scihub_url=https://sci-hub.ru, source=DoiSource[type=doi, id=doi.org/10.1086/448355]\n",
      "[INFO] | 2022/04/18 19:12:37 | -> Response: status_code=200, content_length=6913\n",
      "[INFO] | 2022/04/18 19:12:37 | * Extracted information: {'url': 'https://twin.sci-hub.ru/5837/b7f9ced3e0742b669aa5d5d3068f8464/battersby1986.pdf', 'title': 'Meaning as Concept and Extension  Some Problems. Critical Inquiry, 12(3), 605–615'}\n"
     ]
    },
    {
     "name": "stdout",
     "output_type": "stream",
     "text": [
      " 15% [...........                                                               ]  188416 / 1249079"
     ]
    },
    {
     "name": "stderr",
     "output_type": "stream",
     "text": [
      "[INFO] | 2022/04/18 19:12:38 | ↓ Successfully download the url to: ./journals/post_colonial/critical_inquiry/Meaning as Concept and Extension  Some Problems. Critical Inquiry, 12(3), 605–615.pdf\n"
     ]
    },
    {
     "name": "stdout",
     "output_type": "stream",
     "text": [
      "100% [..........................................................................] 1249079 / 1249079\n"
     ]
    },
    {
     "name": "stderr",
     "output_type": "stream",
     "text": [
      "[INFO] | 2022/04/18 19:12:48 | Choose scihub url [0]: https://sci-hub.ru\n",
      "[INFO] | 2022/04/18 19:12:48 | <- Request: scihub_url=https://sci-hub.ru, source=DoiSource[type=doi, id=doi.org/10.1086/448358]\n",
      "[INFO] | 2022/04/18 19:12:48 | -> Response: status_code=200, content_length=6909\n",
      "[INFO] | 2022/04/18 19:12:48 | * Extracted information: {'url': 'https://twin.sci-hub.ru/5836/b1e35d9c7ff54c761180453b25159c4b/bercovitch1986.pdf', 'title': 'The Problem of Ideology in American Literary History. Critical Inquiry, 12(4), 631–653'}\n"
     ]
    },
    {
     "name": "stdout",
     "output_type": "stream",
     "text": [
      " 93% [.....................................................................     ] 2711552 / 2901424"
     ]
    },
    {
     "name": "stderr",
     "output_type": "stream",
     "text": [
      "[INFO] | 2022/04/18 19:12:50 | ↓ Successfully download the url to: ./journals/post_colonial/critical_inquiry/The Problem of Ideology in American Literary History. Critical Inquiry, 12(4), 631–653.pdf\n"
     ]
    },
    {
     "name": "stdout",
     "output_type": "stream",
     "text": [
      "100% [..........................................................................] 2901424 / 2901424\n"
     ]
    },
    {
     "name": "stderr",
     "output_type": "stream",
     "text": [
      "[INFO] | 2022/04/18 19:13:00 | Choose scihub url [0]: https://sci-hub.ru\n",
      "[INFO] | 2022/04/18 19:13:00 | <- Request: scihub_url=https://sci-hub.ru, source=DoiSource[type=doi, id=doi.org/10.1086/448359]\n",
      "[INFO] | 2022/04/18 19:13:00 | -> Response: status_code=200, content_length=6819\n",
      "[INFO] | 2022/04/18 19:13:00 | * Extracted information: {'url': 'https://twin.sci-hub.ru/6206/8ff1caa507cb2d768a746856c9dafbac/holland1986.pdf', 'title': 'I-ing Film. Critical Inquiry, 12(4), 654–671'}\n"
     ]
    },
    {
     "name": "stdout",
     "output_type": "stream",
     "text": [
      " 96% [.......................................................................   ] 1949696 / 2023149"
     ]
    },
    {
     "name": "stderr",
     "output_type": "stream",
     "text": [
      "[INFO] | 2022/04/18 19:13:02 | ↓ Successfully download the url to: ./journals/post_colonial/critical_inquiry/I-ing Film. Critical Inquiry, 12(4), 654–671.pdf\n"
     ]
    },
    {
     "name": "stdout",
     "output_type": "stream",
     "text": [
      "100% [..........................................................................] 2023149 / 2023149\n"
     ]
    },
    {
     "name": "stderr",
     "output_type": "stream",
     "text": [
      "[INFO] | 2022/04/18 19:13:12 | Choose scihub url [0]: https://sci-hub.ru\n",
      "[INFO] | 2022/04/18 19:13:13 | <- Request: scihub_url=https://sci-hub.ru, source=DoiSource[type=doi, id=doi.org/10.1086/448361]\n",
      "[INFO] | 2022/04/18 19:13:13 | -> Response: status_code=200, content_length=7025\n",
      "[INFO] | 2022/04/18 19:13:13 | * Extracted information: {'url': 'https://twin.sci-hub.ru/6205/8b738fa5296ef8cc0c4510495dc4feb4/griswold1986.pdf', 'title': 'The Vietnam Veterans Memorial and the Washington Mall  Philosophical Thoughts on Political Iconography. Critical Inquiry, 12(4), 688–719'}\n"
     ]
    },
    {
     "name": "stdout",
     "output_type": "stream",
     "text": [
      " 97% [........................................................................  ] 3891200 / 3992591"
     ]
    },
    {
     "name": "stderr",
     "output_type": "stream",
     "text": [
      "[INFO] | 2022/04/18 19:13:14 | ↓ Successfully download the url to: ./journals/post_colonial/critical_inquiry/The Vietnam Veterans Memorial and the Washington Mall  Philosophical Thoughts on Political Iconography. Critical Inquiry, 12(4), 688–719.pdf\n"
     ]
    },
    {
     "name": "stdout",
     "output_type": "stream",
     "text": [
      "100% [..........................................................................] 3992591 / 3992591\n"
     ]
    },
    {
     "name": "stderr",
     "output_type": "stream",
     "text": [
      "[INFO] | 2022/04/18 19:13:24 | Choose scihub url [0]: https://sci-hub.ru\n",
      "[INFO] | 2022/04/18 19:13:25 | <- Request: scihub_url=https://sci-hub.ru, source=DoiSource[type=doi, id=doi.org/10.1086/448363]\n",
      "[INFO] | 2022/04/18 19:13:25 | -> Response: status_code=200, content_length=6849\n",
      "[INFO] | 2022/04/18 19:13:25 | * Extracted information: {'url': 'https://twin.sci-hub.ru/5974/46b68b6e0657a05c11f4462bee7d2b35/bartlett1986.pdf', 'title': 'What Is “Language Poetry”  Critical Inquiry, 12(4), 741–752'}\n"
     ]
    },
    {
     "name": "stdout",
     "output_type": "stream",
     "text": [
      " 74% [.......................................................                   ]  933888 / 1251742"
     ]
    },
    {
     "name": "stderr",
     "output_type": "stream",
     "text": [
      "[INFO] | 2022/04/18 19:13:26 | ↓ Successfully download the url to: ./journals/post_colonial/critical_inquiry/What Is “Language Poetry”  Critical Inquiry, 12(4), 741–752.pdf\n"
     ]
    },
    {
     "name": "stdout",
     "output_type": "stream",
     "text": [
      "100% [..........................................................................] 1251742 / 1251742\n"
     ]
    },
    {
     "name": "stderr",
     "output_type": "stream",
     "text": [
      "[INFO] | 2022/04/18 19:13:36 | Choose scihub url [0]: https://sci-hub.ru\n",
      "[INFO] | 2022/04/18 19:13:36 | <- Request: scihub_url=https://sci-hub.ru, source=DoiSource[type=doi, id=doi.org/10.1086/448367]\n",
      "[INFO] | 2022/04/18 19:13:36 | -> Response: status_code=200, content_length=6834\n",
      "[INFO] | 2022/04/18 19:13:36 | * Extracted information: {'url': 'https://sci-hub.ru/downloads/2020-03-06/1f/martin1986.pdf', 'title': 'On Seeing Walton’s Great-Grandfather. Critical Inquiry, 12(4), 796–800'}\n"
     ]
    },
    {
     "name": "stdout",
     "output_type": "stream",
     "text": [
      " 34% [..........................                                                  ] 188416 / 546994"
     ]
    },
    {
     "name": "stderr",
     "output_type": "stream",
     "text": [
      "[INFO] | 2022/04/18 19:13:37 | ↓ Successfully download the url to: ./journals/post_colonial/critical_inquiry/On Seeing Walton’s Great-Grandfather. Critical Inquiry, 12(4), 796–800.pdf\n"
     ]
    },
    {
     "name": "stdout",
     "output_type": "stream",
     "text": [
      "100% [............................................................................] 546994 / 546994\n"
     ]
    },
    {
     "name": "stderr",
     "output_type": "stream",
     "text": [
      "[INFO] | 2022/04/18 19:13:47 | Choose scihub url [0]: https://sci-hub.ru\n",
      "[INFO] | 2022/04/18 19:13:47 | <- Request: scihub_url=https://sci-hub.ru, source=DoiSource[type=doi, id=doi.org/10.1086/448368]\n",
      "[INFO] | 2022/04/18 19:13:47 | -> Response: status_code=200, content_length=6918\n",
      "[INFO] | 2022/04/18 19:13:47 | * Extracted information: {'url': 'https://twin.sci-hub.ru/6528/4b23e5d063a598801aecb77aa446e63f/walton1986.pdf', 'title': 'Looking Again through Photographs  A Response to Edwin Martin. Critical Inquiry, 12(4), 801–808'}\n"
     ]
    },
    {
     "name": "stdout",
     "output_type": "stream",
     "text": [
      " 21% [................                                                            ] 188416 / 876070"
     ]
    },
    {
     "name": "stderr",
     "output_type": "stream",
     "text": [
      "[INFO] | 2022/04/18 19:13:48 | ↓ Successfully download the url to: ./journals/post_colonial/critical_inquiry/Looking Again through Photographs  A Response to Edwin Martin. Critical Inquiry, 12(4), 801–808.pdf\n"
     ]
    },
    {
     "name": "stdout",
     "output_type": "stream",
     "text": [
      "100% [............................................................................] 876070 / 876070\n"
     ]
    },
    {
     "name": "stderr",
     "output_type": "stream",
     "text": [
      "[INFO] | 2022/04/18 19:13:58 | Choose scihub url [0]: https://sci-hub.ru\n",
      "[INFO] | 2022/04/18 19:13:59 | <- Request: scihub_url=https://sci-hub.ru, source=DoiSource[type=doi, id=doi.org/10.1086/448371]\n",
      "[INFO] | 2022/04/18 19:13:59 | -> Response: status_code=200, content_length=6844\n",
      "[INFO] | 2022/04/18 19:13:59 | * Extracted information: {'url': 'https://twin.sci-hub.ru/5846/13921d942bbbc9ac48e0b57bcef71267/schwenger1986.pdf', 'title': 'Writing the Unthinkable. Critical Inquiry, 13(1), 33–48'}\n"
     ]
    },
    {
     "name": "stdout",
     "output_type": "stream",
     "text": [
      " 71% [....................................................                      ] 1228800 / 1727236"
     ]
    },
    {
     "name": "stderr",
     "output_type": "stream",
     "text": [
      "[INFO] | 2022/04/18 19:14:00 | ↓ Successfully download the url to: ./journals/post_colonial/critical_inquiry/Writing the Unthinkable. Critical Inquiry, 13(1), 33–48.pdf\n"
     ]
    },
    {
     "name": "stdout",
     "output_type": "stream",
     "text": [
      "100% [..........................................................................] 1727236 / 1727236\n"
     ]
    },
    {
     "name": "stderr",
     "output_type": "stream",
     "text": [
      "[INFO] | 2022/04/18 19:14:10 | Choose scihub url [0]: https://sci-hub.ru\n",
      "[INFO] | 2022/04/18 19:14:10 | <- Request: scihub_url=https://sci-hub.ru, source=DoiSource[type=doi, id=doi.org/10.1086/448372]\n",
      "[INFO] | 2022/04/18 19:14:10 | -> Response: status_code=200, content_length=6870\n",
      "[INFO] | 2022/04/18 19:14:10 | * Extracted information: {'url': 'https://twin.sci-hub.ru/6028/2bf1f883040505fd580ba164518b1931/caws1986.pdf', 'title': 'Literal or Liberal  Translating Perception. Critical Inquiry, 13(1), 49–63'}\n"
     ]
    },
    {
     "name": "stdout",
     "output_type": "stream",
     "text": [
      " 66% [.................................................                         ] 1040384 / 1565926"
     ]
    },
    {
     "name": "stderr",
     "output_type": "stream",
     "text": [
      "[INFO] | 2022/04/18 19:14:11 | ↓ Successfully download the url to: ./journals/post_colonial/critical_inquiry/Literal or Liberal  Translating Perception. Critical Inquiry, 13(1), 49–63.pdf\n"
     ]
    },
    {
     "name": "stdout",
     "output_type": "stream",
     "text": [
      "100% [..........................................................................] 1565926 / 1565926\n"
     ]
    },
    {
     "name": "stderr",
     "output_type": "stream",
     "text": [
      "[INFO] | 2022/04/18 19:14:21 | Choose scihub url [0]: https://sci-hub.ru\n",
      "[INFO] | 2022/04/18 19:14:22 | <- Request: scihub_url=https://sci-hub.ru, source=DoiSource[type=doi, id=doi.org/10.1086/448373]\n",
      "[INFO] | 2022/04/18 19:14:22 | -> Response: status_code=200, content_length=6893\n",
      "[INFO] | 2022/04/18 19:14:22 | * Extracted information: {'url': 'https://twin.sci-hub.ru/6584/2135ca30ac47b2789344bd455bff27cb/mermin1986.pdf', 'title': 'The Damsel, the Knight, and the Victorian Woman Poet. Critical Inquiry, 13(1), 64–80'}\n"
     ]
    },
    {
     "name": "stdout",
     "output_type": "stream",
     "text": [
      " 47% [...................................                                       ]  917504 / 1911886"
     ]
    },
    {
     "name": "stderr",
     "output_type": "stream",
     "text": [
      "[INFO] | 2022/04/18 19:14:23 | ↓ Successfully download the url to: ./journals/post_colonial/critical_inquiry/The Damsel, the Knight, and the Victorian Woman Poet. Critical Inquiry, 13(1), 64–80.pdf\n"
     ]
    },
    {
     "name": "stdout",
     "output_type": "stream",
     "text": [
      "100% [..........................................................................] 1911886 / 1911886\n"
     ]
    },
    {
     "name": "stderr",
     "output_type": "stream",
     "text": [
      "[INFO] | 2022/04/18 19:14:33 | Choose scihub url [0]: https://sci-hub.ru\n",
      "[INFO] | 2022/04/18 19:14:33 | <- Request: scihub_url=https://sci-hub.ru, source=DoiSource[type=doi, id=doi.org/10.1086/448374]\n",
      "[INFO] | 2022/04/18 19:14:33 | -> Response: status_code=200, content_length=6836\n",
      "[INFO] | 2022/04/18 19:14:33 | * Extracted information: {'url': 'https://twin.sci-hub.ru/5967/5b633d64350280eb0dcbadbf8cdc4b82/harrison1986.pdf', 'title': 'The Italian Silence. Critical Inquiry, 13(1), 81–99'}\n"
     ]
    },
    {
     "name": "stdout",
     "output_type": "stream",
     "text": [
      " 60% [............................................                              ] 1097728 / 1814775"
     ]
    },
    {
     "name": "stderr",
     "output_type": "stream",
     "text": [
      "[INFO] | 2022/04/18 19:14:34 | ↓ Successfully download the url to: ./journals/post_colonial/critical_inquiry/The Italian Silence. Critical Inquiry, 13(1), 81–99.pdf\n"
     ]
    },
    {
     "name": "stdout",
     "output_type": "stream",
     "text": [
      "100% [..........................................................................] 1814775 / 1814775\n"
     ]
    },
    {
     "name": "stderr",
     "output_type": "stream",
     "text": [
      "[INFO] | 2022/04/18 19:14:44 | Choose scihub url [0]: https://sci-hub.ru\n",
      "[INFO] | 2022/04/18 19:14:45 | <- Request: scihub_url=https://sci-hub.ru, source=DoiSource[type=doi, id=doi.org/10.1086/448376]\n",
      "[INFO] | 2022/04/18 19:14:45 | -> Response: status_code=200, content_length=6869\n",
      "[INFO] | 2022/04/18 19:14:45 | * Extracted information: {'url': 'https://sci-hub.ru/tree/8c/da/8cdaf7d278f030d28fc9dcc254ec2c0f.pdf', 'title': '“Indians”  Textualism, Morality, and the Problem of History. Critical Inquiry, 13(1), 101–119'}\n"
     ]
    },
    {
     "name": "stdout",
     "output_type": "stream",
     "text": [
      " 52% [.......................................                                     ] 188416 / 358566"
     ]
    },
    {
     "name": "stderr",
     "output_type": "stream",
     "text": [
      "[INFO] | 2022/04/18 19:14:45 | ↓ Successfully download the url to: ./journals/post_colonial/critical_inquiry/“Indians”  Textualism, Morality, and the Problem of History. Critical Inquiry, 13(1), 101–119.pdf\n"
     ]
    },
    {
     "name": "stdout",
     "output_type": "stream",
     "text": [
      "100% [............................................................................] 358566 / 358566\n"
     ]
    },
    {
     "name": "stderr",
     "output_type": "stream",
     "text": [
      "[INFO] | 2022/04/18 19:14:55 | Choose scihub url [0]: https://sci-hub.ru\n",
      "[INFO] | 2022/04/18 19:14:56 | <- Request: scihub_url=https://sci-hub.ru, source=DoiSource[type=doi, id=doi.org/10.1086/448378]\n",
      "[INFO] | 2022/04/18 19:14:56 | -> Response: status_code=200, content_length=7000\n",
      "[INFO] | 2022/04/18 19:14:56 | * Extracted information: {'url': 'https://twin.sci-hub.ru/5851/05f762a430f08a484c9091a3d2010c73/mcclintock1986.pdf', 'title': 'No Names Apart  The Separation of Word and History in Derrida’s “Le Dernier Mot du Racisme.” Critical Inquiry, 13(1), 140–154'}\n"
     ]
    },
    {
     "name": "stdout",
     "output_type": "stream",
     "text": [
      " 76% [........................................................                  ] 1269760 / 1668106"
     ]
    },
    {
     "name": "stderr",
     "output_type": "stream",
     "text": [
      "[INFO] | 2022/04/18 19:14:57 | ↓ Successfully download the url to: ./journals/post_colonial/critical_inquiry/No Names Apart  The Separation of Word and History in Derrida’s “Le Dernier Mot du Racisme.” Critical Inquiry, 13(1), 140–154.pdf\n"
     ]
    },
    {
     "name": "stdout",
     "output_type": "stream",
     "text": [
      "100% [..........................................................................] 1668106 / 1668106\n"
     ]
    },
    {
     "name": "stderr",
     "output_type": "stream",
     "text": [
      "[INFO] | 2022/04/18 19:15:07 | Choose scihub url [0]: https://sci-hub.ru\n",
      "[INFO] | 2022/04/18 19:15:07 | <- Request: scihub_url=https://sci-hub.ru, source=DoiSource[type=doi, id=doi.org/10.1086/448380]\n",
      "[INFO] | 2022/04/18 19:15:07 | -> Response: status_code=200, content_length=6833\n",
      "[INFO] | 2022/04/18 19:15:07 | * Extracted information: {'url': 'https://sci-hub.ru/downloads/2020-03-13/ce/todorov1986.pdf', 'title': '“Race,” Writing, and Culture. Critical Inquiry, 13(1), 171–181'}\n"
     ]
    },
    {
     "name": "stdout",
     "output_type": "stream",
     "text": [
      " 79% [..........................................................                ] 1048576 / 1318425"
     ]
    },
    {
     "name": "stderr",
     "output_type": "stream",
     "text": [
      "[INFO] | 2022/04/18 19:15:08 | ↓ Successfully download the url to: ./journals/post_colonial/critical_inquiry/“Race,” Writing, and Culture. Critical Inquiry, 13(1), 171–181.pdf\n"
     ]
    },
    {
     "name": "stdout",
     "output_type": "stream",
     "text": [
      "100% [..........................................................................] 1318425 / 1318425\n"
     ]
    },
    {
     "name": "stderr",
     "output_type": "stream",
     "text": [
      "[INFO] | 2022/04/18 19:15:18 | Choose scihub url [0]: https://sci-hub.ru\n",
      "[INFO] | 2022/04/18 19:15:19 | <- Request: scihub_url=https://sci-hub.ru, source=DoiSource[type=doi, id=doi.org/10.1086/448383]\n",
      "[INFO] | 2022/04/18 19:15:19 | -> Response: status_code=200, content_length=6839\n",
      "[INFO] | 2022/04/18 19:15:19 | * Extracted information: {'url': 'https://twin.sci-hub.ru/6664/64a464098ebb50d4a7142630b81f9546/pratt1986.pdf', 'title': 'A Reply to Harold Fromm. Critical Inquiry, 13(1), 201–202'}\n",
      "[INFO] | 2022/04/18 19:15:20 | ↓ Successfully download the url to: ./journals/post_colonial/critical_inquiry/A Reply to Harold Fromm. Critical Inquiry, 13(1), 201–202.pdf\n"
     ]
    },
    {
     "name": "stdout",
     "output_type": "stream",
     "text": [
      "100% [............................................................................] 157128 / 157128\n"
     ]
    },
    {
     "name": "stderr",
     "output_type": "stream",
     "text": [
      "[INFO] | 2022/04/18 19:15:30 | Choose scihub url [0]: https://sci-hub.ru\n",
      "[INFO] | 2022/04/18 19:15:30 | <- Request: scihub_url=https://sci-hub.ru, source=DoiSource[type=doi, id=doi.org/10.1086/448384]\n",
      "[INFO] | 2022/04/18 19:15:30 | -> Response: status_code=200, content_length=6838\n",
      "[INFO] | 2022/04/18 19:15:30 | * Extracted information: {'url': 'https://twin.sci-hub.ru/5827/1da910df90b7953ddcdddbc609ed7f96/10.1086@448384.pdf', 'title': 'Talkin’ That Talk. Critical Inquiry, 13(1), 203–210'}\n"
     ]
    },
    {
     "name": "stdout",
     "output_type": "stream",
     "text": [
      " 22% [.................                                                           ] 188416 / 834936"
     ]
    },
    {
     "name": "stderr",
     "output_type": "stream",
     "text": [
      "[INFO] | 2022/04/18 19:15:31 | ↓ Successfully download the url to: ./journals/post_colonial/critical_inquiry/Talkin’ That Talk. Critical Inquiry, 13(1), 203–210.pdf\n"
     ]
    },
    {
     "name": "stdout",
     "output_type": "stream",
     "text": [
      "100% [............................................................................] 834936 / 834936\n"
     ]
    },
    {
     "name": "stderr",
     "output_type": "stream",
     "text": [
      "[INFO] | 2022/04/18 19:15:41 | Choose scihub url [0]: https://sci-hub.ru\n",
      "[INFO] | 2022/04/18 19:15:41 | <- Request: scihub_url=https://sci-hub.ru, source=DoiSource[type=doi, id=doi.org/10.1086/448387]\n",
      "[INFO] | 2022/04/18 19:15:41 | -> Response: status_code=200, content_length=6848\n",
      "[INFO] | 2022/04/18 19:15:41 | * Extracted information: {'url': 'https://twin.sci-hub.ru/6326/14cf8152792c1a771f5150473d086adc/lacapra1987.pdf', 'title': 'History and Psychoanalysis. Critical Inquiry, 13(2), 222–251'}\n"
     ]
    },
    {
     "name": "stdout",
     "output_type": "stream",
     "text": [
      " 38% [............................                                              ] 1343488 / 3504150"
     ]
    },
    {
     "name": "stderr",
     "output_type": "stream",
     "text": [
      "[INFO] | 2022/04/18 19:15:42 | ↓ Successfully download the url to: ./journals/post_colonial/critical_inquiry/History and Psychoanalysis. Critical Inquiry, 13(2), 222–251.pdf\n"
     ]
    },
    {
     "name": "stdout",
     "output_type": "stream",
     "text": [
      "100% [..........................................................................] 3504150 / 3504150\n"
     ]
    },
    {
     "name": "stderr",
     "output_type": "stream",
     "text": [
      "[INFO] | 2022/04/18 19:15:52 | Choose scihub url [0]: https://sci-hub.ru\n",
      "[INFO] | 2022/04/18 19:15:53 | <- Request: scihub_url=https://sci-hub.ru, source=DoiSource[type=doi, id=doi.org/10.1086/448388]\n",
      "[INFO] | 2022/04/18 19:15:53 | -> Response: status_code=200, content_length=7008\n",
      "[INFO] | 2022/04/18 19:15:53 | * Extracted information: {'url': 'https://twin.sci-hub.ru/5944/047fd87c7d1f315e79744a3d78c611b2/davidson1987.pdf', 'title': 'How to Do the History of Psychoanalysis  A Reading of Freud’s “Three Essays on the Theory of Sexuality.” Critical Inquiry, 13(2), 252–277'}\n"
     ]
    },
    {
     "name": "stdout",
     "output_type": "stream",
     "text": [
      " 38% [............................                                              ] 1171456 / 3062376"
     ]
    },
    {
     "name": "stderr",
     "output_type": "stream",
     "text": [
      "[INFO] | 2022/04/18 19:15:54 | ↓ Successfully download the url to: ./journals/post_colonial/critical_inquiry/How to Do the History of Psychoanalysis  A Reading of Freud’s “Three Essays on the Theory of Sexuality.” Critical Inquiry, 13(2), 252–277.pdf\n"
     ]
    },
    {
     "name": "stdout",
     "output_type": "stream",
     "text": [
      "100% [..........................................................................] 3062376 / 3062376\n"
     ]
    },
    {
     "name": "stderr",
     "output_type": "stream",
     "text": [
      "[INFO] | 2022/04/18 19:16:04 | Choose scihub url [0]: https://sci-hub.ru\n",
      "[INFO] | 2022/04/18 19:16:04 | <- Request: scihub_url=https://sci-hub.ru, source=DoiSource[type=doi, id=doi.org/10.1086/448389]\n",
      "[INFO] | 2022/04/18 19:16:04 | -> Response: status_code=200, content_length=6869\n",
      "[INFO] | 2022/04/18 19:16:04 | * Extracted information: {'url': 'https://sci-hub.ru/downloads/2020-11-03/0b/rand1987.pdf', 'title': 'The Secret of Psychoanalysis  History Reads Theory. Critical Inquiry, 13(2), 278–286'}\n"
     ]
    },
    {
     "name": "stdout",
     "output_type": "stream",
     "text": [
      " 22% [.................                                                           ] 188416 / 839999"
     ]
    },
    {
     "name": "stderr",
     "output_type": "stream",
     "text": [
      "[INFO] | 2022/04/18 19:16:05 | ↓ Successfully download the url to: ./journals/post_colonial/critical_inquiry/The Secret of Psychoanalysis  History Reads Theory. Critical Inquiry, 13(2), 278–286.pdf\n"
     ]
    },
    {
     "name": "stdout",
     "output_type": "stream",
     "text": [
      "100% [............................................................................] 839999 / 839999\n"
     ]
    },
    {
     "name": "stderr",
     "output_type": "stream",
     "text": [
      "[INFO] | 2022/04/18 19:16:15 | Choose scihub url [0]: https://sci-hub.ru\n",
      "[INFO] | 2022/04/18 19:16:15 | <- Request: scihub_url=https://sci-hub.ru, source=DoiSource[type=doi, id=doi.org/10.1086/448390]\n",
      "[INFO] | 2022/04/18 19:16:15 | -> Response: status_code=200, content_length=6928\n",
      "[INFO] | 2022/04/18 19:16:15 | * Extracted information: {'url': 'https://twin.sci-hub.ru/6755/98ae9970028823fdfb1533c466bd27bc/abraham1987.pdf', 'title': 'Notes on the Phantom  A Complement to Freud’s Metapsychology. Critical Inquiry, 13(2), 287–292'}\n"
     ]
    },
    {
     "name": "stdout",
     "output_type": "stream",
     "text": [
      " 29% [......................                                                      ] 188416 / 628462"
     ]
    },
    {
     "name": "stderr",
     "output_type": "stream",
     "text": [
      "[INFO] | 2022/04/18 19:16:16 | ↓ Successfully download the url to: ./journals/post_colonial/critical_inquiry/Notes on the Phantom  A Complement to Freud’s Metapsychology. Critical Inquiry, 13(2), 287–292.pdf\n"
     ]
    },
    {
     "name": "stdout",
     "output_type": "stream",
     "text": [
      "100% [............................................................................] 628462 / 628462\n"
     ]
    },
    {
     "name": "stderr",
     "output_type": "stream",
     "text": [
      "[INFO] | 2022/04/18 19:16:26 | Choose scihub url [0]: https://sci-hub.ru\n",
      "[INFO] | 2022/04/18 19:16:27 | <- Request: scihub_url=https://sci-hub.ru, source=DoiSource[type=doi, id=doi.org/10.1086/448391]\n",
      "[INFO] | 2022/04/18 19:16:27 | -> Response: status_code=200, content_length=6906\n",
      "[INFO] | 2022/04/18 19:16:27 | * Extracted information: {'url': 'https://twin.sci-hub.ru/6516/a1e443b8c8fb0a9c87341c8f51b47eb0/gilman1987.pdf', 'title': 'The Struggle of Psychiatry with Psychoanalysis  Who Won  Critical Inquiry, 13(2), 293–313'}\n"
     ]
    },
    {
     "name": "stdout",
     "output_type": "stream",
     "text": [
      " 70% [....................................................                      ] 1728512 / 2446384"
     ]
    },
    {
     "name": "stderr",
     "output_type": "stream",
     "text": [
      "[INFO] | 2022/04/18 19:16:28 | ↓ Successfully download the url to: ./journals/post_colonial/critical_inquiry/The Struggle of Psychiatry with Psychoanalysis  Who Won  Critical Inquiry, 13(2), 293–313.pdf\n"
     ]
    },
    {
     "name": "stdout",
     "output_type": "stream",
     "text": [
      "100% [..........................................................................] 2446384 / 2446384\n"
     ]
    },
    {
     "name": "stderr",
     "output_type": "stream",
     "text": [
      "[INFO] | 2022/04/18 19:16:38 | Choose scihub url [0]: https://sci-hub.ru\n",
      "[INFO] | 2022/04/18 19:16:39 | <- Request: scihub_url=https://sci-hub.ru, source=DoiSource[type=doi, id=doi.org/10.1086/448393]\n",
      "[INFO] | 2022/04/18 19:16:39 | -> Response: status_code=200, content_length=6871\n",
      "[INFO] | 2022/04/18 19:16:39 | * Extracted information: {'url': 'https://twin.sci-hub.ru/6113/c5b898e4eb0b7195f4d215e255f650d4/laclau1987.pdf', 'title': 'Psychoanalysis and Marxism. Critical Inquiry, 13(2), 330–333'}\n"
     ]
    },
    {
     "name": "stdout",
     "output_type": "stream",
     "text": [
      " 42% [................................                                            ] 188416 / 438418"
     ]
    },
    {
     "name": "stderr",
     "output_type": "stream",
     "text": [
      "[INFO] | 2022/04/18 19:16:39 | ↓ Successfully download the url to: ./journals/post_colonial/critical_inquiry/Psychoanalysis and Marxism. Critical Inquiry, 13(2), 330–333.pdf\n"
     ]
    },
    {
     "name": "stdout",
     "output_type": "stream",
     "text": [
      "100% [............................................................................] 438418 / 438418\n"
     ]
    },
    {
     "name": "stderr",
     "output_type": "stream",
     "text": [
      "[INFO] | 2022/04/18 19:16:49 | Choose scihub url [0]: https://sci-hub.ru\n",
      "[INFO] | 2022/04/18 19:16:50 | <- Request: scihub_url=https://sci-hub.ru, source=DoiSource[type=doi, id=doi.org/10.1086/448394]\n",
      "[INFO] | 2022/04/18 19:16:50 | -> Response: status_code=200, content_length=6887\n",
      "[INFO] | 2022/04/18 19:16:50 | * Extracted information: {'url': 'https://twin.sci-hub.ru/6370/4134bfe5ea2459c1f2a6c7aa87cf3c5d/brooks1987.pdf', 'title': 'The Idea of a Psychoanalytic Literary Criticism. Critical Inquiry, 13(2), 334–348'}\n"
     ]
    },
    {
     "name": "stdout",
     "output_type": "stream",
     "text": [
      " 60% [............................................                              ] 1040384 / 1725254"
     ]
    },
    {
     "name": "stderr",
     "output_type": "stream",
     "text": [
      "[INFO] | 2022/04/18 19:16:51 | ↓ Successfully download the url to: ./journals/post_colonial/critical_inquiry/The Idea of a Psychoanalytic Literary Criticism. Critical Inquiry, 13(2), 334–348.pdf\n"
     ]
    },
    {
     "name": "stdout",
     "output_type": "stream",
     "text": [
      "100% [..........................................................................] 1725254 / 1725254\n"
     ]
    },
    {
     "name": "stderr",
     "output_type": "stream",
     "text": [
      "[INFO] | 2022/04/18 19:17:01 | Choose scihub url [0]: https://sci-hub.ru\n",
      "[INFO] | 2022/04/18 19:17:01 | <- Request: scihub_url=https://sci-hub.ru, source=DoiSource[type=doi, id=doi.org/10.1086/448395]\n",
      "[INFO] | 2022/04/18 19:17:01 | -> Response: status_code=200, content_length=6887\n",
      "[INFO] | 2022/04/18 19:17:01 | * Extracted information: {'url': 'https://twin.sci-hub.ru/6035/68ea84b08375abd07a84ed0e528add92/melville1987.pdf', 'title': 'Psychoanalysis and the Place of “Jouissance.” Critical Inquiry, 13(2), 349–370'}\n"
     ]
    },
    {
     "name": "stdout",
     "output_type": "stream",
     "text": [
      " 45% [.................................                                         ]  999424 / 2211397"
     ]
    },
    {
     "name": "stderr",
     "output_type": "stream",
     "text": [
      "[INFO] | 2022/04/18 19:17:02 | ↓ Successfully download the url to: ./journals/post_colonial/critical_inquiry/Psychoanalysis and the Place of “Jouissance.” Critical Inquiry, 13(2), 349–370.pdf\n"
     ]
    },
    {
     "name": "stdout",
     "output_type": "stream",
     "text": [
      "100% [..........................................................................] 2211397 / 2211397\n"
     ]
    },
    {
     "name": "stderr",
     "output_type": "stream",
     "text": [
      "[INFO] | 2022/04/18 19:17:13 | Choose scihub url [0]: https://sci-hub.ru\n",
      "[INFO] | 2022/04/18 19:17:13 | <- Request: scihub_url=https://sci-hub.ru, source=DoiSource[type=doi, id=doi.org/10.1086/448396]\n",
      "[INFO] | 2022/04/18 19:17:13 | -> Response: status_code=200, content_length=6861\n",
      "[INFO] | 2022/04/18 19:17:13 | * Extracted information: {'url': 'https://twin.sci-hub.ru/6322/13798342a972dcfa255a64c580475915/riffaterre1987.pdf', 'title': 'The Intertextual Unconscious. Critical Inquiry, 13(2), 371–385'}\n"
     ]
    },
    {
     "name": "stdout",
     "output_type": "stream",
     "text": [
      " 85% [...............................................................           ] 1482752 / 1737461"
     ]
    },
    {
     "name": "stderr",
     "output_type": "stream",
     "text": [
      "[INFO] | 2022/04/18 19:17:15 | ↓ Successfully download the url to: ./journals/post_colonial/critical_inquiry/The Intertextual Unconscious. Critical Inquiry, 13(2), 371–385.pdf\n"
     ]
    },
    {
     "name": "stdout",
     "output_type": "stream",
     "text": [
      "100% [..........................................................................] 1737461 / 1737461\n"
     ]
    },
    {
     "name": "stderr",
     "output_type": "stream",
     "text": [
      "[INFO] | 2022/04/18 19:17:25 | Choose scihub url [0]: https://sci-hub.ru\n",
      "[INFO] | 2022/04/18 19:17:25 | <- Request: scihub_url=https://sci-hub.ru, source=DoiSource[type=doi, id=doi.org/10.1086/448398]\n",
      "[INFO] | 2022/04/18 19:17:25 | -> Response: status_code=200, content_length=6824\n",
      "[INFO] | 2022/04/18 19:17:25 | * Extracted information: {'url': 'https://sci-hub.ru/downloads/2019-09-16/4d/starobinski1987.pdf', 'title': 'Acheronta Movebo. Critical Inquiry, 13(2), 394–407'}\n"
     ]
    },
    {
     "name": "stdout",
     "output_type": "stream",
     "text": [
      " 46% [..................................                                        ]  704512 / 1526952"
     ]
    },
    {
     "name": "stderr",
     "output_type": "stream",
     "text": [
      "[INFO] | 2022/04/18 19:17:26 | ↓ Successfully download the url to: ./journals/post_colonial/critical_inquiry/Acheronta Movebo. Critical Inquiry, 13(2), 394–407.pdf\n"
     ]
    },
    {
     "name": "stdout",
     "output_type": "stream",
     "text": [
      "100% [..........................................................................] 1526952 / 1526952\n"
     ]
    },
    {
     "name": "stderr",
     "output_type": "stream",
     "text": [
      "[INFO] | 2022/04/18 19:17:36 | Choose scihub url [0]: https://sci-hub.ru\n",
      "[INFO] | 2022/04/18 19:17:36 | <- Request: scihub_url=https://sci-hub.ru, source=DoiSource[type=doi, id=doi.org/10.1086/448399]\n",
      "[INFO] | 2022/04/18 19:17:36 | -> Response: status_code=200, content_length=6807\n",
      "[INFO] | 2022/04/18 19:17:36 | * Extracted information: {'url': 'https://twin.sci-hub.ru/5944/f1d29de4644a28b1a7ac86f339224ccd/editors-note-1987.pdf', 'title': 'Critical Inquiry, 13(2), 408–409'}\n",
      "[INFO] | 2022/04/18 19:17:37 | ↓ Successfully download the url to: ./journals/post_colonial/critical_inquiry/Critical Inquiry, 13(2), 408–409.pdf\n"
     ]
    },
    {
     "name": "stdout",
     "output_type": "stream",
     "text": [
      "100% [............................................................................] 107401 / 107401\n"
     ]
    },
    {
     "name": "stderr",
     "output_type": "stream",
     "text": [
      "[INFO] | 2022/04/18 19:17:47 | Choose scihub url [0]: https://sci-hub.ru\n",
      "[INFO] | 2022/04/18 19:17:48 | <- Request: scihub_url=https://sci-hub.ru, source=DoiSource[type=doi, id=doi.org/10.1086/448400]\n",
      "[INFO] | 2022/04/18 19:17:48 | -> Response: status_code=200, content_length=6848\n",
      "[INFO] | 2022/04/18 19:17:48 | * Extracted information: {'url': 'https://twin.sci-hub.ru/5869/b432407417c2d237606ec83b217a5a6b/books-of-critical-interest-1987.pdf', 'title': 'Critical Inquiry, 13(2), 410–413'}\n"
     ]
    },
    {
     "name": "stdout",
     "output_type": "stream",
     "text": [
      " 41% [...............................                                             ] 139264 / 334032"
     ]
    },
    {
     "name": "stderr",
     "output_type": "stream",
     "text": [
      "[INFO] | 2022/04/18 19:17:49 | ↓ Successfully download the url to: ./journals/post_colonial/critical_inquiry/Critical Inquiry, 13(2), 410–413.pdf\n"
     ]
    },
    {
     "name": "stdout",
     "output_type": "stream",
     "text": [
      "100% [............................................................................] 334032 / 334032\n"
     ]
    },
    {
     "name": "stderr",
     "output_type": "stream",
     "text": [
      "[INFO] | 2022/04/18 19:17:59 | Choose scihub url [0]: https://sci-hub.ru\n",
      "[INFO] | 2022/04/18 19:17:59 | <- Request: scihub_url=https://sci-hub.ru, source=DoiSource[type=doi, id=doi.org/10.1086/448401]\n",
      "[INFO] | 2022/04/18 19:17:59 | -> Response: status_code=200, content_length=6851\n",
      "[INFO] | 2022/04/18 19:17:59 | * Extracted information: {'url': 'https://twin.sci-hub.ru/5990/c249193b52a2433016a1bbfe6cb2a1bd/vonhallberg1987.pdf', 'title': 'Editor’s Introduction. Critical Inquiry, 13(3), 415–420'}\n"
     ]
    },
    {
     "name": "stdout",
     "output_type": "stream",
     "text": [
      " 31% [.......................                                                     ] 188416 / 601010"
     ]
    },
    {
     "name": "stderr",
     "output_type": "stream",
     "text": [
      "[INFO] | 2022/04/18 19:18:00 | ↓ Successfully download the url to: ./journals/post_colonial/critical_inquiry/Editor’s Introduction. Critical Inquiry, 13(3), 415–420.pdf\n"
     ]
    },
    {
     "name": "stdout",
     "output_type": "stream",
     "text": [
      "100% [............................................................................] 601010 / 601010\n"
     ]
    },
    {
     "name": "stderr",
     "output_type": "stream",
     "text": [
      "[INFO] | 2022/04/18 19:18:10 | Choose scihub url [0]: https://sci-hub.ru\n",
      "[INFO] | 2022/04/18 19:18:11 | <- Request: scihub_url=https://sci-hub.ru, source=DoiSource[type=doi, id=doi.org/10.1086/448402]\n",
      "[INFO] | 2022/04/18 19:18:11 | -> Response: status_code=200, content_length=6849\n",
      "[INFO] | 2022/04/18 19:18:11 | * Extracted information: {'url': 'https://twin.sci-hub.ru/5877/458e7f9ce90840f56d212a188be4a1f2/pinsky1987.pdf', 'title': 'Responsibilities of the Poet. Critical Inquiry, 13(3), 421–433'}\n"
     ]
    },
    {
     "name": "stdout",
     "output_type": "stream",
     "text": [
      " 15% [...........                                                               ]  188416 / 1251438"
     ]
    },
    {
     "name": "stderr",
     "output_type": "stream",
     "text": [
      "[INFO] | 2022/04/18 19:18:12 | ↓ Successfully download the url to: ./journals/post_colonial/critical_inquiry/Responsibilities of the Poet. Critical Inquiry, 13(3), 421–433.pdf\n"
     ]
    },
    {
     "name": "stdout",
     "output_type": "stream",
     "text": [
      "100% [..........................................................................] 1251438 / 1251438\n"
     ]
    },
    {
     "name": "stderr",
     "output_type": "stream",
     "text": [
      "[INFO] | 2022/04/18 19:18:22 | Choose scihub url [0]: https://sci-hub.ru\n",
      "[INFO] | 2022/04/18 19:18:22 | <- Request: scihub_url=https://sci-hub.ru, source=DoiSource[type=doi, id=doi.org/10.1086/448404]\n",
      "[INFO] | 2022/04/18 19:18:22 | -> Response: status_code=200, content_length=6927\n",
      "[INFO] | 2022/04/18 19:18:22 | * Extracted information: {'url': 'https://twin.sci-hub.ru/6206/16529ab935cb74ac5f59f2cc9c34cfe2/bernstein1987.pdf', 'title': '“O Totiens Servus”  Saturnalia and Servitude in Augustan Rome. Critical Inquiry, 13(3), 450–474'}\n"
     ]
    },
    {
     "name": "stdout",
     "output_type": "stream",
     "text": [
      " 30% [......................                                                    ]  860160 / 2793151"
     ]
    },
    {
     "name": "stderr",
     "output_type": "stream",
     "text": [
      "[INFO] | 2022/04/18 19:18:23 | ↓ Successfully download the url to: ./journals/post_colonial/critical_inquiry/“O Totiens Servus”  Saturnalia and Servitude in Augustan Rome. Critical Inquiry, 13(3), 450–474.pdf\n"
     ]
    },
    {
     "name": "stdout",
     "output_type": "stream",
     "text": [
      "100% [..........................................................................] 2793151 / 2793151\n"
     ]
    },
    {
     "name": "stderr",
     "output_type": "stream",
     "text": [
      "[INFO] | 2022/04/18 19:18:33 | Choose scihub url [0]: https://sci-hub.ru\n",
      "[INFO] | 2022/04/18 19:18:34 | <- Request: scihub_url=https://sci-hub.ru, source=DoiSource[type=doi, id=doi.org/10.1086/448405]\n",
      "[INFO] | 2022/04/18 19:18:34 | -> Response: status_code=200, content_length=6920\n",
      "[INFO] | 2022/04/18 19:18:34 | * Extracted information: {'url': 'https://twin.sci-hub.ru/6017/42f4e73e18d203b075d3f737a7408a24/mueller1987.pdf', 'title': 'The Mastery of Decorum  Politics as Poetry in Milton’s Sonnets. Critical Inquiry, 13(3), 475–508'}\n"
     ]
    },
    {
     "name": "stdout",
     "output_type": "stream",
     "text": [
      " 97% [.......................................................................   ] 3833856 / 3944884"
     ]
    },
    {
     "name": "stderr",
     "output_type": "stream",
     "text": [
      "[INFO] | 2022/04/18 19:18:35 | ↓ Successfully download the url to: ./journals/post_colonial/critical_inquiry/The Mastery of Decorum  Politics as Poetry in Milton’s Sonnets. Critical Inquiry, 13(3), 475–508.pdf\n"
     ]
    },
    {
     "name": "stdout",
     "output_type": "stream",
     "text": [
      "100% [..........................................................................] 3944884 / 3944884\n"
     ]
    },
    {
     "name": "stderr",
     "output_type": "stream",
     "text": [
      "[INFO] | 2022/04/18 19:18:45 | Choose scihub url [0]: https://sci-hub.ru\n",
      "[INFO] | 2022/04/18 19:18:45 | <- Request: scihub_url=https://sci-hub.ru, source=DoiSource[type=doi, id=doi.org/10.1086/448406]\n",
      "[INFO] | 2022/04/18 19:18:45 | -> Response: status_code=200, content_length=6880\n",
      "[INFO] | 2022/04/18 19:18:45 | * Extracted information: {'url': 'https://twin.sci-hub.ru/6030/0579b30dddeff2ab46079f42d2c24ab3/helsinger1987.pdf', 'title': 'Clare and the Place of the Peasant Poet. Critical Inquiry, 13(3), 509–531'}\n"
     ]
    },
    {
     "name": "stdout",
     "output_type": "stream",
     "text": [
      " 49% [....................................                                      ] 1122304 / 2261160"
     ]
    },
    {
     "name": "stderr",
     "output_type": "stream",
     "text": [
      "[INFO] | 2022/04/18 19:18:46 | ↓ Successfully download the url to: ./journals/post_colonial/critical_inquiry/Clare and the Place of the Peasant Poet. Critical Inquiry, 13(3), 509–531.pdf\n"
     ]
    },
    {
     "name": "stdout",
     "output_type": "stream",
     "text": [
      "100% [..........................................................................] 2261160 / 2261160\n"
     ]
    },
    {
     "name": "stderr",
     "output_type": "stream",
     "text": [
      "[INFO] | 2022/04/18 19:18:56 | Choose scihub url [0]: https://sci-hub.ru\n",
      "[INFO] | 2022/04/18 19:18:57 | <- Request: scihub_url=https://sci-hub.ru, source=DoiSource[type=doi, id=doi.org/10.1086/448407]\n",
      "[INFO] | 2022/04/18 19:18:57 | -> Response: status_code=200, content_length=6858\n",
      "[INFO] | 2022/04/18 19:18:57 | * Extracted information: {'url': 'https://twin.sci-hub.ru/6035/72121f9e4484d4e9970f1391e008ad6e/schweik1987.pdf', 'title': 'Writing War Poetry like a Woman. Critical Inquiry, 13(3), 532–556'}\n"
     ]
    },
    {
     "name": "stdout",
     "output_type": "stream",
     "text": [
      " 43% [................................                                          ] 1236992 / 2827673"
     ]
    },
    {
     "name": "stderr",
     "output_type": "stream",
     "text": [
      "[INFO] | 2022/04/18 19:18:58 | ↓ Successfully download the url to: ./journals/post_colonial/critical_inquiry/Writing War Poetry like a Woman. Critical Inquiry, 13(3), 532–556.pdf\n"
     ]
    },
    {
     "name": "stdout",
     "output_type": "stream",
     "text": [
      "100% [..........................................................................] 2827673 / 2827673\n"
     ]
    },
    {
     "name": "stderr",
     "output_type": "stream",
     "text": [
      "[INFO] | 2022/04/18 19:19:08 | Choose scihub url [0]: https://sci-hub.ru\n",
      "[INFO] | 2022/04/18 19:19:08 | <- Request: scihub_url=https://sci-hub.ru, source=DoiSource[type=doi, id=doi.org/10.1086/448408]\n",
      "[INFO] | 2022/04/18 19:19:08 | -> Response: status_code=200, content_length=6896\n",
      "[INFO] | 2022/04/18 19:19:08 | * Extracted information: {'url': 'https://twin.sci-hub.ru/5947/11091d1ef383e9ebeed54217e1cc6eef/nixon1987.pdf', 'title': 'Caribbean and African Appropriations of “The Tempest.” Critical Inquiry, 13(3), 557–578'}\n"
     ]
    },
    {
     "name": "stdout",
     "output_type": "stream",
     "text": [
      " 38% [............................                                              ]  950272 / 2479435"
     ]
    },
    {
     "name": "stderr",
     "output_type": "stream",
     "text": [
      "[INFO] | 2022/04/18 19:19:09 | ↓ Successfully download the url to: ./journals/post_colonial/critical_inquiry/Caribbean and African Appropriations of “The Tempest.” Critical Inquiry, 13(3), 557–578.pdf\n"
     ]
    },
    {
     "name": "stdout",
     "output_type": "stream",
     "text": [
      "100% [..........................................................................] 2479435 / 2479435\n"
     ]
    },
    {
     "name": "stderr",
     "output_type": "stream",
     "text": [
      "[INFO] | 2022/04/18 19:19:19 | Choose scihub url [0]: https://sci-hub.ru\n",
      "[INFO] | 2022/04/18 19:19:20 | <- Request: scihub_url=https://sci-hub.ru, source=DoiSource[type=doi, id=doi.org/10.1086/448409]\n",
      "[INFO] | 2022/04/18 19:19:20 | -> Response: status_code=200, content_length=6925\n",
      "[INFO] | 2022/04/18 19:19:20 | * Extracted information: {'url': 'https://twin.sci-hub.ru/6035/b8e02ff500060924cf3b8e875fed8722/ostriker1987.pdf', 'title': 'Dancing at the Devil’s Party  Some Notes on Politics and Poetry. Critical Inquiry, 13(3), 579–596'}\n"
     ]
    },
    {
     "name": "stdout",
     "output_type": "stream",
     "text": [
      " 58% [...........................................                               ] 1138688 / 1947761"
     ]
    },
    {
     "name": "stderr",
     "output_type": "stream",
     "text": [
      "[INFO] | 2022/04/18 19:19:20 | ↓ Successfully download the url to: ./journals/post_colonial/critical_inquiry/Dancing at the Devil’s Party  Some Notes on Politics and Poetry. Critical Inquiry, 13(3), 579–596.pdf\n"
     ]
    },
    {
     "name": "stdout",
     "output_type": "stream",
     "text": [
      "100% [..........................................................................] 1947761 / 1947761\n"
     ]
    },
    {
     "name": "stderr",
     "output_type": "stream",
     "text": [
      "[INFO] | 2022/04/18 19:19:30 | Choose scihub url [0]: https://sci-hub.ru\n",
      "[INFO] | 2022/04/18 19:19:31 | <- Request: scihub_url=https://sci-hub.ru, source=DoiSource[type=doi, id=doi.org/10.1086/448410]\n",
      "[INFO] | 2022/04/18 19:19:31 | -> Response: status_code=200, content_length=6965\n",
      "[INFO] | 2022/04/18 19:19:31 | * Extracted information: {'url': 'https://twin.sci-hub.ru/5945/24583897d03f988af5947a33c349eb11/mcclintock1987.pdf', 'title': '“Azikwelwa” (We Will Not Ride)  Politics and Value in Black South African Poetry. Critical Inquiry, 13(3), 597–623'}\n"
     ]
    },
    {
     "name": "stdout",
     "output_type": "stream",
     "text": [
      " 45% [.................................                                         ] 1302528 / 2881344"
     ]
    },
    {
     "name": "stderr",
     "output_type": "stream",
     "text": [
      "[INFO] | 2022/04/18 19:19:32 | ↓ Successfully download the url to: ./journals/post_colonial/critical_inquiry/“Azikwelwa” (We Will Not Ride)  Politics and Value in Black South African Poetry. Critical Inquiry, 13(3), 597–623.pdf\n"
     ]
    },
    {
     "name": "stdout",
     "output_type": "stream",
     "text": [
      "100% [..........................................................................] 2881344 / 2881344\n"
     ]
    },
    {
     "name": "stderr",
     "output_type": "stream",
     "text": [
      "[INFO] | 2022/04/18 19:19:42 | Choose scihub url [0]: https://sci-hub.ru\n",
      "[INFO] | 2022/04/18 19:19:42 | <- Request: scihub_url=https://sci-hub.ru, source=DoiSource[type=doi, id=doi.org/10.1086/448411]\n",
      "[INFO] | 2022/04/18 19:19:42 | -> Response: status_code=200, content_length=6839\n",
      "[INFO] | 2022/04/18 19:19:42 | * Extracted information: {'url': 'https://sci-hub.ru/downloads/2020-06-07/1e/mcgann1987.pdf', 'title': 'Contemporary Poetry, Alternate Routes. Critical Inquiry, 13(3), 624–647'}\n"
     ]
    },
    {
     "name": "stdout",
     "output_type": "stream",
     "text": [
      " 58% [...........................................                               ] 1507328 / 2566520"
     ]
    },
    {
     "name": "stderr",
     "output_type": "stream",
     "text": [
      "[INFO] | 2022/04/18 19:19:43 | ↓ Successfully download the url to: ./journals/post_colonial/critical_inquiry/Contemporary Poetry, Alternate Routes. Critical Inquiry, 13(3), 624–647.pdf\n"
     ]
    },
    {
     "name": "stdout",
     "output_type": "stream",
     "text": [
      "100% [..........................................................................] 2566520 / 2566520\n"
     ]
    },
    {
     "name": "stderr",
     "output_type": "stream",
     "text": [
      "[INFO] | 2022/04/18 19:19:53 | Choose scihub url [0]: https://sci-hub.ru\n",
      "[INFO] | 2022/04/18 19:19:53 | <- Request: scihub_url=https://sci-hub.ru, source=DoiSource[type=doi, id=doi.org/10.1086/448412]\n",
      "[INFO] | 2022/04/18 19:19:53 | -> Response: status_code=200, content_length=6869\n",
      "[INFO] | 2022/04/18 19:19:53 | * Extracted information: {'url': 'https://sci-hub.ru/downloads/2019-03-22/76/gibbons1987.pdf', 'title': 'Political Poetry and the Example of Ernesto Cardenal. Critical Inquiry, 13(3), 648–671'}\n"
     ]
    },
    {
     "name": "stdout",
     "output_type": "stream",
     "text": [
      " 46% [..................................                                        ] 1245184 / 2664270"
     ]
    },
    {
     "name": "stderr",
     "output_type": "stream",
     "text": [
      "[INFO] | 2022/04/18 19:19:54 | ↓ Successfully download the url to: ./journals/post_colonial/critical_inquiry/Political Poetry and the Example of Ernesto Cardenal. Critical Inquiry, 13(3), 648–671.pdf\n"
     ]
    },
    {
     "name": "stdout",
     "output_type": "stream",
     "text": [
      "100% [..........................................................................] 2664270 / 2664270\n"
     ]
    },
    {
     "name": "stderr",
     "output_type": "stream",
     "text": [
      "[INFO] | 2022/04/18 19:20:04 | Choose scihub url [0]: https://sci-hub.ru\n",
      "[INFO] | 2022/04/18 19:20:05 | <- Request: scihub_url=https://sci-hub.ru, source=DoiSource[type=doi, id=doi.org/10.1086/448413]\n",
      "[INFO] | 2022/04/18 19:20:05 | -> Response: status_code=200, content_length=6812\n",
      "[INFO] | 2022/04/18 19:20:05 | * Extracted information: {'url': 'https://twin.sci-hub.ru/5846/6de98bd3c687b1a20d49e7372a05905f/editorial-note-1987.pdf', 'title': 'Critical Inquiry, 13(3), 672–672'}\n",
      "[INFO] | 2022/04/18 19:20:05 | ↓ Successfully download the url to: ./journals/post_colonial/critical_inquiry/Critical Inquiry, 13(3), 672–672.pdf\n"
     ]
    },
    {
     "name": "stdout",
     "output_type": "stream",
     "text": [
      "100% [..............................................................................] 29701 / 29701\n"
     ]
    },
    {
     "name": "stderr",
     "output_type": "stream",
     "text": [
      "[INFO] | 2022/04/18 19:20:15 | Choose scihub url [0]: https://sci-hub.ru\n",
      "[INFO] | 2022/04/18 19:20:16 | <- Request: scihub_url=https://sci-hub.ru, source=DoiSource[type=doi, id=doi.org/10.1086/448416]\n",
      "[INFO] | 2022/04/18 19:20:16 | -> Response: status_code=200, content_length=7002\n",
      "[INFO] | 2022/04/18 19:20:16 | * Extracted information: {'url': 'https://twin.sci-hub.ru/5878/3445e4bd034bf87105f9bd770bf2e88a/gombrich1987.pdf', 'title': '“They Were All Human Beings  So Much Is Plain”  Reflections on Cultural Relativism in the Humanities. Critical Inquiry, 13(4), 686–699'}\n"
     ]
    },
    {
     "name": "stdout",
     "output_type": "stream",
     "text": [
      " 90% [..................................................................        ] 1376256 / 1528551"
     ]
    },
    {
     "name": "stderr",
     "output_type": "stream",
     "text": [
      "[INFO] | 2022/04/18 19:20:17 | ↓ Successfully download the url to: ./journals/post_colonial/critical_inquiry/“They Were All Human Beings  So Much Is Plain”  Reflections on Cultural Relativism in the Humanities. Critical Inquiry, 13(4), 686–699.pdf\n"
     ]
    },
    {
     "name": "stdout",
     "output_type": "stream",
     "text": [
      "100% [..........................................................................] 1528551 / 1528551\n"
     ]
    },
    {
     "name": "stderr",
     "output_type": "stream",
     "text": [
      "[INFO] | 2022/04/18 19:20:27 | Choose scihub url [0]: https://sci-hub.ru\n",
      "[INFO] | 2022/04/18 19:20:27 | <- Request: scihub_url=https://sci-hub.ru, source=DoiSource[type=doi, id=doi.org/10.1086/448417]\n",
      "[INFO] | 2022/04/18 19:20:27 | -> Response: status_code=200, content_length=6830\n",
      "[INFO] | 2022/04/18 19:20:27 | * Extracted information: {'url': 'https://sci-hub.ru/downloads/2019-02-28/d6/feyerabend1987.pdf', 'title': 'Creativity  A Dangerous Myth. Critical Inquiry, 13(4), 700–711'}\n"
     ]
    },
    {
     "name": "stdout",
     "output_type": "stream",
     "text": [
      " 14% [..........                                                                ]  188416 / 1328725"
     ]
    },
    {
     "name": "stderr",
     "output_type": "stream",
     "text": [
      "[INFO] | 2022/04/18 19:20:28 | ↓ Successfully download the url to: ./journals/post_colonial/critical_inquiry/Creativity  A Dangerous Myth. Critical Inquiry, 13(4), 700–711.pdf\n"
     ]
    },
    {
     "name": "stdout",
     "output_type": "stream",
     "text": [
      "100% [..........................................................................] 1328725 / 1328725\n"
     ]
    },
    {
     "name": "stderr",
     "output_type": "stream",
     "text": [
      "[INFO] | 2022/04/18 19:20:38 | Choose scihub url [0]: https://sci-hub.ru\n",
      "[INFO] | 2022/04/18 19:20:38 | <- Request: scihub_url=https://sci-hub.ru, source=DoiSource[type=doi, id=doi.org/10.1086/448419]\n",
      "[INFO] | 2022/04/18 19:20:38 | -> Response: status_code=200, content_length=6934\n",
      "[INFO] | 2022/04/18 19:20:38 | * Extracted information: {'url': 'https://twin.sci-hub.ru/6028/28ebe4c86dfd0b15cc1469a055b58288/lentricchia1987.pdf', 'title': 'Patriarchy against Itself  The Young Manhood of Wallace Stevens. Critical Inquiry, 13(4), 742–786'}\n"
     ]
    },
    {
     "name": "stdout",
     "output_type": "stream",
     "text": [
      "100% [..........................................................................] 5389608 / 5389608\n"
     ]
    },
    {
     "name": "stderr",
     "output_type": "stream",
     "text": [
      "[INFO] | 2022/04/18 19:20:39 | ↓ Successfully download the url to: ./journals/post_colonial/critical_inquiry/Patriarchy against Itself  The Young Manhood of Wallace Stevens. Critical Inquiry, 13(4), 742–786.pdf\n",
      "[INFO] | 2022/04/18 19:20:49 | Choose scihub url [0]: https://sci-hub.ru\n",
      "[INFO] | 2022/04/18 19:20:50 | <- Request: scihub_url=https://sci-hub.ru, source=DoiSource[type=doi, id=doi.org/10.1086/448421]\n",
      "[INFO] | 2022/04/18 19:20:50 | -> Response: status_code=200, content_length=6919\n",
      "[INFO] | 2022/04/18 19:20:50 | * Extracted information: {'url': 'https://twin.sci-hub.ru/6192/91119668ea135350ddd7218d5e5fa708/oates1987.pdf', 'title': 'Soul at the White Heat  The Romance of Emily Dickinson’s Poetry. Critical Inquiry, 13(4), 806–824'}\n"
     ]
    },
    {
     "name": "stdout",
     "output_type": "stream",
     "text": [
      " 11% [........                                                                  ]  188416 / 1574487"
     ]
    },
    {
     "name": "stderr",
     "output_type": "stream",
     "text": [
      "[INFO] | 2022/04/18 19:20:51 | ↓ Successfully download the url to: ./journals/post_colonial/critical_inquiry/Soul at the White Heat  The Romance of Emily Dickinson’s Poetry. Critical Inquiry, 13(4), 806–824.pdf\n"
     ]
    },
    {
     "name": "stdout",
     "output_type": "stream",
     "text": [
      "100% [..........................................................................] 1574487 / 1574487\n"
     ]
    },
    {
     "name": "stderr",
     "output_type": "stream",
     "text": [
      "[INFO] | 2022/04/18 19:21:01 | Choose scihub url [0]: https://sci-hub.ru\n",
      "[INFO] | 2022/04/18 19:21:01 | <- Request: scihub_url=https://sci-hub.ru, source=DoiSource[type=doi, id=doi.org/10.1086/448422]\n",
      "[INFO] | 2022/04/18 19:21:01 | -> Response: status_code=200, content_length=6854\n",
      "[INFO] | 2022/04/18 19:21:01 | * Extracted information: {'url': 'https://twin.sci-hub.ru/5876/c2d20826d2988dc3b4fc7022123070d7/vendler1987.pdf', 'title': 'The Poems of Elizabeth Bishop. Critical Inquiry, 13(4), 825–838'}\n"
     ]
    },
    {
     "name": "stdout",
     "output_type": "stream",
     "text": [
      " 86% [...............................................................           ] 1073152 / 1243698"
     ]
    },
    {
     "name": "stderr",
     "output_type": "stream",
     "text": [
      "[INFO] | 2022/04/18 19:21:02 | ↓ Successfully download the url to: ./journals/post_colonial/critical_inquiry/The Poems of Elizabeth Bishop. Critical Inquiry, 13(4), 825–838.pdf\n"
     ]
    },
    {
     "name": "stdout",
     "output_type": "stream",
     "text": [
      "100% [..........................................................................] 1243698 / 1243698\n"
     ]
    },
    {
     "name": "stderr",
     "output_type": "stream",
     "text": [
      "[INFO] | 2022/04/18 19:21:12 | Choose scihub url [0]: https://sci-hub.ru\n",
      "[INFO] | 2022/04/18 19:21:13 | <- Request: scihub_url=https://sci-hub.ru, source=DoiSource[type=doi, id=doi.org/10.1086/448424]\n",
      "[INFO] | 2022/04/18 19:21:13 | -> Response: status_code=200, content_length=6848\n",
      "[INFO] | 2022/04/18 19:21:13 | * Extracted information: {'url': 'https://twin.sci-hub.ru/5862/21c1fc6ca00d92a2b9f163bb23040aac/books-of-critical-interest-1987.pdf', 'title': 'Critical Inquiry, 13(4), 841–844'}\n"
     ]
    },
    {
     "name": "stdout",
     "output_type": "stream",
     "text": [
      " 51% [......................................                                      ] 188416 / 367968"
     ]
    },
    {
     "name": "stderr",
     "output_type": "stream",
     "text": [
      "[INFO] | 2022/04/18 19:21:13 | ↓ Successfully download the url to: ./journals/post_colonial/critical_inquiry/Critical Inquiry, 13(4), 841–844.pdf\n"
     ]
    },
    {
     "name": "stdout",
     "output_type": "stream",
     "text": [
      "100% [............................................................................] 367968 / 367968\n"
     ]
    },
    {
     "name": "stderr",
     "output_type": "stream",
     "text": [
      "[INFO] | 2022/04/18 19:21:23 | Choose scihub url [0]: https://sci-hub.ru\n",
      "[INFO] | 2022/04/18 19:21:23 | <- Request: scihub_url=https://sci-hub.ru, source=DoiSource[type=doi, id=doi.org/10.1086/448425]\n",
      "[INFO] | 2022/04/18 19:21:23 | -> Response: status_code=200, content_length=6886\n",
      "[INFO] | 2022/04/18 19:21:23 | * Extracted information: {'url': 'https://twin.sci-hub.ru/6381/16bb15ac4b7260a664e23f7215784566/lowenthal1987.pdf', 'title': 'Sociology of Literature in Retrospect. Critical Inquiry, 14(1), 1–15'}\n"
     ]
    },
    {
     "name": "stdout",
     "output_type": "stream",
     "text": [
      "100% [..........................................................................] 1610359 / 1610359\n"
     ]
    },
    {
     "name": "stderr",
     "output_type": "stream",
     "text": [
      "[INFO] | 2022/04/18 19:21:24 | ↓ Successfully download the url to: ./journals/post_colonial/critical_inquiry/Sociology of Literature in Retrospect. Critical Inquiry, 14(1), 1–15.pdf\n",
      "[INFO] | 2022/04/18 19:21:34 | Choose scihub url [0]: https://sci-hub.ru\n",
      "[INFO] | 2022/04/18 19:21:35 | <- Request: scihub_url=https://sci-hub.ru, source=DoiSource[type=doi, id=doi.org/10.1086/448426]\n",
      "[INFO] | 2022/04/18 19:21:35 | -> Response: status_code=200, content_length=6866\n",
      "[INFO] | 2022/04/18 19:21:35 | * Extracted information: {'url': 'https://twin.sci-hub.ru/5971/2b6a084a931415ab5f7156f0620b1b5d/davidson1987.pdf', 'title': 'Sex and the Emergence of Sexuality. Critical Inquiry, 14(1), 16–48'}\n"
     ]
    },
    {
     "name": "stdout",
     "output_type": "stream",
     "text": [
      " 41% [..............................                                            ] 1712128 / 4162424"
     ]
    },
    {
     "name": "stderr",
     "output_type": "stream",
     "text": [
      "[INFO] | 2022/04/18 19:21:36 | ↓ Successfully download the url to: ./journals/post_colonial/critical_inquiry/Sex and the Emergence of Sexuality. Critical Inquiry, 14(1), 16–48.pdf\n"
     ]
    },
    {
     "name": "stdout",
     "output_type": "stream",
     "text": [
      "100% [..........................................................................] 4162424 / 4162424\n"
     ]
    },
    {
     "name": "stderr",
     "output_type": "stream",
     "text": [
      "[INFO] | 2022/04/18 19:21:46 | Choose scihub url [0]: https://sci-hub.ru\n",
      "[INFO] | 2022/04/18 19:21:46 | <- Request: scihub_url=https://sci-hub.ru, source=DoiSource[type=doi, id=doi.org/10.1086/448427]\n",
      "[INFO] | 2022/04/18 19:21:46 | -> Response: status_code=200, content_length=6861\n",
      "[INFO] | 2022/04/18 19:21:46 | * Extracted information: {'url': 'https://sci-hub.ru/tree/55/88/55881fe17725dc121d1afc58e477063f.pdf', 'title': 'Against Theory 2  Hermeneutics and Deconstruction. Critical Inquiry, 14(1), 49–68'}\n"
     ]
    },
    {
     "name": "stdout",
     "output_type": "stream",
     "text": [
      " 66% [.................................................                         ] 1605632 / 2419347"
     ]
    },
    {
     "name": "stderr",
     "output_type": "stream",
     "text": [
      "[INFO] | 2022/04/18 19:21:47 | ↓ Successfully download the url to: ./journals/post_colonial/critical_inquiry/Against Theory 2  Hermeneutics and Deconstruction. Critical Inquiry, 14(1), 49–68.pdf\n"
     ]
    },
    {
     "name": "stdout",
     "output_type": "stream",
     "text": [
      "100% [..........................................................................] 2419347 / 2419347\n"
     ]
    },
    {
     "name": "stderr",
     "output_type": "stream",
     "text": [
      "[INFO] | 2022/04/18 19:21:57 | Choose scihub url [0]: https://sci-hub.ru\n",
      "[INFO] | 2022/04/18 19:21:57 | <- Request: scihub_url=https://sci-hub.ru, source=DoiSource[type=doi, id=doi.org/10.1086/448428]\n",
      "[INFO] | 2022/04/18 19:21:57 | -> Response: status_code=200, content_length=6871\n",
      "[INFO] | 2022/04/18 19:21:57 | * Extracted information: {'url': 'https://twin.sci-hub.ru/6041/c5607f423cf7e3a99cb739bfa84160ae/zaller1987.pdf', 'title': 'Philip Guston and the Crisis of the Image. Critical Inquiry, 14(1), 69–94'}\n"
     ]
    },
    {
     "name": "stdout",
     "output_type": "stream",
     "text": [
      " 38% [............................                                              ] 1261568 / 3295175"
     ]
    },
    {
     "name": "stderr",
     "output_type": "stream",
     "text": [
      "[INFO] | 2022/04/18 19:21:59 | ↓ Successfully download the url to: ./journals/post_colonial/critical_inquiry/Philip Guston and the Crisis of the Image. Critical Inquiry, 14(1), 69–94.pdf\n"
     ]
    },
    {
     "name": "stdout",
     "output_type": "stream",
     "text": [
      "100% [..........................................................................] 3295175 / 3295175\n"
     ]
    },
    {
     "name": "stderr",
     "output_type": "stream",
     "text": [
      "[INFO] | 2022/04/18 19:22:09 | Choose scihub url [0]: https://sci-hub.ru\n",
      "[INFO] | 2022/04/18 19:22:09 | <- Request: scihub_url=https://sci-hub.ru, source=DoiSource[type=doi, id=doi.org/10.1086/448429]\n",
      "[INFO] | 2022/04/18 19:22:09 | -> Response: status_code=200, content_length=6887\n",
      "[INFO] | 2022/04/18 19:22:09 | * Extracted information: {'url': 'https://twin.sci-hub.ru/5851/3db8b515de164b0c7b7d9542f29a4583/lawler1987.pdf', 'title': 'Daemons of the Intellect  The Symbolists and Poe. Critical Inquiry, 14(1), 95–110'}\n"
     ]
    },
    {
     "name": "stdout",
     "output_type": "stream",
     "text": [
      " 53% [.......................................                                   ]  974848 / 1816493"
     ]
    },
    {
     "name": "stderr",
     "output_type": "stream",
     "text": [
      "[INFO] | 2022/04/18 19:22:10 | ↓ Successfully download the url to: ./journals/post_colonial/critical_inquiry/Daemons of the Intellect  The Symbolists and Poe. Critical Inquiry, 14(1), 95–110.pdf\n"
     ]
    },
    {
     "name": "stdout",
     "output_type": "stream",
     "text": [
      "100% [..........................................................................] 1816493 / 1816493\n"
     ]
    },
    {
     "name": "stderr",
     "output_type": "stream",
     "text": [
      "[INFO] | 2022/04/18 19:22:20 | Choose scihub url [0]: https://sci-hub.ru\n",
      "[INFO] | 2022/04/18 19:22:21 | <- Request: scihub_url=https://sci-hub.ru, source=DoiSource[type=doi, id=doi.org/10.1086/448431]\n",
      "[INFO] | 2022/04/18 19:22:21 | -> Response: status_code=200, content_length=6879\n",
      "[INFO] | 2022/04/18 19:22:21 | * Extracted information: {'url': 'https://twin.sci-hub.ru/5949/ac3d250995d7950eef6e9f96c06f8abc/chace1987.pdf', 'title': 'Ezra Pound  “Insanity,” “Treason,” and Care. Critical Inquiry, 14(1), 134–141'}\n"
     ]
    },
    {
     "name": "stdout",
     "output_type": "stream",
     "text": [
      " 19% [..............                                                              ] 188416 / 959529"
     ]
    },
    {
     "name": "stderr",
     "output_type": "stream",
     "text": [
      "[INFO] | 2022/04/18 19:22:22 | ↓ Successfully download the url to: ./journals/post_colonial/critical_inquiry/Ezra Pound  “Insanity,” “Treason,” and Care. Critical Inquiry, 14(1), 134–141.pdf\n"
     ]
    },
    {
     "name": "stdout",
     "output_type": "stream",
     "text": [
      "100% [............................................................................] 959529 / 959529\n"
     ]
    },
    {
     "name": "stderr",
     "output_type": "stream",
     "text": [
      "[INFO] | 2022/04/18 19:22:32 | Choose scihub url [0]: https://sci-hub.ru\n",
      "[INFO] | 2022/04/18 19:22:32 | <- Request: scihub_url=https://sci-hub.ru, source=DoiSource[type=doi, id=doi.org/10.1086/448433]\n",
      "[INFO] | 2022/04/18 19:22:32 | -> Response: status_code=200, content_length=6940\n",
      "[INFO] | 2022/04/18 19:22:32 | * Extracted information: {'url': 'https://twin.sci-hub.ru/5860/01f052e83deafa71044093b2682ef48b/roskill1987.pdf', 'title': 'Van Dyck at the English Court  The Relations of Portraiture and Allegory. Critical Inquiry, 14(1), 173–199'}\n"
     ]
    },
    {
     "name": "stdout",
     "output_type": "stream",
     "text": [
      " 51% [......................................                                    ] 1695744 / 3290140"
     ]
    },
    {
     "name": "stderr",
     "output_type": "stream",
     "text": [
      "[INFO] | 2022/04/18 19:22:33 | ↓ Successfully download the url to: ./journals/post_colonial/critical_inquiry/Van Dyck at the English Court  The Relations of Portraiture and Allegory. Critical Inquiry, 14(1), 173–199.pdf\n"
     ]
    },
    {
     "name": "stdout",
     "output_type": "stream",
     "text": [
      "100% [..........................................................................] 3290140 / 3290140\n"
     ]
    },
    {
     "name": "stderr",
     "output_type": "stream",
     "text": [
      "[INFO] | 2022/04/18 19:22:43 | Choose scihub url [0]: https://sci-hub.ru\n",
      "[INFO] | 2022/04/18 19:22:43 | <- Request: scihub_url=https://sci-hub.ru, source=DoiSource[type=doi, id=doi.org/10.1086/448436]\n",
      "[INFO] | 2022/04/18 19:22:43 | -> Response: status_code=200, content_length=6876\n",
      "[INFO] | 2022/04/18 19:22:43 | * Extracted information: {'url': 'https://sci-hub.ru/tree/63/79/637918e6f405a789fbeb7bb32e61fe9f.pdf', 'title': 'Nancy Reagan Wears a Hat  Feminism and Its Cultural Consensus. Critical Inquiry, 14(2), 223–243'}\n"
     ]
    },
    {
     "name": "stdout",
     "output_type": "stream",
     "text": [
      " 62% [..............................................                            ] 1572864 / 2517928"
     ]
    },
    {
     "name": "stderr",
     "output_type": "stream",
     "text": [
      "[INFO] | 2022/04/18 19:22:44 | ↓ Successfully download the url to: ./journals/post_colonial/critical_inquiry/Nancy Reagan Wears a Hat  Feminism and Its Cultural Consensus. Critical Inquiry, 14(2), 223–243.pdf\n"
     ]
    },
    {
     "name": "stdout",
     "output_type": "stream",
     "text": [
      "100% [..........................................................................] 2517928 / 2517928\n"
     ]
    },
    {
     "name": "stderr",
     "output_type": "stream",
     "text": [
      "[INFO] | 2022/04/18 19:22:54 | Choose scihub url [0]: https://sci-hub.ru\n",
      "[INFO] | 2022/04/18 19:22:55 | <- Request: scihub_url=https://sci-hub.ru, source=DoiSource[type=doi, id=doi.org/10.1086/448437]\n",
      "[INFO] | 2022/04/18 19:22:55 | -> Response: status_code=200, content_length=6842\n",
      "[INFO] | 2022/04/18 19:22:55 | * Extracted information: {'url': 'https://sci-hub.ru/downloads/2020-01-02/28/bois1988.pdf', 'title': 'Piet Mondrian, “New York City.” Critical Inquiry, 14(2), 244–277'}\n"
     ]
    },
    {
     "name": "stdout",
     "output_type": "stream",
     "text": [
      " 17% [.............                                                             ]  188416 / 1067374"
     ]
    },
    {
     "name": "stderr",
     "output_type": "stream",
     "text": [
      "[INFO] | 2022/04/18 19:22:56 | ↓ Successfully download the url to: ./journals/post_colonial/critical_inquiry/Piet Mondrian, “New York City.” Critical Inquiry, 14(2), 244–277.pdf\n"
     ]
    },
    {
     "name": "stdout",
     "output_type": "stream",
     "text": [
      "100% [..........................................................................] 1067374 / 1067374\n"
     ]
    },
    {
     "name": "stderr",
     "output_type": "stream",
     "text": [
      "[INFO] | 2022/04/18 19:23:06 | Choose scihub url [0]: https://sci-hub.ru\n",
      "[INFO] | 2022/04/18 19:23:06 | <- Request: scihub_url=https://sci-hub.ru, source=DoiSource[type=doi, id=doi.org/10.1086/448438]\n",
      "[INFO] | 2022/04/18 19:23:06 | -> Response: status_code=200, content_length=6829\n",
      "[INFO] | 2022/04/18 19:23:06 | * Extracted information: {'url': 'https://sci-hub.ru/downloads/2020-05-20/b7/scholes1988.pdf', 'title': 'Deconstruction and Communication. Critical Inquiry, 14(2), 278–295'}\n"
     ]
    },
    {
     "name": "stdout",
     "output_type": "stream",
     "text": [
      " 46% [..................................                                        ]  942080 / 2044459"
     ]
    },
    {
     "name": "stderr",
     "output_type": "stream",
     "text": [
      "[INFO] | 2022/04/18 19:23:07 | ↓ Successfully download the url to: ./journals/post_colonial/critical_inquiry/Deconstruction and Communication. Critical Inquiry, 14(2), 278–295.pdf\n"
     ]
    },
    {
     "name": "stdout",
     "output_type": "stream",
     "text": [
      "100% [..........................................................................] 2044459 / 2044459\n"
     ]
    },
    {
     "name": "stderr",
     "output_type": "stream",
     "text": [
      "[INFO] | 2022/04/18 19:23:17 | Choose scihub url [0]: https://sci-hub.ru\n",
      "[INFO] | 2022/04/18 19:23:17 | <- Request: scihub_url=https://sci-hub.ru, source=DoiSource[type=doi, id=doi.org/10.1086/448440]\n",
      "[INFO] | 2022/04/18 19:23:17 | -> Response: status_code=200, content_length=6842\n",
      "[INFO] | 2022/04/18 19:23:17 | * Extracted information: {'url': 'https://sci-hub.ru/downloads/2020-06-03/21/sheets1988.pdf', 'title': 'Pornography and Art  The Case of “Jenny.” Critical Inquiry, 14(2), 315–334'}\n"
     ]
    },
    {
     "name": "stdout",
     "output_type": "stream",
     "text": [
      " 65% [................................................                          ] 1712128 / 2608319"
     ]
    },
    {
     "name": "stderr",
     "output_type": "stream",
     "text": [
      "[INFO] | 2022/04/18 19:23:18 | ↓ Successfully download the url to: ./journals/post_colonial/critical_inquiry/Pornography and Art  The Case of “Jenny.” Critical Inquiry, 14(2), 315–334.pdf\n"
     ]
    },
    {
     "name": "stdout",
     "output_type": "stream",
     "text": [
      "100% [..........................................................................] 2608319 / 2608319\n"
     ]
    },
    {
     "name": "stderr",
     "output_type": "stream",
     "text": [
      "[INFO] | 2022/04/18 19:23:28 | Choose scihub url [0]: https://sci-hub.ru\n",
      "[INFO] | 2022/04/18 19:23:28 | <- Request: scihub_url=https://sci-hub.ru, source=DoiSource[type=doi, id=doi.org/10.1086/448441]\n",
      "[INFO] | 2022/04/18 19:23:28 | -> Response: status_code=200, content_length=6946\n",
      "[INFO] | 2022/04/18 19:23:28 | * Extracted information: {'url': 'https://twin.sci-hub.ru/6664/af2676afb04f968cf32892cd11fe1b24/kenshur1988.pdf', 'title': 'Demystifying the Demystifiers  Metaphysical Snares of Ideological Criticism. Critical Inquiry, 14(2), 335–353'}\n"
     ]
    },
    {
     "name": "stdout",
     "output_type": "stream",
     "text": [
      " 56% [.........................................                                 ] 1277952 / 2266497"
     ]
    },
    {
     "name": "stderr",
     "output_type": "stream",
     "text": [
      "[INFO] | 2022/04/18 19:23:30 | ↓ Successfully download the url to: ./journals/post_colonial/critical_inquiry/Demystifying the Demystifiers  Metaphysical Snares of Ideological Criticism. Critical Inquiry, 14(2), 335–353.pdf\n"
     ]
    },
    {
     "name": "stdout",
     "output_type": "stream",
     "text": [
      "100% [..........................................................................] 2266497 / 2266497\n"
     ]
    },
    {
     "name": "stderr",
     "output_type": "stream",
     "text": [
      "[INFO] | 2022/04/18 19:23:40 | Choose scihub url [0]: https://sci-hub.ru\n",
      "[INFO] | 2022/04/18 19:23:40 | <- Request: scihub_url=https://sci-hub.ru, source=DoiSource[type=doi, id=doi.org/10.1086/448444]\n",
      "[INFO] | 2022/04/18 19:23:40 | -> Response: status_code=200, content_length=6996\n",
      "[INFO] | 2022/04/18 19:23:40 | * Extracted information: {'url': 'https://twin.sci-hub.ru/6020/fb7fb440c47c2c4b724aaf299f43ddca/gilbert1988.pdf', 'title': 'The Man on the Dump versus the United Dames of America; Or, What Does Frank Lentricchia Want  Critical Inquiry, 14(2), 386–406'}\n"
     ]
    },
    {
     "name": "stdout",
     "output_type": "stream",
     "text": [
      " 29% [.....................                                                     ]  737280 / 2515628"
     ]
    },
    {
     "name": "stderr",
     "output_type": "stream",
     "text": [
      "[INFO] | 2022/04/18 19:23:42 | ↓ Successfully download the url to: ./journals/post_colonial/critical_inquiry/The Man on the Dump versus the United Dames of America; Or, What Does Frank Lentricchia Want  Critical Inquiry, 14(2), 386–406.pdf\n"
     ]
    },
    {
     "name": "stdout",
     "output_type": "stream",
     "text": [
      "100% [..........................................................................] 2515628 / 2515628\n"
     ]
    },
    {
     "name": "stderr",
     "output_type": "stream",
     "text": [
      "[INFO] | 2022/04/18 19:23:52 | Choose scihub url [0]: https://sci-hub.ru\n",
      "[INFO] | 2022/04/18 19:23:52 | <- Request: scihub_url=https://sci-hub.ru, source=DoiSource[type=doi, id=doi.org/10.1086/448445]\n",
      "[INFO] | 2022/04/18 19:23:52 | -> Response: status_code=200, content_length=6822\n",
      "[INFO] | 2022/04/18 19:23:52 | * Extracted information: {'url': 'https://twin.sci-hub.ru/5980/8cef8c853fa67fffd8a8c75f02587bf0/lentricchia1988.pdf', 'title': 'Andiamo! Critical Inquiry, 14(2), 407–413'}\n"
     ]
    },
    {
     "name": "stdout",
     "output_type": "stream",
     "text": [
      " 27% [.....................                                                       ] 188416 / 673001"
     ]
    },
    {
     "name": "stderr",
     "output_type": "stream",
     "text": [
      "[INFO] | 2022/04/18 19:23:53 | ↓ Successfully download the url to: ./journals/post_colonial/critical_inquiry/Andiamo! Critical Inquiry, 14(2), 407–413.pdf\n"
     ]
    },
    {
     "name": "stdout",
     "output_type": "stream",
     "text": [
      "100% [............................................................................] 673001 / 673001\n"
     ]
    },
    {
     "name": "stderr",
     "output_type": "stream",
     "text": [
      "[INFO] | 2022/04/18 19:24:03 | Choose scihub url [0]: https://sci-hub.ru\n",
      "[INFO] | 2022/04/18 19:24:03 | <- Request: scihub_url=https://sci-hub.ru, source=DoiSource[type=doi, id=doi.org/10.1086/448446]\n",
      "[INFO] | 2022/04/18 19:24:03 | -> Response: status_code=200, content_length=6812\n",
      "[INFO] | 2022/04/18 19:24:03 | * Extracted information: {'url': 'https://twin.sci-hub.ru/5993/fec8ba81ce84cf10c90a80d116ddef5b/editorial-note-1988.pdf', 'title': 'Critical Inquiry, 14(2), 415–415'}\n",
      "[INFO] | 2022/04/18 19:24:04 | ↓ Successfully download the url to: ./journals/post_colonial/critical_inquiry/Critical Inquiry, 14(2), 415–415.pdf\n"
     ]
    },
    {
     "name": "stdout",
     "output_type": "stream",
     "text": [
      "100% [..............................................................................] 78600 / 78600\n"
     ]
    },
    {
     "name": "stderr",
     "output_type": "stream",
     "text": [
      "[INFO] | 2022/04/18 19:24:14 | Choose scihub url [0]: https://sci-hub.ru\n",
      "[INFO] | 2022/04/18 19:24:14 | <- Request: scihub_url=https://sci-hub.ru, source=DoiSource[type=doi, id=doi.org/10.1086/448448]\n",
      "[INFO] | 2022/04/18 19:24:14 | -> Response: status_code=200, content_length=7017\n",
      "[INFO] | 2022/04/18 19:24:14 | * Extracted information: {'url': 'https://twin.sci-hub.ru/6799/f6aec5960a3723c6e5adcdf3e1a82079/ferguson1988.pdf', 'title': 'Editors’ Introduction  Mirrors, Frames, and Demons  Reflections on the Sociology of Literature. Critical Inquiry, 14(3), 421–430'}\n"
     ]
    },
    {
     "name": "stdout",
     "output_type": "stream",
     "text": [
      " 10% [.......                                                                   ]  139264 / 1313294"
     ]
    },
    {
     "name": "stderr",
     "output_type": "stream",
     "text": [
      "[INFO] | 2022/04/18 19:24:16 | ↓ Successfully download the url to: ./journals/post_colonial/critical_inquiry/Editors’ Introduction  Mirrors, Frames, and Demons  Reflections on the Sociology of Literature. Critical Inquiry, 14(3), 421–430.pdf\n"
     ]
    },
    {
     "name": "stdout",
     "output_type": "stream",
     "text": [
      "100% [..........................................................................] 1313294 / 1313294\n"
     ]
    },
    {
     "name": "stderr",
     "output_type": "stream",
     "text": [
      "[INFO] | 2022/04/18 19:24:26 | Choose scihub url [0]: https://sci-hub.ru\n",
      "[INFO] | 2022/04/18 19:24:26 | <- Request: scihub_url=https://sci-hub.ru, source=DoiSource[type=doi, id=doi.org/10.1086/448450]\n",
      "[INFO] | 2022/04/18 19:24:26 | -> Response: status_code=200, content_length=5456\n",
      "[WARNING] | 2022/04/18 19:24:26 | Error occurs, task status: extracting_failed, error: No pdf tag was found in the given content with the selector: #pdf\n",
      "[INFO] | 2022/04/18 19:24:26 | Choose scihub url [1]: http://sci-hub.se\n",
      "[INFO] | 2022/04/18 19:24:26 | <- Request: scihub_url=http://sci-hub.se, source=DoiSource[type=doi, id=doi.org/10.1086/448450]\n",
      "[INFO] | 2022/04/18 19:24:26 | -> Response: status_code=200, content_length=5456\n",
      "[WARNING] | 2022/04/18 19:24:26 | Error occurs, task status: extracting_failed, error: No pdf tag was found in the given content with the selector: #pdf\n",
      "[INFO] | 2022/04/18 19:24:26 | Choose scihub url [2]: http://sci-hub.st\n",
      "[INFO] | 2022/04/18 19:24:30 | <- Request: scihub_url=http://sci-hub.st, source=DoiSource[type=doi, id=doi.org/10.1086/448450]\n",
      "[INFO] | 2022/04/18 19:24:30 | -> Response: status_code=200, content_length=24\n",
      "[WARNING] | 2022/04/18 19:24:30 | Error occurs, task status: extracting_failed, error: No pdf tag was found in the given content with the selector: #pdf\n",
      "[INFO] | 2022/04/18 19:24:30 | Choose scihub url [3]: https://sci-hub.st\n",
      "[INFO] | 2022/04/18 19:24:33 | <- Request: scihub_url=https://sci-hub.st, source=DoiSource[type=doi, id=doi.org/10.1086/448450]\n",
      "[INFO] | 2022/04/18 19:24:33 | -> Response: status_code=200, content_length=24\n",
      "[WARNING] | 2022/04/18 19:24:33 | Error occurs, task status: extracting_failed, error: No pdf tag was found in the given content with the selector: #pdf\n",
      "[INFO] | 2022/04/18 19:24:33 | Choose scihub url [4]: http://sci-hub.ru\n",
      "[INFO] | 2022/04/18 19:24:33 | <- Request: scihub_url=http://sci-hub.ru, source=DoiSource[type=doi, id=doi.org/10.1086/448450]\n",
      "[INFO] | 2022/04/18 19:24:33 | -> Response: status_code=200, content_length=5456\n",
      "[WARNING] | 2022/04/18 19:24:33 | Error occurs, task status: extracting_failed, error: No pdf tag was found in the given content with the selector: #pdf\n",
      "[INFO] | 2022/04/18 19:24:33 | Choose scihub url [5]: https://sci-hub.se\n",
      "[INFO] | 2022/04/18 19:24:33 | <- Request: scihub_url=https://sci-hub.se, source=DoiSource[type=doi, id=doi.org/10.1086/448450]\n",
      "[INFO] | 2022/04/18 19:24:33 | -> Response: status_code=200, content_length=5456\n",
      "[WARNING] | 2022/04/18 19:24:34 | Error occurs, task status: extracting_failed, error: No pdf tag was found in the given content with the selector: #pdf\n",
      "[ERROR] | 2022/04/18 19:24:34 | Failed to download the paper: https://doi.org/10.1086/448450. Please try again.\n",
      "[INFO] | 2022/04/18 19:24:44 | Choose scihub url [0]: https://sci-hub.ru\n",
      "[INFO] | 2022/04/18 19:24:44 | <- Request: scihub_url=https://sci-hub.ru, source=DoiSource[type=doi, id=doi.org/10.1086/448451]\n",
      "[INFO] | 2022/04/18 19:24:44 | -> Response: status_code=200, content_length=6889\n",
      "[INFO] | 2022/04/18 19:24:44 | * Extracted information: {'url': 'https://twin.sci-hub.ru/6032/617864f248e4dd9b7a02588efdadc978/eagleton1988.pdf', 'title': 'Two Approaches in the Sociology of Literature. Critical Inquiry, 14(3), 469–476'}\n"
     ]
    },
    {
     "name": "stdout",
     "output_type": "stream",
     "text": [
      " 21% [................                                                            ] 188416 / 879732"
     ]
    },
    {
     "name": "stderr",
     "output_type": "stream",
     "text": [
      "[INFO] | 2022/04/18 19:24:45 | ↓ Successfully download the url to: ./journals/post_colonial/critical_inquiry/Two Approaches in the Sociology of Literature. Critical Inquiry, 14(3), 469–476.pdf\n"
     ]
    },
    {
     "name": "stdout",
     "output_type": "stream",
     "text": [
      "100% [............................................................................] 879732 / 879732\n"
     ]
    }
   ],
   "source": [
    "i = 0\n",
    "for doi in doi_list:\n",
    "    paper = (\"https://doi.org/\" + doi)\n",
    "    paper_type = \"doi\"\n",
    "    out = (\"./journals/post_colonial/critical_inquiry/\")\n",
    "    scihub_download(paper, paper_type=paper_type, out=out)\n",
    "    i+=1\n",
    "    time.sleep(10)\n",
    "    if i == 501:\n",
    "        break"
   ]
  },
  {
   "cell_type": "code",
   "execution_count": null,
   "id": "bb71ec54-c7a6-43c3-b7b6-d36f5de79525",
   "metadata": {},
   "outputs": [],
   "source": []
  }
 ],
 "metadata": {
  "kernelspec": {
   "display_name": "Python 3 (ipykernel)",
   "language": "python",
   "name": "python3"
  },
  "language_info": {
   "codemirror_mode": {
    "name": "ipython",
    "version": 3
   },
   "file_extension": ".py",
   "mimetype": "text/x-python",
   "name": "python",
   "nbconvert_exporter": "python",
   "pygments_lexer": "ipython3",
   "version": "3.8.10"
  }
 },
 "nbformat": 4,
 "nbformat_minor": 5
}
